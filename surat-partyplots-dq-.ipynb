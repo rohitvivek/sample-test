{
 "cells": [
  {
   "cell_type": "markdown",
   "id": "ade74fe9",
   "metadata": {
    "extensions": {
     "jupyter_dashboards": {
      "version": 1,
      "views": {
       "default_view": {
        "col": 0,
        "height": 2,
        "row": 0,
        "width": 12
       },
       "grid_default": {
        "col": null,
        "height": 2,
        "hidden": true,
        "locked": true,
        "row": null,
        "width": 2
       }
      }
     }
    },
    "tags": []
   },
   "source": [
    "# Observations:\n",
    "    \n",
    "    1)Dataset contains 1067 rows\n",
    "    2)585 duplicates out of 1067 rows with 0 missing values\n",
    "  "
   ]
  },
  {
   "cell_type": "code",
   "execution_count": 1,
   "id": "81d2ac3b",
   "metadata": {
    "extensions": {
     "jupyter_dashboards": {
      "version": 1,
      "views": {
       "default_view": {
        "hidden": true
       },
       "grid_default": {
        "col": null,
        "height": 2,
        "hidden": true,
        "locked": true,
        "row": null,
        "width": 2
       }
      }
     }
    }
   },
   "outputs": [],
   "source": [
    "import pandas as pd\n",
    "import requests\n",
    "import json\n",
    "from plotly import express as px\n",
    "aut_url=r\"https://authorization.iudx.org.in/auth/v1/token\"\n",
    "id='suratmunicipal.org/6db486cb4f720e8585ba1f45a931c63c25dbbbda/rs.iudx.org.in/surat-revenue-collection/party-plot-bookings'\n",
    "\n",
    "header= {\n",
    "\n",
    "'clientId':'27ee6918-cf1a-4601-a9d9-50106dd33085',\n",
    "'clientSecret':'a4fcab465a4a6b1bed4e81f350a4db32b38d0c8a',\n",
    "'Content-Type': 'application/json'\n",
    "}\n",
    "data='{\"itemId\":\"suratmunicipal.org/6db486cb4f720e8585ba1f45a931c63c25dbbbda/rs.iudx.org.in/surat-revenue-collection/party-plot-bookings\" ,\"itemType\": \"resource\",\"role\": \"consumer\"}'\n",
    "\n",
    "response=requests.post(url=aut_url,headers=header,data=data)\n",
    "val=response.json()['results']['accessToken']\n"
   ]
  },
  {
   "cell_type": "markdown",
   "id": "149a0961",
   "metadata": {
    "extensions": {
     "jupyter_dashboards": {
      "version": 1,
      "views": {
       "default_view": {
        "col": 0,
        "height": 2,
        "row": 4,
        "width": 12
       },
       "grid_default": {
        "col": null,
        "height": 2,
        "hidden": true,
        "locked": true,
        "row": null,
        "width": 2
       }
      }
     }
    }
   },
   "source": [
    "# query the api for year greater than 2019"
   ]
  },
  {
   "cell_type": "code",
   "execution_count": 2,
   "id": "3e15f2bb",
   "metadata": {
    "extensions": {
     "jupyter_dashboards": {
      "version": 1,
      "views": {
       "default_view": {
        "col": 0,
        "height": 5,
        "row": 6,
        "width": 12
       },
       "grid_default": {
        "col": null,
        "height": 2,
        "hidden": true,
        "locked": true,
        "row": null,
        "width": 2
       }
      }
     }
    }
   },
   "outputs": [
    {
     "data": {
      "text/plain": [
       "{'type': 200,\n",
       " 'title': 'Success',\n",
       " 'results': [{'month': 9,\n",
       "   'date': '2022-09-03',\n",
       "   'id': 'suratmunicipal.org/6db486cb4f720e8585ba1f45a931c63c25dbbbda/rs.iudx.org.in/surat-revenue-collection/party-plot-bookings',\n",
       "   'totalCount': 14,\n",
       "   'amountCollected': 141300,\n",
       "   'year': 2022,\n",
       "   'cityName': 'Surat'},\n",
       "  {'month': 9,\n",
       "   'date': '2022-09-02',\n",
       "   'id': 'suratmunicipal.org/6db486cb4f720e8585ba1f45a931c63c25dbbbda/rs.iudx.org.in/surat-revenue-collection/party-plot-bookings',\n",
       "   'totalCount': 7,\n",
       "   'amountCollected': 127720,\n",
       "   'year': 2022,\n",
       "   'cityName': 'Surat'},\n",
       "  {'month': 9,\n",
       "   'year': 2022,\n",
       "   'amountCollected': 0,\n",
       "   'cityName': 'Surat',\n",
       "   'date': '2022-09-01',\n",
       "   'id': 'suratmunicipal.org/6db486cb4f720e8585ba1f45a931c63c25dbbbda/rs.iudx.org.in/surat-revenue-collection/party-plot-bookings',\n",
       "   'totalCount': 0},\n",
       "  {'month': 8,\n",
       "   'date': '2022-08-03',\n",
       "   'id': 'suratmunicipal.org/6db486cb4f720e8585ba1f45a931c63c25dbbbda/rs.iudx.org.in/surat-revenue-collection/party-plot-bookings',\n",
       "   'totalCount': 15,\n",
       "   'amountCollected': 281710,\n",
       "   'year': 2022,\n",
       "   'cityName': 'Surat'},\n",
       "  {'month': 8,\n",
       "   'year': 2022,\n",
       "   'amountCollected': 150160,\n",
       "   'cityName': 'Surat',\n",
       "   'date': '2022-08-02',\n",
       "   'id': 'suratmunicipal.org/6db486cb4f720e8585ba1f45a931c63c25dbbbda/rs.iudx.org.in/surat-revenue-collection/party-plot-bookings',\n",
       "   'totalCount': 12},\n",
       "  {'month': 12,\n",
       "   'year': 2022,\n",
       "   'amountCollected': 141580,\n",
       "   'cityName': 'Surat',\n",
       "   'date': '2022-12-03',\n",
       "   'id': 'suratmunicipal.org/6db486cb4f720e8585ba1f45a931c63c25dbbbda/rs.iudx.org.in/surat-revenue-collection/party-plot-bookings',\n",
       "   'totalCount': 9},\n",
       "  {'month': 12,\n",
       "   'date': '2022-12-02',\n",
       "   'id': 'suratmunicipal.org/6db486cb4f720e8585ba1f45a931c63c25dbbbda/rs.iudx.org.in/surat-revenue-collection/party-plot-bookings',\n",
       "   'totalCount': 4,\n",
       "   'amountCollected': 84720,\n",
       "   'year': 2022,\n",
       "   'cityName': 'Surat'},\n",
       "  {'month': 12,\n",
       "   'year': 2022,\n",
       "   'amountCollected': 18000,\n",
       "   'cityName': 'Surat',\n",
       "   'date': '2022-12-01',\n",
       "   'id': 'suratmunicipal.org/6db486cb4f720e8585ba1f45a931c63c25dbbbda/rs.iudx.org.in/surat-revenue-collection/party-plot-bookings',\n",
       "   'totalCount': 1},\n",
       "  {'month': 11,\n",
       "   'date': '2022-11-02',\n",
       "   'id': 'suratmunicipal.org/6db486cb4f720e8585ba1f45a931c63c25dbbbda/rs.iudx.org.in/surat-revenue-collection/party-plot-bookings',\n",
       "   'totalCount': 7,\n",
       "   'amountCollected': 205000,\n",
       "   'year': 2022,\n",
       "   'cityName': 'Surat'},\n",
       "  {'month': 11,\n",
       "   'date': '2022-11-03',\n",
       "   'id': 'suratmunicipal.org/6db486cb4f720e8585ba1f45a931c63c25dbbbda/rs.iudx.org.in/surat-revenue-collection/party-plot-bookings',\n",
       "   'totalCount': 17,\n",
       "   'amountCollected': 128160,\n",
       "   'year': 2022,\n",
       "   'cityName': 'Surat'},\n",
       "  {'month': 11,\n",
       "   'year': 2022,\n",
       "   'amountCollected': 98000,\n",
       "   'cityName': 'Surat',\n",
       "   'date': '2022-11-01',\n",
       "   'id': 'suratmunicipal.org/6db486cb4f720e8585ba1f45a931c63c25dbbbda/rs.iudx.org.in/surat-revenue-collection/party-plot-bookings',\n",
       "   'totalCount': 2},\n",
       "  {'month': 10,\n",
       "   'date': '2022-10-03',\n",
       "   'id': 'suratmunicipal.org/6db486cb4f720e8585ba1f45a931c63c25dbbbda/rs.iudx.org.in/surat-revenue-collection/party-plot-bookings',\n",
       "   'totalCount': 11,\n",
       "   'amountCollected': 116710,\n",
       "   'year': 2022,\n",
       "   'cityName': 'Surat'},\n",
       "  {'month': 10,\n",
       "   'year': 2022,\n",
       "   'amountCollected': 67770,\n",
       "   'cityName': 'Surat',\n",
       "   'date': '2022-10-01',\n",
       "   'id': 'suratmunicipal.org/6db486cb4f720e8585ba1f45a931c63c25dbbbda/rs.iudx.org.in/surat-revenue-collection/party-plot-bookings',\n",
       "   'totalCount': 3},\n",
       "  {'month': 10,\n",
       "   'date': '2022-10-02',\n",
       "   'id': 'suratmunicipal.org/6db486cb4f720e8585ba1f45a931c63c25dbbbda/rs.iudx.org.in/surat-revenue-collection/party-plot-bookings',\n",
       "   'totalCount': 4,\n",
       "   'amountCollected': 58720,\n",
       "   'year': 2022,\n",
       "   'cityName': 'Surat'},\n",
       "  {'month': 9,\n",
       "   'date': '2022-09-02',\n",
       "   'id': 'suratmunicipal.org/6db486cb4f720e8585ba1f45a931c63c25dbbbda/rs.iudx.org.in/surat-revenue-collection/party-plot-bookings',\n",
       "   'totalCount': 3,\n",
       "   'amountCollected': 53000.0,\n",
       "   'year': 2022,\n",
       "   'cityName': 'Surat'},\n",
       "  {'month': 11,\n",
       "   'date': '2022-11-02',\n",
       "   'id': 'suratmunicipal.org/6db486cb4f720e8585ba1f45a931c63c25dbbbda/rs.iudx.org.in/surat-revenue-collection/party-plot-bookings',\n",
       "   'totalCount': 1,\n",
       "   'amountCollected': 5300.0,\n",
       "   'year': 2022,\n",
       "   'cityName': 'Surat'},\n",
       "  {'month': 2,\n",
       "   'date': '2022-02-13',\n",
       "   'id': 'suratmunicipal.org/6db486cb4f720e8585ba1f45a931c63c25dbbbda/rs.iudx.org.in/surat-revenue-collection/party-plot-bookings',\n",
       "   'totalCount': 1,\n",
       "   'amountCollected': 68800.0,\n",
       "   'year': 2022,\n",
       "   'cityName': 'Surat'},\n",
       "  {'month': 2,\n",
       "   'date': '2022-02-15',\n",
       "   'id': 'suratmunicipal.org/6db486cb4f720e8585ba1f45a931c63c25dbbbda/rs.iudx.org.in/surat-revenue-collection/party-plot-bookings',\n",
       "   'totalCount': 0,\n",
       "   'amountCollected': 0.0,\n",
       "   'year': 2022,\n",
       "   'cityName': 'Surat'},\n",
       "  {'month': 2,\n",
       "   'date': '2022-02-17',\n",
       "   'id': 'suratmunicipal.org/6db486cb4f720e8585ba1f45a931c63c25dbbbda/rs.iudx.org.in/surat-revenue-collection/party-plot-bookings',\n",
       "   'totalCount': 0,\n",
       "   'amountCollected': 0.0,\n",
       "   'year': 2022,\n",
       "   'cityName': 'Surat'},\n",
       "  {'month': 2,\n",
       "   'date': '2022-02-19',\n",
       "   'id': 'suratmunicipal.org/6db486cb4f720e8585ba1f45a931c63c25dbbbda/rs.iudx.org.in/surat-revenue-collection/party-plot-bookings',\n",
       "   'totalCount': 0,\n",
       "   'amountCollected': 0.0,\n",
       "   'year': 2022,\n",
       "   'cityName': 'Surat'},\n",
       "  {'month': 2,\n",
       "   'date': '2022-02-21',\n",
       "   'id': 'suratmunicipal.org/6db486cb4f720e8585ba1f45a931c63c25dbbbda/rs.iudx.org.in/surat-revenue-collection/party-plot-bookings',\n",
       "   'totalCount': 3,\n",
       "   'amountCollected': 0.0,\n",
       "   'year': 2022,\n",
       "   'cityName': 'Surat'},\n",
       "  {'month': 2,\n",
       "   'date': '2022-02-23',\n",
       "   'id': 'suratmunicipal.org/6db486cb4f720e8585ba1f45a931c63c25dbbbda/rs.iudx.org.in/surat-revenue-collection/party-plot-bookings',\n",
       "   'totalCount': 0,\n",
       "   'amountCollected': 0.0,\n",
       "   'year': 2022,\n",
       "   'cityName': 'Surat'},\n",
       "  {'month': 2,\n",
       "   'date': '2022-02-25',\n",
       "   'id': 'suratmunicipal.org/6db486cb4f720e8585ba1f45a931c63c25dbbbda/rs.iudx.org.in/surat-revenue-collection/party-plot-bookings',\n",
       "   'totalCount': 1,\n",
       "   'amountCollected': 25100.0,\n",
       "   'year': 2022,\n",
       "   'cityName': 'Surat'},\n",
       "  {'month': 2,\n",
       "   'date': '2022-02-27',\n",
       "   'id': 'suratmunicipal.org/6db486cb4f720e8585ba1f45a931c63c25dbbbda/rs.iudx.org.in/surat-revenue-collection/party-plot-bookings',\n",
       "   'totalCount': 1,\n",
       "   'amountCollected': 53000.0,\n",
       "   'year': 2022,\n",
       "   'cityName': 'Surat'},\n",
       "  {'month': 1,\n",
       "   'date': '2022-01-03',\n",
       "   'id': 'suratmunicipal.org/6db486cb4f720e8585ba1f45a931c63c25dbbbda/rs.iudx.org.in/surat-revenue-collection/party-plot-bookings',\n",
       "   'totalCount': 1,\n",
       "   'amountCollected': 31300.0,\n",
       "   'year': 2022,\n",
       "   'cityName': 'Surat'},\n",
       "  {'month': 3,\n",
       "   'date': '2022-03-03',\n",
       "   'id': 'suratmunicipal.org/6db486cb4f720e8585ba1f45a931c63c25dbbbda/rs.iudx.org.in/surat-revenue-collection/party-plot-bookings',\n",
       "   'totalCount': 0,\n",
       "   'amountCollected': 0.0,\n",
       "   'year': 2022,\n",
       "   'cityName': 'Surat'},\n",
       "  {'month': 5,\n",
       "   'date': '2022-05-03',\n",
       "   'id': 'suratmunicipal.org/6db486cb4f720e8585ba1f45a931c63c25dbbbda/rs.iudx.org.in/surat-revenue-collection/party-plot-bookings',\n",
       "   'totalCount': 25,\n",
       "   'amountCollected': 37300.0,\n",
       "   'year': 2022,\n",
       "   'cityName': 'Surat'},\n",
       "  {'month': 7,\n",
       "   'date': '2022-07-03',\n",
       "   'id': 'suratmunicipal.org/6db486cb4f720e8585ba1f45a931c63c25dbbbda/rs.iudx.org.in/surat-revenue-collection/party-plot-bookings',\n",
       "   'totalCount': 2,\n",
       "   'amountCollected': 121800.0,\n",
       "   'year': 2022,\n",
       "   'cityName': 'Surat'},\n",
       "  {'month': 9,\n",
       "   'date': '2022-09-03',\n",
       "   'id': 'suratmunicipal.org/6db486cb4f720e8585ba1f45a931c63c25dbbbda/rs.iudx.org.in/surat-revenue-collection/party-plot-bookings',\n",
       "   'totalCount': 3,\n",
       "   'amountCollected': 207900.0,\n",
       "   'year': 2022,\n",
       "   'cityName': 'Surat'},\n",
       "  {'month': 11,\n",
       "   'date': '2022-11-03',\n",
       "   'id': 'suratmunicipal.org/6db486cb4f720e8585ba1f45a931c63c25dbbbda/rs.iudx.org.in/surat-revenue-collection/party-plot-bookings',\n",
       "   'totalCount': 1,\n",
       "   'amountCollected': 70300.0,\n",
       "   'year': 2022,\n",
       "   'cityName': 'Surat'},\n",
       "  {'month': 3,\n",
       "   'date': '2022-03-13',\n",
       "   'id': 'suratmunicipal.org/6db486cb4f720e8585ba1f45a931c63c25dbbbda/rs.iudx.org.in/surat-revenue-collection/party-plot-bookings',\n",
       "   'totalCount': 0,\n",
       "   'amountCollected': 0.0,\n",
       "   'year': 2022,\n",
       "   'cityName': 'Surat'},\n",
       "  {'month': 3,\n",
       "   'date': '2022-03-15',\n",
       "   'id': 'suratmunicipal.org/6db486cb4f720e8585ba1f45a931c63c25dbbbda/rs.iudx.org.in/surat-revenue-collection/party-plot-bookings',\n",
       "   'totalCount': 1,\n",
       "   'amountCollected': 54200.0,\n",
       "   'year': 2022,\n",
       "   'cityName': 'Surat'},\n",
       "  {'month': 3,\n",
       "   'date': '2022-03-17',\n",
       "   'id': 'suratmunicipal.org/6db486cb4f720e8585ba1f45a931c63c25dbbbda/rs.iudx.org.in/surat-revenue-collection/party-plot-bookings',\n",
       "   'totalCount': 2,\n",
       "   'amountCollected': 124500.0,\n",
       "   'year': 2022,\n",
       "   'cityName': 'Surat'},\n",
       "  {'month': 3,\n",
       "   'date': '2022-03-19',\n",
       "   'id': 'suratmunicipal.org/6db486cb4f720e8585ba1f45a931c63c25dbbbda/rs.iudx.org.in/surat-revenue-collection/party-plot-bookings',\n",
       "   'totalCount': 3,\n",
       "   'amountCollected': 86800.0,\n",
       "   'year': 2022,\n",
       "   'cityName': 'Surat'},\n",
       "  {'month': 3,\n",
       "   'date': '2022-03-21',\n",
       "   'id': 'suratmunicipal.org/6db486cb4f720e8585ba1f45a931c63c25dbbbda/rs.iudx.org.in/surat-revenue-collection/party-plot-bookings',\n",
       "   'totalCount': 0,\n",
       "   'amountCollected': 0.0,\n",
       "   'year': 2022,\n",
       "   'cityName': 'Surat'},\n",
       "  {'month': 3,\n",
       "   'date': '2022-03-23',\n",
       "   'id': 'suratmunicipal.org/6db486cb4f720e8585ba1f45a931c63c25dbbbda/rs.iudx.org.in/surat-revenue-collection/party-plot-bookings',\n",
       "   'totalCount': 1,\n",
       "   'amountCollected': 35300.0,\n",
       "   'year': 2022,\n",
       "   'cityName': 'Surat'},\n",
       "  {'month': 3,\n",
       "   'date': '2022-03-25',\n",
       "   'id': 'suratmunicipal.org/6db486cb4f720e8585ba1f45a931c63c25dbbbda/rs.iudx.org.in/surat-revenue-collection/party-plot-bookings',\n",
       "   'totalCount': 8,\n",
       "   'amountCollected': 70600.0,\n",
       "   'year': 2022,\n",
       "   'cityName': 'Surat'},\n",
       "  {'month': 3,\n",
       "   'date': '2022-03-27',\n",
       "   'id': 'suratmunicipal.org/6db486cb4f720e8585ba1f45a931c63c25dbbbda/rs.iudx.org.in/surat-revenue-collection/party-plot-bookings',\n",
       "   'totalCount': 0,\n",
       "   'amountCollected': 0.0,\n",
       "   'year': 2022,\n",
       "   'cityName': 'Surat'},\n",
       "  {'month': 3,\n",
       "   'date': '2022-03-29',\n",
       "   'id': 'suratmunicipal.org/6db486cb4f720e8585ba1f45a931c63c25dbbbda/rs.iudx.org.in/surat-revenue-collection/party-plot-bookings',\n",
       "   'totalCount': 1,\n",
       "   'amountCollected': 0.0,\n",
       "   'year': 2022,\n",
       "   'cityName': 'Surat'},\n",
       "  {'month': 3,\n",
       "   'date': '2022-03-31',\n",
       "   'id': 'suratmunicipal.org/6db486cb4f720e8585ba1f45a931c63c25dbbbda/rs.iudx.org.in/surat-revenue-collection/party-plot-bookings',\n",
       "   'totalCount': 1,\n",
       "   'amountCollected': 70300.0,\n",
       "   'year': 2022,\n",
       "   'cityName': 'Surat'},\n",
       "  {'month': 2,\n",
       "   'date': '2022-02-04',\n",
       "   'id': 'suratmunicipal.org/6db486cb4f720e8585ba1f45a931c63c25dbbbda/rs.iudx.org.in/surat-revenue-collection/party-plot-bookings',\n",
       "   'totalCount': 0,\n",
       "   'amountCollected': 0.0,\n",
       "   'year': 2022,\n",
       "   'cityName': 'Surat'},\n",
       "  {'month': 4,\n",
       "   'date': '2022-04-04',\n",
       "   'id': 'suratmunicipal.org/6db486cb4f720e8585ba1f45a931c63c25dbbbda/rs.iudx.org.in/surat-revenue-collection/party-plot-bookings',\n",
       "   'totalCount': 1,\n",
       "   'amountCollected': 37300.0,\n",
       "   'year': 2022,\n",
       "   'cityName': 'Surat'},\n",
       "  {'month': 6,\n",
       "   'date': '2022-06-04',\n",
       "   'id': 'suratmunicipal.org/6db486cb4f720e8585ba1f45a931c63c25dbbbda/rs.iudx.org.in/surat-revenue-collection/party-plot-bookings',\n",
       "   'totalCount': 3,\n",
       "   'amountCollected': 93000.0,\n",
       "   'year': 2022,\n",
       "   'cityName': 'Surat'},\n",
       "  {'month': 8,\n",
       "   'date': '2022-08-04',\n",
       "   'id': 'suratmunicipal.org/6db486cb4f720e8585ba1f45a931c63c25dbbbda/rs.iudx.org.in/surat-revenue-collection/party-plot-bookings',\n",
       "   'totalCount': 0,\n",
       "   'amountCollected': 0.0,\n",
       "   'year': 2022,\n",
       "   'cityName': 'Surat'},\n",
       "  {'month': 10,\n",
       "   'date': '2022-10-04',\n",
       "   'id': 'suratmunicipal.org/6db486cb4f720e8585ba1f45a931c63c25dbbbda/rs.iudx.org.in/surat-revenue-collection/party-plot-bookings',\n",
       "   'totalCount': 2,\n",
       "   'amountCollected': 140600.0,\n",
       "   'year': 2022,\n",
       "   'cityName': 'Surat'},\n",
       "  {'month': 12,\n",
       "   'date': '2022-12-04',\n",
       "   'id': 'suratmunicipal.org/6db486cb4f720e8585ba1f45a931c63c25dbbbda/rs.iudx.org.in/surat-revenue-collection/party-plot-bookings',\n",
       "   'totalCount': 5,\n",
       "   'amountCollected': 108400.0,\n",
       "   'year': 2022,\n",
       "   'cityName': 'Surat'},\n",
       "  {'month': 4,\n",
       "   'date': '2022-04-14',\n",
       "   'id': 'suratmunicipal.org/6db486cb4f720e8585ba1f45a931c63c25dbbbda/rs.iudx.org.in/surat-revenue-collection/party-plot-bookings',\n",
       "   'totalCount': 3,\n",
       "   'amountCollected': 124800.0,\n",
       "   'year': 2022,\n",
       "   'cityName': 'Surat'},\n",
       "  {'month': 4,\n",
       "   'date': '2022-04-16',\n",
       "   'id': 'suratmunicipal.org/6db486cb4f720e8585ba1f45a931c63c25dbbbda/rs.iudx.org.in/surat-revenue-collection/party-plot-bookings',\n",
       "   'totalCount': 2,\n",
       "   'amountCollected': 140600.0,\n",
       "   'year': 2022,\n",
       "   'cityName': 'Surat'},\n",
       "  {'month': 4,\n",
       "   'date': '2022-04-18',\n",
       "   'id': 'suratmunicipal.org/6db486cb4f720e8585ba1f45a931c63c25dbbbda/rs.iudx.org.in/surat-revenue-collection/party-plot-bookings',\n",
       "   'totalCount': 2,\n",
       "   'amountCollected': 35300.0,\n",
       "   'year': 2022,\n",
       "   'cityName': 'Surat'},\n",
       "  {'month': 4,\n",
       "   'date': '2022-04-20',\n",
       "   'id': 'suratmunicipal.org/6db486cb4f720e8585ba1f45a931c63c25dbbbda/rs.iudx.org.in/surat-revenue-collection/party-plot-bookings',\n",
       "   'totalCount': 5,\n",
       "   'amountCollected': 333800.0,\n",
       "   'year': 2022,\n",
       "   'cityName': 'Surat'},\n",
       "  {'month': 4,\n",
       "   'date': '2022-04-22',\n",
       "   'id': 'suratmunicipal.org/6db486cb4f720e8585ba1f45a931c63c25dbbbda/rs.iudx.org.in/surat-revenue-collection/party-plot-bookings',\n",
       "   'totalCount': 2,\n",
       "   'amountCollected': 87600.0,\n",
       "   'year': 2022,\n",
       "   'cityName': 'Surat'},\n",
       "  {'month': 8,\n",
       "   'year': 2022,\n",
       "   'amountCollected': 0.0,\n",
       "   'cityName': 'Surat',\n",
       "   'id': 'suratmunicipal.org/6db486cb4f720e8585ba1f45a931c63c25dbbbda/rs.iudx.org.in/surat-revenue-collection/party-plot-bookings',\n",
       "   'date': '2022-08-02',\n",
       "   'totalCount': 0},\n",
       "  {'month': 10,\n",
       "   'year': 2022,\n",
       "   'amountCollected': 0.0,\n",
       "   'cityName': 'Surat',\n",
       "   'id': 'suratmunicipal.org/6db486cb4f720e8585ba1f45a931c63c25dbbbda/rs.iudx.org.in/surat-revenue-collection/party-plot-bookings',\n",
       "   'date': '2022-10-02',\n",
       "   'totalCount': 0},\n",
       "  {'month': 12,\n",
       "   'year': 2022,\n",
       "   'amountCollected': 0.0,\n",
       "   'cityName': 'Surat',\n",
       "   'id': 'suratmunicipal.org/6db486cb4f720e8585ba1f45a931c63c25dbbbda/rs.iudx.org.in/surat-revenue-collection/party-plot-bookings',\n",
       "   'date': '2022-12-02',\n",
       "   'totalCount': 0},\n",
       "  {'month': 2,\n",
       "   'year': 2022,\n",
       "   'amountCollected': 0.0,\n",
       "   'cityName': 'Surat',\n",
       "   'id': 'suratmunicipal.org/6db486cb4f720e8585ba1f45a931c63c25dbbbda/rs.iudx.org.in/surat-revenue-collection/party-plot-bookings',\n",
       "   'date': '2022-02-14',\n",
       "   'totalCount': 0},\n",
       "  {'month': 2,\n",
       "   'year': 2022,\n",
       "   'amountCollected': 63100.0,\n",
       "   'cityName': 'Surat',\n",
       "   'id': 'suratmunicipal.org/6db486cb4f720e8585ba1f45a931c63c25dbbbda/rs.iudx.org.in/surat-revenue-collection/party-plot-bookings',\n",
       "   'date': '2022-02-16',\n",
       "   'totalCount': 2},\n",
       "  {'month': 2,\n",
       "   'year': 2022,\n",
       "   'amountCollected': 0.0,\n",
       "   'cityName': 'Surat',\n",
       "   'id': 'suratmunicipal.org/6db486cb4f720e8585ba1f45a931c63c25dbbbda/rs.iudx.org.in/surat-revenue-collection/party-plot-bookings',\n",
       "   'date': '2022-02-18',\n",
       "   'totalCount': 0},\n",
       "  {'month': 2,\n",
       "   'year': 2022,\n",
       "   'amountCollected': 0.0,\n",
       "   'cityName': 'Surat',\n",
       "   'id': 'suratmunicipal.org/6db486cb4f720e8585ba1f45a931c63c25dbbbda/rs.iudx.org.in/surat-revenue-collection/party-plot-bookings',\n",
       "   'date': '2022-02-20',\n",
       "   'totalCount': 0},\n",
       "  {'month': 2,\n",
       "   'year': 2022,\n",
       "   'amountCollected': 42200.0,\n",
       "   'cityName': 'Surat',\n",
       "   'id': 'suratmunicipal.org/6db486cb4f720e8585ba1f45a931c63c25dbbbda/rs.iudx.org.in/surat-revenue-collection/party-plot-bookings',\n",
       "   'date': '2022-02-22',\n",
       "   'totalCount': 1},\n",
       "  {'month': 2,\n",
       "   'year': 2022,\n",
       "   'amountCollected': 0.0,\n",
       "   'cityName': 'Surat',\n",
       "   'id': 'suratmunicipal.org/6db486cb4f720e8585ba1f45a931c63c25dbbbda/rs.iudx.org.in/surat-revenue-collection/party-plot-bookings',\n",
       "   'date': '2022-02-24',\n",
       "   'totalCount': 1},\n",
       "  {'month': 2,\n",
       "   'year': 2022,\n",
       "   'amountCollected': 42500.0,\n",
       "   'cityName': 'Surat',\n",
       "   'id': 'suratmunicipal.org/6db486cb4f720e8585ba1f45a931c63c25dbbbda/rs.iudx.org.in/surat-revenue-collection/party-plot-bookings',\n",
       "   'date': '2022-02-26',\n",
       "   'totalCount': 1},\n",
       "  {'month': 2,\n",
       "   'year': 2022,\n",
       "   'amountCollected': 191800.0,\n",
       "   'cityName': 'Surat',\n",
       "   'id': 'suratmunicipal.org/6db486cb4f720e8585ba1f45a931c63c25dbbbda/rs.iudx.org.in/surat-revenue-collection/party-plot-bookings',\n",
       "   'date': '2022-02-28',\n",
       "   'totalCount': 3},\n",
       "  {'month': 2,\n",
       "   'year': 2022,\n",
       "   'amountCollected': 116500.0,\n",
       "   'cityName': 'Surat',\n",
       "   'id': 'suratmunicipal.org/6db486cb4f720e8585ba1f45a931c63c25dbbbda/rs.iudx.org.in/surat-revenue-collection/party-plot-bookings',\n",
       "   'date': '2022-02-03',\n",
       "   'totalCount': 2},\n",
       "  {'month': 4,\n",
       "   'year': 2022,\n",
       "   'amountCollected': 331300.0,\n",
       "   'cityName': 'Surat',\n",
       "   'id': 'suratmunicipal.org/6db486cb4f720e8585ba1f45a931c63c25dbbbda/rs.iudx.org.in/surat-revenue-collection/party-plot-bookings',\n",
       "   'date': '2022-04-03',\n",
       "   'totalCount': 4},\n",
       "  {'month': 6,\n",
       "   'year': 2022,\n",
       "   'amountCollected': 0.0,\n",
       "   'cityName': 'Surat',\n",
       "   'id': 'suratmunicipal.org/6db486cb4f720e8585ba1f45a931c63c25dbbbda/rs.iudx.org.in/surat-revenue-collection/party-plot-bookings',\n",
       "   'date': '2022-06-03',\n",
       "   'totalCount': 0},\n",
       "  {'month': 8,\n",
       "   'year': 2022,\n",
       "   'amountCollected': 107200.0,\n",
       "   'cityName': 'Surat',\n",
       "   'id': 'suratmunicipal.org/6db486cb4f720e8585ba1f45a931c63c25dbbbda/rs.iudx.org.in/surat-revenue-collection/party-plot-bookings',\n",
       "   'date': '2022-08-03',\n",
       "   'totalCount': 2},\n",
       "  {'month': 10,\n",
       "   'year': 2022,\n",
       "   'amountCollected': 194800.0,\n",
       "   'cityName': 'Surat',\n",
       "   'id': 'suratmunicipal.org/6db486cb4f720e8585ba1f45a931c63c25dbbbda/rs.iudx.org.in/surat-revenue-collection/party-plot-bookings',\n",
       "   'date': '2022-10-03',\n",
       "   'totalCount': 3},\n",
       "  {'month': 12,\n",
       "   'year': 2022,\n",
       "   'amountCollected': 0.0,\n",
       "   'cityName': 'Surat',\n",
       "   'id': 'suratmunicipal.org/6db486cb4f720e8585ba1f45a931c63c25dbbbda/rs.iudx.org.in/surat-revenue-collection/party-plot-bookings',\n",
       "   'date': '2022-12-03',\n",
       "   'totalCount': 0},\n",
       "  {'month': 3,\n",
       "   'year': 2022,\n",
       "   'amountCollected': 0.0,\n",
       "   'cityName': 'Surat',\n",
       "   'id': 'suratmunicipal.org/6db486cb4f720e8585ba1f45a931c63c25dbbbda/rs.iudx.org.in/surat-revenue-collection/party-plot-bookings',\n",
       "   'date': '2022-03-14',\n",
       "   'totalCount': 0},\n",
       "  {'month': 3,\n",
       "   'year': 2022,\n",
       "   'amountCollected': 54100.0,\n",
       "   'cityName': 'Surat',\n",
       "   'id': 'suratmunicipal.org/6db486cb4f720e8585ba1f45a931c63c25dbbbda/rs.iudx.org.in/surat-revenue-collection/party-plot-bookings',\n",
       "   'date': '2022-03-16',\n",
       "   'totalCount': 3},\n",
       "  {'month': 3,\n",
       "   'year': 2022,\n",
       "   'amountCollected': 0.0,\n",
       "   'cityName': 'Surat',\n",
       "   'id': 'suratmunicipal.org/6db486cb4f720e8585ba1f45a931c63c25dbbbda/rs.iudx.org.in/surat-revenue-collection/party-plot-bookings',\n",
       "   'date': '2022-03-18',\n",
       "   'totalCount': 0},\n",
       "  {'month': 3,\n",
       "   'year': 2022,\n",
       "   'amountCollected': 0.0,\n",
       "   'cityName': 'Surat',\n",
       "   'id': 'suratmunicipal.org/6db486cb4f720e8585ba1f45a931c63c25dbbbda/rs.iudx.org.in/surat-revenue-collection/party-plot-bookings',\n",
       "   'date': '2022-03-20',\n",
       "   'totalCount': 0},\n",
       "  {'month': 3,\n",
       "   'year': 2022,\n",
       "   'amountCollected': 0.0,\n",
       "   'cityName': 'Surat',\n",
       "   'id': 'suratmunicipal.org/6db486cb4f720e8585ba1f45a931c63c25dbbbda/rs.iudx.org.in/surat-revenue-collection/party-plot-bookings',\n",
       "   'date': '2022-03-22',\n",
       "   'totalCount': 0},\n",
       "  {'month': 3,\n",
       "   'year': 2022,\n",
       "   'amountCollected': 107600.0,\n",
       "   'cityName': 'Surat',\n",
       "   'id': 'suratmunicipal.org/6db486cb4f720e8585ba1f45a931c63c25dbbbda/rs.iudx.org.in/surat-revenue-collection/party-plot-bookings',\n",
       "   'date': '2022-03-24',\n",
       "   'totalCount': 2},\n",
       "  {'month': 3,\n",
       "   'year': 2022,\n",
       "   'amountCollected': 0.0,\n",
       "   'cityName': 'Surat',\n",
       "   'id': 'suratmunicipal.org/6db486cb4f720e8585ba1f45a931c63c25dbbbda/rs.iudx.org.in/surat-revenue-collection/party-plot-bookings',\n",
       "   'date': '2022-03-26',\n",
       "   'totalCount': 0},\n",
       "  {'month': 3,\n",
       "   'year': 2022,\n",
       "   'amountCollected': 70300.0,\n",
       "   'cityName': 'Surat',\n",
       "   'id': 'suratmunicipal.org/6db486cb4f720e8585ba1f45a931c63c25dbbbda/rs.iudx.org.in/surat-revenue-collection/party-plot-bookings',\n",
       "   'date': '2022-03-28',\n",
       "   'totalCount': 1},\n",
       "  {'month': 3,\n",
       "   'year': 2022,\n",
       "   'amountCollected': 108400.0,\n",
       "   'cityName': 'Surat',\n",
       "   'id': 'suratmunicipal.org/6db486cb4f720e8585ba1f45a931c63c25dbbbda/rs.iudx.org.in/surat-revenue-collection/party-plot-bookings',\n",
       "   'date': '2022-03-30',\n",
       "   'totalCount': 2},\n",
       "  {'month': 1,\n",
       "   'year': 2022,\n",
       "   'amountCollected': 5400.0,\n",
       "   'cityName': 'Surat',\n",
       "   'id': 'suratmunicipal.org/6db486cb4f720e8585ba1f45a931c63c25dbbbda/rs.iudx.org.in/surat-revenue-collection/party-plot-bookings',\n",
       "   'date': '2022-01-04',\n",
       "   'totalCount': 1},\n",
       "  {'month': 3,\n",
       "   'year': 2022,\n",
       "   'amountCollected': 0.0,\n",
       "   'cityName': 'Surat',\n",
       "   'id': 'suratmunicipal.org/6db486cb4f720e8585ba1f45a931c63c25dbbbda/rs.iudx.org.in/surat-revenue-collection/party-plot-bookings',\n",
       "   'date': '2022-03-04',\n",
       "   'totalCount': 0},\n",
       "  {'month': 5,\n",
       "   'year': 2022,\n",
       "   'amountCollected': 39000.0,\n",
       "   'cityName': 'Surat',\n",
       "   'id': 'suratmunicipal.org/6db486cb4f720e8585ba1f45a931c63c25dbbbda/rs.iudx.org.in/surat-revenue-collection/party-plot-bookings',\n",
       "   'date': '2022-05-04',\n",
       "   'totalCount': 6},\n",
       "  {'month': 7,\n",
       "   'year': 2022,\n",
       "   'amountCollected': 0.0,\n",
       "   'cityName': 'Surat',\n",
       "   'id': 'suratmunicipal.org/6db486cb4f720e8585ba1f45a931c63c25dbbbda/rs.iudx.org.in/surat-revenue-collection/party-plot-bookings',\n",
       "   'date': '2022-07-04',\n",
       "   'totalCount': 0},\n",
       "  {'month': 9,\n",
       "   'year': 2022,\n",
       "   'amountCollected': 159800.0,\n",
       "   'cityName': 'Surat',\n",
       "   'id': 'suratmunicipal.org/6db486cb4f720e8585ba1f45a931c63c25dbbbda/rs.iudx.org.in/surat-revenue-collection/party-plot-bookings',\n",
       "   'date': '2022-09-04',\n",
       "   'totalCount': 3},\n",
       "  {'month': 11,\n",
       "   'year': 2022,\n",
       "   'amountCollected': 35300.0,\n",
       "   'cityName': 'Surat',\n",
       "   'id': 'suratmunicipal.org/6db486cb4f720e8585ba1f45a931c63c25dbbbda/rs.iudx.org.in/surat-revenue-collection/party-plot-bookings',\n",
       "   'date': '2022-11-04',\n",
       "   'totalCount': 3},\n",
       "  {'month': 4,\n",
       "   'year': 2022,\n",
       "   'amountCollected': 35300.0,\n",
       "   'cityName': 'Surat',\n",
       "   'id': 'suratmunicipal.org/6db486cb4f720e8585ba1f45a931c63c25dbbbda/rs.iudx.org.in/surat-revenue-collection/party-plot-bookings',\n",
       "   'date': '2022-04-13',\n",
       "   'totalCount': 1},\n",
       "  {'month': 4,\n",
       "   'year': 2022,\n",
       "   'amountCollected': 0.0,\n",
       "   'cityName': 'Surat',\n",
       "   'id': 'suratmunicipal.org/6db486cb4f720e8585ba1f45a931c63c25dbbbda/rs.iudx.org.in/surat-revenue-collection/party-plot-bookings',\n",
       "   'date': '2022-04-15',\n",
       "   'totalCount': 0},\n",
       "  {'month': 4,\n",
       "   'year': 2022,\n",
       "   'amountCollected': 54200.0,\n",
       "   'cityName': 'Surat',\n",
       "   'id': 'suratmunicipal.org/6db486cb4f720e8585ba1f45a931c63c25dbbbda/rs.iudx.org.in/surat-revenue-collection/party-plot-bookings',\n",
       "   'date': '2022-04-17',\n",
       "   'totalCount': 1},\n",
       "  {'month': 4,\n",
       "   'year': 2022,\n",
       "   'amountCollected': 335400.0,\n",
       "   'cityName': 'Surat',\n",
       "   'id': 'suratmunicipal.org/6db486cb4f720e8585ba1f45a931c63c25dbbbda/rs.iudx.org.in/surat-revenue-collection/party-plot-bookings',\n",
       "   'date': '2022-04-19',\n",
       "   'totalCount': 5},\n",
       "  {'month': 4,\n",
       "   'year': 2022,\n",
       "   'amountCollected': 95000.0,\n",
       "   'cityName': 'Surat',\n",
       "   'id': 'suratmunicipal.org/6db486cb4f720e8585ba1f45a931c63c25dbbbda/rs.iudx.org.in/surat-revenue-collection/party-plot-bookings',\n",
       "   'date': '2022-04-21',\n",
       "   'totalCount': 2},\n",
       "  {'month': 4,\n",
       "   'year': 2022,\n",
       "   'amountCollected': 0.0,\n",
       "   'cityName': 'Surat',\n",
       "   'id': 'suratmunicipal.org/6db486cb4f720e8585ba1f45a931c63c25dbbbda/rs.iudx.org.in/surat-revenue-collection/party-plot-bookings',\n",
       "   'date': '2022-04-23',\n",
       "   'totalCount': 0},\n",
       "  {'month': 4,\n",
       "   'year': 2022,\n",
       "   'amountCollected': 60400.0,\n",
       "   'cityName': 'Surat',\n",
       "   'id': 'suratmunicipal.org/6db486cb4f720e8585ba1f45a931c63c25dbbbda/rs.iudx.org.in/surat-revenue-collection/party-plot-bookings',\n",
       "   'date': '2022-04-25',\n",
       "   'totalCount': 1},\n",
       "  {'month': 4,\n",
       "   'year': 2022,\n",
       "   'amountCollected': 0.0,\n",
       "   'cityName': 'Surat',\n",
       "   'id': 'suratmunicipal.org/6db486cb4f720e8585ba1f45a931c63c25dbbbda/rs.iudx.org.in/surat-revenue-collection/party-plot-bookings',\n",
       "   'date': '2022-04-27',\n",
       "   'totalCount': 1},\n",
       "  {'month': 4,\n",
       "   'year': 2022,\n",
       "   'amountCollected': 137700.0,\n",
       "   'cityName': 'Surat',\n",
       "   'id': 'suratmunicipal.org/6db486cb4f720e8585ba1f45a931c63c25dbbbda/rs.iudx.org.in/surat-revenue-collection/party-plot-bookings',\n",
       "   'date': '2022-04-29',\n",
       "   'totalCount': 4},\n",
       "  {'month': 1,\n",
       "   'year': 2022,\n",
       "   'amountCollected': 0.0,\n",
       "   'cityName': 'Surat',\n",
       "   'id': 'suratmunicipal.org/6db486cb4f720e8585ba1f45a931c63c25dbbbda/rs.iudx.org.in/surat-revenue-collection/party-plot-bookings',\n",
       "   'date': '2022-01-05',\n",
       "   'totalCount': 0},\n",
       "  {'month': 3,\n",
       "   'year': 2022,\n",
       "   'amountCollected': 0.0,\n",
       "   'cityName': 'Surat',\n",
       "   'id': 'suratmunicipal.org/6db486cb4f720e8585ba1f45a931c63c25dbbbda/rs.iudx.org.in/surat-revenue-collection/party-plot-bookings',\n",
       "   'date': '2022-03-05',\n",
       "   'totalCount': 0},\n",
       "  {'month': 5,\n",
       "   'year': 2022,\n",
       "   'amountCollected': 197500.0,\n",
       "   'cityName': 'Surat',\n",
       "   'id': 'suratmunicipal.org/6db486cb4f720e8585ba1f45a931c63c25dbbbda/rs.iudx.org.in/surat-revenue-collection/party-plot-bookings',\n",
       "   'date': '2022-05-05',\n",
       "   'totalCount': 10},\n",
       "  {'month': 4,\n",
       "   'date': '2022-04-24',\n",
       "   'id': 'suratmunicipal.org/6db486cb4f720e8585ba1f45a931c63c25dbbbda/rs.iudx.org.in/surat-revenue-collection/party-plot-bookings',\n",
       "   'totalCount': 0,\n",
       "   'amountCollected': 0.0,\n",
       "   'year': 2022,\n",
       "   'cityName': 'Surat'},\n",
       "  {'month': 4,\n",
       "   'date': '2022-04-26',\n",
       "   'id': 'suratmunicipal.org/6db486cb4f720e8585ba1f45a931c63c25dbbbda/rs.iudx.org.in/surat-revenue-collection/party-plot-bookings',\n",
       "   'totalCount': 2,\n",
       "   'amountCollected': 108400.0,\n",
       "   'year': 2022,\n",
       "   'cityName': 'Surat'},\n",
       "  {'month': 4,\n",
       "   'date': '2022-04-28',\n",
       "   'id': 'suratmunicipal.org/6db486cb4f720e8585ba1f45a931c63c25dbbbda/rs.iudx.org.in/surat-revenue-collection/party-plot-bookings',\n",
       "   'totalCount': 1,\n",
       "   'amountCollected': 54200.0,\n",
       "   'year': 2022,\n",
       "   'cityName': 'Surat'},\n",
       "  {'month': 4,\n",
       "   'date': '2022-04-30',\n",
       "   'id': 'suratmunicipal.org/6db486cb4f720e8585ba1f45a931c63c25dbbbda/rs.iudx.org.in/surat-revenue-collection/party-plot-bookings',\n",
       "   'totalCount': 1,\n",
       "   'amountCollected': 54200.0,\n",
       "   'year': 2022,\n",
       "   'cityName': 'Surat'},\n",
       "  {'month': 2,\n",
       "   'date': '2022-02-05',\n",
       "   'id': 'suratmunicipal.org/6db486cb4f720e8585ba1f45a931c63c25dbbbda/rs.iudx.org.in/surat-revenue-collection/party-plot-bookings',\n",
       "   'totalCount': 1,\n",
       "   'amountCollected': 46200.0,\n",
       "   'year': 2022,\n",
       "   'cityName': 'Surat'},\n",
       "  {'month': 4,\n",
       "   'date': '2022-04-05',\n",
       "   'id': 'suratmunicipal.org/6db486cb4f720e8585ba1f45a931c63c25dbbbda/rs.iudx.org.in/surat-revenue-collection/party-plot-bookings',\n",
       "   'totalCount': 1,\n",
       "   'amountCollected': 0.0,\n",
       "   'year': 2022,\n",
       "   'cityName': 'Surat'},\n",
       "  {'month': 6,\n",
       "   'date': '2022-06-05',\n",
       "   'id': 'suratmunicipal.org/6db486cb4f720e8585ba1f45a931c63c25dbbbda/rs.iudx.org.in/surat-revenue-collection/party-plot-bookings',\n",
       "   'totalCount': 1,\n",
       "   'amountCollected': 46800.0,\n",
       "   'year': 2022,\n",
       "   'cityName': 'Surat'},\n",
       "  {'month': 7,\n",
       "   'date': '2022-07-05',\n",
       "   'id': 'suratmunicipal.org/6db486cb4f720e8585ba1f45a931c63c25dbbbda/rs.iudx.org.in/surat-revenue-collection/party-plot-bookings',\n",
       "   'totalCount': 1,\n",
       "   'amountCollected': 31800.0,\n",
       "   'year': 2022,\n",
       "   'cityName': 'Surat'},\n",
       "  {'month': 2,\n",
       "   'date': '2022-02-23',\n",
       "   'id': 'suratmunicipal.org/6db486cb4f720e8585ba1f45a931c63c25dbbbda/rs.iudx.org.in/surat-revenue-collection/party-plot-bookings',\n",
       "   'totalCount': 6,\n",
       "   'amountCollected': 175360,\n",
       "   'year': 2022,\n",
       "   'cityName': 'Surat'},\n",
       "  {'month': 2,\n",
       "   'date': '2022-02-02',\n",
       "   'id': 'suratmunicipal.org/6db486cb4f720e8585ba1f45a931c63c25dbbbda/rs.iudx.org.in/surat-revenue-collection/party-plot-bookings',\n",
       "   'totalCount': 8,\n",
       "   'amountCollected': 143490,\n",
       "   'year': 2022,\n",
       "   'cityName': 'Surat'},\n",
       "  {'month': 2,\n",
       "   'year': 2022,\n",
       "   'amountCollected': 107360,\n",
       "   'cityName': 'Surat',\n",
       "   'date': '2022-02-25',\n",
       "   'id': 'suratmunicipal.org/6db486cb4f720e8585ba1f45a931c63c25dbbbda/rs.iudx.org.in/surat-revenue-collection/party-plot-bookings',\n",
       "   'totalCount': 12},\n",
       "  {'month': 2,\n",
       "   'date': '2022-02-22',\n",
       "   'id': 'suratmunicipal.org/6db486cb4f720e8585ba1f45a931c63c25dbbbda/rs.iudx.org.in/surat-revenue-collection/party-plot-bookings',\n",
       "   'totalCount': 8,\n",
       "   'amountCollected': 105080,\n",
       "   'year': 2022,\n",
       "   'cityName': 'Surat'},\n",
       "  {'month': 2,\n",
       "   'year': 2022,\n",
       "   'amountCollected': 100130,\n",
       "   'cityName': 'Surat',\n",
       "   'date': '2022-02-13',\n",
       "   'id': 'suratmunicipal.org/6db486cb4f720e8585ba1f45a931c63c25dbbbda/rs.iudx.org.in/surat-revenue-collection/party-plot-bookings',\n",
       "   'totalCount': 5},\n",
       "  {'month': 2,\n",
       "   'date': '2022-02-16',\n",
       "   'id': 'suratmunicipal.org/6db486cb4f720e8585ba1f45a931c63c25dbbbda/rs.iudx.org.in/surat-revenue-collection/party-plot-bookings',\n",
       "   'totalCount': 7,\n",
       "   'amountCollected': 90720,\n",
       "   'year': 2022,\n",
       "   'cityName': 'Surat'},\n",
       "  {'month': 2,\n",
       "   'year': 2022,\n",
       "   'amountCollected': 88720,\n",
       "   'cityName': 'Surat',\n",
       "   'date': '2022-02-24',\n",
       "   'id': 'suratmunicipal.org/6db486cb4f720e8585ba1f45a931c63c25dbbbda/rs.iudx.org.in/surat-revenue-collection/party-plot-bookings',\n",
       "   'totalCount': 5},\n",
       "  {'month': 2,\n",
       "   'date': '2022-02-20',\n",
       "   'id': 'suratmunicipal.org/6db486cb4f720e8585ba1f45a931c63c25dbbbda/rs.iudx.org.in/surat-revenue-collection/party-plot-bookings',\n",
       "   'totalCount': 5,\n",
       "   'amountCollected': 84080,\n",
       "   'year': 2022,\n",
       "   'cityName': 'Surat'},\n",
       "  {'month': 2,\n",
       "   'year': 2022,\n",
       "   'amountCollected': 84000,\n",
       "   'cityName': 'Surat',\n",
       "   'date': '2022-02-19',\n",
       "   'id': 'suratmunicipal.org/6db486cb4f720e8585ba1f45a931c63c25dbbbda/rs.iudx.org.in/surat-revenue-collection/party-plot-bookings',\n",
       "   'totalCount': 3},\n",
       "  {'month': 2,\n",
       "   'year': 2022,\n",
       "   'amountCollected': 79720,\n",
       "   'cityName': 'Surat',\n",
       "   'date': '2022-02-26',\n",
       "   'id': 'suratmunicipal.org/6db486cb4f720e8585ba1f45a931c63c25dbbbda/rs.iudx.org.in/surat-revenue-collection/party-plot-bookings',\n",
       "   'totalCount': 4},\n",
       "  {'month': 2,\n",
       "   'date': '2022-02-18',\n",
       "   'id': 'suratmunicipal.org/6db486cb4f720e8585ba1f45a931c63c25dbbbda/rs.iudx.org.in/surat-revenue-collection/party-plot-bookings',\n",
       "   'totalCount': 3,\n",
       "   'amountCollected': 78000,\n",
       "   'year': 2022,\n",
       "   'cityName': 'Surat'},\n",
       "  {'month': 2,\n",
       "   'year': 2022,\n",
       "   'amountCollected': 57360,\n",
       "   'cityName': 'Surat',\n",
       "   'date': '2022-02-15',\n",
       "   'id': 'suratmunicipal.org/6db486cb4f720e8585ba1f45a931c63c25dbbbda/rs.iudx.org.in/surat-revenue-collection/party-plot-bookings',\n",
       "   'totalCount': 6},\n",
       "  {'month': 2,\n",
       "   'year': 2022,\n",
       "   'amountCollected': 27360,\n",
       "   'cityName': 'Surat',\n",
       "   'date': '2022-02-17',\n",
       "   'id': 'suratmunicipal.org/6db486cb4f720e8585ba1f45a931c63c25dbbbda/rs.iudx.org.in/surat-revenue-collection/party-plot-bookings',\n",
       "   'totalCount': 2},\n",
       "  {'month': 2,\n",
       "   'date': '2022-02-01',\n",
       "   'id': 'suratmunicipal.org/6db486cb4f720e8585ba1f45a931c63c25dbbbda/rs.iudx.org.in/surat-revenue-collection/party-plot-bookings',\n",
       "   'totalCount': 0,\n",
       "   'amountCollected': 0,\n",
       "   'year': 2022,\n",
       "   'cityName': 'Surat'},\n",
       "  {'month': 1,\n",
       "   'date': '2022-01-03',\n",
       "   'id': 'suratmunicipal.org/6db486cb4f720e8585ba1f45a931c63c25dbbbda/rs.iudx.org.in/surat-revenue-collection/party-plot-bookings',\n",
       "   'totalCount': 25,\n",
       "   'amountCollected': 299460,\n",
       "   'year': 2022,\n",
       "   'cityName': 'Surat'},\n",
       "  {'month': 1,\n",
       "   'date': '2022-01-17',\n",
       "   'id': 'suratmunicipal.org/6db486cb4f720e8585ba1f45a931c63c25dbbbda/rs.iudx.org.in/surat-revenue-collection/party-plot-bookings',\n",
       "   'totalCount': 4,\n",
       "   'amountCollected': 162000,\n",
       "   'year': 2022,\n",
       "   'cityName': 'Surat'},\n",
       "  {'month': 1,\n",
       "   'year': 2022,\n",
       "   'amountCollected': 106520,\n",
       "   'cityName': 'Surat',\n",
       "   'date': '2022-01-31',\n",
       "   'id': 'suratmunicipal.org/6db486cb4f720e8585ba1f45a931c63c25dbbbda/rs.iudx.org.in/surat-revenue-collection/party-plot-bookings',\n",
       "   'totalCount': 10},\n",
       "  {'month': 1,\n",
       "   'date': '2022-01-01',\n",
       "   'id': 'suratmunicipal.org/6db486cb4f720e8585ba1f45a931c63c25dbbbda/rs.iudx.org.in/surat-revenue-collection/party-plot-bookings',\n",
       "   'totalCount': 3,\n",
       "   'amountCollected': 90000,\n",
       "   'year': 2022,\n",
       "   'cityName': 'Surat'},\n",
       "  {'month': 1,\n",
       "   'date': '2022-01-25',\n",
       "   'id': 'suratmunicipal.org/6db486cb4f720e8585ba1f45a931c63c25dbbbda/rs.iudx.org.in/surat-revenue-collection/party-plot-bookings',\n",
       "   'totalCount': 5,\n",
       "   'amountCollected': 74360,\n",
       "   'year': 2022,\n",
       "   'cityName': 'Surat'},\n",
       "  {'month': 1,\n",
       "   'date': '2022-01-19',\n",
       "   'id': 'suratmunicipal.org/6db486cb4f720e8585ba1f45a931c63c25dbbbda/rs.iudx.org.in/surat-revenue-collection/party-plot-bookings',\n",
       "   'totalCount': 2,\n",
       "   'amountCollected': 63000,\n",
       "   'year': 2022,\n",
       "   'cityName': 'Surat'},\n",
       "  {'month': 1,\n",
       "   'year': 2022,\n",
       "   'amountCollected': 62360,\n",
       "   'cityName': 'Surat',\n",
       "   'date': '2022-01-02',\n",
       "   'id': 'suratmunicipal.org/6db486cb4f720e8585ba1f45a931c63c25dbbbda/rs.iudx.org.in/surat-revenue-collection/party-plot-bookings',\n",
       "   'totalCount': 12},\n",
       "  {'month': 1,\n",
       "   'year': 2022,\n",
       "   'amountCollected': 60000,\n",
       "   'cityName': 'Surat',\n",
       "   'date': '2022-01-18',\n",
       "   'id': 'suratmunicipal.org/6db486cb4f720e8585ba1f45a931c63c25dbbbda/rs.iudx.org.in/surat-revenue-collection/party-plot-bookings',\n",
       "   'totalCount': 1},\n",
       "  {'month': 1,\n",
       "   'year': 2022,\n",
       "   'amountCollected': 49720,\n",
       "   'cityName': 'Surat',\n",
       "   'date': '2022-01-30',\n",
       "   'id': 'suratmunicipal.org/6db486cb4f720e8585ba1f45a931c63c25dbbbda/rs.iudx.org.in/surat-revenue-collection/party-plot-bookings',\n",
       "   'totalCount': 3},\n",
       "  {'month': 1,\n",
       "   'year': 2022,\n",
       "   'amountCollected': 38360,\n",
       "   'cityName': 'Surat',\n",
       "   'date': '2022-01-29',\n",
       "   'id': 'suratmunicipal.org/6db486cb4f720e8585ba1f45a931c63c25dbbbda/rs.iudx.org.in/surat-revenue-collection/party-plot-bookings',\n",
       "   'totalCount': 2},\n",
       "  {'month': 1,\n",
       "   'year': 2022,\n",
       "   'amountCollected': 36720,\n",
       "   'cityName': 'Surat',\n",
       "   'date': '2022-01-22',\n",
       "   'id': 'suratmunicipal.org/6db486cb4f720e8585ba1f45a931c63c25dbbbda/rs.iudx.org.in/surat-revenue-collection/party-plot-bookings',\n",
       "   'totalCount': 3},\n",
       "  {'month': 1,\n",
       "   'date': '2022-01-13',\n",
       "   'id': 'suratmunicipal.org/6db486cb4f720e8585ba1f45a931c63c25dbbbda/rs.iudx.org.in/surat-revenue-collection/party-plot-bookings',\n",
       "   'totalCount': 1,\n",
       "   'amountCollected': 30000,\n",
       "   'year': 2022,\n",
       "   'cityName': 'Surat'},\n",
       "  {'month': 1,\n",
       "   'year': 2022,\n",
       "   'amountCollected': 9440,\n",
       "   'cityName': 'Surat',\n",
       "   'date': '2022-01-28',\n",
       "   'id': 'suratmunicipal.org/6db486cb4f720e8585ba1f45a931c63c25dbbbda/rs.iudx.org.in/surat-revenue-collection/party-plot-bookings',\n",
       "   'totalCount': 4},\n",
       "  {'month': 1,\n",
       "   'date': '2022-01-27',\n",
       "   'id': 'suratmunicipal.org/6db486cb4f720e8585ba1f45a931c63c25dbbbda/rs.iudx.org.in/surat-revenue-collection/party-plot-bookings',\n",
       "   'totalCount': 22,\n",
       "   'amountCollected': 7080,\n",
       "   'year': 2022,\n",
       "   'cityName': 'Surat'},\n",
       "  {'month': 1,\n",
       "   'year': 2022,\n",
       "   'amountCollected': 4720,\n",
       "   'cityName': 'Surat',\n",
       "   'date': '2022-01-26',\n",
       "   'id': 'suratmunicipal.org/6db486cb4f720e8585ba1f45a931c63c25dbbbda/rs.iudx.org.in/surat-revenue-collection/party-plot-bookings',\n",
       "   'totalCount': 2},\n",
       "  {'month': 1,\n",
       "   'year': 2022,\n",
       "   'amountCollected': 2360,\n",
       "   'cityName': 'Surat',\n",
       "   'date': '2022-01-16',\n",
       "   'id': 'suratmunicipal.org/6db486cb4f720e8585ba1f45a931c63c25dbbbda/rs.iudx.org.in/surat-revenue-collection/party-plot-bookings',\n",
       "   'totalCount': 1},\n",
       "  {'month': 1,\n",
       "   'year': 2022,\n",
       "   'amountCollected': 0,\n",
       "   'cityName': 'Surat',\n",
       "   'date': '2022-01-14',\n",
       "   'id': 'suratmunicipal.org/6db486cb4f720e8585ba1f45a931c63c25dbbbda/rs.iudx.org.in/surat-revenue-collection/party-plot-bookings',\n",
       "   'totalCount': 0},\n",
       "  {'month': 1,\n",
       "   'year': 2022,\n",
       "   'amountCollected': 0,\n",
       "   'cityName': 'Surat',\n",
       "   'date': '2022-01-20',\n",
       "   'id': 'suratmunicipal.org/6db486cb4f720e8585ba1f45a931c63c25dbbbda/rs.iudx.org.in/surat-revenue-collection/party-plot-bookings',\n",
       "   'totalCount': 1},\n",
       "  {'month': 1,\n",
       "   'year': 2022,\n",
       "   'amountCollected': 0,\n",
       "   'cityName': 'Surat',\n",
       "   'date': '2022-01-15',\n",
       "   'id': 'suratmunicipal.org/6db486cb4f720e8585ba1f45a931c63c25dbbbda/rs.iudx.org.in/surat-revenue-collection/party-plot-bookings',\n",
       "   'totalCount': 0},\n",
       "  {'month': 1,\n",
       "   'year': 2022,\n",
       "   'amountCollected': 0,\n",
       "   'cityName': 'Surat',\n",
       "   'date': '2022-01-21',\n",
       "   'id': 'suratmunicipal.org/6db486cb4f720e8585ba1f45a931c63c25dbbbda/rs.iudx.org.in/surat-revenue-collection/party-plot-bookings',\n",
       "   'totalCount': 0},\n",
       "  {'month': 1,\n",
       "   'year': 2022,\n",
       "   'amountCollected': 0,\n",
       "   'cityName': 'Surat',\n",
       "   'date': '2022-01-23',\n",
       "   'id': 'suratmunicipal.org/6db486cb4f720e8585ba1f45a931c63c25dbbbda/rs.iudx.org.in/surat-revenue-collection/party-plot-bookings',\n",
       "   'totalCount': 0},\n",
       "  {'month': 1,\n",
       "   'year': 2022,\n",
       "   'amountCollected': 0,\n",
       "   'cityName': 'Surat',\n",
       "   'date': '2022-01-24',\n",
       "   'id': 'suratmunicipal.org/6db486cb4f720e8585ba1f45a931c63c25dbbbda/rs.iudx.org.in/surat-revenue-collection/party-plot-bookings',\n",
       "   'totalCount': 0},\n",
       "  {'month': 12,\n",
       "   'year': 2021,\n",
       "   'amountCollected': 578360,\n",
       "   'cityName': 'Surat',\n",
       "   'date': '2021-12-21',\n",
       "   'id': 'suratmunicipal.org/6db486cb4f720e8585ba1f45a931c63c25dbbbda/rs.iudx.org.in/surat-revenue-collection/party-plot-bookings',\n",
       "   'totalCount': 16},\n",
       "  {'month': 12,\n",
       "   'year': 2021,\n",
       "   'amountCollected': 568220,\n",
       "   'cityName': 'Surat',\n",
       "   'date': '2021-12-07',\n",
       "   'id': 'suratmunicipal.org/6db486cb4f720e8585ba1f45a931c63c25dbbbda/rs.iudx.org.in/surat-revenue-collection/party-plot-bookings',\n",
       "   'totalCount': 20},\n",
       "  {'month': 12,\n",
       "   'year': 2021,\n",
       "   'amountCollected': 406720,\n",
       "   'cityName': 'Surat',\n",
       "   'date': '2021-12-10',\n",
       "   'id': 'suratmunicipal.org/6db486cb4f720e8585ba1f45a931c63c25dbbbda/rs.iudx.org.in/surat-revenue-collection/party-plot-bookings',\n",
       "   'totalCount': 12},\n",
       "  {'month': 12,\n",
       "   'year': 2021,\n",
       "   'amountCollected': 324000,\n",
       "   'cityName': 'Surat',\n",
       "   'date': '2021-12-23',\n",
       "   'id': 'suratmunicipal.org/6db486cb4f720e8585ba1f45a931c63c25dbbbda/rs.iudx.org.in/surat-revenue-collection/party-plot-bookings',\n",
       "   'totalCount': 9},\n",
       "  {'month': 12,\n",
       "   'year': 2021,\n",
       "   'amountCollected': 250000,\n",
       "   'cityName': 'Surat',\n",
       "   'date': '2021-12-20',\n",
       "   'id': 'suratmunicipal.org/6db486cb4f720e8585ba1f45a931c63c25dbbbda/rs.iudx.org.in/surat-revenue-collection/party-plot-bookings',\n",
       "   'totalCount': 5},\n",
       "  {'month': 12,\n",
       "   'date': '2021-12-22',\n",
       "   'id': 'suratmunicipal.org/6db486cb4f720e8585ba1f45a931c63c25dbbbda/rs.iudx.org.in/surat-revenue-collection/party-plot-bookings',\n",
       "   'totalCount': 6,\n",
       "   'amountCollected': 210000,\n",
       "   'year': 2021,\n",
       "   'cityName': 'Surat'},\n",
       "  {'month': 12,\n",
       "   'year': 2021,\n",
       "   'amountCollected': 160220,\n",
       "   'cityName': 'Surat',\n",
       "   'date': '2021-12-16',\n",
       "   'id': 'suratmunicipal.org/6db486cb4f720e8585ba1f45a931c63c25dbbbda/rs.iudx.org.in/surat-revenue-collection/party-plot-bookings',\n",
       "   'totalCount': 9},\n",
       "  {'month': 12,\n",
       "   'year': 2021,\n",
       "   'amountCollected': 140000,\n",
       "   'cityName': 'Surat',\n",
       "   'date': '2021-12-17',\n",
       "   'id': 'suratmunicipal.org/6db486cb4f720e8585ba1f45a931c63c25dbbbda/rs.iudx.org.in/surat-revenue-collection/party-plot-bookings',\n",
       "   'totalCount': 6},\n",
       "  {'month': 12,\n",
       "   'year': 2021,\n",
       "   'amountCollected': 121000,\n",
       "   'cityName': 'Surat',\n",
       "   'date': '2021-12-08',\n",
       "   'id': 'suratmunicipal.org/6db486cb4f720e8585ba1f45a931c63c25dbbbda/rs.iudx.org.in/surat-revenue-collection/party-plot-bookings',\n",
       "   'totalCount': 4},\n",
       "  {'month': 12,\n",
       "   'year': 2021,\n",
       "   'amountCollected': 120000,\n",
       "   'cityName': 'Surat',\n",
       "   'date': '2021-12-19',\n",
       "   'id': 'suratmunicipal.org/6db486cb4f720e8585ba1f45a931c63c25dbbbda/rs.iudx.org.in/surat-revenue-collection/party-plot-bookings',\n",
       "   'totalCount': 1},\n",
       "  {'month': 12,\n",
       "   'year': 2021,\n",
       "   'amountCollected': 112840,\n",
       "   'cityName': 'Surat',\n",
       "   'date': '2021-12-03',\n",
       "   'id': 'suratmunicipal.org/6db486cb4f720e8585ba1f45a931c63c25dbbbda/rs.iudx.org.in/surat-revenue-collection/party-plot-bookings',\n",
       "   'totalCount': 14},\n",
       "  {'month': 12,\n",
       "   'date': '2021-12-18',\n",
       "   'id': 'suratmunicipal.org/6db486cb4f720e8585ba1f45a931c63c25dbbbda/rs.iudx.org.in/surat-revenue-collection/party-plot-bookings',\n",
       "   'totalCount': 4,\n",
       "   'amountCollected': 106500,\n",
       "   'year': 2021,\n",
       "   'cityName': 'Surat'},\n",
       "  {'month': 12,\n",
       "   'date': '2021-12-11',\n",
       "   'id': 'suratmunicipal.org/6db486cb4f720e8585ba1f45a931c63c25dbbbda/rs.iudx.org.in/surat-revenue-collection/party-plot-bookings',\n",
       "   'totalCount': 4,\n",
       "   'amountCollected': 104000,\n",
       "   'year': 2021,\n",
       "   'cityName': 'Surat'},\n",
       "  {'month': 12,\n",
       "   'date': '2021-12-29',\n",
       "   'id': 'suratmunicipal.org/6db486cb4f720e8585ba1f45a931c63c25dbbbda/rs.iudx.org.in/surat-revenue-collection/party-plot-bookings',\n",
       "   'totalCount': 6,\n",
       "   'amountCollected': 95000,\n",
       "   'year': 2021,\n",
       "   'cityName': 'Surat'},\n",
       "  {'month': 12,\n",
       "   'date': '2021-12-25',\n",
       "   'id': 'suratmunicipal.org/6db486cb4f720e8585ba1f45a931c63c25dbbbda/rs.iudx.org.in/surat-revenue-collection/party-plot-bookings',\n",
       "   'totalCount': 4,\n",
       "   'amountCollected': 86000,\n",
       "   'year': 2021,\n",
       "   'cityName': 'Surat'},\n",
       "  {'month': 12,\n",
       "   'year': 2021,\n",
       "   'amountCollected': 85000,\n",
       "   'cityName': 'Surat',\n",
       "   'date': '2021-12-09',\n",
       "   'id': 'suratmunicipal.org/6db486cb4f720e8585ba1f45a931c63c25dbbbda/rs.iudx.org.in/surat-revenue-collection/party-plot-bookings',\n",
       "   'totalCount': 4},\n",
       "  {'month': 12,\n",
       "   'date': '2021-12-06',\n",
       "   'id': 'suratmunicipal.org/6db486cb4f720e8585ba1f45a931c63c25dbbbda/rs.iudx.org.in/surat-revenue-collection/party-plot-bookings',\n",
       "   'totalCount': 6,\n",
       "   'amountCollected': 76720,\n",
       "   'year': 2021,\n",
       "   'cityName': 'Surat'},\n",
       "  {'month': 12,\n",
       "   'date': '2021-12-13',\n",
       "   'id': 'suratmunicipal.org/6db486cb4f720e8585ba1f45a931c63c25dbbbda/rs.iudx.org.in/surat-revenue-collection/party-plot-bookings',\n",
       "   'totalCount': 6,\n",
       "   'amountCollected': 72440,\n",
       "   'year': 2021,\n",
       "   'cityName': 'Surat'},\n",
       "  {'month': 12,\n",
       "   'date': '2021-12-15',\n",
       "   'id': 'suratmunicipal.org/6db486cb4f720e8585ba1f45a931c63c25dbbbda/rs.iudx.org.in/surat-revenue-collection/party-plot-bookings',\n",
       "   'totalCount': 4,\n",
       "   'amountCollected': 68360,\n",
       "   'year': 2021,\n",
       "   'cityName': 'Surat'},\n",
       "  {'month': 12,\n",
       "   'date': '2021-12-12',\n",
       "   'id': 'suratmunicipal.org/6db486cb4f720e8585ba1f45a931c63c25dbbbda/rs.iudx.org.in/surat-revenue-collection/party-plot-bookings',\n",
       "   'totalCount': 2,\n",
       "   'amountCollected': 66000,\n",
       "   'year': 2021,\n",
       "   'cityName': 'Surat'},\n",
       "  {'month': 12,\n",
       "   'date': '2021-12-24',\n",
       "   'id': 'suratmunicipal.org/6db486cb4f720e8585ba1f45a931c63c25dbbbda/rs.iudx.org.in/surat-revenue-collection/party-plot-bookings',\n",
       "   'totalCount': 2,\n",
       "   'amountCollected': 61000,\n",
       "   'year': 2021,\n",
       "   'cityName': 'Surat'},\n",
       "  {'month': 12,\n",
       "   'date': '2021-12-31',\n",
       "   'id': 'suratmunicipal.org/6db486cb4f720e8585ba1f45a931c63c25dbbbda/rs.iudx.org.in/surat-revenue-collection/party-plot-bookings',\n",
       "   'totalCount': 2,\n",
       "   'amountCollected': 60000,\n",
       "   'year': 2021,\n",
       "   'cityName': 'Surat'},\n",
       "  {'month': 12,\n",
       "   'year': 2021,\n",
       "   'amountCollected': 55000,\n",
       "   'cityName': 'Surat',\n",
       "   'date': '2021-12-26',\n",
       "   'id': 'suratmunicipal.org/6db486cb4f720e8585ba1f45a931c63c25dbbbda/rs.iudx.org.in/surat-revenue-collection/party-plot-bookings',\n",
       "   'totalCount': 1},\n",
       "  {'month': 12,\n",
       "   'year': 2021,\n",
       "   'amountCollected': 49720,\n",
       "   'cityName': 'Surat',\n",
       "   'date': '2021-12-27',\n",
       "   'id': 'suratmunicipal.org/6db486cb4f720e8585ba1f45a931c63c25dbbbda/rs.iudx.org.in/surat-revenue-collection/party-plot-bookings',\n",
       "   'totalCount': 3},\n",
       "  {'month': 12,\n",
       "   'year': 2021,\n",
       "   'amountCollected': 14160,\n",
       "   'cityName': 'Surat',\n",
       "   'date': '2021-12-14',\n",
       "   'id': 'suratmunicipal.org/6db486cb4f720e8585ba1f45a931c63c25dbbbda/rs.iudx.org.in/surat-revenue-collection/party-plot-bookings',\n",
       "   'totalCount': 6},\n",
       "  {'month': 12,\n",
       "   'year': 2021,\n",
       "   'amountCollected': 2360,\n",
       "   'cityName': 'Surat',\n",
       "   'date': '2021-12-04',\n",
       "   'id': 'suratmunicipal.org/6db486cb4f720e8585ba1f45a931c63c25dbbbda/rs.iudx.org.in/surat-revenue-collection/party-plot-bookings',\n",
       "   'totalCount': 1},\n",
       "  {'month': 12,\n",
       "   'year': 2021,\n",
       "   'amountCollected': 0,\n",
       "   'cityName': 'Surat',\n",
       "   'date': '2021-12-05',\n",
       "   'id': 'suratmunicipal.org/6db486cb4f720e8585ba1f45a931c63c25dbbbda/rs.iudx.org.in/surat-revenue-collection/party-plot-bookings',\n",
       "   'totalCount': 0},\n",
       "  {'month': 11,\n",
       "   'year': 2021,\n",
       "   'amountCollected': 338000,\n",
       "   'cityName': 'Surat',\n",
       "   'date': '2021-11-30',\n",
       "   'id': 'suratmunicipal.org/6db486cb4f720e8585ba1f45a931c63c25dbbbda/rs.iudx.org.in/surat-revenue-collection/party-plot-bookings',\n",
       "   'totalCount': 9},\n",
       "  {'month': 12,\n",
       "   'date': '2021-12-30',\n",
       "   'id': 'suratmunicipal.org/6db486cb4f720e8585ba1f45a931c63c25dbbbda/rs.iudx.org.in/surat-revenue-collection/party-plot-bookings',\n",
       "   'totalCount': 4,\n",
       "   'amountCollected': 45720,\n",
       "   'year': 2021,\n",
       "   'cityName': 'Surat'},\n",
       "  {'month': 12,\n",
       "   'date': '2021-12-28',\n",
       "   'id': 'suratmunicipal.org/6db486cb4f720e8585ba1f45a931c63c25dbbbda/rs.iudx.org.in/surat-revenue-collection/party-plot-bookings',\n",
       "   'totalCount': 4,\n",
       "   'amountCollected': 0,\n",
       "   'year': 2021,\n",
       "   'cityName': 'Surat'},\n",
       "  {'month': 11,\n",
       "   'date': '2021-11-08',\n",
       "   'id': 'suratmunicipal.org/6db486cb4f720e8585ba1f45a931c63c25dbbbda/rs.iudx.org.in/surat-revenue-collection/party-plot-bookings',\n",
       "   'totalCount': 35,\n",
       "   'amountCollected': 246900,\n",
       "   'year': 2021,\n",
       "   'cityName': 'Surat'},\n",
       "  {'month': 11,\n",
       "   'year': 2021,\n",
       "   'amountCollected': 276000,\n",
       "   'cityName': 'Surat',\n",
       "   'date': '2021-11-17',\n",
       "   'id': 'suratmunicipal.org/6db486cb4f720e8585ba1f45a931c63c25dbbbda/rs.iudx.org.in/surat-revenue-collection/party-plot-bookings',\n",
       "   'totalCount': 27},\n",
       "  {'month': 11,\n",
       "   'year': 2021,\n",
       "   'amountCollected': 217000,\n",
       "   'cityName': 'Surat',\n",
       "   'date': '2021-11-16',\n",
       "   'id': 'suratmunicipal.org/6db486cb4f720e8585ba1f45a931c63c25dbbbda/rs.iudx.org.in/surat-revenue-collection/party-plot-bookings',\n",
       "   'totalCount': 7},\n",
       "  {'month': 11,\n",
       "   'year': 2021,\n",
       "   'amountCollected': 211000,\n",
       "   'cityName': 'Surat',\n",
       "   'date': '2021-11-18',\n",
       "   'id': 'suratmunicipal.org/6db486cb4f720e8585ba1f45a931c63c25dbbbda/rs.iudx.org.in/surat-revenue-collection/party-plot-bookings',\n",
       "   'totalCount': 13},\n",
       "  {'month': 11,\n",
       "   'year': 2021,\n",
       "   'amountCollected': 208000,\n",
       "   'cityName': 'Surat',\n",
       "   'date': '2021-11-09',\n",
       "   'id': 'suratmunicipal.org/6db486cb4f720e8585ba1f45a931c63c25dbbbda/rs.iudx.org.in/surat-revenue-collection/party-plot-bookings',\n",
       "   'totalCount': 7},\n",
       "  {'month': 11,\n",
       "   'year': 2021,\n",
       "   'amountCollected': 190000,\n",
       "   'cityName': 'Surat',\n",
       "   'date': '2021-11-28',\n",
       "   'id': 'suratmunicipal.org/6db486cb4f720e8585ba1f45a931c63c25dbbbda/rs.iudx.org.in/surat-revenue-collection/party-plot-bookings',\n",
       "   'totalCount': 4},\n",
       "  {'month': 11,\n",
       "   'year': 2021,\n",
       "   'amountCollected': 173720,\n",
       "   'cityName': 'Surat',\n",
       "   'date': '2021-11-29',\n",
       "   'id': 'suratmunicipal.org/6db486cb4f720e8585ba1f45a931c63c25dbbbda/rs.iudx.org.in/surat-revenue-collection/party-plot-bookings',\n",
       "   'totalCount': 7},\n",
       "  {'month': 11,\n",
       "   'year': 2021,\n",
       "   'amountCollected': 150000,\n",
       "   'cityName': 'Surat',\n",
       "   'date': '2021-11-26',\n",
       "   'id': 'suratmunicipal.org/6db486cb4f720e8585ba1f45a931c63c25dbbbda/rs.iudx.org.in/surat-revenue-collection/party-plot-bookings',\n",
       "   'totalCount': 4},\n",
       "  {'month': 11,\n",
       "   'date': '2021-11-20',\n",
       "   'id': 'suratmunicipal.org/6db486cb4f720e8585ba1f45a931c63c25dbbbda/rs.iudx.org.in/surat-revenue-collection/party-plot-bookings',\n",
       "   'totalCount': 17,\n",
       "   'amountCollected': 194360,\n",
       "   'year': 2021,\n",
       "   'cityName': 'Surat'},\n",
       "  {'month': 11,\n",
       "   'date': '2021-11-15',\n",
       "   'id': 'suratmunicipal.org/6db486cb4f720e8585ba1f45a931c63c25dbbbda/rs.iudx.org.in/surat-revenue-collection/party-plot-bookings',\n",
       "   'totalCount': 7,\n",
       "   'amountCollected': 192720,\n",
       "   'year': 2021,\n",
       "   'cityName': 'Surat'},\n",
       "  {'month': 11,\n",
       "   'date': '2021-11-23',\n",
       "   'id': 'suratmunicipal.org/6db486cb4f720e8585ba1f45a931c63c25dbbbda/rs.iudx.org.in/surat-revenue-collection/party-plot-bookings',\n",
       "   'totalCount': 12,\n",
       "   'amountCollected': 185000,\n",
       "   'year': 2021,\n",
       "   'cityName': 'Surat'},\n",
       "  {'month': 11,\n",
       "   'year': 2021,\n",
       "   'amountCollected': 137360,\n",
       "   'cityName': 'Surat',\n",
       "   'date': '2021-11-06',\n",
       "   'id': 'suratmunicipal.org/6db486cb4f720e8585ba1f45a931c63c25dbbbda/rs.iudx.org.in/surat-revenue-collection/party-plot-bookings',\n",
       "   'totalCount': 6},\n",
       "  {'month': 11,\n",
       "   'year': 2021,\n",
       "   'amountCollected': 122000,\n",
       "   'cityName': 'Surat',\n",
       "   'date': '2021-11-11',\n",
       "   'id': 'suratmunicipal.org/6db486cb4f720e8585ba1f45a931c63c25dbbbda/rs.iudx.org.in/surat-revenue-collection/party-plot-bookings',\n",
       "   'totalCount': 3},\n",
       "  {'month': 11,\n",
       "   'date': '2021-11-27',\n",
       "   'id': 'suratmunicipal.org/6db486cb4f720e8585ba1f45a931c63c25dbbbda/rs.iudx.org.in/surat-revenue-collection/party-plot-bookings',\n",
       "   'totalCount': 0,\n",
       "   'amountCollected': 47360,\n",
       "   'year': 2021,\n",
       "   'cityName': 'Surat'},\n",
       "  {'month': 11,\n",
       "   'date': '2021-11-13',\n",
       "   'id': 'suratmunicipal.org/6db486cb4f720e8585ba1f45a931c63c25dbbbda/rs.iudx.org.in/surat-revenue-collection/party-plot-bookings',\n",
       "   'totalCount': 1,\n",
       "   'amountCollected': 45000,\n",
       "   'year': 2021,\n",
       "   'cityName': 'Surat'},\n",
       "  {'month': 11,\n",
       "   'date': '2021-11-05',\n",
       "   'id': 'suratmunicipal.org/6db486cb4f720e8585ba1f45a931c63c25dbbbda/rs.iudx.org.in/surat-revenue-collection/party-plot-bookings',\n",
       "   'totalCount': 1,\n",
       "   'amountCollected': 36000,\n",
       "   'year': 2021,\n",
       "   'cityName': 'Surat'},\n",
       "  {'month': 11,\n",
       "   'year': 2021,\n",
       "   'amountCollected': 119360,\n",
       "   'cityName': 'Surat',\n",
       "   'date': '2021-11-10',\n",
       "   'id': 'suratmunicipal.org/6db486cb4f720e8585ba1f45a931c63c25dbbbda/rs.iudx.org.in/surat-revenue-collection/party-plot-bookings',\n",
       "   'totalCount': 4},\n",
       "  {'month': 11,\n",
       "   'year': 2021,\n",
       "   'amountCollected': 113000,\n",
       "   'cityName': 'Surat',\n",
       "   'date': '2021-11-21',\n",
       "   'id': 'suratmunicipal.org/6db486cb4f720e8585ba1f45a931c63c25dbbbda/rs.iudx.org.in/surat-revenue-collection/party-plot-bookings',\n",
       "   'totalCount': 4},\n",
       "  {'month': 11,\n",
       "   'year': 2021,\n",
       "   'amountCollected': 100000,\n",
       "   'cityName': 'Surat',\n",
       "   'date': '2021-11-07',\n",
       "   'id': 'suratmunicipal.org/6db486cb4f720e8585ba1f45a931c63c25dbbbda/rs.iudx.org.in/surat-revenue-collection/party-plot-bookings',\n",
       "   'totalCount': 2},\n",
       "  {'month': 11,\n",
       "   'year': 2021,\n",
       "   'amountCollected': 75660,\n",
       "   'cityName': 'Surat',\n",
       "   'date': '2021-11-03',\n",
       "   'id': 'suratmunicipal.org/6db486cb4f720e8585ba1f45a931c63c25dbbbda/rs.iudx.org.in/surat-revenue-collection/party-plot-bookings',\n",
       "   'totalCount': 11},\n",
       "  {'month': 11,\n",
       "   'year': 2021,\n",
       "   'amountCollected': 74360,\n",
       "   'cityName': 'Surat',\n",
       "   'date': '2021-11-24',\n",
       "   'id': 'suratmunicipal.org/6db486cb4f720e8585ba1f45a931c63c25dbbbda/rs.iudx.org.in/surat-revenue-collection/party-plot-bookings',\n",
       "   'totalCount': 3},\n",
       "  {'month': 11,\n",
       "   'year': 2021,\n",
       "   'amountCollected': 56360,\n",
       "   'cityName': 'Surat',\n",
       "   'date': '2021-11-12',\n",
       "   'id': 'suratmunicipal.org/6db486cb4f720e8585ba1f45a931c63c25dbbbda/rs.iudx.org.in/surat-revenue-collection/party-plot-bookings',\n",
       "   'totalCount': 2},\n",
       "  {'month': 11,\n",
       "   'year': 2021,\n",
       "   'amountCollected': 52080,\n",
       "   'cityName': 'Surat',\n",
       "   'date': '2021-11-25',\n",
       "   'id': 'suratmunicipal.org/6db486cb4f720e8585ba1f45a931c63c25dbbbda/rs.iudx.org.in/surat-revenue-collection/party-plot-bookings',\n",
       "   'totalCount': 4},\n",
       "  {'month': 11,\n",
       "   'year': 2021,\n",
       "   'amountCollected': 43000,\n",
       "   'cityName': 'Surat',\n",
       "   'date': '2021-11-22',\n",
       "   'id': 'suratmunicipal.org/6db486cb4f720e8585ba1f45a931c63c25dbbbda/rs.iudx.org.in/surat-revenue-collection/party-plot-bookings',\n",
       "   'totalCount': 2},\n",
       "  {'month': 11,\n",
       "   'date': '2021-11-19',\n",
       "   'id': 'suratmunicipal.org/6db486cb4f720e8585ba1f45a931c63c25dbbbda/rs.iudx.org.in/surat-revenue-collection/party-plot-bookings',\n",
       "   'totalCount': 1,\n",
       "   'amountCollected': 34360,\n",
       "   'year': 2021,\n",
       "   'cityName': 'Surat'},\n",
       "  {'month': 11,\n",
       "   'date': '2021-11-14',\n",
       "   'id': 'suratmunicipal.org/6db486cb4f720e8585ba1f45a931c63c25dbbbda/rs.iudx.org.in/surat-revenue-collection/party-plot-bookings',\n",
       "   'totalCount': 1,\n",
       "   'amountCollected': 32000,\n",
       "   'year': 2021,\n",
       "   'cityName': 'Surat'},\n",
       "  {'month': 10,\n",
       "   'year': 2021,\n",
       "   'amountCollected': 296360,\n",
       "   'cityName': 'Surat',\n",
       "   'date': '2021-10-18',\n",
       "   'id': 'suratmunicipal.org/6db486cb4f720e8585ba1f45a931c63c25dbbbda/rs.iudx.org.in/surat-revenue-collection/party-plot-bookings',\n",
       "   'totalCount': 8},\n",
       "  {'month': 10,\n",
       "   'year': 2021,\n",
       "   'amountCollected': 259000,\n",
       "   'cityName': 'Surat',\n",
       "   'date': '2021-10-25',\n",
       "   'id': 'suratmunicipal.org/6db486cb4f720e8585ba1f45a931c63c25dbbbda/rs.iudx.org.in/surat-revenue-collection/party-plot-bookings',\n",
       "   'totalCount': 8},\n",
       "  {'month': 11,\n",
       "   'date': '2021-11-04',\n",
       "   'id': 'suratmunicipal.org/6db486cb4f720e8585ba1f45a931c63c25dbbbda/rs.iudx.org.in/surat-revenue-collection/party-plot-bookings',\n",
       "   'totalCount': 2,\n",
       "   'amountCollected': 4720,\n",
       "   'year': 2021,\n",
       "   'cityName': 'Surat'},\n",
       "  {'month': 10,\n",
       "   'date': '2021-10-27',\n",
       "   'id': 'suratmunicipal.org/6db486cb4f720e8585ba1f45a931c63c25dbbbda/rs.iudx.org.in/surat-revenue-collection/party-plot-bookings',\n",
       "   'totalCount': 11,\n",
       "   'amountCollected': 341000,\n",
       "   'year': 2021,\n",
       "   'cityName': 'Surat'},\n",
       "  {'month': 10,\n",
       "   'date': '2021-10-20',\n",
       "   'id': 'suratmunicipal.org/6db486cb4f720e8585ba1f45a931c63c25dbbbda/rs.iudx.org.in/surat-revenue-collection/party-plot-bookings',\n",
       "   'totalCount': 7,\n",
       "   'amountCollected': 245000,\n",
       "   'year': 2021,\n",
       "   'cityName': 'Surat'},\n",
       "  {'month': 10,\n",
       "   'year': 2021,\n",
       "   'amountCollected': 197000,\n",
       "   'cityName': 'Surat',\n",
       "   'date': '2021-10-21',\n",
       "   'id': 'suratmunicipal.org/6db486cb4f720e8585ba1f45a931c63c25dbbbda/rs.iudx.org.in/surat-revenue-collection/party-plot-bookings',\n",
       "   'totalCount': 4},\n",
       "  {'month': 10,\n",
       "   'date': '2021-10-14',\n",
       "   'id': 'suratmunicipal.org/6db486cb4f720e8585ba1f45a931c63c25dbbbda/rs.iudx.org.in/surat-revenue-collection/party-plot-bookings',\n",
       "   'totalCount': 3,\n",
       "   'amountCollected': 156000,\n",
       "   'year': 2021,\n",
       "   'cityName': 'Surat'},\n",
       "  {'month': 10,\n",
       "   'date': '2021-10-09',\n",
       "   'id': 'suratmunicipal.org/6db486cb4f720e8585ba1f45a931c63c25dbbbda/rs.iudx.org.in/surat-revenue-collection/party-plot-bookings',\n",
       "   'totalCount': 5,\n",
       "   'amountCollected': 154720,\n",
       "   'year': 2021,\n",
       "   'cityName': 'Surat'},\n",
       "  {'month': 10,\n",
       "   'year': 2021,\n",
       "   'amountCollected': 153000,\n",
       "   'cityName': 'Surat',\n",
       "   'date': '2021-10-13',\n",
       "   'id': 'suratmunicipal.org/6db486cb4f720e8585ba1f45a931c63c25dbbbda/rs.iudx.org.in/surat-revenue-collection/party-plot-bookings',\n",
       "   'totalCount': 5},\n",
       "  {'month': 10,\n",
       "   'year': 2021,\n",
       "   'amountCollected': 153000,\n",
       "   'cityName': 'Surat',\n",
       "   'date': '2021-10-22',\n",
       "   'id': 'suratmunicipal.org/6db486cb4f720e8585ba1f45a931c63c25dbbbda/rs.iudx.org.in/surat-revenue-collection/party-plot-bookings',\n",
       "   'totalCount': 3},\n",
       "  {'month': 10,\n",
       "   'year': 2021,\n",
       "   'amountCollected': 152000,\n",
       "   'cityName': 'Surat',\n",
       "   'date': '2021-10-08',\n",
       "   'id': 'suratmunicipal.org/6db486cb4f720e8585ba1f45a931c63c25dbbbda/rs.iudx.org.in/surat-revenue-collection/party-plot-bookings',\n",
       "   'totalCount': 4},\n",
       "  {'month': 10,\n",
       "   'date': '2021-10-12',\n",
       "   'id': 'suratmunicipal.org/6db486cb4f720e8585ba1f45a931c63c25dbbbda/rs.iudx.org.in/surat-revenue-collection/party-plot-bookings',\n",
       "   'totalCount': 5,\n",
       "   'amountCollected': 143360,\n",
       "   'year': 2021,\n",
       "   'cityName': 'Surat'},\n",
       "  {'month': 10,\n",
       "   'year': 2021,\n",
       "   'amountCollected': 99860,\n",
       "   'cityName': 'Surat',\n",
       "   'date': '2021-10-03',\n",
       "   'id': 'suratmunicipal.org/6db486cb4f720e8585ba1f45a931c63c25dbbbda/rs.iudx.org.in/surat-revenue-collection/party-plot-bookings',\n",
       "   'totalCount': 6},\n",
       "  {'month': 10,\n",
       "   'year': 2021,\n",
       "   'amountCollected': 84000,\n",
       "   'cityName': 'Surat',\n",
       "   'date': '2021-10-28',\n",
       "   'id': 'suratmunicipal.org/6db486cb4f720e8585ba1f45a931c63c25dbbbda/rs.iudx.org.in/surat-revenue-collection/party-plot-bookings',\n",
       "   'totalCount': 4},\n",
       "  {'month': 10,\n",
       "   'date': '2021-10-07',\n",
       "   'id': 'suratmunicipal.org/6db486cb4f720e8585ba1f45a931c63c25dbbbda/rs.iudx.org.in/surat-revenue-collection/party-plot-bookings',\n",
       "   'totalCount': 5,\n",
       "   'amountCollected': 134360,\n",
       "   'year': 2021,\n",
       "   'cityName': 'Surat'},\n",
       "  {'month': 10,\n",
       "   'date': '2021-10-11',\n",
       "   'id': 'suratmunicipal.org/6db486cb4f720e8585ba1f45a931c63c25dbbbda/rs.iudx.org.in/surat-revenue-collection/party-plot-bookings',\n",
       "   'totalCount': 4,\n",
       "   'amountCollected': 98360,\n",
       "   'year': 2021,\n",
       "   'cityName': 'Surat'},\n",
       "  {'month': 10,\n",
       "   'date': '2021-10-30',\n",
       "   'id': 'suratmunicipal.org/6db486cb4f720e8585ba1f45a931c63c25dbbbda/rs.iudx.org.in/surat-revenue-collection/party-plot-bookings',\n",
       "   'totalCount': 3,\n",
       "   'amountCollected': 87000,\n",
       "   'year': 2021,\n",
       "   'cityName': 'Surat'},\n",
       "  {'month': 10,\n",
       "   'date': '2021-10-24',\n",
       "   'id': 'suratmunicipal.org/6db486cb4f720e8585ba1f45a931c63c25dbbbda/rs.iudx.org.in/surat-revenue-collection/party-plot-bookings',\n",
       "   'totalCount': 2,\n",
       "   'amountCollected': 50000,\n",
       "   'year': 2021,\n",
       "   'cityName': 'Surat'},\n",
       "  {'month': 10,\n",
       "   'year': 2021,\n",
       "   'amountCollected': 81000,\n",
       "   'cityName': 'Surat',\n",
       "   'date': '2021-10-31',\n",
       "   'id': 'suratmunicipal.org/6db486cb4f720e8585ba1f45a931c63c25dbbbda/rs.iudx.org.in/surat-revenue-collection/party-plot-bookings',\n",
       "   'totalCount': 2},\n",
       "  {'month': 10,\n",
       "   'year': 2021,\n",
       "   'amountCollected': 54000,\n",
       "   'cityName': 'Surat',\n",
       "   'date': '2021-10-23',\n",
       "   'id': 'suratmunicipal.org/6db486cb4f720e8585ba1f45a931c63c25dbbbda/rs.iudx.org.in/surat-revenue-collection/party-plot-bookings',\n",
       "   'totalCount': 2},\n",
       "  {'month': 10,\n",
       "   'year': 2021,\n",
       "   'amountCollected': 37080,\n",
       "   'cityName': 'Surat',\n",
       "   'date': '2021-10-06',\n",
       "   'id': 'suratmunicipal.org/6db486cb4f720e8585ba1f45a931c63c25dbbbda/rs.iudx.org.in/surat-revenue-collection/party-plot-bookings',\n",
       "   'totalCount': 5},\n",
       "  {'month': 10,\n",
       "   'date': '2021-10-16',\n",
       "   'id': 'suratmunicipal.org/6db486cb4f720e8585ba1f45a931c63c25dbbbda/rs.iudx.org.in/surat-revenue-collection/party-plot-bookings',\n",
       "   'totalCount': 1,\n",
       "   'amountCollected': 36000,\n",
       "   'year': 2021,\n",
       "   'cityName': 'Surat'},\n",
       "  {'month': 10,\n",
       "   'year': 2021,\n",
       "   'amountCollected': 30000,\n",
       "   'cityName': 'Surat',\n",
       "   'date': '2021-10-19',\n",
       "   'id': 'suratmunicipal.org/6db486cb4f720e8585ba1f45a931c63c25dbbbda/rs.iudx.org.in/surat-revenue-collection/party-plot-bookings',\n",
       "   'totalCount': 1},\n",
       "  {'month': 10,\n",
       "   'year': 2021,\n",
       "   'amountCollected': 30000,\n",
       "   'cityName': 'Surat',\n",
       "   'date': '2021-10-26',\n",
       "   'id': 'suratmunicipal.org/6db486cb4f720e8585ba1f45a931c63c25dbbbda/rs.iudx.org.in/surat-revenue-collection/party-plot-bookings',\n",
       "   'totalCount': 1},\n",
       "  {'month': 10,\n",
       "   'date': '2021-10-10',\n",
       "   'id': 'suratmunicipal.org/6db486cb4f720e8585ba1f45a931c63c25dbbbda/rs.iudx.org.in/surat-revenue-collection/party-plot-bookings',\n",
       "   'totalCount': 1,\n",
       "   'amountCollected': 18000,\n",
       "   'year': 2021,\n",
       "   'cityName': 'Surat'},\n",
       "  {'month': 10,\n",
       "   'date': '2021-10-04',\n",
       "   'id': 'suratmunicipal.org/6db486cb4f720e8585ba1f45a931c63c25dbbbda/rs.iudx.org.in/surat-revenue-collection/party-plot-bookings',\n",
       "   'totalCount': 1,\n",
       "   'amountCollected': 2360,\n",
       "   'year': 2021,\n",
       "   'cityName': 'Surat'},\n",
       "  {'month': 10,\n",
       "   'date': '2021-10-05',\n",
       "   'id': 'suratmunicipal.org/6db486cb4f720e8585ba1f45a931c63c25dbbbda/rs.iudx.org.in/surat-revenue-collection/party-plot-bookings',\n",
       "   'totalCount': 0,\n",
       "   'amountCollected': 0,\n",
       "   'year': 2021,\n",
       "   'cityName': 'Surat'},\n",
       "  {'month': 10,\n",
       "   'year': 2021,\n",
       "   'amountCollected': 0,\n",
       "   'cityName': 'Surat',\n",
       "   'date': '2021-10-15',\n",
       "   'id': 'suratmunicipal.org/6db486cb4f720e8585ba1f45a931c63c25dbbbda/rs.iudx.org.in/surat-revenue-collection/party-plot-bookings',\n",
       "   'totalCount': 0},\n",
       "  {'month': 10,\n",
       "   'year': 2021,\n",
       "   'amountCollected': 0,\n",
       "   'cityName': 'Surat',\n",
       "   'date': '2021-10-17',\n",
       "   'id': 'suratmunicipal.org/6db486cb4f720e8585ba1f45a931c63c25dbbbda/rs.iudx.org.in/surat-revenue-collection/party-plot-bookings',\n",
       "   'totalCount': 0},\n",
       "  {'month': 10,\n",
       "   'year': 2021,\n",
       "   'amountCollected': 0,\n",
       "   'cityName': 'Surat',\n",
       "   'date': '2021-10-29',\n",
       "   'id': 'suratmunicipal.org/6db486cb4f720e8585ba1f45a931c63c25dbbbda/rs.iudx.org.in/surat-revenue-collection/party-plot-bookings',\n",
       "   'totalCount': 0},\n",
       "  {'month': 9,\n",
       "   'year': 2021,\n",
       "   'amountCollected': 367000,\n",
       "   'cityName': 'Surat',\n",
       "   'date': '2021-09-09',\n",
       "   'id': 'suratmunicipal.org/6db486cb4f720e8585ba1f45a931c63c25dbbbda/rs.iudx.org.in/surat-revenue-collection/party-plot-bookings',\n",
       "   'totalCount': 13},\n",
       "  {'month': 9,\n",
       "   'year': 2021,\n",
       "   'amountCollected': 241720,\n",
       "   'cityName': 'Surat',\n",
       "   'date': '2021-09-07',\n",
       "   'id': 'suratmunicipal.org/6db486cb4f720e8585ba1f45a931c63c25dbbbda/rs.iudx.org.in/surat-revenue-collection/party-plot-bookings',\n",
       "   'totalCount': 9},\n",
       "  {'month': 9,\n",
       "   'year': 2021,\n",
       "   'amountCollected': 230000,\n",
       "   'cityName': 'Surat',\n",
       "   'date': '2021-09-21',\n",
       "   'id': 'suratmunicipal.org/6db486cb4f720e8585ba1f45a931c63c25dbbbda/rs.iudx.org.in/surat-revenue-collection/party-plot-bookings',\n",
       "   'totalCount': 7},\n",
       "  {'month': 9,\n",
       "   'date': '2021-09-20',\n",
       "   'id': 'suratmunicipal.org/6db486cb4f720e8585ba1f45a931c63c25dbbbda/rs.iudx.org.in/surat-revenue-collection/party-plot-bookings',\n",
       "   'totalCount': 5,\n",
       "   'amountCollected': 207000,\n",
       "   'year': 2021,\n",
       "   'cityName': 'Surat'},\n",
       "  {'month': 9,\n",
       "   'year': 2021,\n",
       "   'amountCollected': 197000,\n",
       "   'cityName': 'Surat',\n",
       "   'date': '2021-09-23',\n",
       "   'id': 'suratmunicipal.org/6db486cb4f720e8585ba1f45a931c63c25dbbbda/rs.iudx.org.in/surat-revenue-collection/party-plot-bookings',\n",
       "   'totalCount': 10},\n",
       "  {'month': 9,\n",
       "   'year': 2021,\n",
       "   'amountCollected': 193000,\n",
       "   'cityName': 'Surat',\n",
       "   'date': '2021-09-22',\n",
       "   'id': 'suratmunicipal.org/6db486cb4f720e8585ba1f45a931c63c25dbbbda/rs.iudx.org.in/surat-revenue-collection/party-plot-bookings',\n",
       "   'totalCount': 8},\n",
       "  {'month': 9,\n",
       "   'year': 2021,\n",
       "   'amountCollected': 166360,\n",
       "   'cityName': 'Surat',\n",
       "   'date': '2021-09-13',\n",
       "   'id': 'suratmunicipal.org/6db486cb4f720e8585ba1f45a931c63c25dbbbda/rs.iudx.org.in/surat-revenue-collection/party-plot-bookings',\n",
       "   'totalCount': 7},\n",
       "  {'month': 9,\n",
       "   'date': '2021-09-16',\n",
       "   'id': 'suratmunicipal.org/6db486cb4f720e8585ba1f45a931c63c25dbbbda/rs.iudx.org.in/surat-revenue-collection/party-plot-bookings',\n",
       "   'totalCount': 5,\n",
       "   'amountCollected': 158000,\n",
       "   'year': 2021,\n",
       "   'cityName': 'Surat'},\n",
       "  {'month': 9,\n",
       "   'date': '2021-09-15',\n",
       "   'id': 'suratmunicipal.org/6db486cb4f720e8585ba1f45a931c63c25dbbbda/rs.iudx.org.in/surat-revenue-collection/party-plot-bookings',\n",
       "   'totalCount': 6,\n",
       "   'amountCollected': 145000,\n",
       "   'year': 2021,\n",
       "   'cityName': 'Surat'},\n",
       "  {'month': 9,\n",
       "   'date': '2021-09-17',\n",
       "   'id': 'suratmunicipal.org/6db486cb4f720e8585ba1f45a931c63c25dbbbda/rs.iudx.org.in/surat-revenue-collection/party-plot-bookings',\n",
       "   'totalCount': 5,\n",
       "   'amountCollected': 114360,\n",
       "   'year': 2021,\n",
       "   'cityName': 'Surat'},\n",
       "  {'month': 9,\n",
       "   'date': '2021-09-08',\n",
       "   'id': 'suratmunicipal.org/6db486cb4f720e8585ba1f45a931c63c25dbbbda/rs.iudx.org.in/surat-revenue-collection/party-plot-bookings',\n",
       "   'totalCount': 4,\n",
       "   'amountCollected': 107000,\n",
       "   'year': 2021,\n",
       "   'cityName': 'Surat'},\n",
       "  {'month': 9,\n",
       "   'year': 2021,\n",
       "   'amountCollected': 143000,\n",
       "   'cityName': 'Surat',\n",
       "   'date': '2021-09-29',\n",
       "   'id': 'suratmunicipal.org/6db486cb4f720e8585ba1f45a931c63c25dbbbda/rs.iudx.org.in/surat-revenue-collection/party-plot-bookings',\n",
       "   'totalCount': 26},\n",
       "  {'month': 9,\n",
       "   'year': 2021,\n",
       "   'amountCollected': 124440,\n",
       "   'cityName': 'Surat',\n",
       "   'date': '2021-09-12',\n",
       "   'id': 'suratmunicipal.org/6db486cb4f720e8585ba1f45a931c63c25dbbbda/rs.iudx.org.in/surat-revenue-collection/party-plot-bookings',\n",
       "   'totalCount': 14},\n",
       "  {'month': 9,\n",
       "   'year': 2021,\n",
       "   'amountCollected': 110720,\n",
       "   'cityName': 'Surat',\n",
       "   'date': '2021-09-30',\n",
       "   'id': 'suratmunicipal.org/6db486cb4f720e8585ba1f45a931c63c25dbbbda/rs.iudx.org.in/surat-revenue-collection/party-plot-bookings',\n",
       "   'totalCount': 4},\n",
       "  {'month': 9,\n",
       "   'year': 2021,\n",
       "   'amountCollected': 83800,\n",
       "   'cityName': 'Surat',\n",
       "   'date': '2021-09-03',\n",
       "   'id': 'suratmunicipal.org/6db486cb4f720e8585ba1f45a931c63c25dbbbda/rs.iudx.org.in/surat-revenue-collection/party-plot-bookings',\n",
       "   'totalCount': 9},\n",
       "  {'month': 9,\n",
       "   'year': 2021,\n",
       "   'amountCollected': 80000,\n",
       "   'cityName': 'Surat',\n",
       "   'date': '2021-09-10',\n",
       "   'id': 'suratmunicipal.org/6db486cb4f720e8585ba1f45a931c63c25dbbbda/rs.iudx.org.in/surat-revenue-collection/party-plot-bookings',\n",
       "   'totalCount': 2},\n",
       "  {'month': 9,\n",
       "   'year': 2021,\n",
       "   'amountCollected': 59360,\n",
       "   'cityName': 'Surat',\n",
       "   'date': '2021-09-06',\n",
       "   'id': 'suratmunicipal.org/6db486cb4f720e8585ba1f45a931c63c25dbbbda/rs.iudx.org.in/surat-revenue-collection/party-plot-bookings',\n",
       "   'totalCount': 4},\n",
       "  {'month': 9,\n",
       "   'year': 2021,\n",
       "   'amountCollected': 49720,\n",
       "   'cityName': 'Surat',\n",
       "   'date': '2021-09-11',\n",
       "   'id': 'suratmunicipal.org/6db486cb4f720e8585ba1f45a931c63c25dbbbda/rs.iudx.org.in/surat-revenue-collection/party-plot-bookings',\n",
       "   'totalCount': 3},\n",
       "  {'month': 9,\n",
       "   'year': 2021,\n",
       "   'amountCollected': 48000,\n",
       "   'cityName': 'Surat',\n",
       "   'date': '2021-09-25',\n",
       "   'id': 'suratmunicipal.org/6db486cb4f720e8585ba1f45a931c63c25dbbbda/rs.iudx.org.in/surat-revenue-collection/party-plot-bookings',\n",
       "   'totalCount': 2},\n",
       "  {'month': 9,\n",
       "   'year': 2021,\n",
       "   'amountCollected': 36000,\n",
       "   'cityName': 'Surat',\n",
       "   'date': '2021-09-27',\n",
       "   'id': 'suratmunicipal.org/6db486cb4f720e8585ba1f45a931c63c25dbbbda/rs.iudx.org.in/surat-revenue-collection/party-plot-bookings',\n",
       "   'totalCount': 1},\n",
       "  {'month': 9,\n",
       "   'year': 2021,\n",
       "   'amountCollected': 36000,\n",
       "   'cityName': 'Surat',\n",
       "   'date': '2021-09-24',\n",
       "   'id': 'suratmunicipal.org/6db486cb4f720e8585ba1f45a931c63c25dbbbda/rs.iudx.org.in/surat-revenue-collection/party-plot-bookings',\n",
       "   'totalCount': 1},\n",
       "  {'month': 9,\n",
       "   'date': '2021-09-26',\n",
       "   'id': 'suratmunicipal.org/6db486cb4f720e8585ba1f45a931c63c25dbbbda/rs.iudx.org.in/surat-revenue-collection/party-plot-bookings',\n",
       "   'totalCount': 3,\n",
       "   'amountCollected': 81000,\n",
       "   'year': 2021,\n",
       "   'cityName': 'Surat'},\n",
       "  {'month': 9,\n",
       "   'date': '2021-09-18',\n",
       "   'id': 'suratmunicipal.org/6db486cb4f720e8585ba1f45a931c63c25dbbbda/rs.iudx.org.in/surat-revenue-collection/party-plot-bookings',\n",
       "   'totalCount': 4,\n",
       "   'amountCollected': 79500,\n",
       "   'year': 2021,\n",
       "   'cityName': 'Surat'},\n",
       "  {'month': 9,\n",
       "   'date': '2021-09-14',\n",
       "   'id': 'suratmunicipal.org/6db486cb4f720e8585ba1f45a931c63c25dbbbda/rs.iudx.org.in/surat-revenue-collection/party-plot-bookings',\n",
       "   'totalCount': 1,\n",
       "   'amountCollected': 50000,\n",
       "   'year': 2021,\n",
       "   'cityName': 'Surat'},\n",
       "  {'month': 9,\n",
       "   'year': 2021,\n",
       "   'amountCollected': 32360,\n",
       "   'cityName': 'Surat',\n",
       "   'date': '2021-09-19',\n",
       "   'id': 'suratmunicipal.org/6db486cb4f720e8585ba1f45a931c63c25dbbbda/rs.iudx.org.in/surat-revenue-collection/party-plot-bookings',\n",
       "   'totalCount': 1},\n",
       "  {'month': 9,\n",
       "   'date': '2021-09-04',\n",
       "   'id': 'suratmunicipal.org/6db486cb4f720e8585ba1f45a931c63c25dbbbda/rs.iudx.org.in/surat-revenue-collection/party-plot-bookings',\n",
       "   'totalCount': 0,\n",
       "   'amountCollected': 0,\n",
       "   'year': 2021,\n",
       "   'cityName': 'Surat'},\n",
       "  {'month': 9,\n",
       "   'date': '2021-09-05',\n",
       "   'id': 'suratmunicipal.org/6db486cb4f720e8585ba1f45a931c63c25dbbbda/rs.iudx.org.in/surat-revenue-collection/party-plot-bookings',\n",
       "   'totalCount': 0,\n",
       "   'amountCollected': 0,\n",
       "   'year': 2021,\n",
       "   'cityName': 'Surat'},\n",
       "  {'month': 9,\n",
       "   'date': '2021-09-28',\n",
       "   'id': 'suratmunicipal.org/6db486cb4f720e8585ba1f45a931c63c25dbbbda/rs.iudx.org.in/surat-revenue-collection/party-plot-bookings',\n",
       "   'totalCount': 0,\n",
       "   'amountCollected': 0,\n",
       "   'year': 2021,\n",
       "   'cityName': 'Surat'},\n",
       "  {'month': 8,\n",
       "   'date': '2021-08-07',\n",
       "   'id': 'suratmunicipal.org/6db486cb4f720e8585ba1f45a931c63c25dbbbda/rs.iudx.org.in/surat-revenue-collection/party-plot-bookings',\n",
       "   'totalCount': 15,\n",
       "   'amountCollected': 406000,\n",
       "   'year': 2021,\n",
       "   'cityName': 'Surat'},\n",
       "  {'month': 8,\n",
       "   'date': '2021-08-23',\n",
       "   'id': 'suratmunicipal.org/6db486cb4f720e8585ba1f45a931c63c25dbbbda/rs.iudx.org.in/surat-revenue-collection/party-plot-bookings',\n",
       "   'totalCount': 18,\n",
       "   'amountCollected': 213360,\n",
       "   'year': 2021,\n",
       "   'cityName': 'Surat'},\n",
       "  {'month': 8,\n",
       "   'date': '2021-08-17',\n",
       "   'id': 'suratmunicipal.org/6db486cb4f720e8585ba1f45a931c63c25dbbbda/rs.iudx.org.in/surat-revenue-collection/party-plot-bookings',\n",
       "   'totalCount': 7,\n",
       "   'amountCollected': 155000,\n",
       "   'year': 2021,\n",
       "   'cityName': 'Surat'},\n",
       "  {'month': 8,\n",
       "   'date': '2021-08-31',\n",
       "   'id': 'suratmunicipal.org/6db486cb4f720e8585ba1f45a931c63c25dbbbda/rs.iudx.org.in/surat-revenue-collection/party-plot-bookings',\n",
       "   'totalCount': 5,\n",
       "   'amountCollected': 146900,\n",
       "   'year': 2021,\n",
       "   'cityName': 'Surat'},\n",
       "  {'month': 8,\n",
       "   'date': '2021-08-11',\n",
       "   'id': 'suratmunicipal.org/6db486cb4f720e8585ba1f45a931c63c25dbbbda/rs.iudx.org.in/surat-revenue-collection/party-plot-bookings',\n",
       "   'totalCount': 4,\n",
       "   'amountCollected': 146000,\n",
       "   'year': 2021,\n",
       "   'cityName': 'Surat'},\n",
       "  {'month': 8,\n",
       "   'date': '2021-08-12',\n",
       "   'id': 'suratmunicipal.org/6db486cb4f720e8585ba1f45a931c63c25dbbbda/rs.iudx.org.in/surat-revenue-collection/party-plot-bookings',\n",
       "   'totalCount': 24,\n",
       "   'amountCollected': 141440,\n",
       "   'year': 2021,\n",
       "   'cityName': 'Surat'},\n",
       "  {'month': 8,\n",
       "   'date': '2021-08-30',\n",
       "   'id': 'suratmunicipal.org/6db486cb4f720e8585ba1f45a931c63c25dbbbda/rs.iudx.org.in/surat-revenue-collection/party-plot-bookings',\n",
       "   'totalCount': 4,\n",
       "   'amountCollected': 126000,\n",
       "   'year': 2021,\n",
       "   'cityName': 'Surat'},\n",
       "  {'month': 8,\n",
       "   'year': 2021,\n",
       "   'amountCollected': 304360,\n",
       "   'cityName': 'Surat',\n",
       "   'date': '2021-08-25',\n",
       "   'id': 'suratmunicipal.org/6db486cb4f720e8585ba1f45a931c63c25dbbbda/rs.iudx.org.in/surat-revenue-collection/party-plot-bookings',\n",
       "   'totalCount': 14},\n",
       "  {'month': 8,\n",
       "   'year': 2021,\n",
       "   'amountCollected': 237500,\n",
       "   'cityName': 'Surat',\n",
       "   'date': '2021-08-18',\n",
       "   'id': 'suratmunicipal.org/6db486cb4f720e8585ba1f45a931c63c25dbbbda/rs.iudx.org.in/surat-revenue-collection/party-plot-bookings',\n",
       "   'totalCount': 7},\n",
       "  {'month': 8,\n",
       "   'year': 2021,\n",
       "   'amountCollected': 234000,\n",
       "   'cityName': 'Surat',\n",
       "   'date': '2021-08-24',\n",
       "   'id': 'suratmunicipal.org/6db486cb4f720e8585ba1f45a931c63c25dbbbda/rs.iudx.org.in/surat-revenue-collection/party-plot-bookings',\n",
       "   'totalCount': 8},\n",
       "  {'month': 8,\n",
       "   'year': 2021,\n",
       "   'amountCollected': 176720,\n",
       "   'cityName': 'Surat',\n",
       "   'date': '2021-08-09',\n",
       "   'id': 'suratmunicipal.org/6db486cb4f720e8585ba1f45a931c63c25dbbbda/rs.iudx.org.in/surat-revenue-collection/party-plot-bookings',\n",
       "   'totalCount': 10},\n",
       "  {'month': 8,\n",
       "   'date': '2021-08-26',\n",
       "   'id': 'suratmunicipal.org/6db486cb4f720e8585ba1f45a931c63c25dbbbda/rs.iudx.org.in/surat-revenue-collection/party-plot-bookings',\n",
       "   'totalCount': 3,\n",
       "   'amountCollected': 124000,\n",
       "   'year': 2021,\n",
       "   'cityName': 'Surat'},\n",
       "  {'month': 8,\n",
       "   'date': '2021-08-27',\n",
       "   'id': 'suratmunicipal.org/6db486cb4f720e8585ba1f45a931c63c25dbbbda/rs.iudx.org.in/surat-revenue-collection/party-plot-bookings',\n",
       "   'totalCount': 6,\n",
       "   'amountCollected': 118500,\n",
       "   'year': 2021,\n",
       "   'cityName': 'Surat'},\n",
       "  {'month': 8,\n",
       "   'date': '2021-08-13',\n",
       "   'id': 'suratmunicipal.org/6db486cb4f720e8585ba1f45a931c63c25dbbbda/rs.iudx.org.in/surat-revenue-collection/party-plot-bookings',\n",
       "   'totalCount': 7,\n",
       "   'amountCollected': 98000,\n",
       "   'year': 2021,\n",
       "   'cityName': 'Surat'},\n",
       "  {'month': 8,\n",
       "   'year': 2021,\n",
       "   'amountCollected': 112000,\n",
       "   'cityName': 'Surat',\n",
       "   'date': '2021-08-29',\n",
       "   'id': 'suratmunicipal.org/6db486cb4f720e8585ba1f45a931c63c25dbbbda/rs.iudx.org.in/surat-revenue-collection/party-plot-bookings',\n",
       "   'totalCount': 3},\n",
       "  {'month': 8,\n",
       "   'year': 2021,\n",
       "   'amountCollected': 86860,\n",
       "   'cityName': 'Surat',\n",
       "   'date': '2021-08-21',\n",
       "   'id': 'suratmunicipal.org/6db486cb4f720e8585ba1f45a931c63c25dbbbda/rs.iudx.org.in/surat-revenue-collection/party-plot-bookings',\n",
       "   'totalCount': 4},\n",
       "  {'month': 8,\n",
       "   'year': 2021,\n",
       "   'amountCollected': 81000,\n",
       "   'cityName': 'Surat',\n",
       "   'date': '2021-08-22',\n",
       "   'id': 'suratmunicipal.org/6db486cb4f720e8585ba1f45a931c63c25dbbbda/rs.iudx.org.in/surat-revenue-collection/party-plot-bookings',\n",
       "   'totalCount': 2},\n",
       "  {'month': 8,\n",
       "   'year': 2021,\n",
       "   'amountCollected': 55500,\n",
       "   'cityName': 'Surat',\n",
       "   'date': '2021-08-06',\n",
       "   'id': 'suratmunicipal.org/6db486cb4f720e8585ba1f45a931c63c25dbbbda/rs.iudx.org.in/surat-revenue-collection/party-plot-bookings',\n",
       "   'totalCount': 3},\n",
       "  {'month': 8,\n",
       "   'year': 2021,\n",
       "   'amountCollected': 45000,\n",
       "   'cityName': 'Surat',\n",
       "   'date': '2021-08-15',\n",
       "   'id': 'suratmunicipal.org/6db486cb4f720e8585ba1f45a931c63c25dbbbda/rs.iudx.org.in/surat-revenue-collection/party-plot-bookings',\n",
       "   'totalCount': 1},\n",
       "  {'month': 8,\n",
       "   'date': '2021-08-03',\n",
       "   'id': 'suratmunicipal.org/6db486cb4f720e8585ba1f45a931c63c25dbbbda/rs.iudx.org.in/surat-revenue-collection/party-plot-bookings',\n",
       "   'totalCount': 98,\n",
       "   'amountCollected': 93880,\n",
       "   'year': 2021,\n",
       "   'cityName': 'Surat'},\n",
       "  {'month': 8,\n",
       "   'date': '2021-08-19',\n",
       "   'id': 'suratmunicipal.org/6db486cb4f720e8585ba1f45a931c63c25dbbbda/rs.iudx.org.in/surat-revenue-collection/party-plot-bookings',\n",
       "   'totalCount': 2,\n",
       "   'amountCollected': 92000,\n",
       "   'year': 2021,\n",
       "   'cityName': 'Surat'},\n",
       "  {'month': 8,\n",
       "   'date': '2021-08-08',\n",
       "   'id': 'suratmunicipal.org/6db486cb4f720e8585ba1f45a931c63c25dbbbda/rs.iudx.org.in/surat-revenue-collection/party-plot-bookings',\n",
       "   'totalCount': 2,\n",
       "   'amountCollected': 66000,\n",
       "   'year': 2021,\n",
       "   'cityName': 'Surat'},\n",
       "  {'month': 8,\n",
       "   'date': '2021-08-16',\n",
       "   'id': 'suratmunicipal.org/6db486cb4f720e8585ba1f45a931c63c25dbbbda/rs.iudx.org.in/surat-revenue-collection/party-plot-bookings',\n",
       "   'totalCount': 1,\n",
       "   'amountCollected': 45000,\n",
       "   'year': 2021,\n",
       "   'cityName': 'Surat'},\n",
       "  {'month': 8,\n",
       "   'date': '2021-08-28',\n",
       "   'id': 'suratmunicipal.org/6db486cb4f720e8585ba1f45a931c63c25dbbbda/rs.iudx.org.in/surat-revenue-collection/party-plot-bookings',\n",
       "   'totalCount': 1,\n",
       "   'amountCollected': 19000,\n",
       "   'year': 2021,\n",
       "   'cityName': 'Surat'},\n",
       "  {'month': 8,\n",
       "   'date': '2021-08-10',\n",
       "   'id': 'suratmunicipal.org/6db486cb4f720e8585ba1f45a931c63c25dbbbda/rs.iudx.org.in/surat-revenue-collection/party-plot-bookings',\n",
       "   'totalCount': 1,\n",
       "   'amountCollected': 19000,\n",
       "   'year': 2021,\n",
       "   'cityName': 'Surat'},\n",
       "  {'month': 8,\n",
       "   'date': '2021-08-20',\n",
       "   'id': 'suratmunicipal.org/6db486cb4f720e8585ba1f45a931c63c25dbbbda/rs.iudx.org.in/surat-revenue-collection/party-plot-bookings',\n",
       "   'totalCount': 2,\n",
       "   'amountCollected': 4130,\n",
       "   'year': 2021,\n",
       "   'cityName': 'Surat'},\n",
       "  {'month': 8,\n",
       "   'year': 2021,\n",
       "   'amountCollected': 2360,\n",
       "   'cityName': 'Surat',\n",
       "   'date': '2021-08-14',\n",
       "   'id': 'suratmunicipal.org/6db486cb4f720e8585ba1f45a931c63c25dbbbda/rs.iudx.org.in/surat-revenue-collection/party-plot-bookings',\n",
       "   'totalCount': 1},\n",
       "  {'month': 8,\n",
       "   'date': '2021-08-04',\n",
       "   'id': 'suratmunicipal.org/6db486cb4f720e8585ba1f45a931c63c25dbbbda/rs.iudx.org.in/surat-revenue-collection/party-plot-bookings',\n",
       "   'totalCount': 0,\n",
       "   'amountCollected': 0,\n",
       "   'year': 2021,\n",
       "   'cityName': 'Surat'},\n",
       "  {'month': 8,\n",
       "   'date': '2021-08-05',\n",
       "   'id': 'suratmunicipal.org/6db486cb4f720e8585ba1f45a931c63c25dbbbda/rs.iudx.org.in/surat-revenue-collection/party-plot-bookings',\n",
       "   'totalCount': 0,\n",
       "   'amountCollected': 0,\n",
       "   'year': 2021,\n",
       "   'cityName': 'Surat'},\n",
       "  {'month': 7,\n",
       "   'date': '2021-07-13',\n",
       "   'id': 'suratmunicipal.org/6db486cb4f720e8585ba1f45a931c63c25dbbbda/rs.iudx.org.in/surat-revenue-collection/party-plot-bookings',\n",
       "   'totalCount': 7,\n",
       "   'amountCollected': 318000,\n",
       "   'year': 2021,\n",
       "   'cityName': 'Surat'},\n",
       "  {'month': 7,\n",
       "   'year': 2021,\n",
       "   'amountCollected': 371500,\n",
       "   'cityName': 'Surat',\n",
       "   'date': '2021-07-07',\n",
       "   'id': 'suratmunicipal.org/6db486cb4f720e8585ba1f45a931c63c25dbbbda/rs.iudx.org.in/surat-revenue-collection/party-plot-bookings',\n",
       "   'totalCount': 12},\n",
       "  {'month': 7,\n",
       "   'year': 2021,\n",
       "   'amountCollected': 269000,\n",
       "   'cityName': 'Surat',\n",
       "   'date': '2021-07-09',\n",
       "   'id': 'suratmunicipal.org/6db486cb4f720e8585ba1f45a931c63c25dbbbda/rs.iudx.org.in/surat-revenue-collection/party-plot-bookings',\n",
       "   'totalCount': 6},\n",
       "  {'month': 7,\n",
       "   'date': '2021-07-15',\n",
       "   'id': 'suratmunicipal.org/6db486cb4f720e8585ba1f45a931c63c25dbbbda/rs.iudx.org.in/surat-revenue-collection/party-plot-bookings',\n",
       "   'totalCount': 5,\n",
       "   'amountCollected': 155130,\n",
       "   'year': 2021,\n",
       "   'cityName': 'Surat'},\n",
       "  {'month': 7,\n",
       "   'date': '2021-07-29',\n",
       "   'id': 'suratmunicipal.org/6db486cb4f720e8585ba1f45a931c63c25dbbbda/rs.iudx.org.in/surat-revenue-collection/party-plot-bookings',\n",
       "   'totalCount': 5,\n",
       "   'amountCollected': 136360,\n",
       "   'year': 2021,\n",
       "   'cityName': 'Surat'},\n",
       "  {'month': 7,\n",
       "   'year': 2021,\n",
       "   'amountCollected': 117000,\n",
       "   'cityName': 'Surat',\n",
       "   'date': '2021-07-14',\n",
       "   'id': 'suratmunicipal.org/6db486cb4f720e8585ba1f45a931c63c25dbbbda/rs.iudx.org.in/surat-revenue-collection/party-plot-bookings',\n",
       "   'totalCount': 3},\n",
       "  {'month': 7,\n",
       "   'date': '2021-07-22',\n",
       "   'id': 'suratmunicipal.org/6db486cb4f720e8585ba1f45a931c63c25dbbbda/rs.iudx.org.in/surat-revenue-collection/party-plot-bookings',\n",
       "   'totalCount': 9,\n",
       "   'amountCollected': 103080,\n",
       "   'year': 2021,\n",
       "   'cityName': 'Surat'},\n",
       "  {'month': 7,\n",
       "   'year': 2021,\n",
       "   'amountCollected': 90000,\n",
       "   'cityName': 'Surat',\n",
       "   'date': '2021-07-10',\n",
       "   'id': 'suratmunicipal.org/6db486cb4f720e8585ba1f45a931c63c25dbbbda/rs.iudx.org.in/surat-revenue-collection/party-plot-bookings',\n",
       "   'totalCount': 2},\n",
       "  {'month': 7,\n",
       "   'date': '2021-07-30',\n",
       "   'id': 'suratmunicipal.org/6db486cb4f720e8585ba1f45a931c63c25dbbbda/rs.iudx.org.in/surat-revenue-collection/party-plot-bookings',\n",
       "   'totalCount': 4,\n",
       "   'amountCollected': 79720,\n",
       "   'year': 2021,\n",
       "   'cityName': 'Surat'},\n",
       "  {'month': 7,\n",
       "   'date': '2021-07-08',\n",
       "   'id': 'suratmunicipal.org/6db486cb4f720e8585ba1f45a931c63c25dbbbda/rs.iudx.org.in/surat-revenue-collection/party-plot-bookings',\n",
       "   'totalCount': 6,\n",
       "   'amountCollected': 76000,\n",
       "   'year': 2021,\n",
       "   'cityName': 'Surat'},\n",
       "  {'month': 7,\n",
       "   'date': '2021-07-20',\n",
       "   'id': 'suratmunicipal.org/6db486cb4f720e8585ba1f45a931c63c25dbbbda/rs.iudx.org.in/surat-revenue-collection/party-plot-bookings',\n",
       "   'totalCount': 3,\n",
       "   'amountCollected': 54720,\n",
       "   'year': 2021,\n",
       "   'cityName': 'Surat'},\n",
       "  {'month': 7,\n",
       "   'date': '2021-07-26',\n",
       "   'id': 'suratmunicipal.org/6db486cb4f720e8585ba1f45a931c63c25dbbbda/rs.iudx.org.in/surat-revenue-collection/party-plot-bookings',\n",
       "   'totalCount': 3,\n",
       "   'amountCollected': 49720,\n",
       "   'year': 2021,\n",
       "   'cityName': 'Surat'},\n",
       "  {'month': 7,\n",
       "   'year': 2021,\n",
       "   'amountCollected': 45000,\n",
       "   'cityName': 'Surat',\n",
       "   'date': '2021-07-16',\n",
       "   'id': 'suratmunicipal.org/6db486cb4f720e8585ba1f45a931c63c25dbbbda/rs.iudx.org.in/surat-revenue-collection/party-plot-bookings',\n",
       "   'totalCount': 1},\n",
       "  {'month': 7,\n",
       "   'year': 2021,\n",
       "   'amountCollected': 39000,\n",
       "   'cityName': 'Surat',\n",
       "   'date': '2021-07-17',\n",
       "   'id': 'suratmunicipal.org/6db486cb4f720e8585ba1f45a931c63c25dbbbda/rs.iudx.org.in/surat-revenue-collection/party-plot-bookings',\n",
       "   'totalCount': 3},\n",
       "  {'month': 7,\n",
       "   'year': 2021,\n",
       "   'amountCollected': 22130,\n",
       "   'cityName': 'Surat',\n",
       "   'date': '2021-07-31',\n",
       "   'id': 'suratmunicipal.org/6db486cb4f720e8585ba1f45a931c63c25dbbbda/rs.iudx.org.in/surat-revenue-collection/party-plot-bookings',\n",
       "   'totalCount': 3},\n",
       "  {'month': 7,\n",
       "   'date': '2021-07-19',\n",
       "   'id': 'suratmunicipal.org/6db486cb4f720e8585ba1f45a931c63c25dbbbda/rs.iudx.org.in/surat-revenue-collection/party-plot-bookings',\n",
       "   'totalCount': 1,\n",
       "   'amountCollected': 32000,\n",
       "   'year': 2021,\n",
       "   'cityName': 'Surat'},\n",
       "  {'month': 7,\n",
       "   'date': '2021-07-23',\n",
       "   'id': 'suratmunicipal.org/6db486cb4f720e8585ba1f45a931c63c25dbbbda/rs.iudx.org.in/surat-revenue-collection/party-plot-bookings',\n",
       "   'totalCount': 1,\n",
       "   'amountCollected': 32000,\n",
       "   'year': 2021,\n",
       "   'cityName': 'Surat'},\n",
       "  {'month': 7,\n",
       "   'date': '2021-07-27',\n",
       "   'id': 'suratmunicipal.org/6db486cb4f720e8585ba1f45a931c63c25dbbbda/rs.iudx.org.in/surat-revenue-collection/party-plot-bookings',\n",
       "   'totalCount': 1,\n",
       "   'amountCollected': 32000,\n",
       "   'year': 2021,\n",
       "   'cityName': 'Surat'},\n",
       "  {'month': 7,\n",
       "   'date': '2021-07-04',\n",
       "   'id': 'suratmunicipal.org/6db486cb4f720e8585ba1f45a931c63c25dbbbda/rs.iudx.org.in/surat-revenue-collection/party-plot-bookings',\n",
       "   'totalCount': 4,\n",
       "   'amountCollected': 7080,\n",
       "   'year': 2021,\n",
       "   'cityName': 'Surat'},\n",
       "  {'month': 7,\n",
       "   'year': 2021,\n",
       "   'amountCollected': 21240,\n",
       "   'cityName': 'Surat',\n",
       "   'date': '2021-07-03',\n",
       "   'id': 'suratmunicipal.org/6db486cb4f720e8585ba1f45a931c63c25dbbbda/rs.iudx.org.in/surat-revenue-collection/party-plot-bookings',\n",
       "   'totalCount': 10},\n",
       "  {'month': 7,\n",
       "   'year': 2021,\n",
       "   'amountCollected': 18000,\n",
       "   'cityName': 'Surat',\n",
       "   'date': '2021-07-12',\n",
       "   'id': 'suratmunicipal.org/6db486cb4f720e8585ba1f45a931c63c25dbbbda/rs.iudx.org.in/surat-revenue-collection/party-plot-bookings',\n",
       "   'totalCount': 1},\n",
       "  {'month': 7,\n",
       "   'year': 2021,\n",
       "   'amountCollected': 2360,\n",
       "   'cityName': 'Surat',\n",
       "   'date': '2021-07-25',\n",
       "   'id': 'suratmunicipal.org/6db486cb4f720e8585ba1f45a931c63c25dbbbda/rs.iudx.org.in/surat-revenue-collection/party-plot-bookings',\n",
       "   'totalCount': 0},\n",
       "  {'month': 7,\n",
       "   'year': 2021,\n",
       "   'amountCollected': 2360,\n",
       "   'cityName': 'Surat',\n",
       "   'date': '2021-07-28',\n",
       "   'id': 'suratmunicipal.org/6db486cb4f720e8585ba1f45a931c63c25dbbbda/rs.iudx.org.in/surat-revenue-collection/party-plot-bookings',\n",
       "   'totalCount': 1},\n",
       "  {'month': 7,\n",
       "   'year': 2021,\n",
       "   'amountCollected': 0,\n",
       "   'cityName': 'Surat',\n",
       "   'date': '2021-07-05',\n",
       "   'id': 'suratmunicipal.org/6db486cb4f720e8585ba1f45a931c63c25dbbbda/rs.iudx.org.in/surat-revenue-collection/party-plot-bookings',\n",
       "   'totalCount': 0},\n",
       "  {'month': 7,\n",
       "   'year': 2021,\n",
       "   'amountCollected': 0,\n",
       "   'cityName': 'Surat',\n",
       "   'date': '2021-07-06',\n",
       "   'id': 'suratmunicipal.org/6db486cb4f720e8585ba1f45a931c63c25dbbbda/rs.iudx.org.in/surat-revenue-collection/party-plot-bookings',\n",
       "   'totalCount': 0},\n",
       "  {'month': 7,\n",
       "   'date': '2021-07-18',\n",
       "   'id': 'suratmunicipal.org/6db486cb4f720e8585ba1f45a931c63c25dbbbda/rs.iudx.org.in/surat-revenue-collection/party-plot-bookings',\n",
       "   'totalCount': 0,\n",
       "   'amountCollected': 0,\n",
       "   'year': 2021,\n",
       "   'cityName': 'Surat'},\n",
       "  {'month': 7,\n",
       "   'date': '2021-07-21',\n",
       "   'id': 'suratmunicipal.org/6db486cb4f720e8585ba1f45a931c63c25dbbbda/rs.iudx.org.in/surat-revenue-collection/party-plot-bookings',\n",
       "   'totalCount': 0,\n",
       "   'amountCollected': 0,\n",
       "   'year': 2021,\n",
       "   'cityName': 'Surat'},\n",
       "  {'month': 6,\n",
       "   'date': '2021-06-09',\n",
       "   'id': 'suratmunicipal.org/6db486cb4f720e8585ba1f45a931c63c25dbbbda/rs.iudx.org.in/surat-revenue-collection/party-plot-bookings',\n",
       "   'totalCount': 19,\n",
       "   'amountCollected': 520860,\n",
       "   'year': 2021,\n",
       "   'cityName': 'Surat'},\n",
       "  {'month': 6,\n",
       "   'date': '2021-06-07',\n",
       "   'id': 'suratmunicipal.org/6db486cb4f720e8585ba1f45a931c63c25dbbbda/rs.iudx.org.in/surat-revenue-collection/party-plot-bookings',\n",
       "   'totalCount': 13,\n",
       "   'amountCollected': 319720,\n",
       "   'year': 2021,\n",
       "   'cityName': 'Surat'},\n",
       "  {'month': 6,\n",
       "   'date': '2021-06-21',\n",
       "   'id': 'suratmunicipal.org/6db486cb4f720e8585ba1f45a931c63c25dbbbda/rs.iudx.org.in/surat-revenue-collection/party-plot-bookings',\n",
       "   'totalCount': 10,\n",
       "   'amountCollected': 142720,\n",
       "   'year': 2021,\n",
       "   'cityName': 'Surat'},\n",
       "  {'month': 7,\n",
       "   'year': 2021,\n",
       "   'amountCollected': 0,\n",
       "   'cityName': 'Surat',\n",
       "   'date': '2021-07-24',\n",
       "   'id': 'suratmunicipal.org/6db486cb4f720e8585ba1f45a931c63c25dbbbda/rs.iudx.org.in/surat-revenue-collection/party-plot-bookings',\n",
       "   'totalCount': 0},\n",
       "  {'month': 7,\n",
       "   'year': 2021,\n",
       "   'amountCollected': 0,\n",
       "   'cityName': 'Surat',\n",
       "   'date': '2021-07-11',\n",
       "   'id': 'suratmunicipal.org/6db486cb4f720e8585ba1f45a931c63c25dbbbda/rs.iudx.org.in/surat-revenue-collection/party-plot-bookings',\n",
       "   'totalCount': 0},\n",
       "  {'month': 6,\n",
       "   'year': 2021,\n",
       "   'amountCollected': 128360,\n",
       "   'cityName': 'Surat',\n",
       "   'date': '2021-06-22',\n",
       "   'id': 'suratmunicipal.org/6db486cb4f720e8585ba1f45a931c63c25dbbbda/rs.iudx.org.in/surat-revenue-collection/party-plot-bookings',\n",
       "   'totalCount': 7},\n",
       "  {'month': 6,\n",
       "   'year': 2021,\n",
       "   'amountCollected': 125220,\n",
       "   'cityName': 'Surat',\n",
       "   'date': '2021-06-28',\n",
       "   'id': 'suratmunicipal.org/6db486cb4f720e8585ba1f45a931c63c25dbbbda/rs.iudx.org.in/surat-revenue-collection/party-plot-bookings',\n",
       "   'totalCount': 7},\n",
       "  {'month': 6,\n",
       "   'year': 2021,\n",
       "   'amountCollected': 104850,\n",
       "   'cityName': 'Surat',\n",
       "   'date': '2021-06-15',\n",
       "   'id': 'suratmunicipal.org/6db486cb4f720e8585ba1f45a931c63c25dbbbda/rs.iudx.org.in/surat-revenue-collection/party-plot-bookings',\n",
       "   'totalCount': 10},\n",
       "  {'month': 6,\n",
       "   'year': 2021,\n",
       "   'amountCollected': 84000,\n",
       "   'cityName': 'Surat',\n",
       "   'date': '2021-06-18',\n",
       "   'id': 'suratmunicipal.org/6db486cb4f720e8585ba1f45a931c63c25dbbbda/rs.iudx.org.in/surat-revenue-collection/party-plot-bookings',\n",
       "   'totalCount': 3},\n",
       "  {'month': 6,\n",
       "   'date': '2021-06-10',\n",
       "   'id': 'suratmunicipal.org/6db486cb4f720e8585ba1f45a931c63c25dbbbda/rs.iudx.org.in/surat-revenue-collection/party-plot-bookings',\n",
       "   'totalCount': 4,\n",
       "   'amountCollected': 105000,\n",
       "   'year': 2021,\n",
       "   'cityName': 'Surat'},\n",
       "  {'month': 6,\n",
       "   'date': '2021-06-08',\n",
       "   'id': 'suratmunicipal.org/6db486cb4f720e8585ba1f45a931c63c25dbbbda/rs.iudx.org.in/surat-revenue-collection/party-plot-bookings',\n",
       "   'totalCount': 3,\n",
       "   'amountCollected': 94000,\n",
       "   'year': 2021,\n",
       "   'cityName': 'Surat'},\n",
       "  {'month': 6,\n",
       "   'date': '2021-06-23',\n",
       "   'id': 'suratmunicipal.org/6db486cb4f720e8585ba1f45a931c63c25dbbbda/rs.iudx.org.in/surat-revenue-collection/party-plot-bookings',\n",
       "   'totalCount': 3,\n",
       "   'amountCollected': 77000,\n",
       "   'year': 2021,\n",
       "   'cityName': 'Surat'},\n",
       "  {'month': 6,\n",
       "   'date': '2021-06-25',\n",
       "   'id': 'suratmunicipal.org/6db486cb4f720e8585ba1f45a931c63c25dbbbda/rs.iudx.org.in/surat-revenue-collection/party-plot-bookings',\n",
       "   'totalCount': 2,\n",
       "   'amountCollected': 74360,\n",
       "   'year': 2021,\n",
       "   'cityName': 'Surat'},\n",
       "  {'month': 6,\n",
       "   'year': 2021,\n",
       "   'amountCollected': 81360,\n",
       "   'cityName': 'Surat',\n",
       "   'date': '2021-06-19',\n",
       "   'id': 'suratmunicipal.org/6db486cb4f720e8585ba1f45a931c63c25dbbbda/rs.iudx.org.in/surat-revenue-collection/party-plot-bookings',\n",
       "   'totalCount': 5},\n",
       "  {'month': 6,\n",
       "   'year': 2021,\n",
       "   'amountCollected': 77720,\n",
       "   'cityName': 'Surat',\n",
       "   'date': '2021-06-24',\n",
       "   'id': 'suratmunicipal.org/6db486cb4f720e8585ba1f45a931c63c25dbbbda/rs.iudx.org.in/surat-revenue-collection/party-plot-bookings',\n",
       "   'totalCount': 6},\n",
       "  {'month': 6,\n",
       "   'year': 2021,\n",
       "   'amountCollected': 63660,\n",
       "   'cityName': 'Surat',\n",
       "   'date': '2021-06-03',\n",
       "   'id': 'suratmunicipal.org/6db486cb4f720e8585ba1f45a931c63c25dbbbda/rs.iudx.org.in/surat-revenue-collection/party-plot-bookings',\n",
       "   'totalCount': 298},\n",
       "  {'month': 6,\n",
       "   'year': 2021,\n",
       "   'amountCollected': 63080,\n",
       "   'cityName': 'Surat',\n",
       "   'date': '2021-06-17',\n",
       "   'id': 'suratmunicipal.org/6db486cb4f720e8585ba1f45a931c63c25dbbbda/rs.iudx.org.in/surat-revenue-collection/party-plot-bookings',\n",
       "   'totalCount': 5},\n",
       "  {'month': 6,\n",
       "   'year': 2021,\n",
       "   'amountCollected': 36860,\n",
       "   'cityName': 'Surat',\n",
       "   'date': '2021-06-20',\n",
       "   'id': 'suratmunicipal.org/6db486cb4f720e8585ba1f45a931c63c25dbbbda/rs.iudx.org.in/surat-revenue-collection/party-plot-bookings',\n",
       "   'totalCount': 3},\n",
       "  {'month': 6,\n",
       "   'year': 2021,\n",
       "   'amountCollected': 32000,\n",
       "   'cityName': 'Surat',\n",
       "   'date': '2021-06-06',\n",
       "   'id': 'suratmunicipal.org/6db486cb4f720e8585ba1f45a931c63c25dbbbda/rs.iudx.org.in/surat-revenue-collection/party-plot-bookings',\n",
       "   'totalCount': 1},\n",
       "  {'month': 6,\n",
       "   'date': '2021-06-26',\n",
       "   'id': 'suratmunicipal.org/6db486cb4f720e8585ba1f45a931c63c25dbbbda/rs.iudx.org.in/surat-revenue-collection/party-plot-bookings',\n",
       "   'totalCount': 3,\n",
       "   'amountCollected': 58000,\n",
       "   'year': 2021,\n",
       "   'cityName': 'Surat'},\n",
       "  {'month': 6,\n",
       "   'date': '2021-06-14',\n",
       "   'id': 'suratmunicipal.org/6db486cb4f720e8585ba1f45a931c63c25dbbbda/rs.iudx.org.in/surat-revenue-collection/party-plot-bookings',\n",
       "   'totalCount': 9,\n",
       "   'amountCollected': 52520,\n",
       "   'year': 2021,\n",
       "   'cityName': 'Surat'},\n",
       "  {'month': 6,\n",
       "   'date': '2021-06-30',\n",
       "   'id': 'suratmunicipal.org/6db486cb4f720e8585ba1f45a931c63c25dbbbda/rs.iudx.org.in/surat-revenue-collection/party-plot-bookings',\n",
       "   'totalCount': 4,\n",
       "   'amountCollected': 49860,\n",
       "   'year': 2021,\n",
       "   'cityName': 'Surat'},\n",
       "  {'month': 6,\n",
       "   'date': '2021-06-13',\n",
       "   'id': 'suratmunicipal.org/6db486cb4f720e8585ba1f45a931c63c25dbbbda/rs.iudx.org.in/surat-revenue-collection/party-plot-bookings',\n",
       "   'totalCount': 3,\n",
       "   'amountCollected': 47360,\n",
       "   'year': 2021,\n",
       "   'cityName': 'Surat'},\n",
       "  {'month': 6,\n",
       "   'date': '2021-06-29',\n",
       "   'id': 'suratmunicipal.org/6db486cb4f720e8585ba1f45a931c63c25dbbbda/rs.iudx.org.in/surat-revenue-collection/party-plot-bookings',\n",
       "   'totalCount': 4,\n",
       "   'amountCollected': 25720,\n",
       "   'year': 2021,\n",
       "   'cityName': 'Surat'},\n",
       "  {'month': 6,\n",
       "   'date': '2021-06-16',\n",
       "   'id': 'suratmunicipal.org/6db486cb4f720e8585ba1f45a931c63c25dbbbda/rs.iudx.org.in/surat-revenue-collection/party-plot-bookings',\n",
       "   'totalCount': 5,\n",
       "   'amountCollected': 11800,\n",
       "   'year': 2021,\n",
       "   'cityName': 'Surat'},\n",
       "  {'month': 6,\n",
       "   'date': '2021-06-27',\n",
       "   'id': 'suratmunicipal.org/6db486cb4f720e8585ba1f45a931c63c25dbbbda/rs.iudx.org.in/surat-revenue-collection/party-plot-bookings',\n",
       "   'totalCount': 0,\n",
       "   'amountCollected': 0,\n",
       "   'year': 2021,\n",
       "   'cityName': 'Surat'},\n",
       "  {'month': 6,\n",
       "   'year': 2021,\n",
       "   'amountCollected': 0,\n",
       "   'cityName': 'Surat',\n",
       "   'date': '2021-06-04',\n",
       "   'id': 'suratmunicipal.org/6db486cb4f720e8585ba1f45a931c63c25dbbbda/rs.iudx.org.in/surat-revenue-collection/party-plot-bookings',\n",
       "   'totalCount': 0},\n",
       "  {'month': 6,\n",
       "   'year': 2021,\n",
       "   'amountCollected': 0,\n",
       "   'cityName': 'Surat',\n",
       "   'date': '2021-06-05',\n",
       "   'id': 'suratmunicipal.org/6db486cb4f720e8585ba1f45a931c63c25dbbbda/rs.iudx.org.in/surat-revenue-collection/party-plot-bookings',\n",
       "   'totalCount': 0},\n",
       "  {'month': 6,\n",
       "   'year': 2021,\n",
       "   'amountCollected': 0,\n",
       "   'cityName': 'Surat',\n",
       "   'date': '2021-06-12',\n",
       "   'id': 'suratmunicipal.org/6db486cb4f720e8585ba1f45a931c63c25dbbbda/rs.iudx.org.in/surat-revenue-collection/party-plot-bookings',\n",
       "   'totalCount': 22},\n",
       "  {'month': 6,\n",
       "   'date': '2021-06-11',\n",
       "   'id': 'suratmunicipal.org/6db486cb4f720e8585ba1f45a931c63c25dbbbda/rs.iudx.org.in/surat-revenue-collection/party-plot-bookings',\n",
       "   'totalCount': 0,\n",
       "   'amountCollected': 0,\n",
       "   'year': 2021,\n",
       "   'cityName': 'Surat'},\n",
       "  {'month': 5,\n",
       "   'date': '2021-05-07',\n",
       "   'id': 'suratmunicipal.org/6db486cb4f720e8585ba1f45a931c63c25dbbbda/rs.iudx.org.in/surat-revenue-collection/party-plot-bookings',\n",
       "   'totalCount': 17,\n",
       "   'amountCollected': 333220,\n",
       "   'year': 2021,\n",
       "   'cityName': 'Surat'},\n",
       "  {'month': 5,\n",
       "   'year': 2021,\n",
       "   'amountCollected': 256860,\n",
       "   'cityName': 'Surat',\n",
       "   'date': '2021-05-08',\n",
       "   'id': 'suratmunicipal.org/6db486cb4f720e8585ba1f45a931c63c25dbbbda/rs.iudx.org.in/surat-revenue-collection/party-plot-bookings',\n",
       "   'totalCount': 8},\n",
       "  {'month': 5,\n",
       "   'year': 2021,\n",
       "   'amountCollected': 93720,\n",
       "   'cityName': 'Surat',\n",
       "   'date': '2021-05-20',\n",
       "   'id': 'suratmunicipal.org/6db486cb4f720e8585ba1f45a931c63c25dbbbda/rs.iudx.org.in/surat-revenue-collection/party-plot-bookings',\n",
       "   'totalCount': 6},\n",
       "  {'month': 5,\n",
       "   'year': 2021,\n",
       "   'amountCollected': 75000,\n",
       "   'cityName': 'Surat',\n",
       "   'date': '2021-05-09',\n",
       "   'id': 'suratmunicipal.org/6db486cb4f720e8585ba1f45a931c63c25dbbbda/rs.iudx.org.in/surat-revenue-collection/party-plot-bookings',\n",
       "   'totalCount': 3},\n",
       "  {'month': 5,\n",
       "   'date': '2021-05-03',\n",
       "   'id': 'suratmunicipal.org/6db486cb4f720e8585ba1f45a931c63c25dbbbda/rs.iudx.org.in/surat-revenue-collection/party-plot-bookings',\n",
       "   'totalCount': 2,\n",
       "   'amountCollected': 44000,\n",
       "   'year': 2021,\n",
       "   'cityName': 'Surat'},\n",
       "  {'month': 5,\n",
       "   'date': '2021-05-13',\n",
       "   'id': 'suratmunicipal.org/6db486cb4f720e8585ba1f45a931c63c25dbbbda/rs.iudx.org.in/surat-revenue-collection/party-plot-bookings',\n",
       "   'totalCount': 1,\n",
       "   'amountCollected': 36000,\n",
       "   'year': 2021,\n",
       "   'cityName': 'Surat'},\n",
       "  {'month': 5,\n",
       "   'year': 2021,\n",
       "   'amountCollected': 30000,\n",
       "   'cityName': 'Surat',\n",
       "   'date': '2021-05-10',\n",
       "   'id': 'suratmunicipal.org/6db486cb4f720e8585ba1f45a931c63c25dbbbda/rs.iudx.org.in/surat-revenue-collection/party-plot-bookings',\n",
       "   'totalCount': 1},\n",
       "  {'month': 5,\n",
       "   'date': '2021-05-11',\n",
       "   'id': 'suratmunicipal.org/6db486cb4f720e8585ba1f45a931c63c25dbbbda/rs.iudx.org.in/surat-revenue-collection/party-plot-bookings',\n",
       "   'totalCount': 1,\n",
       "   'amountCollected': 30000,\n",
       "   'year': 2021,\n",
       "   'cityName': 'Surat'},\n",
       "  {'month': 5,\n",
       "   'date': '2021-05-22',\n",
       "   'id': 'suratmunicipal.org/6db486cb4f720e8585ba1f45a931c63c25dbbbda/rs.iudx.org.in/surat-revenue-collection/party-plot-bookings',\n",
       "   'totalCount': 1,\n",
       "   'amountCollected': 22000,\n",
       "   'year': 2021,\n",
       "   'cityName': 'Surat'},\n",
       "  {'month': 5,\n",
       "   'date': '2021-05-29',\n",
       "   'id': 'suratmunicipal.org/6db486cb4f720e8585ba1f45a931c63c25dbbbda/rs.iudx.org.in/surat-revenue-collection/party-plot-bookings',\n",
       "   'totalCount': 2,\n",
       "   'amountCollected': 21000,\n",
       "   'year': 2021,\n",
       "   'cityName': 'Surat'},\n",
       "  {'month': 5,\n",
       "   'date': '2021-05-25',\n",
       "   'id': 'suratmunicipal.org/6db486cb4f720e8585ba1f45a931c63c25dbbbda/rs.iudx.org.in/surat-revenue-collection/party-plot-bookings',\n",
       "   'totalCount': 3,\n",
       "   'amountCollected': 7080,\n",
       "   'year': 2021,\n",
       "   'cityName': 'Surat'},\n",
       "  {'month': 5,\n",
       "   'date': '2021-05-05',\n",
       "   'id': 'suratmunicipal.org/6db486cb4f720e8585ba1f45a931c63c25dbbbda/rs.iudx.org.in/surat-revenue-collection/party-plot-bookings',\n",
       "   'totalCount': 2,\n",
       "   'amountCollected': 2360,\n",
       "   'year': 2021,\n",
       "   'cityName': 'Surat'},\n",
       "  {'month': 5,\n",
       "   'date': '2021-05-19',\n",
       "   'id': 'suratmunicipal.org/6db486cb4f720e8585ba1f45a931c63c25dbbbda/rs.iudx.org.in/surat-revenue-collection/party-plot-bookings',\n",
       "   'totalCount': 1,\n",
       "   'amountCollected': 2360,\n",
       "   'year': 2021,\n",
       "   'cityName': 'Surat'},\n",
       "  {'month': 5,\n",
       "   'year': 2021,\n",
       "   'amountCollected': 4720,\n",
       "   'cityName': 'Surat',\n",
       "   'date': '2021-05-24',\n",
       "   'id': 'suratmunicipal.org/6db486cb4f720e8585ba1f45a931c63c25dbbbda/rs.iudx.org.in/surat-revenue-collection/party-plot-bookings',\n",
       "   'totalCount': 2},\n",
       "  {'month': 5,\n",
       "   'year': 2021,\n",
       "   'amountCollected': 2360,\n",
       "   'cityName': 'Surat',\n",
       "   'date': '2021-05-23',\n",
       "   'id': 'suratmunicipal.org/6db486cb4f720e8585ba1f45a931c63c25dbbbda/rs.iudx.org.in/surat-revenue-collection/party-plot-bookings',\n",
       "   'totalCount': 2},\n",
       "  {'month': 5,\n",
       "   'year': 2021,\n",
       "   'amountCollected': 2360,\n",
       "   'cityName': 'Surat',\n",
       "   'date': '2021-05-26',\n",
       "   'id': 'suratmunicipal.org/6db486cb4f720e8585ba1f45a931c63c25dbbbda/rs.iudx.org.in/surat-revenue-collection/party-plot-bookings',\n",
       "   'totalCount': 1},\n",
       "  {'month': 5,\n",
       "   'date': '2021-05-27',\n",
       "   'id': 'suratmunicipal.org/6db486cb4f720e8585ba1f45a931c63c25dbbbda/rs.iudx.org.in/surat-revenue-collection/party-plot-bookings',\n",
       "   'totalCount': 1,\n",
       "   'amountCollected': 2360,\n",
       "   'year': 2021,\n",
       "   'cityName': 'Surat'},\n",
       "  {'month': 5,\n",
       "   'year': 2021,\n",
       "   'amountCollected': 2360,\n",
       "   'cityName': 'Surat',\n",
       "   'date': '2021-05-06',\n",
       "   'id': 'suratmunicipal.org/6db486cb4f720e8585ba1f45a931c63c25dbbbda/rs.iudx.org.in/surat-revenue-collection/party-plot-bookings',\n",
       "   'totalCount': 2},\n",
       "  {'month': 5,\n",
       "   'date': '2021-05-12',\n",
       "   'id': 'suratmunicipal.org/6db486cb4f720e8585ba1f45a931c63c25dbbbda/rs.iudx.org.in/surat-revenue-collection/party-plot-bookings',\n",
       "   'totalCount': 1,\n",
       "   'amountCollected': 2360,\n",
       "   'year': 2021,\n",
       "   'cityName': 'Surat'},\n",
       "  {'month': 5,\n",
       "   'year': 2021,\n",
       "   'amountCollected': 0,\n",
       "   'cityName': 'Surat',\n",
       "   'date': '2021-05-04',\n",
       "   'id': 'suratmunicipal.org/6db486cb4f720e8585ba1f45a931c63c25dbbbda/rs.iudx.org.in/surat-revenue-collection/party-plot-bookings',\n",
       "   'totalCount': 0},\n",
       "  {'month': 5,\n",
       "   'date': '2021-05-14',\n",
       "   'id': 'suratmunicipal.org/6db486cb4f720e8585ba1f45a931c63c25dbbbda/rs.iudx.org.in/surat-revenue-collection/party-plot-bookings',\n",
       "   'totalCount': 0,\n",
       "   'amountCollected': 0,\n",
       "   'year': 2021,\n",
       "   'cityName': 'Surat'},\n",
       "  {'month': 5,\n",
       "   'year': 2021,\n",
       "   'amountCollected': 0,\n",
       "   'cityName': 'Surat',\n",
       "   'date': '2021-05-15',\n",
       "   'id': 'suratmunicipal.org/6db486cb4f720e8585ba1f45a931c63c25dbbbda/rs.iudx.org.in/surat-revenue-collection/party-plot-bookings',\n",
       "   'totalCount': 0},\n",
       "  {'month': 5,\n",
       "   'year': 2021,\n",
       "   'amountCollected': 0,\n",
       "   'cityName': 'Surat',\n",
       "   'date': '2021-05-16',\n",
       "   'id': 'suratmunicipal.org/6db486cb4f720e8585ba1f45a931c63c25dbbbda/rs.iudx.org.in/surat-revenue-collection/party-plot-bookings',\n",
       "   'totalCount': 0},\n",
       "  {'month': 5,\n",
       "   'year': 2021,\n",
       "   'amountCollected': 0,\n",
       "   'cityName': 'Surat',\n",
       "   'date': '2021-05-17',\n",
       "   'id': 'suratmunicipal.org/6db486cb4f720e8585ba1f45a931c63c25dbbbda/rs.iudx.org.in/surat-revenue-collection/party-plot-bookings',\n",
       "   'totalCount': 0},\n",
       "  {'month': 5,\n",
       "   'year': 2021,\n",
       "   'amountCollected': 0,\n",
       "   'cityName': 'Surat',\n",
       "   'date': '2021-05-18',\n",
       "   'id': 'suratmunicipal.org/6db486cb4f720e8585ba1f45a931c63c25dbbbda/rs.iudx.org.in/surat-revenue-collection/party-plot-bookings',\n",
       "   'totalCount': 0},\n",
       "  {'month': 5,\n",
       "   'year': 2021,\n",
       "   'amountCollected': 0,\n",
       "   'cityName': 'Surat',\n",
       "   'date': '2021-05-21',\n",
       "   'id': 'suratmunicipal.org/6db486cb4f720e8585ba1f45a931c63c25dbbbda/rs.iudx.org.in/surat-revenue-collection/party-plot-bookings',\n",
       "   'totalCount': 0},\n",
       "  {'month': 5,\n",
       "   'year': 2021,\n",
       "   'amountCollected': 0,\n",
       "   'cityName': 'Surat',\n",
       "   'date': '2021-05-28',\n",
       "   'id': 'suratmunicipal.org/6db486cb4f720e8585ba1f45a931c63c25dbbbda/rs.iudx.org.in/surat-revenue-collection/party-plot-bookings',\n",
       "   'totalCount': 0},\n",
       "  {'month': 5,\n",
       "   'year': 2021,\n",
       "   'amountCollected': 0,\n",
       "   'cityName': 'Surat',\n",
       "   'date': '2021-05-30',\n",
       "   'id': 'suratmunicipal.org/6db486cb4f720e8585ba1f45a931c63c25dbbbda/rs.iudx.org.in/surat-revenue-collection/party-plot-bookings',\n",
       "   'totalCount': 0},\n",
       "  {'month': 5,\n",
       "   'year': 2021,\n",
       "   'amountCollected': 0,\n",
       "   'cityName': 'Surat',\n",
       "   'date': '2021-05-31',\n",
       "   'id': 'suratmunicipal.org/6db486cb4f720e8585ba1f45a931c63c25dbbbda/rs.iudx.org.in/surat-revenue-collection/party-plot-bookings',\n",
       "   'totalCount': 0},\n",
       "  {'month': 4,\n",
       "   'year': 2021,\n",
       "   'amountCollected': 271360,\n",
       "   'cityName': 'Surat',\n",
       "   'date': '2021-04-09',\n",
       "   'id': 'suratmunicipal.org/6db486cb4f720e8585ba1f45a931c63c25dbbbda/rs.iudx.org.in/surat-revenue-collection/party-plot-bookings',\n",
       "   'totalCount': 11},\n",
       "  {'month': 4,\n",
       "   'year': 2021,\n",
       "   'amountCollected': 125000,\n",
       "   'cityName': 'Surat',\n",
       "   'date': '2021-04-10',\n",
       "   'id': 'suratmunicipal.org/6db486cb4f720e8585ba1f45a931c63c25dbbbda/rs.iudx.org.in/surat-revenue-collection/party-plot-bookings',\n",
       "   'totalCount': 4},\n",
       "  {'month': 4,\n",
       "   'year': 2021,\n",
       "   'amountCollected': 121130,\n",
       "   'cityName': 'Surat',\n",
       "   'date': '2021-04-07',\n",
       "   'id': 'suratmunicipal.org/6db486cb4f720e8585ba1f45a931c63c25dbbbda/rs.iudx.org.in/surat-revenue-collection/party-plot-bookings',\n",
       "   'totalCount': 12},\n",
       "  {'month': 4,\n",
       "   'year': 2021,\n",
       "   'amountCollected': 96440,\n",
       "   'cityName': 'Surat',\n",
       "   'date': '2021-04-03',\n",
       "   'id': 'suratmunicipal.org/6db486cb4f720e8585ba1f45a931c63c25dbbbda/rs.iudx.org.in/surat-revenue-collection/party-plot-bookings',\n",
       "   'totalCount': 10},\n",
       "  {'month': 4,\n",
       "   'year': 2021,\n",
       "   'amountCollected': 88360,\n",
       "   'cityName': 'Surat',\n",
       "   'date': '2021-04-12',\n",
       "   'id': 'suratmunicipal.org/6db486cb4f720e8585ba1f45a931c63c25dbbbda/rs.iudx.org.in/surat-revenue-collection/party-plot-bookings',\n",
       "   'totalCount': 9},\n",
       "  {'month': 4,\n",
       "   'year': 2021,\n",
       "   'amountCollected': 58130,\n",
       "   'cityName': 'Surat',\n",
       "   'date': '2021-04-06',\n",
       "   'id': 'suratmunicipal.org/6db486cb4f720e8585ba1f45a931c63c25dbbbda/rs.iudx.org.in/surat-revenue-collection/party-plot-bookings',\n",
       "   'totalCount': 7},\n",
       "  {'month': 4,\n",
       "   'date': '2021-04-08',\n",
       "   'id': 'suratmunicipal.org/6db486cb4f720e8585ba1f45a931c63c25dbbbda/rs.iudx.org.in/surat-revenue-collection/party-plot-bookings',\n",
       "   'totalCount': 2,\n",
       "   'amountCollected': 57000,\n",
       "   'year': 2021,\n",
       "   'cityName': 'Surat'},\n",
       "  {'month': 4,\n",
       "   'date': '2021-04-11',\n",
       "   'id': 'suratmunicipal.org/6db486cb4f720e8585ba1f45a931c63c25dbbbda/rs.iudx.org.in/surat-revenue-collection/party-plot-bookings',\n",
       "   'totalCount': 1,\n",
       "   'amountCollected': 50000,\n",
       "   'year': 2021,\n",
       "   'cityName': 'Surat'},\n",
       "  {'month': 4,\n",
       "   'date': '2021-04-28',\n",
       "   'id': 'suratmunicipal.org/6db486cb4f720e8585ba1f45a931c63c25dbbbda/rs.iudx.org.in/surat-revenue-collection/party-plot-bookings',\n",
       "   'totalCount': 2,\n",
       "   'amountCollected': 42000,\n",
       "   'year': 2021,\n",
       "   'cityName': 'Surat'},\n",
       "  {'month': 4,\n",
       "   'date': '2021-04-24',\n",
       "   'id': 'suratmunicipal.org/6db486cb4f720e8585ba1f45a931c63c25dbbbda/rs.iudx.org.in/surat-revenue-collection/party-plot-bookings',\n",
       "   'totalCount': 2,\n",
       "   'amountCollected': 38360,\n",
       "   'year': 2021,\n",
       "   'cityName': 'Surat'},\n",
       "  {'month': 4,\n",
       "   'year': 2021,\n",
       "   'amountCollected': 36000,\n",
       "   'cityName': 'Surat',\n",
       "   'date': '2021-04-19',\n",
       "   'id': 'suratmunicipal.org/6db486cb4f720e8585ba1f45a931c63c25dbbbda/rs.iudx.org.in/surat-revenue-collection/party-plot-bookings',\n",
       "   'totalCount': 1},\n",
       "  {'month': 4,\n",
       "   'date': '2021-04-22',\n",
       "   'id': 'suratmunicipal.org/6db486cb4f720e8585ba1f45a931c63c25dbbbda/rs.iudx.org.in/surat-revenue-collection/party-plot-bookings',\n",
       "   'totalCount': 1,\n",
       "   'amountCollected': 32000,\n",
       "   'year': 2021,\n",
       "   'cityName': 'Surat'},\n",
       "  {'month': 4,\n",
       "   'date': '2021-04-13',\n",
       "   'id': 'suratmunicipal.org/6db486cb4f720e8585ba1f45a931c63c25dbbbda/rs.iudx.org.in/surat-revenue-collection/party-plot-bookings',\n",
       "   'totalCount': 1,\n",
       "   'amountCollected': 22000,\n",
       "   'year': 2021,\n",
       "   'cityName': 'Surat'},\n",
       "  {'month': 4,\n",
       "   'year': 2021,\n",
       "   'amountCollected': 21000,\n",
       "   'cityName': 'Surat',\n",
       "   'date': '2021-04-05',\n",
       "   'id': 'suratmunicipal.org/6db486cb4f720e8585ba1f45a931c63c25dbbbda/rs.iudx.org.in/surat-revenue-collection/party-plot-bookings',\n",
       "   'totalCount': 1},\n",
       "  {'month': 4,\n",
       "   'year': 2021,\n",
       "   'amountCollected': 14360,\n",
       "   'cityName': 'Surat',\n",
       "   'date': '2021-04-17',\n",
       "   'id': 'suratmunicipal.org/6db486cb4f720e8585ba1f45a931c63c25dbbbda/rs.iudx.org.in/surat-revenue-collection/party-plot-bookings',\n",
       "   'totalCount': 3},\n",
       "  {'month': 4,\n",
       "   'date': '2021-04-04',\n",
       "   'id': 'suratmunicipal.org/6db486cb4f720e8585ba1f45a931c63c25dbbbda/rs.iudx.org.in/surat-revenue-collection/party-plot-bookings',\n",
       "   'totalCount': 3,\n",
       "   'amountCollected': 4720,\n",
       "   'year': 2021,\n",
       "   'cityName': 'Surat'},\n",
       "  {'month': 4,\n",
       "   'date': '2021-04-18',\n",
       "   'id': 'suratmunicipal.org/6db486cb4f720e8585ba1f45a931c63c25dbbbda/rs.iudx.org.in/surat-revenue-collection/party-plot-bookings',\n",
       "   'totalCount': 4,\n",
       "   'amountCollected': 4720,\n",
       "   'year': 2021,\n",
       "   'cityName': 'Surat'},\n",
       "  {'month': 4,\n",
       "   'date': '2021-04-20',\n",
       "   'id': 'suratmunicipal.org/6db486cb4f720e8585ba1f45a931c63c25dbbbda/rs.iudx.org.in/surat-revenue-collection/party-plot-bookings',\n",
       "   'totalCount': 1,\n",
       "   'amountCollected': 2360,\n",
       "   'year': 2021,\n",
       "   'cityName': 'Surat'},\n",
       "  {'month': 4,\n",
       "   'date': '2021-04-29',\n",
       "   'id': 'suratmunicipal.org/6db486cb4f720e8585ba1f45a931c63c25dbbbda/rs.iudx.org.in/surat-revenue-collection/party-plot-bookings',\n",
       "   'totalCount': 2,\n",
       "   'amountCollected': 2360,\n",
       "   'year': 2021,\n",
       "   'cityName': 'Surat'},\n",
       "  {'month': 4,\n",
       "   'year': 2021,\n",
       "   'amountCollected': 0,\n",
       "   'cityName': 'Surat',\n",
       "   'date': '2021-04-14',\n",
       "   'id': 'suratmunicipal.org/6db486cb4f720e8585ba1f45a931c63c25dbbbda/rs.iudx.org.in/surat-revenue-collection/party-plot-bookings',\n",
       "   'totalCount': 0},\n",
       "  {'month': 4,\n",
       "   'year': 2021,\n",
       "   'amountCollected': 0,\n",
       "   'cityName': 'Surat',\n",
       "   'date': '2021-04-15',\n",
       "   'id': 'suratmunicipal.org/6db486cb4f720e8585ba1f45a931c63c25dbbbda/rs.iudx.org.in/surat-revenue-collection/party-plot-bookings',\n",
       "   'totalCount': 0},\n",
       "  {'month': 4,\n",
       "   'date': '2021-04-16',\n",
       "   'id': 'suratmunicipal.org/6db486cb4f720e8585ba1f45a931c63c25dbbbda/rs.iudx.org.in/surat-revenue-collection/party-plot-bookings',\n",
       "   'totalCount': 0,\n",
       "   'amountCollected': 0,\n",
       "   'year': 2021,\n",
       "   'cityName': 'Surat'},\n",
       "  {'month': 4,\n",
       "   'date': '2021-04-21',\n",
       "   'id': 'suratmunicipal.org/6db486cb4f720e8585ba1f45a931c63c25dbbbda/rs.iudx.org.in/surat-revenue-collection/party-plot-bookings',\n",
       "   'totalCount': 0,\n",
       "   'amountCollected': 0,\n",
       "   'year': 2021,\n",
       "   'cityName': 'Surat'},\n",
       "  {'month': 4,\n",
       "   'date': '2021-04-23',\n",
       "   'id': 'suratmunicipal.org/6db486cb4f720e8585ba1f45a931c63c25dbbbda/rs.iudx.org.in/surat-revenue-collection/party-plot-bookings',\n",
       "   'totalCount': 0,\n",
       "   'amountCollected': 0,\n",
       "   'year': 2021,\n",
       "   'cityName': 'Surat'},\n",
       "  {'month': 4,\n",
       "   'year': 2021,\n",
       "   'amountCollected': 0,\n",
       "   'cityName': 'Surat',\n",
       "   'date': '2021-04-25',\n",
       "   'id': 'suratmunicipal.org/6db486cb4f720e8585ba1f45a931c63c25dbbbda/rs.iudx.org.in/surat-revenue-collection/party-plot-bookings',\n",
       "   'totalCount': 0},\n",
       "  {'month': 4,\n",
       "   'year': 2021,\n",
       "   'amountCollected': 0,\n",
       "   'cityName': 'Surat',\n",
       "   'date': '2021-04-26',\n",
       "   'id': 'suratmunicipal.org/6db486cb4f720e8585ba1f45a931c63c25dbbbda/rs.iudx.org.in/surat-revenue-collection/party-plot-bookings',\n",
       "   'totalCount': 0},\n",
       "  {'month': 3,\n",
       "   'year': 2021,\n",
       "   'amountCollected': 228860,\n",
       "   'cityName': 'Surat',\n",
       "   'date': '2021-03-07',\n",
       "   'id': 'suratmunicipal.org/6db486cb4f720e8585ba1f45a931c63c25dbbbda/rs.iudx.org.in/surat-revenue-collection/party-plot-bookings',\n",
       "   'totalCount': 11},\n",
       "  {'month': 3,\n",
       "   'year': 2021,\n",
       "   'amountCollected': 209000,\n",
       "   'cityName': 'Surat',\n",
       "   'date': '2021-03-09',\n",
       "   'id': 'suratmunicipal.org/6db486cb4f720e8585ba1f45a931c63c25dbbbda/rs.iudx.org.in/surat-revenue-collection/party-plot-bookings',\n",
       "   'totalCount': 5},\n",
       "  {'month': 4,\n",
       "   'date': '2021-04-27',\n",
       "   'id': 'suratmunicipal.org/6db486cb4f720e8585ba1f45a931c63c25dbbbda/rs.iudx.org.in/surat-revenue-collection/party-plot-bookings',\n",
       "   'totalCount': 0,\n",
       "   'amountCollected': 0,\n",
       "   'year': 2021,\n",
       "   'cityName': 'Surat'},\n",
       "  {'month': 4,\n",
       "   'date': '2021-04-30',\n",
       "   'id': 'suratmunicipal.org/6db486cb4f720e8585ba1f45a931c63c25dbbbda/rs.iudx.org.in/surat-revenue-collection/party-plot-bookings',\n",
       "   'totalCount': 0,\n",
       "   'amountCollected': 0,\n",
       "   'year': 2021,\n",
       "   'cityName': 'Surat'},\n",
       "  {'month': 3,\n",
       "   'date': '2021-03-10',\n",
       "   'id': 'suratmunicipal.org/6db486cb4f720e8585ba1f45a931c63c25dbbbda/rs.iudx.org.in/surat-revenue-collection/party-plot-bookings',\n",
       "   'totalCount': 4,\n",
       "   'amountCollected': 138000,\n",
       "   'year': 2021,\n",
       "   'cityName': 'Surat'},\n",
       "  {'month': 3,\n",
       "   'year': 2021,\n",
       "   'amountCollected': 115300,\n",
       "   'cityName': 'Surat',\n",
       "   'date': '2021-03-03',\n",
       "   'id': 'suratmunicipal.org/6db486cb4f720e8585ba1f45a931c63c25dbbbda/rs.iudx.org.in/surat-revenue-collection/party-plot-bookings',\n",
       "   'totalCount': 276},\n",
       "  {'month': 3,\n",
       "   'year': 2021,\n",
       "   'amountCollected': 102360,\n",
       "   'cityName': 'Surat',\n",
       "   'date': '2021-03-29',\n",
       "   'id': 'suratmunicipal.org/6db486cb4f720e8585ba1f45a931c63c25dbbbda/rs.iudx.org.in/surat-revenue-collection/party-plot-bookings',\n",
       "   'totalCount': 6},\n",
       "  {'month': 3,\n",
       "   'year': 2021,\n",
       "   'amountCollected': 84360,\n",
       "   'cityName': 'Surat',\n",
       "   'date': '2021-03-08',\n",
       "   'id': 'suratmunicipal.org/6db486cb4f720e8585ba1f45a931c63c25dbbbda/rs.iudx.org.in/surat-revenue-collection/party-plot-bookings',\n",
       "   'totalCount': 4},\n",
       "  {'month': 3,\n",
       "   'year': 2021,\n",
       "   'amountCollected': 64080,\n",
       "   'cityName': 'Surat',\n",
       "   'date': '2021-03-14',\n",
       "   'id': 'suratmunicipal.org/6db486cb4f720e8585ba1f45a931c63c25dbbbda/rs.iudx.org.in/surat-revenue-collection/party-plot-bookings',\n",
       "   'totalCount': 8},\n",
       "  {'month': 3,\n",
       "   'year': 2021,\n",
       "   'amountCollected': 55360,\n",
       "   'cityName': 'Surat',\n",
       "   'date': '2021-03-18',\n",
       "   'id': 'suratmunicipal.org/6db486cb4f720e8585ba1f45a931c63c25dbbbda/rs.iudx.org.in/surat-revenue-collection/party-plot-bookings',\n",
       "   'totalCount': 4},\n",
       "  {'month': 3,\n",
       "   'year': 2021,\n",
       "   'amountCollected': 49080,\n",
       "   'cityName': 'Surat',\n",
       "   'date': '2021-03-16',\n",
       "   'id': 'suratmunicipal.org/6db486cb4f720e8585ba1f45a931c63c25dbbbda/rs.iudx.org.in/surat-revenue-collection/party-plot-bookings',\n",
       "   'totalCount': 6},\n",
       "  {'month': 3,\n",
       "   'year': 2021,\n",
       "   'amountCollected': 45000,\n",
       "   'cityName': 'Surat',\n",
       "   'date': '2021-03-12',\n",
       "   'id': 'suratmunicipal.org/6db486cb4f720e8585ba1f45a931c63c25dbbbda/rs.iudx.org.in/surat-revenue-collection/party-plot-bookings',\n",
       "   'totalCount': 1},\n",
       "  {'month': 3,\n",
       "   'year': 2021,\n",
       "   'amountCollected': 37310,\n",
       "   'cityName': 'Surat',\n",
       "   'date': '2021-03-26',\n",
       "   'id': 'suratmunicipal.org/6db486cb4f720e8585ba1f45a931c63c25dbbbda/rs.iudx.org.in/surat-revenue-collection/party-plot-bookings',\n",
       "   'totalCount': 4},\n",
       "  {'month': 3,\n",
       "   'date': '2021-03-17',\n",
       "   'id': 'suratmunicipal.org/6db486cb4f720e8585ba1f45a931c63c25dbbbda/rs.iudx.org.in/surat-revenue-collection/party-plot-bookings',\n",
       "   'totalCount': 7,\n",
       "   'amountCollected': 36160,\n",
       "   'year': 2021,\n",
       "   'cityName': 'Surat'},\n",
       "  {'month': 3,\n",
       "   'year': 2021,\n",
       "   'amountCollected': 32360,\n",
       "   'cityName': 'Surat',\n",
       "   'date': '2021-03-15',\n",
       "   'id': 'suratmunicipal.org/6db486cb4f720e8585ba1f45a931c63c25dbbbda/rs.iudx.org.in/surat-revenue-collection/party-plot-bookings',\n",
       "   'totalCount': 3},\n",
       "  {'month': 3,\n",
       "   'year': 2021,\n",
       "   'amountCollected': 30000,\n",
       "   'cityName': 'Surat',\n",
       "   'date': '2021-03-11',\n",
       "   'id': 'suratmunicipal.org/6db486cb4f720e8585ba1f45a931c63c25dbbbda/rs.iudx.org.in/surat-revenue-collection/party-plot-bookings',\n",
       "   'totalCount': 1},\n",
       "  {'month': 3,\n",
       "   'year': 2021,\n",
       "   'amountCollected': 25080,\n",
       "   'cityName': 'Surat',\n",
       "   'date': '2021-03-24',\n",
       "   'id': 'suratmunicipal.org/6db486cb4f720e8585ba1f45a931c63c25dbbbda/rs.iudx.org.in/surat-revenue-collection/party-plot-bookings',\n",
       "   'totalCount': 5},\n",
       "  {'month': 3,\n",
       "   'year': 2021,\n",
       "   'amountCollected': 22220,\n",
       "   'cityName': 'Surat',\n",
       "   'date': '2021-03-20',\n",
       "   'id': 'suratmunicipal.org/6db486cb4f720e8585ba1f45a931c63c25dbbbda/rs.iudx.org.in/surat-revenue-collection/party-plot-bookings',\n",
       "   'totalCount': 3},\n",
       "  {'month': 3,\n",
       "   'year': 2021,\n",
       "   'amountCollected': 22220,\n",
       "   'cityName': 'Surat',\n",
       "   'date': '2021-03-06',\n",
       "   'id': 'suratmunicipal.org/6db486cb4f720e8585ba1f45a931c63c25dbbbda/rs.iudx.org.in/surat-revenue-collection/party-plot-bookings',\n",
       "   'totalCount': 3},\n",
       "  {'month': 3,\n",
       "   'year': 2021,\n",
       "   'amountCollected': 11800,\n",
       "   'cityName': 'Surat',\n",
       "   'date': '2021-03-13',\n",
       "   'id': 'suratmunicipal.org/6db486cb4f720e8585ba1f45a931c63c25dbbbda/rs.iudx.org.in/surat-revenue-collection/party-plot-bookings',\n",
       "   'totalCount': 5},\n",
       "  {'month': 3,\n",
       "   'year': 2021,\n",
       "   'amountCollected': 9440,\n",
       "   'cityName': 'Surat',\n",
       "   'date': '2021-03-19',\n",
       "   'id': 'suratmunicipal.org/6db486cb4f720e8585ba1f45a931c63c25dbbbda/rs.iudx.org.in/surat-revenue-collection/party-plot-bookings',\n",
       "   'totalCount': 5},\n",
       "  {'month': 3,\n",
       "   'date': '2021-03-30',\n",
       "   'id': 'suratmunicipal.org/6db486cb4f720e8585ba1f45a931c63c25dbbbda/rs.iudx.org.in/surat-revenue-collection/party-plot-bookings',\n",
       "   'totalCount': 3,\n",
       "   'amountCollected': 6490,\n",
       "   'year': 2021,\n",
       "   'cityName': 'Surat'},\n",
       "  {'month': 3,\n",
       "   'year': 2021,\n",
       "   'amountCollected': 4720,\n",
       "   'cityName': 'Surat',\n",
       "   'date': '2021-03-22',\n",
       "   'id': 'suratmunicipal.org/6db486cb4f720e8585ba1f45a931c63c25dbbbda/rs.iudx.org.in/surat-revenue-collection/party-plot-bookings',\n",
       "   'totalCount': 2},\n",
       "  {'month': 3,\n",
       "   'year': 2021,\n",
       "   'amountCollected': 2360,\n",
       "   'cityName': 'Surat',\n",
       "   'date': '2021-03-23',\n",
       "   'id': 'suratmunicipal.org/6db486cb4f720e8585ba1f45a931c63c25dbbbda/rs.iudx.org.in/surat-revenue-collection/party-plot-bookings',\n",
       "   'totalCount': 1},\n",
       "  {'month': 3,\n",
       "   'year': 2021,\n",
       "   'amountCollected': 2360,\n",
       "   'cityName': 'Surat',\n",
       "   'date': '2021-03-28',\n",
       "   'id': 'suratmunicipal.org/6db486cb4f720e8585ba1f45a931c63c25dbbbda/rs.iudx.org.in/surat-revenue-collection/party-plot-bookings',\n",
       "   'totalCount': 2},\n",
       "  {'month': 3,\n",
       "   'year': 2021,\n",
       "   'amountCollected': 0,\n",
       "   'cityName': 'Surat',\n",
       "   'date': '2021-03-21',\n",
       "   'id': 'suratmunicipal.org/6db486cb4f720e8585ba1f45a931c63c25dbbbda/rs.iudx.org.in/surat-revenue-collection/party-plot-bookings',\n",
       "   'totalCount': 0},\n",
       "  {'month': 3,\n",
       "   'date': '2021-03-25',\n",
       "   'id': 'suratmunicipal.org/6db486cb4f720e8585ba1f45a931c63c25dbbbda/rs.iudx.org.in/surat-revenue-collection/party-plot-bookings',\n",
       "   'totalCount': 0,\n",
       "   'amountCollected': 0,\n",
       "   'year': 2021,\n",
       "   'cityName': 'Surat'},\n",
       "  {'month': 3,\n",
       "   'year': 2021,\n",
       "   'amountCollected': 0,\n",
       "   'cityName': 'Surat',\n",
       "   'date': '2021-03-27',\n",
       "   'id': 'suratmunicipal.org/6db486cb4f720e8585ba1f45a931c63c25dbbbda/rs.iudx.org.in/surat-revenue-collection/party-plot-bookings',\n",
       "   'totalCount': 0},\n",
       "  {'month': 3,\n",
       "   'year': 2021,\n",
       "   'amountCollected': 0,\n",
       "   'cityName': 'Surat',\n",
       "   'date': '2021-03-31',\n",
       "   'id': 'suratmunicipal.org/6db486cb4f720e8585ba1f45a931c63c25dbbbda/rs.iudx.org.in/surat-revenue-collection/party-plot-bookings',\n",
       "   'totalCount': 0},\n",
       "  {'month': 3,\n",
       "   'year': 2021,\n",
       "   'amountCollected': 0,\n",
       "   'cityName': 'Surat',\n",
       "   'date': '2021-03-04',\n",
       "   'id': 'suratmunicipal.org/6db486cb4f720e8585ba1f45a931c63c25dbbbda/rs.iudx.org.in/surat-revenue-collection/party-plot-bookings',\n",
       "   'totalCount': 0},\n",
       "  {'month': 3,\n",
       "   'year': 2021,\n",
       "   'amountCollected': 0,\n",
       "   'cityName': 'Surat',\n",
       "   'date': '2021-03-05',\n",
       "   'id': 'suratmunicipal.org/6db486cb4f720e8585ba1f45a931c63c25dbbbda/rs.iudx.org.in/surat-revenue-collection/party-plot-bookings',\n",
       "   'totalCount': 0},\n",
       "  {'month': 2,\n",
       "   'year': 2021,\n",
       "   'amountCollected': 210000,\n",
       "   'cityName': 'Surat',\n",
       "   'date': '2021-02-07',\n",
       "   'id': 'suratmunicipal.org/6db486cb4f720e8585ba1f45a931c63c25dbbbda/rs.iudx.org.in/surat-revenue-collection/party-plot-bookings',\n",
       "   'totalCount': 10},\n",
       "  {'month': 2,\n",
       "   'year': 2021,\n",
       "   'amountCollected': 194440,\n",
       "   'cityName': 'Surat',\n",
       "   'date': '2021-02-26',\n",
       "   'id': 'suratmunicipal.org/6db486cb4f720e8585ba1f45a931c63c25dbbbda/rs.iudx.org.in/surat-revenue-collection/party-plot-bookings',\n",
       "   'totalCount': 14},\n",
       "  {'month': 2,\n",
       "   'year': 2021,\n",
       "   'amountCollected': 126940,\n",
       "   'cityName': 'Surat',\n",
       "   'date': '2021-02-03',\n",
       "   'id': 'suratmunicipal.org/6db486cb4f720e8585ba1f45a931c63c25dbbbda/rs.iudx.org.in/surat-revenue-collection/party-plot-bookings',\n",
       "   'totalCount': 11},\n",
       "  {'month': 2,\n",
       "   'date': '2021-02-12',\n",
       "   'id': 'suratmunicipal.org/6db486cb4f720e8585ba1f45a931c63c25dbbbda/rs.iudx.org.in/surat-revenue-collection/party-plot-bookings',\n",
       "   'totalCount': 13,\n",
       "   'amountCollected': 95130,\n",
       "   'year': 2021,\n",
       "   'cityName': 'Surat'},\n",
       "  {'month': 2,\n",
       "   'date': '2021-02-27',\n",
       "   'id': 'suratmunicipal.org/6db486cb4f720e8585ba1f45a931c63c25dbbbda/rs.iudx.org.in/surat-revenue-collection/party-plot-bookings',\n",
       "   'totalCount': 5,\n",
       "   'amountCollected': 65580,\n",
       "   'year': 2021,\n",
       "   'cityName': 'Surat'},\n",
       "  {'month': 2,\n",
       "   'date': '2021-02-09',\n",
       "   'id': 'suratmunicipal.org/6db486cb4f720e8585ba1f45a931c63c25dbbbda/rs.iudx.org.in/surat-revenue-collection/party-plot-bookings',\n",
       "   'totalCount': 1,\n",
       "   'amountCollected': 63000,\n",
       "   'year': 2021,\n",
       "   'cityName': 'Surat'},\n",
       "  {'month': 2,\n",
       "   'date': '2021-02-11',\n",
       "   'id': 'suratmunicipal.org/6db486cb4f720e8585ba1f45a931c63c25dbbbda/rs.iudx.org.in/surat-revenue-collection/party-plot-bookings',\n",
       "   'totalCount': 2,\n",
       "   'amountCollected': 60000,\n",
       "   'year': 2021,\n",
       "   'cityName': 'Surat'},\n",
       "  {'month': 2,\n",
       "   'date': '2021-02-28',\n",
       "   'id': 'suratmunicipal.org/6db486cb4f720e8585ba1f45a931c63c25dbbbda/rs.iudx.org.in/surat-revenue-collection/party-plot-bookings',\n",
       "   'totalCount': 9,\n",
       "   'amountCollected': 55570,\n",
       "   'year': 2021,\n",
       "   'cityName': 'Surat'},\n",
       "  {'month': 2,\n",
       "   'date': '2021-02-25',\n",
       "   'id': 'suratmunicipal.org/6db486cb4f720e8585ba1f45a931c63c25dbbbda/rs.iudx.org.in/surat-revenue-collection/party-plot-bookings',\n",
       "   'totalCount': 4,\n",
       "   'amountCollected': 52720,\n",
       "   'year': 2021,\n",
       "   'cityName': 'Surat'},\n",
       "  {'month': 2,\n",
       "   'date': '2021-02-04',\n",
       "   'id': 'suratmunicipal.org/6db486cb4f720e8585ba1f45a931c63c25dbbbda/rs.iudx.org.in/surat-revenue-collection/party-plot-bookings',\n",
       "   'totalCount': 3,\n",
       "   'amountCollected': 52080,\n",
       "   'year': 2021,\n",
       "   'cityName': 'Surat'},\n",
       "  {'month': 2,\n",
       "   'date': '2021-02-08',\n",
       "   'id': 'suratmunicipal.org/6db486cb4f720e8585ba1f45a931c63c25dbbbda/rs.iudx.org.in/surat-revenue-collection/party-plot-bookings',\n",
       "   'totalCount': 2,\n",
       "   'amountCollected': 38360,\n",
       "   'year': 2021,\n",
       "   'cityName': 'Surat'},\n",
       "  {'month': 2,\n",
       "   'date': '2021-02-06',\n",
       "   'id': 'suratmunicipal.org/6db486cb4f720e8585ba1f45a931c63c25dbbbda/rs.iudx.org.in/surat-revenue-collection/party-plot-bookings',\n",
       "   'totalCount': 2,\n",
       "   'amountCollected': 2360,\n",
       "   'year': 2021,\n",
       "   'cityName': 'Surat'},\n",
       "  {'month': 2,\n",
       "   'date': '2021-02-05',\n",
       "   'id': 'suratmunicipal.org/6db486cb4f720e8585ba1f45a931c63c25dbbbda/rs.iudx.org.in/surat-revenue-collection/party-plot-bookings',\n",
       "   'totalCount': 0,\n",
       "   'amountCollected': 0,\n",
       "   'year': 2021,\n",
       "   'cityName': 'Surat'},\n",
       "  {'month': 2,\n",
       "   'date': '2021-02-10',\n",
       "   'id': 'suratmunicipal.org/6db486cb4f720e8585ba1f45a931c63c25dbbbda/rs.iudx.org.in/surat-revenue-collection/party-plot-bookings',\n",
       "   'totalCount': 0,\n",
       "   'amountCollected': 0,\n",
       "   'year': 2021,\n",
       "   'cityName': 'Surat'},\n",
       "  {'month': 1,\n",
       "   'year': 2021,\n",
       "   'amountCollected': 259500,\n",
       "   'cityName': 'Surat',\n",
       "   'date': '2021-01-07',\n",
       "   'id': 'suratmunicipal.org/6db486cb4f720e8585ba1f45a931c63c25dbbbda/rs.iudx.org.in/surat-revenue-collection/party-plot-bookings',\n",
       "   'totalCount': 11},\n",
       "  {'month': 1,\n",
       "   'year': 2021,\n",
       "   'amountCollected': 207130,\n",
       "   'cityName': 'Surat',\n",
       "   'date': '2021-01-09',\n",
       "   'id': 'suratmunicipal.org/6db486cb4f720e8585ba1f45a931c63c25dbbbda/rs.iudx.org.in/surat-revenue-collection/party-plot-bookings',\n",
       "   'totalCount': 7},\n",
       "  {'month': 1,\n",
       "   'date': '2021-01-06',\n",
       "   'id': 'suratmunicipal.org/6db486cb4f720e8585ba1f45a931c63c25dbbbda/rs.iudx.org.in/surat-revenue-collection/party-plot-bookings',\n",
       "   'totalCount': 65,\n",
       "   'amountCollected': 102000,\n",
       "   'year': 2021,\n",
       "   'cityName': 'Surat'},\n",
       "  {'month': 1,\n",
       "   'date': '2021-01-12',\n",
       "   'id': 'suratmunicipal.org/6db486cb4f720e8585ba1f45a931c63c25dbbbda/rs.iudx.org.in/surat-revenue-collection/party-plot-bookings',\n",
       "   'totalCount': 10,\n",
       "   'amountCollected': 97800,\n",
       "   'year': 2021,\n",
       "   'cityName': 'Surat'},\n",
       "  {'month': 1,\n",
       "   'year': 2021,\n",
       "   'amountCollected': 87300,\n",
       "   'cityName': 'Surat',\n",
       "   'date': '2021-01-03',\n",
       "   'id': 'suratmunicipal.org/6db486cb4f720e8585ba1f45a931c63c25dbbbda/rs.iudx.org.in/surat-revenue-collection/party-plot-bookings',\n",
       "   'totalCount': 82},\n",
       "  {'month': 1,\n",
       "   'date': '2021-01-08',\n",
       "   'id': 'suratmunicipal.org/6db486cb4f720e8585ba1f45a931c63c25dbbbda/rs.iudx.org.in/surat-revenue-collection/party-plot-bookings',\n",
       "   'totalCount': 2,\n",
       "   'amountCollected': 48000,\n",
       "   'year': 2021,\n",
       "   'cityName': 'Surat'},\n",
       "  {'month': 1,\n",
       "   'year': 2021,\n",
       "   'amountCollected': 36000,\n",
       "   'cityName': 'Surat',\n",
       "   'date': '2021-01-10',\n",
       "   'id': 'suratmunicipal.org/6db486cb4f720e8585ba1f45a931c63c25dbbbda/rs.iudx.org.in/surat-revenue-collection/party-plot-bookings',\n",
       "   'totalCount': 3},\n",
       "  {'month': 1,\n",
       "   'date': '2021-01-11',\n",
       "   'id': 'suratmunicipal.org/6db486cb4f720e8585ba1f45a931c63c25dbbbda/rs.iudx.org.in/surat-revenue-collection/party-plot-bookings',\n",
       "   'totalCount': 1,\n",
       "   'amountCollected': 36000,\n",
       "   'year': 2021,\n",
       "   'cityName': 'Surat'},\n",
       "  {'month': 1,\n",
       "   'date': '2021-01-04',\n",
       "   'id': 'suratmunicipal.org/6db486cb4f720e8585ba1f45a931c63c25dbbbda/rs.iudx.org.in/surat-revenue-collection/party-plot-bookings',\n",
       "   'totalCount': 1,\n",
       "   'amountCollected': 2360,\n",
       "   'year': 2021,\n",
       "   'cityName': 'Surat'},\n",
       "  {'month': 1,\n",
       "   'date': '2021-01-05',\n",
       "   'id': 'suratmunicipal.org/6db486cb4f720e8585ba1f45a931c63c25dbbbda/rs.iudx.org.in/surat-revenue-collection/party-plot-bookings',\n",
       "   'totalCount': 0,\n",
       "   'amountCollected': 0,\n",
       "   'year': 2021,\n",
       "   'cityName': 'Surat'},\n",
       "  {'month': 12,\n",
       "   'date': '2020-12-17',\n",
       "   'id': 'suratmunicipal.org/6db486cb4f720e8585ba1f45a931c63c25dbbbda/rs.iudx.org.in/surat-revenue-collection/party-plot-bookings',\n",
       "   'totalCount': 35,\n",
       "   'amountCollected': 225580,\n",
       "   'year': 2020,\n",
       "   'cityName': 'Surat'},\n",
       "  {'month': 12,\n",
       "   'date': '2020-12-11',\n",
       "   'id': 'suratmunicipal.org/6db486cb4f720e8585ba1f45a931c63c25dbbbda/rs.iudx.org.in/surat-revenue-collection/party-plot-bookings',\n",
       "   'totalCount': 9,\n",
       "   'amountCollected': 178360,\n",
       "   'year': 2020,\n",
       "   'cityName': 'Surat'},\n",
       "  {'month': 12,\n",
       "   'date': '2020-12-16',\n",
       "   'id': 'suratmunicipal.org/6db486cb4f720e8585ba1f45a931c63c25dbbbda/rs.iudx.org.in/surat-revenue-collection/party-plot-bookings',\n",
       "   'totalCount': 9,\n",
       "   'amountCollected': 166860,\n",
       "   'year': 2020,\n",
       "   'cityName': 'Surat'},\n",
       "  {'month': 12,\n",
       "   'date': '2020-12-15',\n",
       "   'id': 'suratmunicipal.org/6db486cb4f720e8585ba1f45a931c63c25dbbbda/rs.iudx.org.in/surat-revenue-collection/party-plot-bookings',\n",
       "   'totalCount': 13,\n",
       "   'amountCollected': 154720,\n",
       "   'year': 2020,\n",
       "   'cityName': 'Surat'},\n",
       "  {'month': 12,\n",
       "   'date': '2020-12-18',\n",
       "   'id': 'suratmunicipal.org/6db486cb4f720e8585ba1f45a931c63c25dbbbda/rs.iudx.org.in/surat-revenue-collection/party-plot-bookings',\n",
       "   'totalCount': 6,\n",
       "   'amountCollected': 144000,\n",
       "   'year': 2020,\n",
       "   'cityName': 'Surat'},\n",
       "  {'month': 12,\n",
       "   'date': '2020-12-14',\n",
       "   'id': 'suratmunicipal.org/6db486cb4f720e8585ba1f45a931c63c25dbbbda/rs.iudx.org.in/surat-revenue-collection/party-plot-bookings',\n",
       "   'totalCount': 6,\n",
       "   'amountCollected': 107360,\n",
       "   'year': 2020,\n",
       "   'cityName': 'Surat'},\n",
       "  {'month': 12,\n",
       "   'date': '2020-12-20',\n",
       "   'id': 'suratmunicipal.org/6db486cb4f720e8585ba1f45a931c63c25dbbbda/rs.iudx.org.in/surat-revenue-collection/party-plot-bookings',\n",
       "   'totalCount': 3,\n",
       "   'amountCollected': 87000,\n",
       "   'year': 2020,\n",
       "   'cityName': 'Surat'},\n",
       "  {'month': 12,\n",
       "   'date': '2020-12-12',\n",
       "   'id': 'suratmunicipal.org/6db486cb4f720e8585ba1f45a931c63c25dbbbda/rs.iudx.org.in/surat-revenue-collection/party-plot-bookings',\n",
       "   'totalCount': 6,\n",
       "   'amountCollected': 77360,\n",
       "   'year': 2020,\n",
       "   'cityName': 'Surat'},\n",
       "  {'month': 12,\n",
       "   'date': '2020-12-13',\n",
       "   'id': 'suratmunicipal.org/6db486cb4f720e8585ba1f45a931c63c25dbbbda/rs.iudx.org.in/surat-revenue-collection/party-plot-bookings',\n",
       "   'totalCount': 8,\n",
       "   'amountCollected': 67800,\n",
       "   'year': 2020,\n",
       "   'cityName': 'Surat'},\n",
       "  {'month': 12,\n",
       "   'date': '2020-12-19',\n",
       "   'id': 'suratmunicipal.org/6db486cb4f720e8585ba1f45a931c63c25dbbbda/rs.iudx.org.in/surat-revenue-collection/party-plot-bookings',\n",
       "   'totalCount': 5,\n",
       "   'amountCollected': 55720,\n",
       "   'year': 2020,\n",
       "   'cityName': 'Surat'},\n",
       "  {'month': 12,\n",
       "   'date': '2020-12-10',\n",
       "   'id': 'suratmunicipal.org/6db486cb4f720e8585ba1f45a931c63c25dbbbda/rs.iudx.org.in/surat-revenue-collection/party-plot-bookings',\n",
       "   'totalCount': 2,\n",
       "   'amountCollected': 51000,\n",
       "   'year': 2020,\n",
       "   'cityName': 'Surat'},\n",
       "  {'month': 12,\n",
       "   'year': 2020,\n",
       "   'amountCollected': 44000,\n",
       "   'cityName': 'Surat',\n",
       "   'date': '2020-12-21',\n",
       "   'id': 'suratmunicipal.org/6db486cb4f720e8585ba1f45a931c63c25dbbbda/rs.iudx.org.in/surat-revenue-collection/party-plot-bookings',\n",
       "   'totalCount': 2},\n",
       "  {'month': 11,\n",
       "   'year': 2020,\n",
       "   'amountCollected': 257860,\n",
       "   'cityName': 'Surat',\n",
       "   'date': '2020-11-20',\n",
       "   'id': 'suratmunicipal.org/6db486cb4f720e8585ba1f45a931c63c25dbbbda/rs.iudx.org.in/surat-revenue-collection/party-plot-bookings',\n",
       "   'totalCount': 13},\n",
       "  {'month': 11,\n",
       "   'year': 2020,\n",
       "   'amountCollected': 168720,\n",
       "   'cityName': 'Surat',\n",
       "   'date': '2020-11-23',\n",
       "   'id': 'suratmunicipal.org/6db486cb4f720e8585ba1f45a931c63c25dbbbda/rs.iudx.org.in/surat-revenue-collection/party-plot-bookings',\n",
       "   'totalCount': 6},\n",
       "  {'month': 11,\n",
       "   'year': 2020,\n",
       "   'amountCollected': 153360,\n",
       "   'cityName': 'Surat',\n",
       "   'date': '2020-11-19',\n",
       "   'id': 'suratmunicipal.org/6db486cb4f720e8585ba1f45a931c63c25dbbbda/rs.iudx.org.in/surat-revenue-collection/party-plot-bookings',\n",
       "   'totalCount': 8},\n",
       "  {'month': 11,\n",
       "   'year': 2020,\n",
       "   'amountCollected': 144220,\n",
       "   'cityName': 'Surat',\n",
       "   'date': '2020-11-12',\n",
       "   'id': 'suratmunicipal.org/6db486cb4f720e8585ba1f45a931c63c25dbbbda/rs.iudx.org.in/surat-revenue-collection/party-plot-bookings',\n",
       "   'totalCount': 8},\n",
       "  {'month': 11,\n",
       "   'year': 2020,\n",
       "   'amountCollected': 137860,\n",
       "   'cityName': 'Surat',\n",
       "   'date': '2020-11-11',\n",
       "   'id': 'suratmunicipal.org/6db486cb4f720e8585ba1f45a931c63c25dbbbda/rs.iudx.org.in/surat-revenue-collection/party-plot-bookings',\n",
       "   'totalCount': 10},\n",
       "  {'month': 11,\n",
       "   'date': '2020-11-27',\n",
       "   'id': 'suratmunicipal.org/6db486cb4f720e8585ba1f45a931c63c25dbbbda/rs.iudx.org.in/surat-revenue-collection/party-plot-bookings',\n",
       "   'totalCount': 6,\n",
       "   'amountCollected': 130000,\n",
       "   'year': 2020,\n",
       "   'cityName': 'Surat'},\n",
       "  {'month': 11,\n",
       "   'year': 2020,\n",
       "   'amountCollected': 122360,\n",
       "   'cityName': 'Surat',\n",
       "   'date': '2020-11-25',\n",
       "   'id': 'suratmunicipal.org/6db486cb4f720e8585ba1f45a931c63c25dbbbda/rs.iudx.org.in/surat-revenue-collection/party-plot-bookings',\n",
       "   'totalCount': 6},\n",
       "  {'month': 11,\n",
       "   'year': 2020,\n",
       "   'amountCollected': 113360,\n",
       "   'cityName': 'Surat',\n",
       "   'date': '2020-11-18',\n",
       "   'id': 'suratmunicipal.org/6db486cb4f720e8585ba1f45a931c63c25dbbbda/rs.iudx.org.in/surat-revenue-collection/party-plot-bookings',\n",
       "   'totalCount': 6},\n",
       "  {'month': 11,\n",
       "   'year': 2020,\n",
       "   'amountCollected': 78000,\n",
       "   'cityName': 'Surat',\n",
       "   'date': '2020-11-10',\n",
       "   'id': 'suratmunicipal.org/6db486cb4f720e8585ba1f45a931c63c25dbbbda/rs.iudx.org.in/surat-revenue-collection/party-plot-bookings',\n",
       "   'totalCount': 2},\n",
       "  {'month': 11,\n",
       "   'year': 2020,\n",
       "   'amountCollected': 76160,\n",
       "   'cityName': 'Surat',\n",
       "   'date': '2020-11-29',\n",
       "   'id': 'suratmunicipal.org/6db486cb4f720e8585ba1f45a931c63c25dbbbda/rs.iudx.org.in/surat-revenue-collection/party-plot-bookings',\n",
       "   'totalCount': 11},\n",
       "  {'month': 11,\n",
       "   'year': 2020,\n",
       "   'amountCollected': 75000,\n",
       "   'cityName': 'Surat',\n",
       "   'date': '2020-11-26',\n",
       "   'id': 'suratmunicipal.org/6db486cb4f720e8585ba1f45a931c63c25dbbbda/rs.iudx.org.in/surat-revenue-collection/party-plot-bookings',\n",
       "   'totalCount': 2},\n",
       "  {'month': 11,\n",
       "   'year': 2020,\n",
       "   'amountCollected': 72000,\n",
       "   'cityName': 'Surat',\n",
       "   'date': '2020-11-17',\n",
       "   'id': 'suratmunicipal.org/6db486cb4f720e8585ba1f45a931c63c25dbbbda/rs.iudx.org.in/surat-revenue-collection/party-plot-bookings',\n",
       "   'totalCount': 2},\n",
       "  {'month': 11,\n",
       "   'year': 2020,\n",
       "   'amountCollected': 65860,\n",
       "   'cityName': 'Surat',\n",
       "   'date': '2020-11-13',\n",
       "   'id': 'suratmunicipal.org/6db486cb4f720e8585ba1f45a931c63c25dbbbda/rs.iudx.org.in/surat-revenue-collection/party-plot-bookings',\n",
       "   'totalCount': 3},\n",
       "  {'month': 11,\n",
       "   'year': 2020,\n",
       "   'amountCollected': 63000,\n",
       "   'cityName': 'Surat',\n",
       "   'date': '2020-11-24',\n",
       "   'id': 'suratmunicipal.org/6db486cb4f720e8585ba1f45a931c63c25dbbbda/rs.iudx.org.in/surat-revenue-collection/party-plot-bookings',\n",
       "   'totalCount': 5},\n",
       "  {'month': 11,\n",
       "   'year': 2020,\n",
       "   'amountCollected': 40080,\n",
       "   'cityName': 'Surat',\n",
       "   'date': '2020-11-21',\n",
       "   'id': 'suratmunicipal.org/6db486cb4f720e8585ba1f45a931c63c25dbbbda/rs.iudx.org.in/surat-revenue-collection/party-plot-bookings',\n",
       "   'totalCount': 7},\n",
       "  {'month': 11,\n",
       "   'date': '2020-11-15',\n",
       "   'id': 'suratmunicipal.org/6db486cb4f720e8585ba1f45a931c63c25dbbbda/rs.iudx.org.in/surat-revenue-collection/party-plot-bookings',\n",
       "   'totalCount': 2,\n",
       "   'amountCollected': 36000,\n",
       "   'year': 2020,\n",
       "   'cityName': 'Surat'},\n",
       "  {'month': 11,\n",
       "   'date': '2020-11-14',\n",
       "   'id': 'suratmunicipal.org/6db486cb4f720e8585ba1f45a931c63c25dbbbda/rs.iudx.org.in/surat-revenue-collection/party-plot-bookings',\n",
       "   'totalCount': 1,\n",
       "   'amountCollected': 21000,\n",
       "   'year': 2020,\n",
       "   'cityName': 'Surat'},\n",
       "  {'month': 11,\n",
       "   'date': '2020-11-16',\n",
       "   'id': 'suratmunicipal.org/6db486cb4f720e8585ba1f45a931c63c25dbbbda/rs.iudx.org.in/surat-revenue-collection/party-plot-bookings',\n",
       "   'totalCount': 4,\n",
       "   'amountCollected': 7080,\n",
       "   'year': 2020,\n",
       "   'cityName': 'Surat'},\n",
       "  {'month': 11,\n",
       "   'date': '2020-11-22',\n",
       "   'id': 'suratmunicipal.org/6db486cb4f720e8585ba1f45a931c63c25dbbbda/rs.iudx.org.in/surat-revenue-collection/party-plot-bookings',\n",
       "   'totalCount': 4,\n",
       "   'amountCollected': 7080,\n",
       "   'year': 2020,\n",
       "   'cityName': 'Surat'},\n",
       "  {'month': 11,\n",
       "   'date': '2020-11-28',\n",
       "   'id': 'suratmunicipal.org/6db486cb4f720e8585ba1f45a931c63c25dbbbda/rs.iudx.org.in/surat-revenue-collection/party-plot-bookings',\n",
       "   'totalCount': 2,\n",
       "   'amountCollected': 4720,\n",
       "   'year': 2020,\n",
       "   'cityName': 'Surat'},\n",
       "  {'month': 11,\n",
       "   'date': '2020-11-30',\n",
       "   'id': 'suratmunicipal.org/6db486cb4f720e8585ba1f45a931c63c25dbbbda/rs.iudx.org.in/surat-revenue-collection/party-plot-bookings',\n",
       "   'totalCount': 1,\n",
       "   'amountCollected': 2360,\n",
       "   'year': 2020,\n",
       "   'cityName': 'Surat'},\n",
       "  {'month': 10,\n",
       "   'year': 2020,\n",
       "   'amountCollected': 166720,\n",
       "   'cityName': 'Surat',\n",
       "   'date': '2020-10-21',\n",
       "   'id': 'suratmunicipal.org/6db486cb4f720e8585ba1f45a931c63c25dbbbda/rs.iudx.org.in/surat-revenue-collection/party-plot-bookings',\n",
       "   'totalCount': 11},\n",
       "  {'month': 10,\n",
       "   'date': '2020-10-12',\n",
       "   'id': 'suratmunicipal.org/6db486cb4f720e8585ba1f45a931c63c25dbbbda/rs.iudx.org.in/surat-revenue-collection/party-plot-bookings',\n",
       "   'totalCount': 9,\n",
       "   'amountCollected': 141440,\n",
       "   'year': 2020,\n",
       "   'cityName': 'Surat'},\n",
       "  {'month': 10,\n",
       "   'year': 2020,\n",
       "   'amountCollected': 140360,\n",
       "   'cityName': 'Surat',\n",
       "   'date': '2020-10-10',\n",
       "   'id': 'suratmunicipal.org/6db486cb4f720e8585ba1f45a931c63c25dbbbda/rs.iudx.org.in/surat-revenue-collection/party-plot-bookings',\n",
       "   'totalCount': 14},\n",
       "  {'month': 10,\n",
       "   'date': '2020-10-23',\n",
       "   'id': 'suratmunicipal.org/6db486cb4f720e8585ba1f45a931c63c25dbbbda/rs.iudx.org.in/surat-revenue-collection/party-plot-bookings',\n",
       "   'totalCount': 6,\n",
       "   'amountCollected': 97360,\n",
       "   'year': 2020,\n",
       "   'cityName': 'Surat'},\n",
       "  {'month': 10,\n",
       "   'year': 2020,\n",
       "   'amountCollected': 140000,\n",
       "   'cityName': 'Surat',\n",
       "   'date': '2020-10-25',\n",
       "   'id': 'suratmunicipal.org/6db486cb4f720e8585ba1f45a931c63c25dbbbda/rs.iudx.org.in/surat-revenue-collection/party-plot-bookings',\n",
       "   'totalCount': 3},\n",
       "  {'month': 10,\n",
       "   'year': 2020,\n",
       "   'amountCollected': 112000,\n",
       "   'cityName': 'Surat',\n",
       "   'date': '2020-10-14',\n",
       "   'id': 'suratmunicipal.org/6db486cb4f720e8585ba1f45a931c63c25dbbbda/rs.iudx.org.in/surat-revenue-collection/party-plot-bookings',\n",
       "   'totalCount': 7},\n",
       "  {'month': 10,\n",
       "   'year': 2020,\n",
       "   'amountCollected': 90720,\n",
       "   'cityName': 'Surat',\n",
       "   'date': '2020-10-13',\n",
       "   'id': 'suratmunicipal.org/6db486cb4f720e8585ba1f45a931c63c25dbbbda/rs.iudx.org.in/surat-revenue-collection/party-plot-bookings',\n",
       "   'totalCount': 5},\n",
       "  {'month': 10,\n",
       "   'date': '2020-10-27',\n",
       "   'id': 'suratmunicipal.org/6db486cb4f720e8585ba1f45a931c63c25dbbbda/rs.iudx.org.in/surat-revenue-collection/party-plot-bookings',\n",
       "   'totalCount': 4,\n",
       "   'amountCollected': 87000,\n",
       "   'year': 2020,\n",
       "   'cityName': 'Surat'},\n",
       "  {'month': 10,\n",
       "   'year': 2020,\n",
       "   'amountCollected': 75770,\n",
       "   'cityName': 'Surat',\n",
       "   'date': '2020-10-28',\n",
       "   'id': 'suratmunicipal.org/6db486cb4f720e8585ba1f45a931c63c25dbbbda/rs.iudx.org.in/surat-revenue-collection/party-plot-bookings',\n",
       "   'totalCount': 4},\n",
       "  {'month': 10,\n",
       "   'year': 2020,\n",
       "   'amountCollected': 65360,\n",
       "   'cityName': 'Surat',\n",
       "   'date': '2020-10-11',\n",
       "   'id': 'suratmunicipal.org/6db486cb4f720e8585ba1f45a931c63c25dbbbda/rs.iudx.org.in/surat-revenue-collection/party-plot-bookings',\n",
       "   'totalCount': 4},\n",
       "  {'month': 10,\n",
       "   'year': 2020,\n",
       "   'amountCollected': 30000,\n",
       "   'cityName': 'Surat',\n",
       "   'date': '2020-10-22',\n",
       "   'id': 'suratmunicipal.org/6db486cb4f720e8585ba1f45a931c63c25dbbbda/rs.iudx.org.in/surat-revenue-collection/party-plot-bookings',\n",
       "   'totalCount': 3},\n",
       "  {'month': 10,\n",
       "   'year': 2020,\n",
       "   'amountCollected': 25720,\n",
       "   'cityName': 'Surat',\n",
       "   'date': '2020-10-31',\n",
       "   'id': 'suratmunicipal.org/6db486cb4f720e8585ba1f45a931c63c25dbbbda/rs.iudx.org.in/surat-revenue-collection/party-plot-bookings',\n",
       "   'totalCount': 5},\n",
       "  {'month': 10,\n",
       "   'year': 2020,\n",
       "   'amountCollected': 14360,\n",
       "   'cityName': 'Surat',\n",
       "   'date': '2020-10-26',\n",
       "   'id': 'suratmunicipal.org/6db486cb4f720e8585ba1f45a931c63c25dbbbda/rs.iudx.org.in/surat-revenue-collection/party-plot-bookings',\n",
       "   'totalCount': 3},\n",
       "  {'month': 10,\n",
       "   'year': 2020,\n",
       "   'amountCollected': 13500,\n",
       "   'cityName': 'Surat',\n",
       "   'date': '2020-10-30',\n",
       "   'id': 'suratmunicipal.org/6db486cb4f720e8585ba1f45a931c63c25dbbbda/rs.iudx.org.in/surat-revenue-collection/party-plot-bookings',\n",
       "   'totalCount': 1},\n",
       "  {'month': 10,\n",
       "   'year': 2020,\n",
       "   'amountCollected': 12000,\n",
       "   'cityName': 'Surat',\n",
       "   'date': '2020-10-16',\n",
       "   'id': 'suratmunicipal.org/6db486cb4f720e8585ba1f45a931c63c25dbbbda/rs.iudx.org.in/surat-revenue-collection/party-plot-bookings',\n",
       "   'totalCount': 1},\n",
       "  {'month': 10,\n",
       "   'year': 2020,\n",
       "   'amountCollected': 4720,\n",
       "   'cityName': 'Surat',\n",
       "   'date': '2020-10-29',\n",
       "   'id': 'suratmunicipal.org/6db486cb4f720e8585ba1f45a931c63c25dbbbda/rs.iudx.org.in/surat-revenue-collection/party-plot-bookings',\n",
       "   'totalCount': 2},\n",
       "  {'month': 10,\n",
       "   'date': '2020-10-15',\n",
       "   'id': 'suratmunicipal.org/6db486cb4f720e8585ba1f45a931c63c25dbbbda/rs.iudx.org.in/surat-revenue-collection/party-plot-bookings',\n",
       "   'totalCount': 1,\n",
       "   'amountCollected': 2360,\n",
       "   'year': 2020,\n",
       "   'cityName': 'Surat'},\n",
       "  {'month': 10,\n",
       "   'date': '2020-10-24',\n",
       "   'id': 'suratmunicipal.org/6db486cb4f720e8585ba1f45a931c63c25dbbbda/rs.iudx.org.in/surat-revenue-collection/party-plot-bookings',\n",
       "   'totalCount': 1,\n",
       "   'amountCollected': 2360,\n",
       "   'year': 2020,\n",
       "   'cityName': 'Surat'},\n",
       "  {'month': 10,\n",
       "   'date': '2020-10-17',\n",
       "   'id': 'suratmunicipal.org/6db486cb4f720e8585ba1f45a931c63c25dbbbda/rs.iudx.org.in/surat-revenue-collection/party-plot-bookings',\n",
       "   'totalCount': 0,\n",
       "   'amountCollected': 0,\n",
       "   'year': 2020,\n",
       "   'cityName': 'Surat'},\n",
       "  {'month': 10,\n",
       "   'date': '2020-10-18',\n",
       "   'id': 'suratmunicipal.org/6db486cb4f720e8585ba1f45a931c63c25dbbbda/rs.iudx.org.in/surat-revenue-collection/party-plot-bookings',\n",
       "   'totalCount': 0,\n",
       "   'amountCollected': 0,\n",
       "   'year': 2020,\n",
       "   'cityName': 'Surat'},\n",
       "  {'month': 10,\n",
       "   'date': '2020-10-19',\n",
       "   'id': 'suratmunicipal.org/6db486cb4f720e8585ba1f45a931c63c25dbbbda/rs.iudx.org.in/surat-revenue-collection/party-plot-bookings',\n",
       "   'totalCount': 0,\n",
       "   'amountCollected': 0,\n",
       "   'year': 2020,\n",
       "   'cityName': 'Surat'},\n",
       "  {'month': 10,\n",
       "   'date': '2020-10-20',\n",
       "   'id': 'suratmunicipal.org/6db486cb4f720e8585ba1f45a931c63c25dbbbda/rs.iudx.org.in/surat-revenue-collection/party-plot-bookings',\n",
       "   'totalCount': 0,\n",
       "   'amountCollected': 0,\n",
       "   'year': 2020,\n",
       "   'cityName': 'Surat'},\n",
       "  {'month': 9,\n",
       "   'date': '2020-09-29',\n",
       "   'id': 'suratmunicipal.org/6db486cb4f720e8585ba1f45a931c63c25dbbbda/rs.iudx.org.in/surat-revenue-collection/party-plot-bookings',\n",
       "   'totalCount': 11,\n",
       "   'amountCollected': 224500,\n",
       "   'year': 2020,\n",
       "   'cityName': 'Surat'},\n",
       "  {'month': 9,\n",
       "   'date': '2020-09-30',\n",
       "   'id': 'suratmunicipal.org/6db486cb4f720e8585ba1f45a931c63c25dbbbda/rs.iudx.org.in/surat-revenue-collection/party-plot-bookings',\n",
       "   'totalCount': 6,\n",
       "   'amountCollected': 176360,\n",
       "   'year': 2020,\n",
       "   'cityName': 'Surat'},\n",
       "  {'month': 9,\n",
       "   'date': '2020-09-11',\n",
       "   'id': 'suratmunicipal.org/6db486cb4f720e8585ba1f45a931c63c25dbbbda/rs.iudx.org.in/surat-revenue-collection/party-plot-bookings',\n",
       "   'totalCount': 10,\n",
       "   'amountCollected': 141860,\n",
       "   'year': 2020,\n",
       "   'cityName': 'Surat'},\n",
       "  {'month': 9,\n",
       "   'year': 2020,\n",
       "   'amountCollected': 138360,\n",
       "   'cityName': 'Surat',\n",
       "   'date': '2020-09-28',\n",
       "   'id': 'suratmunicipal.org/6db486cb4f720e8585ba1f45a931c63c25dbbbda/rs.iudx.org.in/surat-revenue-collection/party-plot-bookings',\n",
       "   'totalCount': 7},\n",
       "  {'month': 9,\n",
       "   'year': 2020,\n",
       "   'amountCollected': 135720,\n",
       "   'cityName': 'Surat',\n",
       "   'date': '2020-09-10',\n",
       "   'id': 'suratmunicipal.org/6db486cb4f720e8585ba1f45a931c63c25dbbbda/rs.iudx.org.in/surat-revenue-collection/party-plot-bookings',\n",
       "   'totalCount': 6},\n",
       "  {'month': 9,\n",
       "   'year': 2020,\n",
       "   'amountCollected': 50000,\n",
       "   'cityName': 'Surat',\n",
       "   'date': '2020-09-26',\n",
       "   'id': 'suratmunicipal.org/6db486cb4f720e8585ba1f45a931c63c25dbbbda/rs.iudx.org.in/surat-revenue-collection/party-plot-bookings',\n",
       "   'totalCount': 1},\n",
       "  {'month': 9,\n",
       "   'year': 2020,\n",
       "   'amountCollected': 32000,\n",
       "   'cityName': 'Surat',\n",
       "   'date': '2020-09-25',\n",
       "   'id': 'suratmunicipal.org/6db486cb4f720e8585ba1f45a931c63c25dbbbda/rs.iudx.org.in/surat-revenue-collection/party-plot-bookings',\n",
       "   'totalCount': 1},\n",
       "  {'month': 9,\n",
       "   'year': 2020,\n",
       "   'amountCollected': 21000,\n",
       "   'cityName': 'Surat',\n",
       "   'date': '2020-09-24',\n",
       "   'id': 'suratmunicipal.org/6db486cb4f720e8585ba1f45a931c63c25dbbbda/rs.iudx.org.in/surat-revenue-collection/party-plot-bookings',\n",
       "   'totalCount': 1},\n",
       "  {'month': 9,\n",
       "   'year': 2020,\n",
       "   'amountCollected': 7080,\n",
       "   'cityName': 'Surat',\n",
       "   'date': '2020-09-12',\n",
       "   'id': 'suratmunicipal.org/6db486cb4f720e8585ba1f45a931c63c25dbbbda/rs.iudx.org.in/surat-revenue-collection/party-plot-bookings',\n",
       "   'totalCount': 3},\n",
       "  {'month': 9,\n",
       "   'year': 2020,\n",
       "   'amountCollected': 0,\n",
       "   'cityName': 'Surat',\n",
       "   'date': '2020-09-27',\n",
       "   'id': 'suratmunicipal.org/6db486cb4f720e8585ba1f45a931c63c25dbbbda/rs.iudx.org.in/surat-revenue-collection/party-plot-bookings',\n",
       "   'totalCount': 0},\n",
       "  {'month': 8,\n",
       "   'year': 2020,\n",
       "   'amountCollected': 165630,\n",
       "   'cityName': 'Surat',\n",
       "   'date': '2020-08-10',\n",
       "   'id': 'suratmunicipal.org/6db486cb4f720e8585ba1f45a931c63c25dbbbda/rs.iudx.org.in/surat-revenue-collection/party-plot-bookings',\n",
       "   'totalCount': 9},\n",
       "  {'month': 8,\n",
       "   'year': 2020,\n",
       "   'amountCollected': 103440,\n",
       "   'cityName': 'Surat',\n",
       "   'date': '2020-08-12',\n",
       "   'id': 'suratmunicipal.org/6db486cb4f720e8585ba1f45a931c63c25dbbbda/rs.iudx.org.in/surat-revenue-collection/party-plot-bookings',\n",
       "   'totalCount': 6},\n",
       "  {'month': 8,\n",
       "   'year': 2020,\n",
       "   'amountCollected': 12000,\n",
       "   'cityName': 'Surat',\n",
       "   'date': '2020-08-11',\n",
       "   'id': 'suratmunicipal.org/6db486cb4f720e8585ba1f45a931c63c25dbbbda/rs.iudx.org.in/surat-revenue-collection/party-plot-bookings',\n",
       "   'totalCount': 1},\n",
       "  {'month': 7,\n",
       "   'year': 2020,\n",
       "   'amountCollected': 159360,\n",
       "   'cityName': 'Surat',\n",
       "   'date': '2020-07-11',\n",
       "   'id': 'suratmunicipal.org/6db486cb4f720e8585ba1f45a931c63c25dbbbda/rs.iudx.org.in/surat-revenue-collection/party-plot-bookings',\n",
       "   'totalCount': 6},\n",
       "  {'month': 7,\n",
       "   'year': 2020,\n",
       "   'amountCollected': 75080,\n",
       "   'cityName': 'Surat',\n",
       "   'date': '2020-07-12',\n",
       "   'id': 'suratmunicipal.org/6db486cb4f720e8585ba1f45a931c63c25dbbbda/rs.iudx.org.in/surat-revenue-collection/party-plot-bookings',\n",
       "   'totalCount': 6},\n",
       "  {'month': 7,\n",
       "   'year': 2020,\n",
       "   'amountCollected': 42000,\n",
       "   'cityName': 'Surat',\n",
       "   'date': '2020-07-10',\n",
       "   'id': 'suratmunicipal.org/6db486cb4f720e8585ba1f45a931c63c25dbbbda/rs.iudx.org.in/surat-revenue-collection/party-plot-bookings',\n",
       "   'totalCount': 2},\n",
       "  {'month': 6,\n",
       "   'date': '2020-06-11',\n",
       "   'id': 'suratmunicipal.org/6db486cb4f720e8585ba1f45a931c63c25dbbbda/rs.iudx.org.in/surat-revenue-collection/party-plot-bookings',\n",
       "   'totalCount': 11,\n",
       "   'amountCollected': 142220,\n",
       "   'year': 2020,\n",
       "   'cityName': 'Surat'},\n",
       "  {'month': 6,\n",
       "   'date': '2020-06-10',\n",
       "   'id': 'suratmunicipal.org/6db486cb4f720e8585ba1f45a931c63c25dbbbda/rs.iudx.org.in/surat-revenue-collection/party-plot-bookings',\n",
       "   'totalCount': 5,\n",
       "   'amountCollected': 128360,\n",
       "   'year': 2020,\n",
       "   'cityName': 'Surat'},\n",
       "  {'month': 6,\n",
       "   'year': 2020,\n",
       "   'amountCollected': 34360,\n",
       "   'cityName': 'Surat',\n",
       "   'date': '2020-06-12',\n",
       "   'id': 'suratmunicipal.org/6db486cb4f720e8585ba1f45a931c63c25dbbbda/rs.iudx.org.in/surat-revenue-collection/party-plot-bookings',\n",
       "   'totalCount': 2},\n",
       "  {'month': 5,\n",
       "   'year': 2020,\n",
       "   'amountCollected': 132720,\n",
       "   'cityName': 'Surat',\n",
       "   'date': '2020-05-11',\n",
       "   'id': 'suratmunicipal.org/6db486cb4f720e8585ba1f45a931c63c25dbbbda/rs.iudx.org.in/surat-revenue-collection/party-plot-bookings',\n",
       "   'totalCount': 7},\n",
       "  {'month': 5,\n",
       "   'date': '2020-05-12',\n",
       "   'id': 'suratmunicipal.org/6db486cb4f720e8585ba1f45a931c63c25dbbbda/rs.iudx.org.in/surat-revenue-collection/party-plot-bookings',\n",
       "   'totalCount': 6,\n",
       "   'amountCollected': 116360,\n",
       "   'year': 2020,\n",
       "   'cityName': 'Surat'},\n",
       "  {'month': 5,\n",
       "   'date': '2020-05-10',\n",
       "   'id': 'suratmunicipal.org/6db486cb4f720e8585ba1f45a931c63c25dbbbda/rs.iudx.org.in/surat-revenue-collection/party-plot-bookings',\n",
       "   'totalCount': 7,\n",
       "   'amountCollected': 85360,\n",
       "   'year': 2020,\n",
       "   'cityName': 'Surat'},\n",
       "  {'month': 4,\n",
       "   'date': '2020-04-12',\n",
       "   'id': 'suratmunicipal.org/6db486cb4f720e8585ba1f45a931c63c25dbbbda/rs.iudx.org.in/surat-revenue-collection/party-plot-bookings',\n",
       "   'totalCount': 5,\n",
       "   'amountCollected': 67720,\n",
       "   'year': 2020,\n",
       "   'cityName': 'Surat'},\n",
       "  {'month': 4,\n",
       "   'date': '2020-04-11',\n",
       "   'id': 'suratmunicipal.org/6db486cb4f720e8585ba1f45a931c63c25dbbbda/rs.iudx.org.in/surat-revenue-collection/party-plot-bookings',\n",
       "   'totalCount': 1,\n",
       "   'amountCollected': 30000,\n",
       "   'year': 2020,\n",
       "   'cityName': 'Surat'},\n",
       "  {'month': 4,\n",
       "   'year': 2020,\n",
       "   'amountCollected': 0,\n",
       "   'cityName': 'Surat',\n",
       "   'date': '2020-04-10',\n",
       "   'id': 'suratmunicipal.org/6db486cb4f720e8585ba1f45a931c63c25dbbbda/rs.iudx.org.in/surat-revenue-collection/party-plot-bookings',\n",
       "   'totalCount': 0},\n",
       "  {'month': 3,\n",
       "   'year': 2020,\n",
       "   'amountCollected': 136720,\n",
       "   'cityName': 'Surat',\n",
       "   'date': '2020-03-12',\n",
       "   'id': 'suratmunicipal.org/6db486cb4f720e8585ba1f45a931c63c25dbbbda/rs.iudx.org.in/surat-revenue-collection/party-plot-bookings',\n",
       "   'totalCount': 7},\n",
       "  {'month': 3,\n",
       "   'year': 2020,\n",
       "   'amountCollected': 110360,\n",
       "   'cityName': 'Surat',\n",
       "   'date': '2020-03-10',\n",
       "   'id': 'suratmunicipal.org/6db486cb4f720e8585ba1f45a931c63c25dbbbda/rs.iudx.org.in/surat-revenue-collection/party-plot-bookings',\n",
       "   'totalCount': 4},\n",
       "  {'month': 3,\n",
       "   'year': 2020,\n",
       "   'amountCollected': 88860,\n",
       "   'cityName': 'Surat',\n",
       "   'date': '2020-03-11',\n",
       "   'id': 'suratmunicipal.org/6db486cb4f720e8585ba1f45a931c63c25dbbbda/rs.iudx.org.in/surat-revenue-collection/party-plot-bookings',\n",
       "   'totalCount': 8},\n",
       "  {'month': 2,\n",
       "   'year': 2020,\n",
       "   'amountCollected': 59360,\n",
       "   'cityName': 'Surat',\n",
       "   'date': '2020-02-12',\n",
       "   'id': 'suratmunicipal.org/6db486cb4f720e8585ba1f45a931c63c25dbbbda/rs.iudx.org.in/surat-revenue-collection/party-plot-bookings',\n",
       "   'totalCount': 4},\n",
       "  {'month': 2,\n",
       "   'year': 2020,\n",
       "   'amountCollected': 44360,\n",
       "   'cityName': 'Surat',\n",
       "   'date': '2020-02-11',\n",
       "   'id': 'suratmunicipal.org/6db486cb4f720e8585ba1f45a931c63c25dbbbda/rs.iudx.org.in/surat-revenue-collection/party-plot-bookings',\n",
       "   'totalCount': 4},\n",
       "  {'month': 2,\n",
       "   'year': 2020,\n",
       "   'amountCollected': 2360,\n",
       "   'cityName': 'Surat',\n",
       "   'date': '2020-02-10',\n",
       "   'id': 'suratmunicipal.org/6db486cb4f720e8585ba1f45a931c63c25dbbbda/rs.iudx.org.in/surat-revenue-collection/party-plot-bookings',\n",
       "   'totalCount': 2},\n",
       "  {'month': 1,\n",
       "   'date': '2020-01-10',\n",
       "   'id': 'suratmunicipal.org/6db486cb4f720e8585ba1f45a931c63c25dbbbda/rs.iudx.org.in/surat-revenue-collection/party-plot-bookings',\n",
       "   'totalCount': 5,\n",
       "   'amountCollected': 91360,\n",
       "   'year': 2020,\n",
       "   'cityName': 'Surat'},\n",
       "  {'month': 1,\n",
       "   'year': 2020,\n",
       "   'amountCollected': 63000,\n",
       "   'cityName': 'Surat',\n",
       "   'date': '2020-01-11',\n",
       "   'id': 'suratmunicipal.org/6db486cb4f720e8585ba1f45a931c63c25dbbbda/rs.iudx.org.in/surat-revenue-collection/party-plot-bookings',\n",
       "   'totalCount': 3},\n",
       "  {'month': 1,\n",
       "   'date': '2020-01-12',\n",
       "   'id': 'suratmunicipal.org/6db486cb4f720e8585ba1f45a931c63c25dbbbda/rs.iudx.org.in/surat-revenue-collection/party-plot-bookings',\n",
       "   'totalCount': 3,\n",
       "   'amountCollected': 59360,\n",
       "   'year': 2020,\n",
       "   'cityName': 'Surat'},\n",
       "  {'month': 3,\n",
       "   'date': '2022-03-01',\n",
       "   'id': 'suratmunicipal.org/6db486cb4f720e8585ba1f45a931c63c25dbbbda/rs.iudx.org.in/surat-revenue-collection/party-plot-bookings',\n",
       "   'totalCount': 5,\n",
       "   'amountCollected': 129000,\n",
       "   'year': 2022,\n",
       "   'cityName': 'Surat'},\n",
       "  {'month': 3,\n",
       "   'year': 2022,\n",
       "   'amountCollected': 83360,\n",
       "   'cityName': 'Surat',\n",
       "   'date': '2022-03-13',\n",
       "   'id': 'suratmunicipal.org/6db486cb4f720e8585ba1f45a931c63c25dbbbda/rs.iudx.org.in/surat-revenue-collection/party-plot-bookings',\n",
       "   'totalCount': 4},\n",
       "  {'month': 3,\n",
       "   'date': '2022-03-22',\n",
       "   'id': 'suratmunicipal.org/6db486cb4f720e8585ba1f45a931c63c25dbbbda/rs.iudx.org.in/surat-revenue-collection/party-plot-bookings',\n",
       "   'totalCount': 11,\n",
       "   'amountCollected': 72980,\n",
       "   'year': 2022,\n",
       "   'cityName': 'Surat'},\n",
       "  {'month': 3,\n",
       "   'year': 2022,\n",
       "   'amountCollected': 68000,\n",
       "   'cityName': 'Surat',\n",
       "   'date': '2022-03-02',\n",
       "   'id': 'suratmunicipal.org/6db486cb4f720e8585ba1f45a931c63c25dbbbda/rs.iudx.org.in/surat-revenue-collection/party-plot-bookings',\n",
       "   'totalCount': 3},\n",
       "  {'month': 3,\n",
       "   'date': '2022-03-16',\n",
       "   'id': 'suratmunicipal.org/6db486cb4f720e8585ba1f45a931c63c25dbbbda/rs.iudx.org.in/surat-revenue-collection/party-plot-bookings',\n",
       "   'totalCount': 7,\n",
       "   'amountCollected': 60490,\n",
       "   'year': 2022,\n",
       "   'cityName': 'Surat'},\n",
       "  {'month': 6,\n",
       "   'year': 2022,\n",
       "   'amountCollected': 160520,\n",
       "   'cityName': 'Surat',\n",
       "   'date': '2022-06-03',\n",
       "   'id': 'suratmunicipal.org/6db486cb4f720e8585ba1f45a931c63c25dbbbda/rs.iudx.org.in/surat-revenue-collection/party-plot-bookings',\n",
       "   'totalCount': 13},\n",
       "  {'month': 6,\n",
       "   'year': 2022,\n",
       "   'amountCollected': 36000,\n",
       "   'cityName': 'Surat',\n",
       "   'date': '2022-06-01',\n",
       "   'id': 'suratmunicipal.org/6db486cb4f720e8585ba1f45a931c63c25dbbbda/rs.iudx.org.in/surat-revenue-collection/party-plot-bookings',\n",
       "   'totalCount': 2},\n",
       "  {'month': 6,\n",
       "   'date': '2022-06-02',\n",
       "   'id': 'suratmunicipal.org/6db486cb4f720e8585ba1f45a931c63c25dbbbda/rs.iudx.org.in/surat-revenue-collection/party-plot-bookings',\n",
       "   'totalCount': 0,\n",
       "   'amountCollected': 0,\n",
       "   'year': 2022,\n",
       "   'cityName': 'Surat'},\n",
       "  {'month': 5,\n",
       "   'date': '2022-05-03',\n",
       "   'id': 'suratmunicipal.org/6db486cb4f720e8585ba1f45a931c63c25dbbbda/rs.iudx.org.in/surat-revenue-collection/party-plot-bookings',\n",
       "   'totalCount': 16,\n",
       "   'amountCollected': 98870,\n",
       "   'year': 2022,\n",
       "   'cityName': 'Surat'},\n",
       "  {'month': 5,\n",
       "   'year': 2022,\n",
       "   'amountCollected': 97000,\n",
       "   'cityName': 'Surat',\n",
       "   'date': '2022-05-02',\n",
       "   'id': 'suratmunicipal.org/6db486cb4f720e8585ba1f45a931c63c25dbbbda/rs.iudx.org.in/surat-revenue-collection/party-plot-bookings',\n",
       "   'totalCount': 2},\n",
       "  {'month': 3,\n",
       "   'year': 2022,\n",
       "   'amountCollected': 334020,\n",
       "   'cityName': 'Surat',\n",
       "   'date': '2022-03-03',\n",
       "   'id': 'suratmunicipal.org/6db486cb4f720e8585ba1f45a931c63c25dbbbda/rs.iudx.org.in/surat-revenue-collection/party-plot-bookings',\n",
       "   'totalCount': 21},\n",
       "  {'month': 3,\n",
       "   'date': '2022-03-15',\n",
       "   'id': 'suratmunicipal.org/6db486cb4f720e8585ba1f45a931c63c25dbbbda/rs.iudx.org.in/surat-revenue-collection/party-plot-bookings',\n",
       "   'totalCount': 13,\n",
       "   'amountCollected': 271940,\n",
       "   'year': 2022,\n",
       "   'cityName': 'Surat'},\n",
       "  {'month': 3,\n",
       "   'year': 2022,\n",
       "   'amountCollected': 185630,\n",
       "   'cityName': 'Surat',\n",
       "   'date': '2022-03-19',\n",
       "   'id': 'suratmunicipal.org/6db486cb4f720e8585ba1f45a931c63c25dbbbda/rs.iudx.org.in/surat-revenue-collection/party-plot-bookings',\n",
       "   'totalCount': 9},\n",
       "  {'month': 3,\n",
       "   'date': '2022-03-24',\n",
       "   'id': 'suratmunicipal.org/6db486cb4f720e8585ba1f45a931c63c25dbbbda/rs.iudx.org.in/surat-revenue-collection/party-plot-bookings',\n",
       "   'totalCount': 11,\n",
       "   'amountCollected': 162550,\n",
       "   'year': 2022,\n",
       "   'cityName': 'Surat'},\n",
       "  {'month': 3,\n",
       "   'year': 2022,\n",
       "   'amountCollected': 147660,\n",
       "   'cityName': 'Surat',\n",
       "   'date': '2022-03-23',\n",
       "   'id': 'suratmunicipal.org/6db486cb4f720e8585ba1f45a931c63c25dbbbda/rs.iudx.org.in/surat-revenue-collection/party-plot-bookings',\n",
       "   'totalCount': 13},\n",
       "  {'month': 2,\n",
       "   'year': 2022,\n",
       "   'amountCollected': 772700,\n",
       "   'cityName': 'Surat',\n",
       "   'date': '2022-02-27',\n",
       "   'id': 'suratmunicipal.org/6db486cb4f720e8585ba1f45a931c63c25dbbbda/rs.iudx.org.in/surat-revenue-collection/party-plot-bookings',\n",
       "   'totalCount': 107},\n",
       "  {'month': 2,\n",
       "   'date': '2022-02-28',\n",
       "   'id': 'suratmunicipal.org/6db486cb4f720e8585ba1f45a931c63c25dbbbda/rs.iudx.org.in/surat-revenue-collection/party-plot-bookings',\n",
       "   'totalCount': 70,\n",
       "   'amountCollected': 669220,\n",
       "   'year': 2022,\n",
       "   'cityName': 'Surat'},\n",
       "  {'month': 2,\n",
       "   'year': 2022,\n",
       "   'amountCollected': 594880,\n",
       "   'cityName': 'Surat',\n",
       "   'date': '2022-02-03',\n",
       "   'id': 'suratmunicipal.org/6db486cb4f720e8585ba1f45a931c63c25dbbbda/rs.iudx.org.in/surat-revenue-collection/party-plot-bookings',\n",
       "   'totalCount': 32},\n",
       "  {'month': 2,\n",
       "   'year': 2022,\n",
       "   'amountCollected': 208720,\n",
       "   'cityName': 'Surat',\n",
       "   'date': '2022-02-21',\n",
       "   'id': 'suratmunicipal.org/6db486cb4f720e8585ba1f45a931c63c25dbbbda/rs.iudx.org.in/surat-revenue-collection/party-plot-bookings',\n",
       "   'totalCount': 10},\n",
       "  {'month': 2,\n",
       "   'year': 2022,\n",
       "   'amountCollected': 178720,\n",
       "   'cityName': 'Surat',\n",
       "   'date': '2022-02-14',\n",
       "   'id': 'suratmunicipal.org/6db486cb4f720e8585ba1f45a931c63c25dbbbda/rs.iudx.org.in/surat-revenue-collection/party-plot-bookings',\n",
       "   'totalCount': 25},\n",
       "  {'month': 5,\n",
       "   'year': 2022,\n",
       "   'amountCollected': 88360,\n",
       "   'cityName': 'Surat',\n",
       "   'date': '2022-05-01',\n",
       "   'id': 'suratmunicipal.org/6db486cb4f720e8585ba1f45a931c63c25dbbbda/rs.iudx.org.in/surat-revenue-collection/party-plot-bookings',\n",
       "   'totalCount': 4},\n",
       "  {'month': 4,\n",
       "   'year': 2022,\n",
       "   'amountCollected': 329660,\n",
       "   'cityName': 'Surat',\n",
       "   'date': '2022-04-03',\n",
       "   'id': 'suratmunicipal.org/6db486cb4f720e8585ba1f45a931c63c25dbbbda/rs.iudx.org.in/surat-revenue-collection/party-plot-bookings',\n",
       "   'totalCount': 19},\n",
       "  {'month': 4,\n",
       "   'date': '2022-04-02',\n",
       "   'id': 'suratmunicipal.org/6db486cb4f720e8585ba1f45a931c63c25dbbbda/rs.iudx.org.in/surat-revenue-collection/party-plot-bookings',\n",
       "   'totalCount': 6,\n",
       "   'amountCollected': 145720,\n",
       "   'year': 2022,\n",
       "   'cityName': 'Surat'},\n",
       "  {'month': 4,\n",
       "   'year': 2022,\n",
       "   'amountCollected': 117000,\n",
       "   'cityName': 'Surat',\n",
       "   'date': '2022-04-01',\n",
       "   'id': 'suratmunicipal.org/6db486cb4f720e8585ba1f45a931c63c25dbbbda/rs.iudx.org.in/surat-revenue-collection/party-plot-bookings',\n",
       "   'totalCount': 5},\n",
       "  {'month': 3,\n",
       "   'date': '2022-03-21',\n",
       "   'id': 'suratmunicipal.org/6db486cb4f720e8585ba1f45a931c63c25dbbbda/rs.iudx.org.in/surat-revenue-collection/party-plot-bookings',\n",
       "   'totalCount': 18,\n",
       "   'amountCollected': 386080,\n",
       "   'year': 2022,\n",
       "   'cityName': 'Surat'},\n",
       "  {'month': 3,\n",
       "   'year': 2022,\n",
       "   'amountCollected': 54580,\n",
       "   'cityName': 'Surat',\n",
       "   'date': '2022-03-14',\n",
       "   'id': 'suratmunicipal.org/6db486cb4f720e8585ba1f45a931c63c25dbbbda/rs.iudx.org.in/surat-revenue-collection/party-plot-bookings',\n",
       "   'totalCount': 14},\n",
       "  {'month': 3,\n",
       "   'date': '2022-03-17',\n",
       "   'id': 'suratmunicipal.org/6db486cb4f720e8585ba1f45a931c63c25dbbbda/rs.iudx.org.in/surat-revenue-collection/party-plot-bookings',\n",
       "   'totalCount': 2,\n",
       "   'amountCollected': 42000,\n",
       "   'year': 2022,\n",
       "   'cityName': 'Surat'},\n",
       "  {'month': 3,\n",
       "   'year': 2022,\n",
       "   'amountCollected': 23580,\n",
       "   'cityName': 'Surat',\n",
       "   'date': '2022-03-18',\n",
       "   'id': 'suratmunicipal.org/6db486cb4f720e8585ba1f45a931c63c25dbbbda/rs.iudx.org.in/surat-revenue-collection/party-plot-bookings',\n",
       "   'totalCount': 7},\n",
       "  {'month': 3,\n",
       "   'date': '2022-03-20',\n",
       "   'id': 'suratmunicipal.org/6db486cb4f720e8585ba1f45a931c63c25dbbbda/rs.iudx.org.in/surat-revenue-collection/party-plot-bookings',\n",
       "   'totalCount': 6,\n",
       "   'amountCollected': 9440,\n",
       "   'year': 2022,\n",
       "   'cityName': 'Surat'},\n",
       "  {'month': 8,\n",
       "   'date': '2022-08-01',\n",
       "   'id': 'suratmunicipal.org/6db486cb4f720e8585ba1f45a931c63c25dbbbda/rs.iudx.org.in/surat-revenue-collection/party-plot-bookings',\n",
       "   'totalCount': 0,\n",
       "   'amountCollected': 0,\n",
       "   'year': 2022,\n",
       "   'cityName': 'Surat'},\n",
       "  {'month': 7,\n",
       "   'year': 2022,\n",
       "   'amountCollected': 552080,\n",
       "   'cityName': 'Surat',\n",
       "   'date': '2022-07-03',\n",
       "   'id': 'suratmunicipal.org/6db486cb4f720e8585ba1f45a931c63c25dbbbda/rs.iudx.org.in/surat-revenue-collection/party-plot-bookings',\n",
       "   'totalCount': 28},\n",
       "  {'month': 7,\n",
       "   'date': '2022-07-02',\n",
       "   'id': 'suratmunicipal.org/6db486cb4f720e8585ba1f45a931c63c25dbbbda/rs.iudx.org.in/surat-revenue-collection/party-plot-bookings',\n",
       "   'totalCount': 9,\n",
       "   'amountCollected': 87160,\n",
       "   'year': 2022,\n",
       "   'cityName': 'Surat'},\n",
       "  {'month': 7,\n",
       "   'year': 2022,\n",
       "   'amountCollected': 0,\n",
       "   'cityName': 'Surat',\n",
       "   'date': '2022-07-01',\n",
       "   'id': 'suratmunicipal.org/6db486cb4f720e8585ba1f45a931c63c25dbbbda/rs.iudx.org.in/surat-revenue-collection/party-plot-bookings',\n",
       "   'totalCount': 0}],\n",
       " 'limit': 5000,\n",
       " 'offset': 0,\n",
       " 'totalHits': 571}"
      ]
     },
     "execution_count": 2,
     "metadata": {},
     "output_type": "execute_result"
    }
   ],
   "source": [
    "\n",
    "#print(response.json())\n",
    "url=f\"https://rs.iudx.org.in/ngsi-ld/v1/entities?id={id}&q=year>=2019\"\n",
    "#url=f\"https://rs.iudx.org.in/ngsi-ld/v1/entities/{id}\"\n",
    "\n",
    "header={\n",
    "  'token':val,\n",
    "  'Content-Type': 'application/json'\n",
    "}\n",
    "res=requests.get(url=url,headers=header)\n",
    "res.json()"
   ]
  },
  {
   "cell_type": "code",
   "execution_count": 3,
   "id": "4f9001c2",
   "metadata": {
    "extensions": {
     "jupyter_dashboards": {
      "version": 1,
      "views": {
       "default_view": {
        "hidden": true
       },
       "grid_default": {
        "col": null,
        "height": 2,
        "hidden": true,
        "locked": true,
        "row": null,
        "width": 2
       }
      }
     }
    }
   },
   "outputs": [],
   "source": [
    "res_list=res.json()['results']\n",
    "with open('/home/rohit/iudx/dumps/surat-partyplot-dump.json','w') as fp:\n",
    "    json.dump(res_list,fp)"
   ]
  },
  {
   "cell_type": "code",
   "execution_count": 4,
   "id": "50f95fc8",
   "metadata": {
    "extensions": {
     "jupyter_dashboards": {
      "version": 1,
      "views": {
       "default_view": {
        "hidden": true
       },
       "grid_default": {
        "col": null,
        "height": 2,
        "hidden": true,
        "locked": true,
        "row": null,
        "width": 2
       }
      }
     }
    }
   },
   "outputs": [],
   "source": [
    "df = pd.read_json(r'/home/rohit/iudx/dumps/surat-partyplot-dump.json',encoding = 'utf-8-sig')"
   ]
  },
  {
   "cell_type": "code",
   "execution_count": 5,
   "id": "a88df573",
   "metadata": {
    "extensions": {
     "jupyter_dashboards": {
      "version": 1,
      "views": {
       "default_view": {
        "hidden": true
       },
       "grid_default": {
        "col": null,
        "height": 2,
        "hidden": true,
        "locked": true,
        "row": null,
        "width": 2
       }
      }
     }
    }
   },
   "outputs": [],
   "source": [
    "df=df.sort_values(['year','month','amountCollected'],ascending=False)"
   ]
  },
  {
   "cell_type": "markdown",
   "id": "f2483d9f",
   "metadata": {
    "extensions": {
     "jupyter_dashboards": {
      "version": 1,
      "views": {
       "default_view": {
        "col": 0,
        "height": 5,
        "row": 14,
        "width": 12
       },
       "grid_default": {
        "col": null,
        "height": 2,
        "hidden": true,
        "locked": true,
        "row": null,
        "width": 2
       }
      }
     }
    }
   },
   "source": [
    "# unique values"
   ]
  },
  {
   "cell_type": "code",
   "execution_count": 6,
   "id": "5760dafe",
   "metadata": {
    "extensions": {
     "jupyter_dashboards": {
      "version": 1,
      "views": {
       "default_view": {
        "hidden": true
       },
       "grid_default": {
        "col": null,
        "height": 2,
        "hidden": true,
        "locked": true,
        "row": null,
        "width": 2
       }
      }
     }
    }
   },
   "outputs": [],
   "source": [
    "#df.nunique()"
   ]
  },
  {
   "cell_type": "markdown",
   "id": "3002206a",
   "metadata": {
    "extensions": {
     "jupyter_dashboards": {
      "version": 1,
      "views": {
       "default_view": {
        "col": 0,
        "height": 2,
        "row": 19,
        "width": 12
       },
       "grid_default": {
        "col": null,
        "height": 2,
        "hidden": true,
        "locked": true,
        "row": null,
        "width": 2
       }
      }
     }
    }
   },
   "source": [
    "# Dataset Stats"
   ]
  },
  {
   "cell_type": "code",
   "execution_count": 7,
   "id": "fb5b1a18",
   "metadata": {
    "extensions": {
     "jupyter_dashboards": {
      "version": 1,
      "views": {
       "default_view": {
        "col": 0,
        "height": 2,
        "row": 21,
        "width": 12
       },
       "grid_default": {
        "col": null,
        "height": 2,
        "hidden": true,
        "locked": true,
        "row": null,
        "width": 2
       }
      }
     }
    }
   },
   "outputs": [
    {
     "name": "stderr",
     "output_type": "stream",
     "text": [
      "/tmp/ipykernel_43470/2221854823.py:8: FutureWarning: Treating datetime data as categorical rather than numeric in `.describe` is deprecated and will be removed in a future version of pandas. Specify `datetime_is_numeric=True` to silence this warning and adopt the future behavior now.\n",
      "  data = df.describe(percentiles=perc,include=include)\n"
     ]
    },
    {
     "data": {
      "text/html": [
       "<div>\n",
       "<style scoped>\n",
       "    .dataframe tbody tr th:only-of-type {\n",
       "        vertical-align: middle;\n",
       "    }\n",
       "\n",
       "    .dataframe tbody tr th {\n",
       "        vertical-align: top;\n",
       "    }\n",
       "\n",
       "    .dataframe thead th {\n",
       "        text-align: right;\n",
       "    }\n",
       "</style>\n",
       "<table border=\"1\" class=\"dataframe\">\n",
       "  <thead>\n",
       "    <tr style=\"text-align: right;\">\n",
       "      <th></th>\n",
       "      <th>month</th>\n",
       "      <th>date</th>\n",
       "      <th>totalCount</th>\n",
       "      <th>amountCollected</th>\n",
       "      <th>year</th>\n",
       "    </tr>\n",
       "  </thead>\n",
       "  <tbody>\n",
       "    <tr>\n",
       "      <th>count</th>\n",
       "      <td>571.000000</td>\n",
       "      <td>571</td>\n",
       "      <td>571.000000</td>\n",
       "      <td>571.000000</td>\n",
       "      <td>571.000000</td>\n",
       "    </tr>\n",
       "    <tr>\n",
       "      <th>unique</th>\n",
       "      <td>NaN</td>\n",
       "      <td>526</td>\n",
       "      <td>NaN</td>\n",
       "      <td>NaN</td>\n",
       "      <td>NaN</td>\n",
       "    </tr>\n",
       "    <tr>\n",
       "      <th>top</th>\n",
       "      <td>NaN</td>\n",
       "      <td>2022-12-03 00:00:00</td>\n",
       "      <td>NaN</td>\n",
       "      <td>NaN</td>\n",
       "      <td>NaN</td>\n",
       "    </tr>\n",
       "    <tr>\n",
       "      <th>freq</th>\n",
       "      <td>NaN</td>\n",
       "      <td>2</td>\n",
       "      <td>NaN</td>\n",
       "      <td>NaN</td>\n",
       "      <td>NaN</td>\n",
       "    </tr>\n",
       "    <tr>\n",
       "      <th>first</th>\n",
       "      <td>NaN</td>\n",
       "      <td>2020-01-10 00:00:00</td>\n",
       "      <td>NaN</td>\n",
       "      <td>NaN</td>\n",
       "      <td>NaN</td>\n",
       "    </tr>\n",
       "    <tr>\n",
       "      <th>last</th>\n",
       "      <td>NaN</td>\n",
       "      <td>2022-12-04 00:00:00</td>\n",
       "      <td>NaN</td>\n",
       "      <td>NaN</td>\n",
       "      <td>NaN</td>\n",
       "    </tr>\n",
       "    <tr>\n",
       "      <th>mean</th>\n",
       "      <td>6.465849</td>\n",
       "      <td>NaN</td>\n",
       "      <td>6.229422</td>\n",
       "      <td>86712.924694</td>\n",
       "      <td>2021.145359</td>\n",
       "    </tr>\n",
       "    <tr>\n",
       "      <th>std</th>\n",
       "      <td>3.541752</td>\n",
       "      <td>NaN</td>\n",
       "      <td>19.054628</td>\n",
       "      <td>100582.624331</td>\n",
       "      <td>0.660854</td>\n",
       "    </tr>\n",
       "    <tr>\n",
       "      <th>min</th>\n",
       "      <td>1.000000</td>\n",
       "      <td>NaN</td>\n",
       "      <td>0.000000</td>\n",
       "      <td>0.000000</td>\n",
       "      <td>2020.000000</td>\n",
       "    </tr>\n",
       "    <tr>\n",
       "      <th>20%</th>\n",
       "      <td>3.000000</td>\n",
       "      <td>NaN</td>\n",
       "      <td>1.000000</td>\n",
       "      <td>2360.000000</td>\n",
       "      <td>2021.000000</td>\n",
       "    </tr>\n",
       "    <tr>\n",
       "      <th>40%</th>\n",
       "      <td>5.000000</td>\n",
       "      <td>NaN</td>\n",
       "      <td>2.000000</td>\n",
       "      <td>43000.000000</td>\n",
       "      <td>2021.000000</td>\n",
       "    </tr>\n",
       "    <tr>\n",
       "      <th>50%</th>\n",
       "      <td>6.000000</td>\n",
       "      <td>NaN</td>\n",
       "      <td>3.000000</td>\n",
       "      <td>60000.000000</td>\n",
       "      <td>2021.000000</td>\n",
       "    </tr>\n",
       "    <tr>\n",
       "      <th>60%</th>\n",
       "      <td>8.000000</td>\n",
       "      <td>NaN</td>\n",
       "      <td>4.000000</td>\n",
       "      <td>84000.000000</td>\n",
       "      <td>2021.000000</td>\n",
       "    </tr>\n",
       "    <tr>\n",
       "      <th>80%</th>\n",
       "      <td>10.000000</td>\n",
       "      <td>NaN</td>\n",
       "      <td>7.000000</td>\n",
       "      <td>141300.000000</td>\n",
       "      <td>2022.000000</td>\n",
       "    </tr>\n",
       "    <tr>\n",
       "      <th>max</th>\n",
       "      <td>12.000000</td>\n",
       "      <td>NaN</td>\n",
       "      <td>298.000000</td>\n",
       "      <td>772700.000000</td>\n",
       "      <td>2022.000000</td>\n",
       "    </tr>\n",
       "  </tbody>\n",
       "</table>\n",
       "</div>"
      ],
      "text/plain": [
       "             month                 date  totalCount  amountCollected  \\\n",
       "count   571.000000                  571  571.000000       571.000000   \n",
       "unique         NaN                  526         NaN              NaN   \n",
       "top            NaN  2022-12-03 00:00:00         NaN              NaN   \n",
       "freq           NaN                    2         NaN              NaN   \n",
       "first          NaN  2020-01-10 00:00:00         NaN              NaN   \n",
       "last           NaN  2022-12-04 00:00:00         NaN              NaN   \n",
       "mean      6.465849                  NaN    6.229422     86712.924694   \n",
       "std       3.541752                  NaN   19.054628    100582.624331   \n",
       "min       1.000000                  NaN    0.000000         0.000000   \n",
       "20%       3.000000                  NaN    1.000000      2360.000000   \n",
       "40%       5.000000                  NaN    2.000000     43000.000000   \n",
       "50%       6.000000                  NaN    3.000000     60000.000000   \n",
       "60%       8.000000                  NaN    4.000000     84000.000000   \n",
       "80%      10.000000                  NaN    7.000000    141300.000000   \n",
       "max      12.000000                  NaN  298.000000    772700.000000   \n",
       "\n",
       "               year  \n",
       "count    571.000000  \n",
       "unique          NaN  \n",
       "top             NaN  \n",
       "freq            NaN  \n",
       "first           NaN  \n",
       "last            NaN  \n",
       "mean    2021.145359  \n",
       "std        0.660854  \n",
       "min     2020.000000  \n",
       "20%     2021.000000  \n",
       "40%     2021.000000  \n",
       "50%     2021.000000  \n",
       "60%     2021.000000  \n",
       "80%     2022.000000  \n",
       "max     2022.000000  "
      ]
     },
     "execution_count": 7,
     "metadata": {},
     "output_type": "execute_result"
    }
   ],
   "source": [
    "# percentile list\n",
    "perc =[.20, .40, .60, .80]\n",
    "  \n",
    "# list of dtypes to include\n",
    "include =['datetime', 'int']\n",
    "  \n",
    "# calling describe method\n",
    "data = df.describe(percentiles=perc,include=include)\n",
    "  \n",
    "# display\n",
    "data"
   ]
  },
  {
   "cell_type": "code",
   "execution_count": 8,
   "id": "03e34e8c",
   "metadata": {
    "extensions": {
     "jupyter_dashboards": {
      "version": 1,
      "views": {
       "default_view": {
        "hidden": true
       },
       "grid_default": {
        "col": null,
        "height": 2,
        "hidden": true,
        "locked": true,
        "row": null,
        "width": 2
       }
      }
     }
    }
   },
   "outputs": [],
   "source": [
    "initial=df.shape[0]"
   ]
  },
  {
   "cell_type": "code",
   "execution_count": 9,
   "id": "e87b1185",
   "metadata": {
    "extensions": {
     "jupyter_dashboards": {
      "version": 1,
      "views": {
       "default_view": {
        "col": 0,
        "height": 2,
        "row": 24,
        "width": 12
       },
       "grid_default": {
        "col": null,
        "height": 2,
        "hidden": true,
        "locked": true,
        "row": null,
        "width": 2
       }
      }
     }
    }
   },
   "outputs": [
    {
     "name": "stdout",
     "output_type": "stream",
     "text": [
      "<class 'pandas.core.frame.DataFrame'>\n",
      "Int64Index: 571 entries, 5 to 537\n",
      "Data columns (total 7 columns):\n",
      " #   Column           Non-Null Count  Dtype         \n",
      "---  ------           --------------  -----         \n",
      " 0   month            571 non-null    int64         \n",
      " 1   date             571 non-null    datetime64[ns]\n",
      " 2   id               571 non-null    object        \n",
      " 3   totalCount       571 non-null    int64         \n",
      " 4   amountCollected  571 non-null    int64         \n",
      " 5   year             571 non-null    int64         \n",
      " 6   cityName         571 non-null    object        \n",
      "dtypes: datetime64[ns](1), int64(4), object(2)\n",
      "memory usage: 35.7+ KB\n"
     ]
    }
   ],
   "source": [
    "df.info()"
   ]
  },
  {
   "cell_type": "code",
   "execution_count": null,
   "id": "21d42a9a",
   "metadata": {
    "extensions": {
     "jupyter_dashboards": {
      "version": 1,
      "views": {
       "default_view": {
        "hidden": true
       },
       "grid_default": {
        "col": null,
        "height": 2,
        "hidden": true,
        "locked": true,
        "row": null,
        "width": 2
       }
      }
     }
    }
   },
   "outputs": [],
   "source": []
  },
  {
   "cell_type": "markdown",
   "id": "d7b452a2",
   "metadata": {
    "extensions": {
     "jupyter_dashboards": {
      "version": 1,
      "views": {
       "default_view": {
        "col": 0,
        "height": 2,
        "row": 28,
        "width": 12
       },
       "grid_default": {
        "col": null,
        "height": 2,
        "hidden": true,
        "locked": true,
        "row": null,
        "width": 2
       }
      }
     }
    }
   },
   "source": [
    "# Missing Values"
   ]
  },
  {
   "cell_type": "code",
   "execution_count": 10,
   "id": "085ddc6c",
   "metadata": {
    "extensions": {
     "jupyter_dashboards": {
      "version": 1,
      "views": {
       "default_view": {
        "col": 0,
        "height": 2,
        "row": 30,
        "width": 12
       },
       "grid_default": {
        "col": null,
        "height": 2,
        "hidden": true,
        "locked": true,
        "row": null,
        "width": 2
       }
      }
     }
    }
   },
   "outputs": [
    {
     "data": {
      "text/plain": [
       "0"
      ]
     },
     "execution_count": 10,
     "metadata": {},
     "output_type": "execute_result"
    }
   ],
   "source": [
    "df.isnull().values.sum()"
   ]
  },
  {
   "cell_type": "code",
   "execution_count": 11,
   "id": "aa7862fc",
   "metadata": {
    "extensions": {
     "jupyter_dashboards": {
      "version": 1,
      "views": {
       "default_view": {
        "col": 0,
        "height": 2,
        "row": 32,
        "width": 12
       },
       "grid_default": {
        "col": null,
        "height": 2,
        "hidden": true,
        "locked": true,
        "row": null,
        "width": 2
       }
      }
     }
    }
   },
   "outputs": [
    {
     "data": {
      "text/plain": [
       "month              0\n",
       "date               0\n",
       "id                 0\n",
       "totalCount         0\n",
       "amountCollected    0\n",
       "year               0\n",
       "cityName           0\n",
       "dtype: int64"
      ]
     },
     "execution_count": 11,
     "metadata": {},
     "output_type": "execute_result"
    }
   ],
   "source": [
    "df.isnull().sum()"
   ]
  },
  {
   "cell_type": "markdown",
   "id": "f955121a",
   "metadata": {
    "extensions": {
     "jupyter_dashboards": {
      "version": 1,
      "views": {
       "default_view": {
        "col": 0,
        "height": 2,
        "row": 34,
        "width": 12
       },
       "grid_default": {
        "col": null,
        "height": 2,
        "hidden": true,
        "locked": true,
        "row": null,
        "width": 2
       }
      }
     }
    }
   },
   "source": [
    "# Duplicates"
   ]
  },
  {
   "cell_type": "code",
   "execution_count": 12,
   "id": "bd2e7e9f",
   "metadata": {
    "extensions": {
     "jupyter_dashboards": {
      "version": 1,
      "views": {
       "default_view": {
        "col": 0,
        "height": 2,
        "row": 36,
        "width": 12
       },
       "grid_default": {
        "col": null,
        "height": 2,
        "hidden": true,
        "locked": true,
        "row": null,
        "width": 2
       }
      }
     }
    }
   },
   "outputs": [
    {
     "data": {
      "text/plain": [
       "0"
      ]
     },
     "execution_count": 12,
     "metadata": {},
     "output_type": "execute_result"
    }
   ],
   "source": [
    "df.duplicated(subset=[\"date\",\"amountCollected\"], keep='first').sum()\n"
   ]
  },
  {
   "cell_type": "code",
   "execution_count": 13,
   "id": "a0bef827",
   "metadata": {
    "extensions": {
     "jupyter_dashboards": {
      "version": 1,
      "views": {
       "default_view": {
        "hidden": true
       },
       "grid_default": {
        "col": null,
        "height": 2,
        "hidden": true,
        "locked": true,
        "row": null,
        "width": 2
       }
      }
     }
    }
   },
   "outputs": [],
   "source": [
    "\n",
    "df.to_csv('/home/rohit/iudx/dumps/surat-partyplot.csv',index=False)"
   ]
  },
  {
   "cell_type": "code",
   "execution_count": 14,
   "id": "4604f128",
   "metadata": {
    "extensions": {
     "jupyter_dashboards": {
      "version": 1,
      "views": {
       "default_view": {
        "col": 0,
        "height": 2,
        "row": 40,
        "width": 12
       },
       "grid_default": {
        "col": null,
        "height": 2,
        "hidden": true,
        "locked": true,
        "row": null,
        "width": 2
       }
      }
     }
    }
   },
   "outputs": [
    {
     "data": {
      "text/html": [
       "<div>\n",
       "<style scoped>\n",
       "    .dataframe tbody tr th:only-of-type {\n",
       "        vertical-align: middle;\n",
       "    }\n",
       "\n",
       "    .dataframe tbody tr th {\n",
       "        vertical-align: top;\n",
       "    }\n",
       "\n",
       "    .dataframe thead th {\n",
       "        text-align: right;\n",
       "    }\n",
       "</style>\n",
       "<table border=\"1\" class=\"dataframe\">\n",
       "  <thead>\n",
       "    <tr style=\"text-align: right;\">\n",
       "      <th></th>\n",
       "      <th>month</th>\n",
       "      <th>date</th>\n",
       "      <th>id</th>\n",
       "      <th>totalCount</th>\n",
       "      <th>amountCollected</th>\n",
       "      <th>year</th>\n",
       "      <th>cityName</th>\n",
       "    </tr>\n",
       "  </thead>\n",
       "  <tbody>\n",
       "    <tr>\n",
       "      <th>478</th>\n",
       "      <td>11</td>\n",
       "      <td>2020-11-16</td>\n",
       "      <td>suratmunicipal.org/6db486cb4f720e8585ba1f45a93...</td>\n",
       "      <td>4</td>\n",
       "      <td>7080</td>\n",
       "      <td>2020</td>\n",
       "      <td>Surat</td>\n",
       "    </tr>\n",
       "    <tr>\n",
       "      <th>479</th>\n",
       "      <td>11</td>\n",
       "      <td>2020-11-22</td>\n",
       "      <td>suratmunicipal.org/6db486cb4f720e8585ba1f45a93...</td>\n",
       "      <td>4</td>\n",
       "      <td>7080</td>\n",
       "      <td>2020</td>\n",
       "      <td>Surat</td>\n",
       "    </tr>\n",
       "    <tr>\n",
       "      <th>480</th>\n",
       "      <td>11</td>\n",
       "      <td>2020-11-28</td>\n",
       "      <td>suratmunicipal.org/6db486cb4f720e8585ba1f45a93...</td>\n",
       "      <td>2</td>\n",
       "      <td>4720</td>\n",
       "      <td>2020</td>\n",
       "      <td>Surat</td>\n",
       "    </tr>\n",
       "    <tr>\n",
       "      <th>481</th>\n",
       "      <td>11</td>\n",
       "      <td>2020-11-30</td>\n",
       "      <td>suratmunicipal.org/6db486cb4f720e8585ba1f45a93...</td>\n",
       "      <td>1</td>\n",
       "      <td>2360</td>\n",
       "      <td>2020</td>\n",
       "      <td>Surat</td>\n",
       "    </tr>\n",
       "    <tr>\n",
       "      <th>482</th>\n",
       "      <td>10</td>\n",
       "      <td>2020-10-21</td>\n",
       "      <td>suratmunicipal.org/6db486cb4f720e8585ba1f45a93...</td>\n",
       "      <td>11</td>\n",
       "      <td>166720</td>\n",
       "      <td>2020</td>\n",
       "      <td>Surat</td>\n",
       "    </tr>\n",
       "    <tr>\n",
       "      <th>483</th>\n",
       "      <td>10</td>\n",
       "      <td>2020-10-12</td>\n",
       "      <td>suratmunicipal.org/6db486cb4f720e8585ba1f45a93...</td>\n",
       "      <td>9</td>\n",
       "      <td>141440</td>\n",
       "      <td>2020</td>\n",
       "      <td>Surat</td>\n",
       "    </tr>\n",
       "    <tr>\n",
       "      <th>484</th>\n",
       "      <td>10</td>\n",
       "      <td>2020-10-10</td>\n",
       "      <td>suratmunicipal.org/6db486cb4f720e8585ba1f45a93...</td>\n",
       "      <td>14</td>\n",
       "      <td>140360</td>\n",
       "      <td>2020</td>\n",
       "      <td>Surat</td>\n",
       "    </tr>\n",
       "    <tr>\n",
       "      <th>486</th>\n",
       "      <td>10</td>\n",
       "      <td>2020-10-25</td>\n",
       "      <td>suratmunicipal.org/6db486cb4f720e8585ba1f45a93...</td>\n",
       "      <td>3</td>\n",
       "      <td>140000</td>\n",
       "      <td>2020</td>\n",
       "      <td>Surat</td>\n",
       "    </tr>\n",
       "    <tr>\n",
       "      <th>487</th>\n",
       "      <td>10</td>\n",
       "      <td>2020-10-14</td>\n",
       "      <td>suratmunicipal.org/6db486cb4f720e8585ba1f45a93...</td>\n",
       "      <td>7</td>\n",
       "      <td>112000</td>\n",
       "      <td>2020</td>\n",
       "      <td>Surat</td>\n",
       "    </tr>\n",
       "    <tr>\n",
       "      <th>485</th>\n",
       "      <td>10</td>\n",
       "      <td>2020-10-23</td>\n",
       "      <td>suratmunicipal.org/6db486cb4f720e8585ba1f45a93...</td>\n",
       "      <td>6</td>\n",
       "      <td>97360</td>\n",
       "      <td>2020</td>\n",
       "      <td>Surat</td>\n",
       "    </tr>\n",
       "    <tr>\n",
       "      <th>488</th>\n",
       "      <td>10</td>\n",
       "      <td>2020-10-13</td>\n",
       "      <td>suratmunicipal.org/6db486cb4f720e8585ba1f45a93...</td>\n",
       "      <td>5</td>\n",
       "      <td>90720</td>\n",
       "      <td>2020</td>\n",
       "      <td>Surat</td>\n",
       "    </tr>\n",
       "    <tr>\n",
       "      <th>489</th>\n",
       "      <td>10</td>\n",
       "      <td>2020-10-27</td>\n",
       "      <td>suratmunicipal.org/6db486cb4f720e8585ba1f45a93...</td>\n",
       "      <td>4</td>\n",
       "      <td>87000</td>\n",
       "      <td>2020</td>\n",
       "      <td>Surat</td>\n",
       "    </tr>\n",
       "    <tr>\n",
       "      <th>490</th>\n",
       "      <td>10</td>\n",
       "      <td>2020-10-28</td>\n",
       "      <td>suratmunicipal.org/6db486cb4f720e8585ba1f45a93...</td>\n",
       "      <td>4</td>\n",
       "      <td>75770</td>\n",
       "      <td>2020</td>\n",
       "      <td>Surat</td>\n",
       "    </tr>\n",
       "    <tr>\n",
       "      <th>491</th>\n",
       "      <td>10</td>\n",
       "      <td>2020-10-11</td>\n",
       "      <td>suratmunicipal.org/6db486cb4f720e8585ba1f45a93...</td>\n",
       "      <td>4</td>\n",
       "      <td>65360</td>\n",
       "      <td>2020</td>\n",
       "      <td>Surat</td>\n",
       "    </tr>\n",
       "    <tr>\n",
       "      <th>492</th>\n",
       "      <td>10</td>\n",
       "      <td>2020-10-22</td>\n",
       "      <td>suratmunicipal.org/6db486cb4f720e8585ba1f45a93...</td>\n",
       "      <td>3</td>\n",
       "      <td>30000</td>\n",
       "      <td>2020</td>\n",
       "      <td>Surat</td>\n",
       "    </tr>\n",
       "    <tr>\n",
       "      <th>493</th>\n",
       "      <td>10</td>\n",
       "      <td>2020-10-31</td>\n",
       "      <td>suratmunicipal.org/6db486cb4f720e8585ba1f45a93...</td>\n",
       "      <td>5</td>\n",
       "      <td>25720</td>\n",
       "      <td>2020</td>\n",
       "      <td>Surat</td>\n",
       "    </tr>\n",
       "    <tr>\n",
       "      <th>494</th>\n",
       "      <td>10</td>\n",
       "      <td>2020-10-26</td>\n",
       "      <td>suratmunicipal.org/6db486cb4f720e8585ba1f45a93...</td>\n",
       "      <td>3</td>\n",
       "      <td>14360</td>\n",
       "      <td>2020</td>\n",
       "      <td>Surat</td>\n",
       "    </tr>\n",
       "    <tr>\n",
       "      <th>495</th>\n",
       "      <td>10</td>\n",
       "      <td>2020-10-30</td>\n",
       "      <td>suratmunicipal.org/6db486cb4f720e8585ba1f45a93...</td>\n",
       "      <td>1</td>\n",
       "      <td>13500</td>\n",
       "      <td>2020</td>\n",
       "      <td>Surat</td>\n",
       "    </tr>\n",
       "    <tr>\n",
       "      <th>496</th>\n",
       "      <td>10</td>\n",
       "      <td>2020-10-16</td>\n",
       "      <td>suratmunicipal.org/6db486cb4f720e8585ba1f45a93...</td>\n",
       "      <td>1</td>\n",
       "      <td>12000</td>\n",
       "      <td>2020</td>\n",
       "      <td>Surat</td>\n",
       "    </tr>\n",
       "    <tr>\n",
       "      <th>497</th>\n",
       "      <td>10</td>\n",
       "      <td>2020-10-29</td>\n",
       "      <td>suratmunicipal.org/6db486cb4f720e8585ba1f45a93...</td>\n",
       "      <td>2</td>\n",
       "      <td>4720</td>\n",
       "      <td>2020</td>\n",
       "      <td>Surat</td>\n",
       "    </tr>\n",
       "    <tr>\n",
       "      <th>498</th>\n",
       "      <td>10</td>\n",
       "      <td>2020-10-15</td>\n",
       "      <td>suratmunicipal.org/6db486cb4f720e8585ba1f45a93...</td>\n",
       "      <td>1</td>\n",
       "      <td>2360</td>\n",
       "      <td>2020</td>\n",
       "      <td>Surat</td>\n",
       "    </tr>\n",
       "    <tr>\n",
       "      <th>499</th>\n",
       "      <td>10</td>\n",
       "      <td>2020-10-24</td>\n",
       "      <td>suratmunicipal.org/6db486cb4f720e8585ba1f45a93...</td>\n",
       "      <td>1</td>\n",
       "      <td>2360</td>\n",
       "      <td>2020</td>\n",
       "      <td>Surat</td>\n",
       "    </tr>\n",
       "    <tr>\n",
       "      <th>500</th>\n",
       "      <td>10</td>\n",
       "      <td>2020-10-17</td>\n",
       "      <td>suratmunicipal.org/6db486cb4f720e8585ba1f45a93...</td>\n",
       "      <td>0</td>\n",
       "      <td>0</td>\n",
       "      <td>2020</td>\n",
       "      <td>Surat</td>\n",
       "    </tr>\n",
       "    <tr>\n",
       "      <th>501</th>\n",
       "      <td>10</td>\n",
       "      <td>2020-10-18</td>\n",
       "      <td>suratmunicipal.org/6db486cb4f720e8585ba1f45a93...</td>\n",
       "      <td>0</td>\n",
       "      <td>0</td>\n",
       "      <td>2020</td>\n",
       "      <td>Surat</td>\n",
       "    </tr>\n",
       "    <tr>\n",
       "      <th>502</th>\n",
       "      <td>10</td>\n",
       "      <td>2020-10-19</td>\n",
       "      <td>suratmunicipal.org/6db486cb4f720e8585ba1f45a93...</td>\n",
       "      <td>0</td>\n",
       "      <td>0</td>\n",
       "      <td>2020</td>\n",
       "      <td>Surat</td>\n",
       "    </tr>\n",
       "    <tr>\n",
       "      <th>503</th>\n",
       "      <td>10</td>\n",
       "      <td>2020-10-20</td>\n",
       "      <td>suratmunicipal.org/6db486cb4f720e8585ba1f45a93...</td>\n",
       "      <td>0</td>\n",
       "      <td>0</td>\n",
       "      <td>2020</td>\n",
       "      <td>Surat</td>\n",
       "    </tr>\n",
       "    <tr>\n",
       "      <th>504</th>\n",
       "      <td>9</td>\n",
       "      <td>2020-09-29</td>\n",
       "      <td>suratmunicipal.org/6db486cb4f720e8585ba1f45a93...</td>\n",
       "      <td>11</td>\n",
       "      <td>224500</td>\n",
       "      <td>2020</td>\n",
       "      <td>Surat</td>\n",
       "    </tr>\n",
       "    <tr>\n",
       "      <th>505</th>\n",
       "      <td>9</td>\n",
       "      <td>2020-09-30</td>\n",
       "      <td>suratmunicipal.org/6db486cb4f720e8585ba1f45a93...</td>\n",
       "      <td>6</td>\n",
       "      <td>176360</td>\n",
       "      <td>2020</td>\n",
       "      <td>Surat</td>\n",
       "    </tr>\n",
       "    <tr>\n",
       "      <th>506</th>\n",
       "      <td>9</td>\n",
       "      <td>2020-09-11</td>\n",
       "      <td>suratmunicipal.org/6db486cb4f720e8585ba1f45a93...</td>\n",
       "      <td>10</td>\n",
       "      <td>141860</td>\n",
       "      <td>2020</td>\n",
       "      <td>Surat</td>\n",
       "    </tr>\n",
       "    <tr>\n",
       "      <th>507</th>\n",
       "      <td>9</td>\n",
       "      <td>2020-09-28</td>\n",
       "      <td>suratmunicipal.org/6db486cb4f720e8585ba1f45a93...</td>\n",
       "      <td>7</td>\n",
       "      <td>138360</td>\n",
       "      <td>2020</td>\n",
       "      <td>Surat</td>\n",
       "    </tr>\n",
       "    <tr>\n",
       "      <th>508</th>\n",
       "      <td>9</td>\n",
       "      <td>2020-09-10</td>\n",
       "      <td>suratmunicipal.org/6db486cb4f720e8585ba1f45a93...</td>\n",
       "      <td>6</td>\n",
       "      <td>135720</td>\n",
       "      <td>2020</td>\n",
       "      <td>Surat</td>\n",
       "    </tr>\n",
       "    <tr>\n",
       "      <th>509</th>\n",
       "      <td>9</td>\n",
       "      <td>2020-09-26</td>\n",
       "      <td>suratmunicipal.org/6db486cb4f720e8585ba1f45a93...</td>\n",
       "      <td>1</td>\n",
       "      <td>50000</td>\n",
       "      <td>2020</td>\n",
       "      <td>Surat</td>\n",
       "    </tr>\n",
       "    <tr>\n",
       "      <th>510</th>\n",
       "      <td>9</td>\n",
       "      <td>2020-09-25</td>\n",
       "      <td>suratmunicipal.org/6db486cb4f720e8585ba1f45a93...</td>\n",
       "      <td>1</td>\n",
       "      <td>32000</td>\n",
       "      <td>2020</td>\n",
       "      <td>Surat</td>\n",
       "    </tr>\n",
       "    <tr>\n",
       "      <th>511</th>\n",
       "      <td>9</td>\n",
       "      <td>2020-09-24</td>\n",
       "      <td>suratmunicipal.org/6db486cb4f720e8585ba1f45a93...</td>\n",
       "      <td>1</td>\n",
       "      <td>21000</td>\n",
       "      <td>2020</td>\n",
       "      <td>Surat</td>\n",
       "    </tr>\n",
       "    <tr>\n",
       "      <th>512</th>\n",
       "      <td>9</td>\n",
       "      <td>2020-09-12</td>\n",
       "      <td>suratmunicipal.org/6db486cb4f720e8585ba1f45a93...</td>\n",
       "      <td>3</td>\n",
       "      <td>7080</td>\n",
       "      <td>2020</td>\n",
       "      <td>Surat</td>\n",
       "    </tr>\n",
       "    <tr>\n",
       "      <th>513</th>\n",
       "      <td>9</td>\n",
       "      <td>2020-09-27</td>\n",
       "      <td>suratmunicipal.org/6db486cb4f720e8585ba1f45a93...</td>\n",
       "      <td>0</td>\n",
       "      <td>0</td>\n",
       "      <td>2020</td>\n",
       "      <td>Surat</td>\n",
       "    </tr>\n",
       "    <tr>\n",
       "      <th>514</th>\n",
       "      <td>8</td>\n",
       "      <td>2020-08-10</td>\n",
       "      <td>suratmunicipal.org/6db486cb4f720e8585ba1f45a93...</td>\n",
       "      <td>9</td>\n",
       "      <td>165630</td>\n",
       "      <td>2020</td>\n",
       "      <td>Surat</td>\n",
       "    </tr>\n",
       "    <tr>\n",
       "      <th>515</th>\n",
       "      <td>8</td>\n",
       "      <td>2020-08-12</td>\n",
       "      <td>suratmunicipal.org/6db486cb4f720e8585ba1f45a93...</td>\n",
       "      <td>6</td>\n",
       "      <td>103440</td>\n",
       "      <td>2020</td>\n",
       "      <td>Surat</td>\n",
       "    </tr>\n",
       "    <tr>\n",
       "      <th>516</th>\n",
       "      <td>8</td>\n",
       "      <td>2020-08-11</td>\n",
       "      <td>suratmunicipal.org/6db486cb4f720e8585ba1f45a93...</td>\n",
       "      <td>1</td>\n",
       "      <td>12000</td>\n",
       "      <td>2020</td>\n",
       "      <td>Surat</td>\n",
       "    </tr>\n",
       "    <tr>\n",
       "      <th>517</th>\n",
       "      <td>7</td>\n",
       "      <td>2020-07-11</td>\n",
       "      <td>suratmunicipal.org/6db486cb4f720e8585ba1f45a93...</td>\n",
       "      <td>6</td>\n",
       "      <td>159360</td>\n",
       "      <td>2020</td>\n",
       "      <td>Surat</td>\n",
       "    </tr>\n",
       "    <tr>\n",
       "      <th>518</th>\n",
       "      <td>7</td>\n",
       "      <td>2020-07-12</td>\n",
       "      <td>suratmunicipal.org/6db486cb4f720e8585ba1f45a93...</td>\n",
       "      <td>6</td>\n",
       "      <td>75080</td>\n",
       "      <td>2020</td>\n",
       "      <td>Surat</td>\n",
       "    </tr>\n",
       "    <tr>\n",
       "      <th>519</th>\n",
       "      <td>7</td>\n",
       "      <td>2020-07-10</td>\n",
       "      <td>suratmunicipal.org/6db486cb4f720e8585ba1f45a93...</td>\n",
       "      <td>2</td>\n",
       "      <td>42000</td>\n",
       "      <td>2020</td>\n",
       "      <td>Surat</td>\n",
       "    </tr>\n",
       "    <tr>\n",
       "      <th>520</th>\n",
       "      <td>6</td>\n",
       "      <td>2020-06-11</td>\n",
       "      <td>suratmunicipal.org/6db486cb4f720e8585ba1f45a93...</td>\n",
       "      <td>11</td>\n",
       "      <td>142220</td>\n",
       "      <td>2020</td>\n",
       "      <td>Surat</td>\n",
       "    </tr>\n",
       "    <tr>\n",
       "      <th>521</th>\n",
       "      <td>6</td>\n",
       "      <td>2020-06-10</td>\n",
       "      <td>suratmunicipal.org/6db486cb4f720e8585ba1f45a93...</td>\n",
       "      <td>5</td>\n",
       "      <td>128360</td>\n",
       "      <td>2020</td>\n",
       "      <td>Surat</td>\n",
       "    </tr>\n",
       "    <tr>\n",
       "      <th>522</th>\n",
       "      <td>6</td>\n",
       "      <td>2020-06-12</td>\n",
       "      <td>suratmunicipal.org/6db486cb4f720e8585ba1f45a93...</td>\n",
       "      <td>2</td>\n",
       "      <td>34360</td>\n",
       "      <td>2020</td>\n",
       "      <td>Surat</td>\n",
       "    </tr>\n",
       "    <tr>\n",
       "      <th>523</th>\n",
       "      <td>5</td>\n",
       "      <td>2020-05-11</td>\n",
       "      <td>suratmunicipal.org/6db486cb4f720e8585ba1f45a93...</td>\n",
       "      <td>7</td>\n",
       "      <td>132720</td>\n",
       "      <td>2020</td>\n",
       "      <td>Surat</td>\n",
       "    </tr>\n",
       "    <tr>\n",
       "      <th>524</th>\n",
       "      <td>5</td>\n",
       "      <td>2020-05-12</td>\n",
       "      <td>suratmunicipal.org/6db486cb4f720e8585ba1f45a93...</td>\n",
       "      <td>6</td>\n",
       "      <td>116360</td>\n",
       "      <td>2020</td>\n",
       "      <td>Surat</td>\n",
       "    </tr>\n",
       "    <tr>\n",
       "      <th>525</th>\n",
       "      <td>5</td>\n",
       "      <td>2020-05-10</td>\n",
       "      <td>suratmunicipal.org/6db486cb4f720e8585ba1f45a93...</td>\n",
       "      <td>7</td>\n",
       "      <td>85360</td>\n",
       "      <td>2020</td>\n",
       "      <td>Surat</td>\n",
       "    </tr>\n",
       "    <tr>\n",
       "      <th>526</th>\n",
       "      <td>4</td>\n",
       "      <td>2020-04-12</td>\n",
       "      <td>suratmunicipal.org/6db486cb4f720e8585ba1f45a93...</td>\n",
       "      <td>5</td>\n",
       "      <td>67720</td>\n",
       "      <td>2020</td>\n",
       "      <td>Surat</td>\n",
       "    </tr>\n",
       "    <tr>\n",
       "      <th>527</th>\n",
       "      <td>4</td>\n",
       "      <td>2020-04-11</td>\n",
       "      <td>suratmunicipal.org/6db486cb4f720e8585ba1f45a93...</td>\n",
       "      <td>1</td>\n",
       "      <td>30000</td>\n",
       "      <td>2020</td>\n",
       "      <td>Surat</td>\n",
       "    </tr>\n",
       "    <tr>\n",
       "      <th>528</th>\n",
       "      <td>4</td>\n",
       "      <td>2020-04-10</td>\n",
       "      <td>suratmunicipal.org/6db486cb4f720e8585ba1f45a93...</td>\n",
       "      <td>0</td>\n",
       "      <td>0</td>\n",
       "      <td>2020</td>\n",
       "      <td>Surat</td>\n",
       "    </tr>\n",
       "    <tr>\n",
       "      <th>529</th>\n",
       "      <td>3</td>\n",
       "      <td>2020-03-12</td>\n",
       "      <td>suratmunicipal.org/6db486cb4f720e8585ba1f45a93...</td>\n",
       "      <td>7</td>\n",
       "      <td>136720</td>\n",
       "      <td>2020</td>\n",
       "      <td>Surat</td>\n",
       "    </tr>\n",
       "    <tr>\n",
       "      <th>530</th>\n",
       "      <td>3</td>\n",
       "      <td>2020-03-10</td>\n",
       "      <td>suratmunicipal.org/6db486cb4f720e8585ba1f45a93...</td>\n",
       "      <td>4</td>\n",
       "      <td>110360</td>\n",
       "      <td>2020</td>\n",
       "      <td>Surat</td>\n",
       "    </tr>\n",
       "    <tr>\n",
       "      <th>531</th>\n",
       "      <td>3</td>\n",
       "      <td>2020-03-11</td>\n",
       "      <td>suratmunicipal.org/6db486cb4f720e8585ba1f45a93...</td>\n",
       "      <td>8</td>\n",
       "      <td>88860</td>\n",
       "      <td>2020</td>\n",
       "      <td>Surat</td>\n",
       "    </tr>\n",
       "    <tr>\n",
       "      <th>532</th>\n",
       "      <td>2</td>\n",
       "      <td>2020-02-12</td>\n",
       "      <td>suratmunicipal.org/6db486cb4f720e8585ba1f45a93...</td>\n",
       "      <td>4</td>\n",
       "      <td>59360</td>\n",
       "      <td>2020</td>\n",
       "      <td>Surat</td>\n",
       "    </tr>\n",
       "    <tr>\n",
       "      <th>533</th>\n",
       "      <td>2</td>\n",
       "      <td>2020-02-11</td>\n",
       "      <td>suratmunicipal.org/6db486cb4f720e8585ba1f45a93...</td>\n",
       "      <td>4</td>\n",
       "      <td>44360</td>\n",
       "      <td>2020</td>\n",
       "      <td>Surat</td>\n",
       "    </tr>\n",
       "    <tr>\n",
       "      <th>534</th>\n",
       "      <td>2</td>\n",
       "      <td>2020-02-10</td>\n",
       "      <td>suratmunicipal.org/6db486cb4f720e8585ba1f45a93...</td>\n",
       "      <td>2</td>\n",
       "      <td>2360</td>\n",
       "      <td>2020</td>\n",
       "      <td>Surat</td>\n",
       "    </tr>\n",
       "    <tr>\n",
       "      <th>535</th>\n",
       "      <td>1</td>\n",
       "      <td>2020-01-10</td>\n",
       "      <td>suratmunicipal.org/6db486cb4f720e8585ba1f45a93...</td>\n",
       "      <td>5</td>\n",
       "      <td>91360</td>\n",
       "      <td>2020</td>\n",
       "      <td>Surat</td>\n",
       "    </tr>\n",
       "    <tr>\n",
       "      <th>536</th>\n",
       "      <td>1</td>\n",
       "      <td>2020-01-11</td>\n",
       "      <td>suratmunicipal.org/6db486cb4f720e8585ba1f45a93...</td>\n",
       "      <td>3</td>\n",
       "      <td>63000</td>\n",
       "      <td>2020</td>\n",
       "      <td>Surat</td>\n",
       "    </tr>\n",
       "    <tr>\n",
       "      <th>537</th>\n",
       "      <td>1</td>\n",
       "      <td>2020-01-12</td>\n",
       "      <td>suratmunicipal.org/6db486cb4f720e8585ba1f45a93...</td>\n",
       "      <td>3</td>\n",
       "      <td>59360</td>\n",
       "      <td>2020</td>\n",
       "      <td>Surat</td>\n",
       "    </tr>\n",
       "  </tbody>\n",
       "</table>\n",
       "</div>"
      ],
      "text/plain": [
       "     month       date                                                 id  \\\n",
       "478     11 2020-11-16  suratmunicipal.org/6db486cb4f720e8585ba1f45a93...   \n",
       "479     11 2020-11-22  suratmunicipal.org/6db486cb4f720e8585ba1f45a93...   \n",
       "480     11 2020-11-28  suratmunicipal.org/6db486cb4f720e8585ba1f45a93...   \n",
       "481     11 2020-11-30  suratmunicipal.org/6db486cb4f720e8585ba1f45a93...   \n",
       "482     10 2020-10-21  suratmunicipal.org/6db486cb4f720e8585ba1f45a93...   \n",
       "483     10 2020-10-12  suratmunicipal.org/6db486cb4f720e8585ba1f45a93...   \n",
       "484     10 2020-10-10  suratmunicipal.org/6db486cb4f720e8585ba1f45a93...   \n",
       "486     10 2020-10-25  suratmunicipal.org/6db486cb4f720e8585ba1f45a93...   \n",
       "487     10 2020-10-14  suratmunicipal.org/6db486cb4f720e8585ba1f45a93...   \n",
       "485     10 2020-10-23  suratmunicipal.org/6db486cb4f720e8585ba1f45a93...   \n",
       "488     10 2020-10-13  suratmunicipal.org/6db486cb4f720e8585ba1f45a93...   \n",
       "489     10 2020-10-27  suratmunicipal.org/6db486cb4f720e8585ba1f45a93...   \n",
       "490     10 2020-10-28  suratmunicipal.org/6db486cb4f720e8585ba1f45a93...   \n",
       "491     10 2020-10-11  suratmunicipal.org/6db486cb4f720e8585ba1f45a93...   \n",
       "492     10 2020-10-22  suratmunicipal.org/6db486cb4f720e8585ba1f45a93...   \n",
       "493     10 2020-10-31  suratmunicipal.org/6db486cb4f720e8585ba1f45a93...   \n",
       "494     10 2020-10-26  suratmunicipal.org/6db486cb4f720e8585ba1f45a93...   \n",
       "495     10 2020-10-30  suratmunicipal.org/6db486cb4f720e8585ba1f45a93...   \n",
       "496     10 2020-10-16  suratmunicipal.org/6db486cb4f720e8585ba1f45a93...   \n",
       "497     10 2020-10-29  suratmunicipal.org/6db486cb4f720e8585ba1f45a93...   \n",
       "498     10 2020-10-15  suratmunicipal.org/6db486cb4f720e8585ba1f45a93...   \n",
       "499     10 2020-10-24  suratmunicipal.org/6db486cb4f720e8585ba1f45a93...   \n",
       "500     10 2020-10-17  suratmunicipal.org/6db486cb4f720e8585ba1f45a93...   \n",
       "501     10 2020-10-18  suratmunicipal.org/6db486cb4f720e8585ba1f45a93...   \n",
       "502     10 2020-10-19  suratmunicipal.org/6db486cb4f720e8585ba1f45a93...   \n",
       "503     10 2020-10-20  suratmunicipal.org/6db486cb4f720e8585ba1f45a93...   \n",
       "504      9 2020-09-29  suratmunicipal.org/6db486cb4f720e8585ba1f45a93...   \n",
       "505      9 2020-09-30  suratmunicipal.org/6db486cb4f720e8585ba1f45a93...   \n",
       "506      9 2020-09-11  suratmunicipal.org/6db486cb4f720e8585ba1f45a93...   \n",
       "507      9 2020-09-28  suratmunicipal.org/6db486cb4f720e8585ba1f45a93...   \n",
       "508      9 2020-09-10  suratmunicipal.org/6db486cb4f720e8585ba1f45a93...   \n",
       "509      9 2020-09-26  suratmunicipal.org/6db486cb4f720e8585ba1f45a93...   \n",
       "510      9 2020-09-25  suratmunicipal.org/6db486cb4f720e8585ba1f45a93...   \n",
       "511      9 2020-09-24  suratmunicipal.org/6db486cb4f720e8585ba1f45a93...   \n",
       "512      9 2020-09-12  suratmunicipal.org/6db486cb4f720e8585ba1f45a93...   \n",
       "513      9 2020-09-27  suratmunicipal.org/6db486cb4f720e8585ba1f45a93...   \n",
       "514      8 2020-08-10  suratmunicipal.org/6db486cb4f720e8585ba1f45a93...   \n",
       "515      8 2020-08-12  suratmunicipal.org/6db486cb4f720e8585ba1f45a93...   \n",
       "516      8 2020-08-11  suratmunicipal.org/6db486cb4f720e8585ba1f45a93...   \n",
       "517      7 2020-07-11  suratmunicipal.org/6db486cb4f720e8585ba1f45a93...   \n",
       "518      7 2020-07-12  suratmunicipal.org/6db486cb4f720e8585ba1f45a93...   \n",
       "519      7 2020-07-10  suratmunicipal.org/6db486cb4f720e8585ba1f45a93...   \n",
       "520      6 2020-06-11  suratmunicipal.org/6db486cb4f720e8585ba1f45a93...   \n",
       "521      6 2020-06-10  suratmunicipal.org/6db486cb4f720e8585ba1f45a93...   \n",
       "522      6 2020-06-12  suratmunicipal.org/6db486cb4f720e8585ba1f45a93...   \n",
       "523      5 2020-05-11  suratmunicipal.org/6db486cb4f720e8585ba1f45a93...   \n",
       "524      5 2020-05-12  suratmunicipal.org/6db486cb4f720e8585ba1f45a93...   \n",
       "525      5 2020-05-10  suratmunicipal.org/6db486cb4f720e8585ba1f45a93...   \n",
       "526      4 2020-04-12  suratmunicipal.org/6db486cb4f720e8585ba1f45a93...   \n",
       "527      4 2020-04-11  suratmunicipal.org/6db486cb4f720e8585ba1f45a93...   \n",
       "528      4 2020-04-10  suratmunicipal.org/6db486cb4f720e8585ba1f45a93...   \n",
       "529      3 2020-03-12  suratmunicipal.org/6db486cb4f720e8585ba1f45a93...   \n",
       "530      3 2020-03-10  suratmunicipal.org/6db486cb4f720e8585ba1f45a93...   \n",
       "531      3 2020-03-11  suratmunicipal.org/6db486cb4f720e8585ba1f45a93...   \n",
       "532      2 2020-02-12  suratmunicipal.org/6db486cb4f720e8585ba1f45a93...   \n",
       "533      2 2020-02-11  suratmunicipal.org/6db486cb4f720e8585ba1f45a93...   \n",
       "534      2 2020-02-10  suratmunicipal.org/6db486cb4f720e8585ba1f45a93...   \n",
       "535      1 2020-01-10  suratmunicipal.org/6db486cb4f720e8585ba1f45a93...   \n",
       "536      1 2020-01-11  suratmunicipal.org/6db486cb4f720e8585ba1f45a93...   \n",
       "537      1 2020-01-12  suratmunicipal.org/6db486cb4f720e8585ba1f45a93...   \n",
       "\n",
       "     totalCount  amountCollected  year cityName  \n",
       "478           4             7080  2020    Surat  \n",
       "479           4             7080  2020    Surat  \n",
       "480           2             4720  2020    Surat  \n",
       "481           1             2360  2020    Surat  \n",
       "482          11           166720  2020    Surat  \n",
       "483           9           141440  2020    Surat  \n",
       "484          14           140360  2020    Surat  \n",
       "486           3           140000  2020    Surat  \n",
       "487           7           112000  2020    Surat  \n",
       "485           6            97360  2020    Surat  \n",
       "488           5            90720  2020    Surat  \n",
       "489           4            87000  2020    Surat  \n",
       "490           4            75770  2020    Surat  \n",
       "491           4            65360  2020    Surat  \n",
       "492           3            30000  2020    Surat  \n",
       "493           5            25720  2020    Surat  \n",
       "494           3            14360  2020    Surat  \n",
       "495           1            13500  2020    Surat  \n",
       "496           1            12000  2020    Surat  \n",
       "497           2             4720  2020    Surat  \n",
       "498           1             2360  2020    Surat  \n",
       "499           1             2360  2020    Surat  \n",
       "500           0                0  2020    Surat  \n",
       "501           0                0  2020    Surat  \n",
       "502           0                0  2020    Surat  \n",
       "503           0                0  2020    Surat  \n",
       "504          11           224500  2020    Surat  \n",
       "505           6           176360  2020    Surat  \n",
       "506          10           141860  2020    Surat  \n",
       "507           7           138360  2020    Surat  \n",
       "508           6           135720  2020    Surat  \n",
       "509           1            50000  2020    Surat  \n",
       "510           1            32000  2020    Surat  \n",
       "511           1            21000  2020    Surat  \n",
       "512           3             7080  2020    Surat  \n",
       "513           0                0  2020    Surat  \n",
       "514           9           165630  2020    Surat  \n",
       "515           6           103440  2020    Surat  \n",
       "516           1            12000  2020    Surat  \n",
       "517           6           159360  2020    Surat  \n",
       "518           6            75080  2020    Surat  \n",
       "519           2            42000  2020    Surat  \n",
       "520          11           142220  2020    Surat  \n",
       "521           5           128360  2020    Surat  \n",
       "522           2            34360  2020    Surat  \n",
       "523           7           132720  2020    Surat  \n",
       "524           6           116360  2020    Surat  \n",
       "525           7            85360  2020    Surat  \n",
       "526           5            67720  2020    Surat  \n",
       "527           1            30000  2020    Surat  \n",
       "528           0                0  2020    Surat  \n",
       "529           7           136720  2020    Surat  \n",
       "530           4           110360  2020    Surat  \n",
       "531           8            88860  2020    Surat  \n",
       "532           4            59360  2020    Surat  \n",
       "533           4            44360  2020    Surat  \n",
       "534           2             2360  2020    Surat  \n",
       "535           5            91360  2020    Surat  \n",
       "536           3            63000  2020    Surat  \n",
       "537           3            59360  2020    Surat  "
      ]
     },
     "execution_count": 14,
     "metadata": {},
     "output_type": "execute_result"
    }
   ],
   "source": [
    "df.tail(60)"
   ]
  },
  {
   "cell_type": "code",
   "execution_count": 15,
   "id": "106d76db",
   "metadata": {
    "extensions": {
     "jupyter_dashboards": {
      "version": 1,
      "views": {
       "default_view": {
        "hidden": true
       },
       "grid_default": {
        "col": null,
        "height": 2,
        "hidden": true,
        "locked": true,
        "row": null,
        "width": 2
       }
      }
     }
    }
   },
   "outputs": [],
   "source": [
    "df.drop_duplicates(subset =[\"date\",\"amountCollected\"],\n",
    "                     keep = 'first', inplace = True)"
   ]
  },
  {
   "cell_type": "markdown",
   "id": "bb6fb962",
   "metadata": {
    "extensions": {
     "jupyter_dashboards": {
      "version": 1,
      "views": {
       "default_view": {
        "col": 0,
        "height": 2,
        "row": 44,
        "width": 12
       },
       "grid_default": {
        "col": null,
        "height": 2,
        "hidden": true,
        "locked": true,
        "row": null,
        "width": 2
       }
      }
     }
    }
   },
   "source": [
    "# check for redundant sample"
   ]
  },
  {
   "cell_type": "code",
   "execution_count": 16,
   "id": "91116360",
   "metadata": {
    "extensions": {
     "jupyter_dashboards": {
      "version": 1,
      "views": {
       "default_view": {
        "col": 0,
        "height": 2,
        "row": 46,
        "width": 12
       },
       "grid_default": {
        "col": null,
        "height": 2,
        "hidden": true,
        "locked": true,
        "row": null,
        "width": 2
       }
      }
     }
    }
   },
   "outputs": [
    {
     "data": {
      "text/html": [
       "<div>\n",
       "<style scoped>\n",
       "    .dataframe tbody tr th:only-of-type {\n",
       "        vertical-align: middle;\n",
       "    }\n",
       "\n",
       "    .dataframe tbody tr th {\n",
       "        vertical-align: top;\n",
       "    }\n",
       "\n",
       "    .dataframe thead th {\n",
       "        text-align: right;\n",
       "    }\n",
       "</style>\n",
       "<table border=\"1\" class=\"dataframe\">\n",
       "  <thead>\n",
       "    <tr style=\"text-align: right;\">\n",
       "      <th></th>\n",
       "      <th>month</th>\n",
       "      <th>date</th>\n",
       "      <th>id</th>\n",
       "      <th>totalCount</th>\n",
       "      <th>amountCollected</th>\n",
       "      <th>year</th>\n",
       "      <th>cityName</th>\n",
       "    </tr>\n",
       "  </thead>\n",
       "  <tbody>\n",
       "    <tr>\n",
       "      <th>147</th>\n",
       "      <td>12</td>\n",
       "      <td>2021-12-08</td>\n",
       "      <td>suratmunicipal.org/6db486cb4f720e8585ba1f45a93...</td>\n",
       "      <td>4</td>\n",
       "      <td>121000</td>\n",
       "      <td>2021</td>\n",
       "      <td>Surat</td>\n",
       "    </tr>\n",
       "  </tbody>\n",
       "</table>\n",
       "</div>"
      ],
      "text/plain": [
       "     month       date                                                 id  \\\n",
       "147     12 2021-12-08  suratmunicipal.org/6db486cb4f720e8585ba1f45a93...   \n",
       "\n",
       "     totalCount  amountCollected  year cityName  \n",
       "147           4           121000  2021    Surat  "
      ]
     },
     "execution_count": 16,
     "metadata": {},
     "output_type": "execute_result"
    }
   ],
   "source": [
    "df[df['date']=='2021-12-08']"
   ]
  },
  {
   "cell_type": "code",
   "execution_count": 17,
   "id": "f4d1ab28",
   "metadata": {
    "extensions": {
     "jupyter_dashboards": {
      "version": 1,
      "views": {
       "default_view": {
        "hidden": true
       },
       "grid_default": {
        "col": null,
        "height": 2,
        "hidden": true,
        "locked": true,
        "row": null,
        "width": 2
       }
      }
     }
    }
   },
   "outputs": [],
   "source": [
    "post_removal=df.shape[0]\n",
    "\n"
   ]
  },
  {
   "cell_type": "code",
   "execution_count": 18,
   "id": "cc9c2466",
   "metadata": {
    "extensions": {
     "jupyter_dashboards": {
      "version": 1,
      "views": {
       "default_view": {
        "col": 0,
        "height": 2,
        "row": 50,
        "width": 12
       },
       "grid_default": {
        "col": null,
        "height": 2,
        "hidden": true,
        "locked": true,
        "row": null,
        "width": 2
       }
      }
     }
    }
   },
   "outputs": [
    {
     "data": {
      "text/plain": [
       "(571, 7)"
      ]
     },
     "execution_count": 18,
     "metadata": {},
     "output_type": "execute_result"
    }
   ],
   "source": [
    "df.shape"
   ]
  },
  {
   "cell_type": "code",
   "execution_count": 19,
   "id": "06e8d299",
   "metadata": {
    "extensions": {
     "jupyter_dashboards": {
      "version": 1,
      "views": {
       "default_view": {
        "hidden": true
       },
       "grid_default": {
        "col": null,
        "height": 2,
        "hidden": true,
        "locked": true,
        "row": null,
        "width": 2
       }
      }
     }
    }
   },
   "outputs": [],
   "source": [
    "df.to_csv('/home/rohit/iudx/partyplot.csv',index=False)"
   ]
  },
  {
   "cell_type": "markdown",
   "id": "b15530ee",
   "metadata": {
    "extensions": {
     "jupyter_dashboards": {
      "version": 1,
      "views": {
       "default_view": {
        "col": 0,
        "height": 2,
        "row": 54,
        "width": 12
       },
       "grid_default": {
        "col": null,
        "height": 2,
        "hidden": true,
        "locked": true,
        "row": null,
        "width": 2
       }
      }
     }
    }
   },
   "source": [
    "# resample daily data to yearly"
   ]
  },
  {
   "cell_type": "code",
   "execution_count": 20,
   "id": "67165f9d",
   "metadata": {
    "extensions": {
     "jupyter_dashboards": {
      "version": 1,
      "views": {
       "default_view": {
        "hidden": true
       },
       "grid_default": {
        "col": null,
        "height": 2,
        "hidden": true,
        "locked": true,
        "row": null,
        "width": 2
       }
      }
     }
    }
   },
   "outputs": [],
   "source": [
    "new_df=df.resample('Y',on='date').sum()"
   ]
  },
  {
   "cell_type": "code",
   "execution_count": 21,
   "id": "b784bd1f",
   "metadata": {
    "extensions": {
     "jupyter_dashboards": {
      "version": 1,
      "views": {
       "default_view": {
        "hidden": true
       },
       "grid_default": {
        "col": null,
        "height": 2,
        "hidden": true,
        "locked": true,
        "row": null,
        "width": 2
       }
      }
     }
    }
   },
   "outputs": [],
   "source": [
    "new_df=new_df.drop(['month','totalCount','year'],axis=1)\n",
    "\n",
    "new_df.reset_index(inplace = True)"
   ]
  },
  {
   "cell_type": "code",
   "execution_count": 22,
   "id": "51e7af8d",
   "metadata": {
    "extensions": {
     "jupyter_dashboards": {
      "version": 1,
      "views": {
       "default_view": {
        "hidden": true
       },
       "grid_default": {
        "col": null,
        "height": 2,
        "hidden": true,
        "locked": true,
        "row": null,
        "width": 2
       }
      }
     }
    }
   },
   "outputs": [],
   "source": [
    "new_df['year']= new_df['date'].dt.year\n"
   ]
  },
  {
   "cell_type": "code",
   "execution_count": 23,
   "id": "ad822061",
   "metadata": {
    "extensions": {
     "jupyter_dashboards": {
      "version": 1,
      "views": {
       "default_view": {
        "hidden": true
       },
       "grid_default": {
        "col": null,
        "height": 2,
        "hidden": true,
        "locked": true,
        "row": null,
        "width": 2
       }
      }
     }
    }
   },
   "outputs": [],
   "source": [
    "new_df=new_df.drop('date',axis=1)"
   ]
  },
  {
   "cell_type": "code",
   "execution_count": 24,
   "id": "b834bc40",
   "metadata": {
    "extensions": {
     "jupyter_dashboards": {
      "version": 1,
      "views": {
       "default_view": {
        "hidden": true
       },
       "grid_default": {
        "col": null,
        "height": 2,
        "hidden": true,
        "locked": true,
        "row": null,
        "width": 2
       }
      }
     }
    }
   },
   "outputs": [],
   "source": [
    "new_df.year=new_df.year.astype('str')"
   ]
  },
  {
   "cell_type": "code",
   "execution_count": 25,
   "id": "887cd8a2",
   "metadata": {
    "extensions": {
     "jupyter_dashboards": {
      "version": 1,
      "views": {
       "default_view": {
        "col": 0,
        "height": 2,
        "row": 66,
        "width": 12
       },
       "grid_default": {
        "col": null,
        "height": 2,
        "hidden": true,
        "locked": true,
        "row": null,
        "width": 2
       }
      }
     }
    }
   },
   "outputs": [
    {
     "data": {
      "text/plain": [
       "<bound method BaseFigure.show of Figure({\n",
       "    'data': [{'alignmentgroup': 'True',\n",
       "              'hovertemplate': 'year=%{x}<br>amountCollected=%{y}<extra></extra>',\n",
       "              'legendgroup': '2020',\n",
       "              'marker': {'color': '#636efa', 'pattern': {'shape': ''}},\n",
       "              'name': '2020',\n",
       "              'offsetgroup': '2020',\n",
       "              'orientation': 'v',\n",
       "              'showlegend': True,\n",
       "              'textposition': 'auto',\n",
       "              'type': 'bar',\n",
       "              'x': array(['2020'], dtype=object),\n",
       "              'xaxis': 'x',\n",
       "              'y': array([7234820]),\n",
       "              'yaxis': 'y'},\n",
       "             {'alignmentgroup': 'True',\n",
       "              'hovertemplate': 'year=%{x}<br>amountCollected=%{y}<extra></extra>',\n",
       "              'legendgroup': '2021',\n",
       "              'marker': {'color': '#EF553B', 'pattern': {'shape': ''}},\n",
       "              'name': '2021',\n",
       "              'offsetgroup': '2021',\n",
       "              'orientation': 'v',\n",
       "              'showlegend': True,\n",
       "              'textposition': 'auto',\n",
       "              'type': 'bar',\n",
       "              'x': array(['2021'], dtype=object),\n",
       "              'xaxis': 'x',\n",
       "              'y': array([27030010]),\n",
       "              'yaxis': 'y'},\n",
       "             {'alignmentgroup': 'True',\n",
       "              'hovertemplate': 'year=%{x}<br>amountCollected=%{y}<extra></extra>',\n",
       "              'legendgroup': '2022',\n",
       "              'marker': {'color': '#00cc96', 'pattern': {'shape': ''}},\n",
       "              'name': '2022',\n",
       "              'offsetgroup': '2022',\n",
       "              'orientation': 'v',\n",
       "              'showlegend': True,\n",
       "              'textposition': 'auto',\n",
       "              'type': 'bar',\n",
       "              'x': array(['2022'], dtype=object),\n",
       "              'xaxis': 'x',\n",
       "              'y': array([15248250]),\n",
       "              'yaxis': 'y'}],\n",
       "    'layout': {'barmode': 'relative',\n",
       "               'legend': {'title': {'text': 'year'}, 'tracegroupgap': 0},\n",
       "               'margin': {'t': 60},\n",
       "               'template': '...',\n",
       "               'xaxis': {'anchor': 'y',\n",
       "                         'categoryarray': [2020, 2021, 2022],\n",
       "                         'categoryorder': 'array',\n",
       "                         'domain': [0.0, 1.0],\n",
       "                         'title': {'text': 'year'}},\n",
       "               'yaxis': {'anchor': 'x', 'domain': [0.0, 1.0], 'title': {'text': 'amountCollected'}}}\n",
       "})>"
      ]
     },
     "execution_count": 25,
     "metadata": {},
     "output_type": "execute_result"
    }
   ],
   "source": [
    "fig = px.bar(new_df, x='year', y='amountCollected',color='year')\n",
    "fig.show\n"
   ]
  },
  {
   "cell_type": "code",
   "execution_count": 26,
   "id": "daa5067f",
   "metadata": {
    "extensions": {
     "jupyter_dashboards": {
      "version": 1,
      "views": {
       "default_view": {
        "col": 0,
        "height": 2,
        "row": 68,
        "width": 12
       },
       "grid_default": {
        "col": null,
        "height": 2,
        "hidden": true,
        "locked": true,
        "row": null,
        "width": 2
       }
      }
     }
    }
   },
   "outputs": [
    {
     "data": {
      "text/html": [
       "<div>\n",
       "<style scoped>\n",
       "    .dataframe tbody tr th:only-of-type {\n",
       "        vertical-align: middle;\n",
       "    }\n",
       "\n",
       "    .dataframe tbody tr th {\n",
       "        vertical-align: top;\n",
       "    }\n",
       "\n",
       "    .dataframe thead th {\n",
       "        text-align: right;\n",
       "    }\n",
       "</style>\n",
       "<table border=\"1\" class=\"dataframe\">\n",
       "  <thead>\n",
       "    <tr style=\"text-align: right;\">\n",
       "      <th></th>\n",
       "      <th>amountCollected</th>\n",
       "      <th>year</th>\n",
       "    </tr>\n",
       "  </thead>\n",
       "  <tbody>\n",
       "    <tr>\n",
       "      <th>0</th>\n",
       "      <td>7234820</td>\n",
       "      <td>2020</td>\n",
       "    </tr>\n",
       "    <tr>\n",
       "      <th>1</th>\n",
       "      <td>27030010</td>\n",
       "      <td>2021</td>\n",
       "    </tr>\n",
       "    <tr>\n",
       "      <th>2</th>\n",
       "      <td>15248250</td>\n",
       "      <td>2022</td>\n",
       "    </tr>\n",
       "  </tbody>\n",
       "</table>\n",
       "</div>"
      ],
      "text/plain": [
       "   amountCollected  year\n",
       "0          7234820  2020\n",
       "1         27030010  2021\n",
       "2         15248250  2022"
      ]
     },
     "execution_count": 26,
     "metadata": {},
     "output_type": "execute_result"
    }
   ],
   "source": [
    "new_df"
   ]
  },
  {
   "cell_type": "markdown",
   "id": "17a5964e",
   "metadata": {
    "extensions": {
     "jupyter_dashboards": {
      "version": 1,
      "views": {
       "default_view": {
        "col": 0,
        "height": 9,
        "row": 70,
        "width": 12
       },
       "grid_default": {
        "col": null,
        "height": 2,
        "hidden": true,
        "locked": true,
        "row": null,
        "width": 2
       }
      }
     }
    }
   },
   "source": [
    "# resample daily data to monthly"
   ]
  },
  {
   "cell_type": "code",
   "execution_count": 27,
   "id": "101f99c9",
   "metadata": {
    "extensions": {
     "jupyter_dashboards": {
      "version": 1,
      "views": {
       "default_view": {
        "hidden": true
       },
       "grid_default": {
        "col": null,
        "height": 2,
        "hidden": true,
        "locked": true,
        "row": null,
        "width": 2
       }
      }
     }
    }
   },
   "outputs": [],
   "source": [
    "new_df2=df.resample('M',on='date').sum()"
   ]
  },
  {
   "cell_type": "code",
   "execution_count": 28,
   "id": "50712d74",
   "metadata": {
    "extensions": {
     "jupyter_dashboards": {
      "version": 1,
      "views": {
       "default_view": {
        "hidden": true
       },
       "grid_default": {
        "col": null,
        "height": 2,
        "hidden": true,
        "locked": true,
        "row": null,
        "width": 2
       }
      }
     }
    }
   },
   "outputs": [],
   "source": [
    "new_df2=new_df2.drop(['month','year'],axis=1)\n",
    "\n",
    "new_df2.reset_index(inplace = True)"
   ]
  },
  {
   "cell_type": "code",
   "execution_count": 29,
   "id": "8861b10e",
   "metadata": {
    "extensions": {
     "jupyter_dashboards": {
      "version": 1,
      "views": {
       "default_view": {
        "col": 0,
        "height": 2,
        "row": 79,
        "width": 12
       },
       "grid_default": {
        "col": null,
        "height": 2,
        "hidden": true,
        "locked": true,
        "row": null,
        "width": 2
       }
      }
     }
    }
   },
   "outputs": [
    {
     "data": {
      "text/html": [
       "<div>\n",
       "<style scoped>\n",
       "    .dataframe tbody tr th:only-of-type {\n",
       "        vertical-align: middle;\n",
       "    }\n",
       "\n",
       "    .dataframe tbody tr th {\n",
       "        vertical-align: top;\n",
       "    }\n",
       "\n",
       "    .dataframe thead th {\n",
       "        text-align: right;\n",
       "    }\n",
       "</style>\n",
       "<table border=\"1\" class=\"dataframe\">\n",
       "  <thead>\n",
       "    <tr style=\"text-align: right;\">\n",
       "      <th></th>\n",
       "      <th>date</th>\n",
       "      <th>totalCount</th>\n",
       "      <th>amountCollected</th>\n",
       "    </tr>\n",
       "  </thead>\n",
       "  <tbody>\n",
       "    <tr>\n",
       "      <th>0</th>\n",
       "      <td>2020-01-31</td>\n",
       "      <td>11</td>\n",
       "      <td>213720</td>\n",
       "    </tr>\n",
       "    <tr>\n",
       "      <th>1</th>\n",
       "      <td>2020-02-29</td>\n",
       "      <td>10</td>\n",
       "      <td>106080</td>\n",
       "    </tr>\n",
       "    <tr>\n",
       "      <th>2</th>\n",
       "      <td>2020-03-31</td>\n",
       "      <td>19</td>\n",
       "      <td>335940</td>\n",
       "    </tr>\n",
       "    <tr>\n",
       "      <th>3</th>\n",
       "      <td>2020-04-30</td>\n",
       "      <td>6</td>\n",
       "      <td>97720</td>\n",
       "    </tr>\n",
       "    <tr>\n",
       "      <th>4</th>\n",
       "      <td>2020-05-31</td>\n",
       "      <td>20</td>\n",
       "      <td>334440</td>\n",
       "    </tr>\n",
       "    <tr>\n",
       "      <th>5</th>\n",
       "      <td>2020-06-30</td>\n",
       "      <td>18</td>\n",
       "      <td>304940</td>\n",
       "    </tr>\n",
       "    <tr>\n",
       "      <th>6</th>\n",
       "      <td>2020-07-31</td>\n",
       "      <td>14</td>\n",
       "      <td>276440</td>\n",
       "    </tr>\n",
       "    <tr>\n",
       "      <th>7</th>\n",
       "      <td>2020-08-31</td>\n",
       "      <td>16</td>\n",
       "      <td>281070</td>\n",
       "    </tr>\n",
       "    <tr>\n",
       "      <th>8</th>\n",
       "      <td>2020-09-30</td>\n",
       "      <td>46</td>\n",
       "      <td>926880</td>\n",
       "    </tr>\n",
       "    <tr>\n",
       "      <th>9</th>\n",
       "      <td>2020-10-31</td>\n",
       "      <td>84</td>\n",
       "      <td>1221750</td>\n",
       "    </tr>\n",
       "    <tr>\n",
       "      <th>10</th>\n",
       "      <td>2020-11-30</td>\n",
       "      <td>109</td>\n",
       "      <td>1776080</td>\n",
       "    </tr>\n",
       "    <tr>\n",
       "      <th>11</th>\n",
       "      <td>2020-12-31</td>\n",
       "      <td>104</td>\n",
       "      <td>1359760</td>\n",
       "    </tr>\n",
       "    <tr>\n",
       "      <th>12</th>\n",
       "      <td>2021-01-31</td>\n",
       "      <td>182</td>\n",
       "      <td>876090</td>\n",
       "    </tr>\n",
       "    <tr>\n",
       "      <th>13</th>\n",
       "      <td>2021-02-28</td>\n",
       "      <td>76</td>\n",
       "      <td>1016180</td>\n",
       "    </tr>\n",
       "    <tr>\n",
       "      <th>14</th>\n",
       "      <td>2021-03-31</td>\n",
       "      <td>369</td>\n",
       "      <td>1333920</td>\n",
       "    </tr>\n",
       "    <tr>\n",
       "      <th>15</th>\n",
       "      <td>2021-04-30</td>\n",
       "      <td>77</td>\n",
       "      <td>1087300</td>\n",
       "    </tr>\n",
       "    <tr>\n",
       "      <th>16</th>\n",
       "      <td>2021-05-31</td>\n",
       "      <td>57</td>\n",
       "      <td>970120</td>\n",
       "    </tr>\n",
       "    <tr>\n",
       "      <th>17</th>\n",
       "      <td>2021-06-30</td>\n",
       "      <td>449</td>\n",
       "      <td>2376030</td>\n",
       "    </tr>\n",
       "    <tr>\n",
       "      <th>18</th>\n",
       "      <td>2021-07-31</td>\n",
       "      <td>91</td>\n",
       "      <td>2073400</td>\n",
       "    </tr>\n",
       "    <tr>\n",
       "      <th>19</th>\n",
       "      <td>2021-08-31</td>\n",
       "      <td>253</td>\n",
       "      <td>3349510</td>\n",
       "    </tr>\n",
       "    <tr>\n",
       "      <th>20</th>\n",
       "      <td>2021-09-30</td>\n",
       "      <td>154</td>\n",
       "      <td>3140340</td>\n",
       "    </tr>\n",
       "    <tr>\n",
       "      <th>21</th>\n",
       "      <td>2021-10-31</td>\n",
       "      <td>101</td>\n",
       "      <td>3092460</td>\n",
       "    </tr>\n",
       "    <tr>\n",
       "      <th>22</th>\n",
       "      <td>2021-11-30</td>\n",
       "      <td>196</td>\n",
       "      <td>3675320</td>\n",
       "    </tr>\n",
       "    <tr>\n",
       "      <th>23</th>\n",
       "      <td>2021-12-31</td>\n",
       "      <td>165</td>\n",
       "      <td>4039340</td>\n",
       "    </tr>\n",
       "    <tr>\n",
       "      <th>24</th>\n",
       "      <td>2022-01-31</td>\n",
       "      <td>103</td>\n",
       "      <td>1132800</td>\n",
       "    </tr>\n",
       "    <tr>\n",
       "      <th>25</th>\n",
       "      <td>2022-02-28</td>\n",
       "      <td>335</td>\n",
       "      <td>4294820</td>\n",
       "    </tr>\n",
       "    <tr>\n",
       "      <th>26</th>\n",
       "      <td>2022-03-31</td>\n",
       "      <td>169</td>\n",
       "      <td>2813410</td>\n",
       "    </tr>\n",
       "    <tr>\n",
       "      <th>27</th>\n",
       "      <td>2022-04-30</td>\n",
       "      <td>69</td>\n",
       "      <td>2617880</td>\n",
       "    </tr>\n",
       "    <tr>\n",
       "      <th>28</th>\n",
       "      <td>2022-05-31</td>\n",
       "      <td>63</td>\n",
       "      <td>558030</td>\n",
       "    </tr>\n",
       "    <tr>\n",
       "      <th>29</th>\n",
       "      <td>2022-06-30</td>\n",
       "      <td>19</td>\n",
       "      <td>336320</td>\n",
       "    </tr>\n",
       "    <tr>\n",
       "      <th>30</th>\n",
       "      <td>2022-07-31</td>\n",
       "      <td>40</td>\n",
       "      <td>792840</td>\n",
       "    </tr>\n",
       "    <tr>\n",
       "      <th>31</th>\n",
       "      <td>2022-08-31</td>\n",
       "      <td>29</td>\n",
       "      <td>539070</td>\n",
       "    </tr>\n",
       "    <tr>\n",
       "      <th>32</th>\n",
       "      <td>2022-09-30</td>\n",
       "      <td>30</td>\n",
       "      <td>689720</td>\n",
       "    </tr>\n",
       "    <tr>\n",
       "      <th>33</th>\n",
       "      <td>2022-10-31</td>\n",
       "      <td>23</td>\n",
       "      <td>578600</td>\n",
       "    </tr>\n",
       "    <tr>\n",
       "      <th>34</th>\n",
       "      <td>2022-11-30</td>\n",
       "      <td>31</td>\n",
       "      <td>542060</td>\n",
       "    </tr>\n",
       "    <tr>\n",
       "      <th>35</th>\n",
       "      <td>2022-12-31</td>\n",
       "      <td>19</td>\n",
       "      <td>352700</td>\n",
       "    </tr>\n",
       "  </tbody>\n",
       "</table>\n",
       "</div>"
      ],
      "text/plain": [
       "         date  totalCount  amountCollected\n",
       "0  2020-01-31          11           213720\n",
       "1  2020-02-29          10           106080\n",
       "2  2020-03-31          19           335940\n",
       "3  2020-04-30           6            97720\n",
       "4  2020-05-31          20           334440\n",
       "5  2020-06-30          18           304940\n",
       "6  2020-07-31          14           276440\n",
       "7  2020-08-31          16           281070\n",
       "8  2020-09-30          46           926880\n",
       "9  2020-10-31          84          1221750\n",
       "10 2020-11-30         109          1776080\n",
       "11 2020-12-31         104          1359760\n",
       "12 2021-01-31         182           876090\n",
       "13 2021-02-28          76          1016180\n",
       "14 2021-03-31         369          1333920\n",
       "15 2021-04-30          77          1087300\n",
       "16 2021-05-31          57           970120\n",
       "17 2021-06-30         449          2376030\n",
       "18 2021-07-31          91          2073400\n",
       "19 2021-08-31         253          3349510\n",
       "20 2021-09-30         154          3140340\n",
       "21 2021-10-31         101          3092460\n",
       "22 2021-11-30         196          3675320\n",
       "23 2021-12-31         165          4039340\n",
       "24 2022-01-31         103          1132800\n",
       "25 2022-02-28         335          4294820\n",
       "26 2022-03-31         169          2813410\n",
       "27 2022-04-30          69          2617880\n",
       "28 2022-05-31          63           558030\n",
       "29 2022-06-30          19           336320\n",
       "30 2022-07-31          40           792840\n",
       "31 2022-08-31          29           539070\n",
       "32 2022-09-30          30           689720\n",
       "33 2022-10-31          23           578600\n",
       "34 2022-11-30          31           542060\n",
       "35 2022-12-31          19           352700"
      ]
     },
     "execution_count": 29,
     "metadata": {},
     "output_type": "execute_result"
    }
   ],
   "source": [
    "new_df2"
   ]
  },
  {
   "cell_type": "code",
   "execution_count": 35,
   "id": "1793ce54",
   "metadata": {
    "extensions": {
     "jupyter_dashboards": {
      "version": 1,
      "views": {
       "default_view": {
        "col": 0,
        "height": 2,
        "row": 81,
        "width": 12
       },
       "grid_default": {
        "col": 0,
        "height": 19,
        "hidden": true,
        "locked": true,
        "row": 0,
        "width": 12
       }
      }
     }
    },
    "tags": []
   },
   "outputs": [
    {
     "data": {
      "application/vnd.plotly.v1+json": {
       "config": {
        "plotlyServerURL": "https://plot.ly"
       },
       "data": [
        {
         "alignmentgroup": "True",
         "hovertemplate": "date=%{x}<br>totalCount=%{marker.color}<br>amountCollected=%{text}<extra></extra>",
         "legendgroup": "",
         "marker": {
          "color": [
           11,
           10,
           19,
           6,
           20,
           18,
           14,
           16,
           46,
           84,
           109,
           104,
           182,
           76,
           369,
           77,
           57,
           449,
           91,
           253,
           154,
           101,
           196,
           165,
           103,
           335,
           169,
           69,
           63,
           19,
           40,
           29,
           30,
           23,
           31,
           19
          ],
          "coloraxis": "coloraxis",
          "pattern": {
           "shape": ""
          }
         },
         "name": "",
         "offsetgroup": "",
         "orientation": "v",
         "showlegend": false,
         "text": [
          213720,
          106080,
          335940,
          97720,
          334440,
          304940,
          276440,
          281070,
          926880,
          1221750,
          1776080,
          1359760,
          876090,
          1016180,
          1333920,
          1087300,
          970120,
          2376030,
          2073400,
          3349510,
          3140340,
          3092460,
          3675320,
          4039340,
          1132800,
          4294820,
          2813410,
          2617880,
          558030,
          336320,
          792840,
          539070,
          689720,
          578600,
          542060,
          352700
         ],
         "textposition": "auto",
         "type": "bar",
         "x": [
          "2020-01-31T00:00:00",
          "2020-02-29T00:00:00",
          "2020-03-31T00:00:00",
          "2020-04-30T00:00:00",
          "2020-05-31T00:00:00",
          "2020-06-30T00:00:00",
          "2020-07-31T00:00:00",
          "2020-08-31T00:00:00",
          "2020-09-30T00:00:00",
          "2020-10-31T00:00:00",
          "2020-11-30T00:00:00",
          "2020-12-31T00:00:00",
          "2021-01-31T00:00:00",
          "2021-02-28T00:00:00",
          "2021-03-31T00:00:00",
          "2021-04-30T00:00:00",
          "2021-05-31T00:00:00",
          "2021-06-30T00:00:00",
          "2021-07-31T00:00:00",
          "2021-08-31T00:00:00",
          "2021-09-30T00:00:00",
          "2021-10-31T00:00:00",
          "2021-11-30T00:00:00",
          "2021-12-31T00:00:00",
          "2022-01-31T00:00:00",
          "2022-02-28T00:00:00",
          "2022-03-31T00:00:00",
          "2022-04-30T00:00:00",
          "2022-05-31T00:00:00",
          "2022-06-30T00:00:00",
          "2022-07-31T00:00:00",
          "2022-08-31T00:00:00",
          "2022-09-30T00:00:00",
          "2022-10-31T00:00:00",
          "2022-11-30T00:00:00",
          "2022-12-31T00:00:00"
         ],
         "xaxis": "x",
         "y": [
          11,
          10,
          19,
          6,
          20,
          18,
          14,
          16,
          46,
          84,
          109,
          104,
          182,
          76,
          369,
          77,
          57,
          449,
          91,
          253,
          154,
          101,
          196,
          165,
          103,
          335,
          169,
          69,
          63,
          19,
          40,
          29,
          30,
          23,
          31,
          19
         ],
         "yaxis": "y"
        }
       ],
       "layout": {
        "barmode": "relative",
        "coloraxis": {
         "colorbar": {
          "title": {
           "text": "totalCount"
          }
         },
         "colorscale": [
          [
           0,
           "#0d0887"
          ],
          [
           0.1111111111111111,
           "#46039f"
          ],
          [
           0.2222222222222222,
           "#7201a8"
          ],
          [
           0.3333333333333333,
           "#9c179e"
          ],
          [
           0.4444444444444444,
           "#bd3786"
          ],
          [
           0.5555555555555556,
           "#d8576b"
          ],
          [
           0.6666666666666666,
           "#ed7953"
          ],
          [
           0.7777777777777778,
           "#fb9f3a"
          ],
          [
           0.8888888888888888,
           "#fdca26"
          ],
          [
           1,
           "#f0f921"
          ]
         ]
        },
        "height": 720,
        "legend": {
         "tracegroupgap": 0
        },
        "template": {
         "data": {
          "bar": [
           {
            "error_x": {
             "color": "#2a3f5f"
            },
            "error_y": {
             "color": "#2a3f5f"
            },
            "marker": {
             "line": {
              "color": "#E5ECF6",
              "width": 0.5
             },
             "pattern": {
              "fillmode": "overlay",
              "size": 10,
              "solidity": 0.2
             }
            },
            "type": "bar"
           }
          ],
          "barpolar": [
           {
            "marker": {
             "line": {
              "color": "#E5ECF6",
              "width": 0.5
             },
             "pattern": {
              "fillmode": "overlay",
              "size": 10,
              "solidity": 0.2
             }
            },
            "type": "barpolar"
           }
          ],
          "carpet": [
           {
            "aaxis": {
             "endlinecolor": "#2a3f5f",
             "gridcolor": "white",
             "linecolor": "white",
             "minorgridcolor": "white",
             "startlinecolor": "#2a3f5f"
            },
            "baxis": {
             "endlinecolor": "#2a3f5f",
             "gridcolor": "white",
             "linecolor": "white",
             "minorgridcolor": "white",
             "startlinecolor": "#2a3f5f"
            },
            "type": "carpet"
           }
          ],
          "choropleth": [
           {
            "colorbar": {
             "outlinewidth": 0,
             "ticks": ""
            },
            "type": "choropleth"
           }
          ],
          "contour": [
           {
            "colorbar": {
             "outlinewidth": 0,
             "ticks": ""
            },
            "colorscale": [
             [
              0,
              "#0d0887"
             ],
             [
              0.1111111111111111,
              "#46039f"
             ],
             [
              0.2222222222222222,
              "#7201a8"
             ],
             [
              0.3333333333333333,
              "#9c179e"
             ],
             [
              0.4444444444444444,
              "#bd3786"
             ],
             [
              0.5555555555555556,
              "#d8576b"
             ],
             [
              0.6666666666666666,
              "#ed7953"
             ],
             [
              0.7777777777777778,
              "#fb9f3a"
             ],
             [
              0.8888888888888888,
              "#fdca26"
             ],
             [
              1,
              "#f0f921"
             ]
            ],
            "type": "contour"
           }
          ],
          "contourcarpet": [
           {
            "colorbar": {
             "outlinewidth": 0,
             "ticks": ""
            },
            "type": "contourcarpet"
           }
          ],
          "heatmap": [
           {
            "colorbar": {
             "outlinewidth": 0,
             "ticks": ""
            },
            "colorscale": [
             [
              0,
              "#0d0887"
             ],
             [
              0.1111111111111111,
              "#46039f"
             ],
             [
              0.2222222222222222,
              "#7201a8"
             ],
             [
              0.3333333333333333,
              "#9c179e"
             ],
             [
              0.4444444444444444,
              "#bd3786"
             ],
             [
              0.5555555555555556,
              "#d8576b"
             ],
             [
              0.6666666666666666,
              "#ed7953"
             ],
             [
              0.7777777777777778,
              "#fb9f3a"
             ],
             [
              0.8888888888888888,
              "#fdca26"
             ],
             [
              1,
              "#f0f921"
             ]
            ],
            "type": "heatmap"
           }
          ],
          "heatmapgl": [
           {
            "colorbar": {
             "outlinewidth": 0,
             "ticks": ""
            },
            "colorscale": [
             [
              0,
              "#0d0887"
             ],
             [
              0.1111111111111111,
              "#46039f"
             ],
             [
              0.2222222222222222,
              "#7201a8"
             ],
             [
              0.3333333333333333,
              "#9c179e"
             ],
             [
              0.4444444444444444,
              "#bd3786"
             ],
             [
              0.5555555555555556,
              "#d8576b"
             ],
             [
              0.6666666666666666,
              "#ed7953"
             ],
             [
              0.7777777777777778,
              "#fb9f3a"
             ],
             [
              0.8888888888888888,
              "#fdca26"
             ],
             [
              1,
              "#f0f921"
             ]
            ],
            "type": "heatmapgl"
           }
          ],
          "histogram": [
           {
            "marker": {
             "pattern": {
              "fillmode": "overlay",
              "size": 10,
              "solidity": 0.2
             }
            },
            "type": "histogram"
           }
          ],
          "histogram2d": [
           {
            "colorbar": {
             "outlinewidth": 0,
             "ticks": ""
            },
            "colorscale": [
             [
              0,
              "#0d0887"
             ],
             [
              0.1111111111111111,
              "#46039f"
             ],
             [
              0.2222222222222222,
              "#7201a8"
             ],
             [
              0.3333333333333333,
              "#9c179e"
             ],
             [
              0.4444444444444444,
              "#bd3786"
             ],
             [
              0.5555555555555556,
              "#d8576b"
             ],
             [
              0.6666666666666666,
              "#ed7953"
             ],
             [
              0.7777777777777778,
              "#fb9f3a"
             ],
             [
              0.8888888888888888,
              "#fdca26"
             ],
             [
              1,
              "#f0f921"
             ]
            ],
            "type": "histogram2d"
           }
          ],
          "histogram2dcontour": [
           {
            "colorbar": {
             "outlinewidth": 0,
             "ticks": ""
            },
            "colorscale": [
             [
              0,
              "#0d0887"
             ],
             [
              0.1111111111111111,
              "#46039f"
             ],
             [
              0.2222222222222222,
              "#7201a8"
             ],
             [
              0.3333333333333333,
              "#9c179e"
             ],
             [
              0.4444444444444444,
              "#bd3786"
             ],
             [
              0.5555555555555556,
              "#d8576b"
             ],
             [
              0.6666666666666666,
              "#ed7953"
             ],
             [
              0.7777777777777778,
              "#fb9f3a"
             ],
             [
              0.8888888888888888,
              "#fdca26"
             ],
             [
              1,
              "#f0f921"
             ]
            ],
            "type": "histogram2dcontour"
           }
          ],
          "mesh3d": [
           {
            "colorbar": {
             "outlinewidth": 0,
             "ticks": ""
            },
            "type": "mesh3d"
           }
          ],
          "parcoords": [
           {
            "line": {
             "colorbar": {
              "outlinewidth": 0,
              "ticks": ""
             }
            },
            "type": "parcoords"
           }
          ],
          "pie": [
           {
            "automargin": true,
            "type": "pie"
           }
          ],
          "scatter": [
           {
            "marker": {
             "colorbar": {
              "outlinewidth": 0,
              "ticks": ""
             }
            },
            "type": "scatter"
           }
          ],
          "scatter3d": [
           {
            "line": {
             "colorbar": {
              "outlinewidth": 0,
              "ticks": ""
             }
            },
            "marker": {
             "colorbar": {
              "outlinewidth": 0,
              "ticks": ""
             }
            },
            "type": "scatter3d"
           }
          ],
          "scattercarpet": [
           {
            "marker": {
             "colorbar": {
              "outlinewidth": 0,
              "ticks": ""
             }
            },
            "type": "scattercarpet"
           }
          ],
          "scattergeo": [
           {
            "marker": {
             "colorbar": {
              "outlinewidth": 0,
              "ticks": ""
             }
            },
            "type": "scattergeo"
           }
          ],
          "scattergl": [
           {
            "marker": {
             "colorbar": {
              "outlinewidth": 0,
              "ticks": ""
             }
            },
            "type": "scattergl"
           }
          ],
          "scattermapbox": [
           {
            "marker": {
             "colorbar": {
              "outlinewidth": 0,
              "ticks": ""
             }
            },
            "type": "scattermapbox"
           }
          ],
          "scatterpolar": [
           {
            "marker": {
             "colorbar": {
              "outlinewidth": 0,
              "ticks": ""
             }
            },
            "type": "scatterpolar"
           }
          ],
          "scatterpolargl": [
           {
            "marker": {
             "colorbar": {
              "outlinewidth": 0,
              "ticks": ""
             }
            },
            "type": "scatterpolargl"
           }
          ],
          "scatterternary": [
           {
            "marker": {
             "colorbar": {
              "outlinewidth": 0,
              "ticks": ""
             }
            },
            "type": "scatterternary"
           }
          ],
          "surface": [
           {
            "colorbar": {
             "outlinewidth": 0,
             "ticks": ""
            },
            "colorscale": [
             [
              0,
              "#0d0887"
             ],
             [
              0.1111111111111111,
              "#46039f"
             ],
             [
              0.2222222222222222,
              "#7201a8"
             ],
             [
              0.3333333333333333,
              "#9c179e"
             ],
             [
              0.4444444444444444,
              "#bd3786"
             ],
             [
              0.5555555555555556,
              "#d8576b"
             ],
             [
              0.6666666666666666,
              "#ed7953"
             ],
             [
              0.7777777777777778,
              "#fb9f3a"
             ],
             [
              0.8888888888888888,
              "#fdca26"
             ],
             [
              1,
              "#f0f921"
             ]
            ],
            "type": "surface"
           }
          ],
          "table": [
           {
            "cells": {
             "fill": {
              "color": "#EBF0F8"
             },
             "line": {
              "color": "white"
             }
            },
            "header": {
             "fill": {
              "color": "#C8D4E3"
             },
             "line": {
              "color": "white"
             }
            },
            "type": "table"
           }
          ]
         },
         "layout": {
          "annotationdefaults": {
           "arrowcolor": "#2a3f5f",
           "arrowhead": 0,
           "arrowwidth": 1
          },
          "autotypenumbers": "strict",
          "coloraxis": {
           "colorbar": {
            "outlinewidth": 0,
            "ticks": ""
           }
          },
          "colorscale": {
           "diverging": [
            [
             0,
             "#8e0152"
            ],
            [
             0.1,
             "#c51b7d"
            ],
            [
             0.2,
             "#de77ae"
            ],
            [
             0.3,
             "#f1b6da"
            ],
            [
             0.4,
             "#fde0ef"
            ],
            [
             0.5,
             "#f7f7f7"
            ],
            [
             0.6,
             "#e6f5d0"
            ],
            [
             0.7,
             "#b8e186"
            ],
            [
             0.8,
             "#7fbc41"
            ],
            [
             0.9,
             "#4d9221"
            ],
            [
             1,
             "#276419"
            ]
           ],
           "sequential": [
            [
             0,
             "#0d0887"
            ],
            [
             0.1111111111111111,
             "#46039f"
            ],
            [
             0.2222222222222222,
             "#7201a8"
            ],
            [
             0.3333333333333333,
             "#9c179e"
            ],
            [
             0.4444444444444444,
             "#bd3786"
            ],
            [
             0.5555555555555556,
             "#d8576b"
            ],
            [
             0.6666666666666666,
             "#ed7953"
            ],
            [
             0.7777777777777778,
             "#fb9f3a"
            ],
            [
             0.8888888888888888,
             "#fdca26"
            ],
            [
             1,
             "#f0f921"
            ]
           ],
           "sequentialminus": [
            [
             0,
             "#0d0887"
            ],
            [
             0.1111111111111111,
             "#46039f"
            ],
            [
             0.2222222222222222,
             "#7201a8"
            ],
            [
             0.3333333333333333,
             "#9c179e"
            ],
            [
             0.4444444444444444,
             "#bd3786"
            ],
            [
             0.5555555555555556,
             "#d8576b"
            ],
            [
             0.6666666666666666,
             "#ed7953"
            ],
            [
             0.7777777777777778,
             "#fb9f3a"
            ],
            [
             0.8888888888888888,
             "#fdca26"
            ],
            [
             1,
             "#f0f921"
            ]
           ]
          },
          "colorway": [
           "#636efa",
           "#EF553B",
           "#00cc96",
           "#ab63fa",
           "#FFA15A",
           "#19d3f3",
           "#FF6692",
           "#B6E880",
           "#FF97FF",
           "#FECB52"
          ],
          "font": {
           "color": "#2a3f5f"
          },
          "geo": {
           "bgcolor": "white",
           "lakecolor": "white",
           "landcolor": "#E5ECF6",
           "showlakes": true,
           "showland": true,
           "subunitcolor": "white"
          },
          "hoverlabel": {
           "align": "left"
          },
          "hovermode": "closest",
          "mapbox": {
           "style": "light"
          },
          "paper_bgcolor": "white",
          "plot_bgcolor": "#E5ECF6",
          "polar": {
           "angularaxis": {
            "gridcolor": "white",
            "linecolor": "white",
            "ticks": ""
           },
           "bgcolor": "#E5ECF6",
           "radialaxis": {
            "gridcolor": "white",
            "linecolor": "white",
            "ticks": ""
           }
          },
          "scene": {
           "xaxis": {
            "backgroundcolor": "#E5ECF6",
            "gridcolor": "white",
            "gridwidth": 2,
            "linecolor": "white",
            "showbackground": true,
            "ticks": "",
            "zerolinecolor": "white"
           },
           "yaxis": {
            "backgroundcolor": "#E5ECF6",
            "gridcolor": "white",
            "gridwidth": 2,
            "linecolor": "white",
            "showbackground": true,
            "ticks": "",
            "zerolinecolor": "white"
           },
           "zaxis": {
            "backgroundcolor": "#E5ECF6",
            "gridcolor": "white",
            "gridwidth": 2,
            "linecolor": "white",
            "showbackground": true,
            "ticks": "",
            "zerolinecolor": "white"
           }
          },
          "shapedefaults": {
           "line": {
            "color": "#2a3f5f"
           }
          },
          "ternary": {
           "aaxis": {
            "gridcolor": "white",
            "linecolor": "white",
            "ticks": ""
           },
           "baxis": {
            "gridcolor": "white",
            "linecolor": "white",
            "ticks": ""
           },
           "bgcolor": "#E5ECF6",
           "caxis": {
            "gridcolor": "white",
            "linecolor": "white",
            "ticks": ""
           }
          },
          "title": {
           "x": 0.05
          },
          "xaxis": {
           "automargin": true,
           "gridcolor": "white",
           "linecolor": "white",
           "ticks": "",
           "title": {
            "standoff": 15
           },
           "zerolinecolor": "white",
           "zerolinewidth": 2
          },
          "yaxis": {
           "automargin": true,
           "gridcolor": "white",
           "linecolor": "white",
           "ticks": "",
           "title": {
            "standoff": 15
           },
           "zerolinecolor": "white",
           "zerolinewidth": 2
          }
         }
        },
        "title": {
         "text": "Total Amount Collected for 3years with Total Count"
        },
        "width": 1280,
        "xaxis": {
         "anchor": "y",
         "autorange": true,
         "domain": [
          0,
          1
         ],
         "dtick": "M2",
         "range": [
          "2020-01-17",
          "2023-01-14"
         ],
         "showspikes": false,
         "tick0": "2021-01-31",
         "tickformat": "%b %Y",
         "title": {
          "text": "date"
         },
         "type": "date"
        },
        "yaxis": {
         "anchor": "x",
         "autorange": true,
         "domain": [
          0,
          1
         ],
         "range": [
          0,
          472.63157894736844
         ],
         "showspikes": false,
         "title": {
          "text": "totalCount"
         },
         "type": "linear"
        }
       }
      },
      "image/png": "[encoded data removed]",
      "text/html": [
       "<div>                            <div id=\"0ffee9a0-767f-40d5-a58d-25551d5b5e32\" class=\"plotly-graph-div\" style=\"height:720px; width:1280px;\"></div>            <script type=\"text/javascript\">                require([\"plotly\"], function(Plotly) {                    window.PLOTLYENV=window.PLOTLYENV || {};                                    if (document.getElementById(\"0ffee9a0-767f-40d5-a58d-25551d5b5e32\")) {                    Plotly.newPlot(                        \"0ffee9a0-767f-40d5-a58d-25551d5b5e32\",                        [{\"alignmentgroup\":\"True\",\"hovertemplate\":\"date=%{x}<br>totalCount=%{marker.color}<br>amountCollected=%{text}<extra></extra>\",\"legendgroup\":\"\",\"marker\":{\"color\":[11,10,19,6,20,18,14,16,46,84,109,104,182,76,369,77,57,449,91,253,154,101,196,165,103,335,169,69,63,19,40,29,30,23,31,19],\"coloraxis\":\"coloraxis\",\"pattern\":{\"shape\":\"\"}},\"name\":\"\",\"offsetgroup\":\"\",\"orientation\":\"v\",\"showlegend\":false,\"text\":[213720.0,106080.0,335940.0,97720.0,334440.0,304940.0,276440.0,281070.0,926880.0,1221750.0,1776080.0,1359760.0,876090.0,1016180.0,1333920.0,1087300.0,970120.0,2376030.0,2073400.0,3349510.0,3140340.0,3092460.0,3675320.0,4039340.0,1132800.0,4294820.0,2813410.0,2617880.0,558030.0,336320.0,792840.0,539070.0,689720.0,578600.0,542060.0,352700.0],\"textposition\":\"auto\",\"x\":[\"2020-01-31T00:00:00\",\"2020-02-29T00:00:00\",\"2020-03-31T00:00:00\",\"2020-04-30T00:00:00\",\"2020-05-31T00:00:00\",\"2020-06-30T00:00:00\",\"2020-07-31T00:00:00\",\"2020-08-31T00:00:00\",\"2020-09-30T00:00:00\",\"2020-10-31T00:00:00\",\"2020-11-30T00:00:00\",\"2020-12-31T00:00:00\",\"2021-01-31T00:00:00\",\"2021-02-28T00:00:00\",\"2021-03-31T00:00:00\",\"2021-04-30T00:00:00\",\"2021-05-31T00:00:00\",\"2021-06-30T00:00:00\",\"2021-07-31T00:00:00\",\"2021-08-31T00:00:00\",\"2021-09-30T00:00:00\",\"2021-10-31T00:00:00\",\"2021-11-30T00:00:00\",\"2021-12-31T00:00:00\",\"2022-01-31T00:00:00\",\"2022-02-28T00:00:00\",\"2022-03-31T00:00:00\",\"2022-04-30T00:00:00\",\"2022-05-31T00:00:00\",\"2022-06-30T00:00:00\",\"2022-07-31T00:00:00\",\"2022-08-31T00:00:00\",\"2022-09-30T00:00:00\",\"2022-10-31T00:00:00\",\"2022-11-30T00:00:00\",\"2022-12-31T00:00:00\"],\"xaxis\":\"x\",\"y\":[11,10,19,6,20,18,14,16,46,84,109,104,182,76,369,77,57,449,91,253,154,101,196,165,103,335,169,69,63,19,40,29,30,23,31,19],\"yaxis\":\"y\",\"type\":\"bar\"}],                        {\"template\":{\"data\":{\"bar\":[{\"error_x\":{\"color\":\"#2a3f5f\"},\"error_y\":{\"color\":\"#2a3f5f\"},\"marker\":{\"line\":{\"color\":\"#E5ECF6\",\"width\":0.5},\"pattern\":{\"fillmode\":\"overlay\",\"size\":10,\"solidity\":0.2}},\"type\":\"bar\"}],\"barpolar\":[{\"marker\":{\"line\":{\"color\":\"#E5ECF6\",\"width\":0.5},\"pattern\":{\"fillmode\":\"overlay\",\"size\":10,\"solidity\":0.2}},\"type\":\"barpolar\"}],\"carpet\":[{\"aaxis\":{\"endlinecolor\":\"#2a3f5f\",\"gridcolor\":\"white\",\"linecolor\":\"white\",\"minorgridcolor\":\"white\",\"startlinecolor\":\"#2a3f5f\"},\"baxis\":{\"endlinecolor\":\"#2a3f5f\",\"gridcolor\":\"white\",\"linecolor\":\"white\",\"minorgridcolor\":\"white\",\"startlinecolor\":\"#2a3f5f\"},\"type\":\"carpet\"}],\"choropleth\":[{\"colorbar\":{\"outlinewidth\":0,\"ticks\":\"\"},\"type\":\"choropleth\"}],\"contour\":[{\"colorbar\":{\"outlinewidth\":0,\"ticks\":\"\"},\"colorscale\":[[0.0,\"#0d0887\"],[0.1111111111111111,\"#46039f\"],[0.2222222222222222,\"#7201a8\"],[0.3333333333333333,\"#9c179e\"],[0.4444444444444444,\"#bd3786\"],[0.5555555555555556,\"#d8576b\"],[0.6666666666666666,\"#ed7953\"],[0.7777777777777778,\"#fb9f3a\"],[0.8888888888888888,\"#fdca26\"],[1.0,\"#f0f921\"]],\"type\":\"contour\"}],\"contourcarpet\":[{\"colorbar\":{\"outlinewidth\":0,\"ticks\":\"\"},\"type\":\"contourcarpet\"}],\"heatmap\":[{\"colorbar\":{\"outlinewidth\":0,\"ticks\":\"\"},\"colorscale\":[[0.0,\"#0d0887\"],[0.1111111111111111,\"#46039f\"],[0.2222222222222222,\"#7201a8\"],[0.3333333333333333,\"#9c179e\"],[0.4444444444444444,\"#bd3786\"],[0.5555555555555556,\"#d8576b\"],[0.6666666666666666,\"#ed7953\"],[0.7777777777777778,\"#fb9f3a\"],[0.8888888888888888,\"#fdca26\"],[1.0,\"#f0f921\"]],\"type\":\"heatmap\"}],\"heatmapgl\":[{\"colorbar\":{\"outlinewidth\":0,\"ticks\":\"\"},\"colorscale\":[[0.0,\"#0d0887\"],[0.1111111111111111,\"#46039f\"],[0.2222222222222222,\"#7201a8\"],[0.3333333333333333,\"#9c179e\"],[0.4444444444444444,\"#bd3786\"],[0.5555555555555556,\"#d8576b\"],[0.6666666666666666,\"#ed7953\"],[0.7777777777777778,\"#fb9f3a\"],[0.8888888888888888,\"#fdca26\"],[1.0,\"#f0f921\"]],\"type\":\"heatmapgl\"}],\"histogram\":[{\"marker\":{\"pattern\":{\"fillmode\":\"overlay\",\"size\":10,\"solidity\":0.2}},\"type\":\"histogram\"}],\"histogram2d\":[{\"colorbar\":{\"outlinewidth\":0,\"ticks\":\"\"},\"colorscale\":[[0.0,\"#0d0887\"],[0.1111111111111111,\"#46039f\"],[0.2222222222222222,\"#7201a8\"],[0.3333333333333333,\"#9c179e\"],[0.4444444444444444,\"#bd3786\"],[0.5555555555555556,\"#d8576b\"],[0.6666666666666666,\"#ed7953\"],[0.7777777777777778,\"#fb9f3a\"],[0.8888888888888888,\"#fdca26\"],[1.0,\"#f0f921\"]],\"type\":\"histogram2d\"}],\"histogram2dcontour\":[{\"colorbar\":{\"outlinewidth\":0,\"ticks\":\"\"},\"colorscale\":[[0.0,\"#0d0887\"],[0.1111111111111111,\"#46039f\"],[0.2222222222222222,\"#7201a8\"],[0.3333333333333333,\"#9c179e\"],[0.4444444444444444,\"#bd3786\"],[0.5555555555555556,\"#d8576b\"],[0.6666666666666666,\"#ed7953\"],[0.7777777777777778,\"#fb9f3a\"],[0.8888888888888888,\"#fdca26\"],[1.0,\"#f0f921\"]],\"type\":\"histogram2dcontour\"}],\"mesh3d\":[{\"colorbar\":{\"outlinewidth\":0,\"ticks\":\"\"},\"type\":\"mesh3d\"}],\"parcoords\":[{\"line\":{\"colorbar\":{\"outlinewidth\":0,\"ticks\":\"\"}},\"type\":\"parcoords\"}],\"pie\":[{\"automargin\":true,\"type\":\"pie\"}],\"scatter\":[{\"marker\":{\"colorbar\":{\"outlinewidth\":0,\"ticks\":\"\"}},\"type\":\"scatter\"}],\"scatter3d\":[{\"line\":{\"colorbar\":{\"outlinewidth\":0,\"ticks\":\"\"}},\"marker\":{\"colorbar\":{\"outlinewidth\":0,\"ticks\":\"\"}},\"type\":\"scatter3d\"}],\"scattercarpet\":[{\"marker\":{\"colorbar\":{\"outlinewidth\":0,\"ticks\":\"\"}},\"type\":\"scattercarpet\"}],\"scattergeo\":[{\"marker\":{\"colorbar\":{\"outlinewidth\":0,\"ticks\":\"\"}},\"type\":\"scattergeo\"}],\"scattergl\":[{\"marker\":{\"colorbar\":{\"outlinewidth\":0,\"ticks\":\"\"}},\"type\":\"scattergl\"}],\"scattermapbox\":[{\"marker\":{\"colorbar\":{\"outlinewidth\":0,\"ticks\":\"\"}},\"type\":\"scattermapbox\"}],\"scatterpolar\":[{\"marker\":{\"colorbar\":{\"outlinewidth\":0,\"ticks\":\"\"}},\"type\":\"scatterpolar\"}],\"scatterpolargl\":[{\"marker\":{\"colorbar\":{\"outlinewidth\":0,\"ticks\":\"\"}},\"type\":\"scatterpolargl\"}],\"scatterternary\":[{\"marker\":{\"colorbar\":{\"outlinewidth\":0,\"ticks\":\"\"}},\"type\":\"scatterternary\"}],\"surface\":[{\"colorbar\":{\"outlinewidth\":0,\"ticks\":\"\"},\"colorscale\":[[0.0,\"#0d0887\"],[0.1111111111111111,\"#46039f\"],[0.2222222222222222,\"#7201a8\"],[0.3333333333333333,\"#9c179e\"],[0.4444444444444444,\"#bd3786\"],[0.5555555555555556,\"#d8576b\"],[0.6666666666666666,\"#ed7953\"],[0.7777777777777778,\"#fb9f3a\"],[0.8888888888888888,\"#fdca26\"],[1.0,\"#f0f921\"]],\"type\":\"surface\"}],\"table\":[{\"cells\":{\"fill\":{\"color\":\"#EBF0F8\"},\"line\":{\"color\":\"white\"}},\"header\":{\"fill\":{\"color\":\"#C8D4E3\"},\"line\":{\"color\":\"white\"}},\"type\":\"table\"}]},\"layout\":{\"annotationdefaults\":{\"arrowcolor\":\"#2a3f5f\",\"arrowhead\":0,\"arrowwidth\":1},\"autotypenumbers\":\"strict\",\"coloraxis\":{\"colorbar\":{\"outlinewidth\":0,\"ticks\":\"\"}},\"colorscale\":{\"diverging\":[[0,\"#8e0152\"],[0.1,\"#c51b7d\"],[0.2,\"#de77ae\"],[0.3,\"#f1b6da\"],[0.4,\"#fde0ef\"],[0.5,\"#f7f7f7\"],[0.6,\"#e6f5d0\"],[0.7,\"#b8e186\"],[0.8,\"#7fbc41\"],[0.9,\"#4d9221\"],[1,\"#276419\"]],\"sequential\":[[0.0,\"#0d0887\"],[0.1111111111111111,\"#46039f\"],[0.2222222222222222,\"#7201a8\"],[0.3333333333333333,\"#9c179e\"],[0.4444444444444444,\"#bd3786\"],[0.5555555555555556,\"#d8576b\"],[0.6666666666666666,\"#ed7953\"],[0.7777777777777778,\"#fb9f3a\"],[0.8888888888888888,\"#fdca26\"],[1.0,\"#f0f921\"]],\"sequentialminus\":[[0.0,\"#0d0887\"],[0.1111111111111111,\"#46039f\"],[0.2222222222222222,\"#7201a8\"],[0.3333333333333333,\"#9c179e\"],[0.4444444444444444,\"#bd3786\"],[0.5555555555555556,\"#d8576b\"],[0.6666666666666666,\"#ed7953\"],[0.7777777777777778,\"#fb9f3a\"],[0.8888888888888888,\"#fdca26\"],[1.0,\"#f0f921\"]]},\"colorway\":[\"#636efa\",\"#EF553B\",\"#00cc96\",\"#ab63fa\",\"#FFA15A\",\"#19d3f3\",\"#FF6692\",\"#B6E880\",\"#FF97FF\",\"#FECB52\"],\"font\":{\"color\":\"#2a3f5f\"},\"geo\":{\"bgcolor\":\"white\",\"lakecolor\":\"white\",\"landcolor\":\"#E5ECF6\",\"showlakes\":true,\"showland\":true,\"subunitcolor\":\"white\"},\"hoverlabel\":{\"align\":\"left\"},\"hovermode\":\"closest\",\"mapbox\":{\"style\":\"light\"},\"paper_bgcolor\":\"white\",\"plot_bgcolor\":\"#E5ECF6\",\"polar\":{\"angularaxis\":{\"gridcolor\":\"white\",\"linecolor\":\"white\",\"ticks\":\"\"},\"bgcolor\":\"#E5ECF6\",\"radialaxis\":{\"gridcolor\":\"white\",\"linecolor\":\"white\",\"ticks\":\"\"}},\"scene\":{\"xaxis\":{\"backgroundcolor\":\"#E5ECF6\",\"gridcolor\":\"white\",\"gridwidth\":2,\"linecolor\":\"white\",\"showbackground\":true,\"ticks\":\"\",\"zerolinecolor\":\"white\"},\"yaxis\":{\"backgroundcolor\":\"#E5ECF6\",\"gridcolor\":\"white\",\"gridwidth\":2,\"linecolor\":\"white\",\"showbackground\":true,\"ticks\":\"\",\"zerolinecolor\":\"white\"},\"zaxis\":{\"backgroundcolor\":\"#E5ECF6\",\"gridcolor\":\"white\",\"gridwidth\":2,\"linecolor\":\"white\",\"showbackground\":true,\"ticks\":\"\",\"zerolinecolor\":\"white\"}},\"shapedefaults\":{\"line\":{\"color\":\"#2a3f5f\"}},\"ternary\":{\"aaxis\":{\"gridcolor\":\"white\",\"linecolor\":\"white\",\"ticks\":\"\"},\"baxis\":{\"gridcolor\":\"white\",\"linecolor\":\"white\",\"ticks\":\"\"},\"bgcolor\":\"#E5ECF6\",\"caxis\":{\"gridcolor\":\"white\",\"linecolor\":\"white\",\"ticks\":\"\"}},\"title\":{\"x\":0.05},\"xaxis\":{\"automargin\":true,\"gridcolor\":\"white\",\"linecolor\":\"white\",\"ticks\":\"\",\"title\":{\"standoff\":15},\"zerolinecolor\":\"white\",\"zerolinewidth\":2},\"yaxis\":{\"automargin\":true,\"gridcolor\":\"white\",\"linecolor\":\"white\",\"ticks\":\"\",\"title\":{\"standoff\":15},\"zerolinecolor\":\"white\",\"zerolinewidth\":2}}},\"xaxis\":{\"anchor\":\"y\",\"domain\":[0.0,1.0],\"title\":{\"text\":\"date\"},\"tick0\":\"2021-01-31\",\"dtick\":\"M2\",\"tickformat\":\"%b %Y\"},\"yaxis\":{\"anchor\":\"x\",\"domain\":[0.0,1.0],\"title\":{\"text\":\"totalCount\"}},\"coloraxis\":{\"colorbar\":{\"title\":{\"text\":\"totalCount\"}},\"colorscale\":[[0.0,\"#0d0887\"],[0.1111111111111111,\"#46039f\"],[0.2222222222222222,\"#7201a8\"],[0.3333333333333333,\"#9c179e\"],[0.4444444444444444,\"#bd3786\"],[0.5555555555555556,\"#d8576b\"],[0.6666666666666666,\"#ed7953\"],[0.7777777777777778,\"#fb9f3a\"],[0.8888888888888888,\"#fdca26\"],[1.0,\"#f0f921\"]]},\"legend\":{\"tracegroupgap\":0},\"title\":{\"text\":\"Total Amount Collected for 3years with Total Count\"},\"barmode\":\"relative\",\"height\":720,\"width\":1280},                        {\"responsive\": true}                    ).then(function(){\n",
       "                            \n",
       "var gd = document.getElementById('0ffee9a0-767f-40d5-a58d-25551d5b5e32');\n",
       "var x = new MutationObserver(function (mutations, observer) {{\n",
       "        var display = window.getComputedStyle(gd).display;\n",
       "        if (!display || display === 'none') {{\n",
       "            console.log([gd, 'removed!']);\n",
       "            Plotly.purge(gd);\n",
       "            observer.disconnect();\n",
       "        }}\n",
       "}});\n",
       "\n",
       "// Listen for the removal of the full notebook cells\n",
       "var notebookContainer = gd.closest('#notebook-container');\n",
       "if (notebookContainer) {{\n",
       "    x.observe(notebookContainer, {childList: true});\n",
       "}}\n",
       "\n",
       "// Listen for the clearing of the current output cell\n",
       "var outputEl = gd.closest('.output');\n",
       "if (outputEl) {{\n",
       "    x.observe(outputEl, {childList: true});\n",
       "}}\n",
       "\n",
       "                        })                };                });            </script>        </div>"
      ]
     },
     "metadata": {},
     "output_type": "display_data"
    }
   ],
   "source": [
    "fig = px.bar(new_df2[0:], x='date', y='totalCount',text='amountCollected',title='Total Amount Collected for 3years with Total Count',color='totalCount',width=1280,height=720)\n",
    "fig.layout.xaxis.tick0 = '2021-01-31'\n",
    "fig.layout.xaxis.dtick = 'M2'\n",
    "#month-year format\n",
    "fig.layout.xaxis.tickformat='%b %Y'\n",
    "#fig.write_image('/home/rohit/iudx/dumps/partyplot.png', scale=2)\n",
    "\n",
    "\n",
    "\n",
    "fig.show()"
   ]
  },
  {
   "cell_type": "code",
   "execution_count": 32,
   "id": "a5d2598e",
   "metadata": {
    "extensions": {
     "jupyter_dashboards": {
      "version": 1,
      "views": {
       "default_view": {
        "col": 0,
        "height": 2,
        "row": 83,
        "width": 12
       },
       "grid_default": {
        "col": null,
        "height": 2,
        "hidden": true,
        "locked": true,
        "row": null,
        "width": 2
       }
      }
     }
    }
   },
   "outputs": [
    {
     "data": {
      "application/vnd.plotly.v1+json": {
       "config": {
        "plotlyServerURL": "https://plot.ly"
       },
       "data": [
        {
         "hovertemplate": "date=%{x}<br>totalCount=%{y}<extra></extra>",
         "legendgroup": "",
         "line": {
          "color": "blue",
          "dash": "dash",
          "width": 4
         },
         "marker": {
          "symbol": "circle"
         },
         "mode": "lines+markers",
         "name": "",
         "orientation": "v",
         "showlegend": false,
         "type": "scatter",
         "x": [
          "2021-01-31T00:00:00",
          "2021-02-28T00:00:00",
          "2021-03-31T00:00:00",
          "2021-04-30T00:00:00",
          "2021-05-31T00:00:00",
          "2021-06-30T00:00:00",
          "2021-07-31T00:00:00",
          "2021-08-31T00:00:00",
          "2021-09-30T00:00:00",
          "2021-10-31T00:00:00",
          "2021-11-30T00:00:00",
          "2021-12-31T00:00:00",
          "2022-01-31T00:00:00",
          "2022-02-28T00:00:00",
          "2022-03-31T00:00:00",
          "2022-04-30T00:00:00",
          "2022-05-31T00:00:00",
          "2022-06-30T00:00:00",
          "2022-07-31T00:00:00",
          "2022-08-31T00:00:00",
          "2022-09-30T00:00:00",
          "2022-10-31T00:00:00",
          "2022-11-30T00:00:00",
          "2022-12-31T00:00:00"
         ],
         "xaxis": "x",
         "y": [
          182,
          76,
          369,
          77,
          57,
          449,
          91,
          253,
          154,
          101,
          196,
          165,
          103,
          335,
          169,
          69,
          63,
          19,
          40,
          29,
          30,
          23,
          31,
          19
         ],
         "yaxis": "y"
        }
       ],
       "layout": {
        "autosize": true,
        "legend": {
         "tracegroupgap": 0
        },
        "template": {
         "data": {
          "bar": [
           {
            "error_x": {
             "color": "#2a3f5f"
            },
            "error_y": {
             "color": "#2a3f5f"
            },
            "marker": {
             "line": {
              "color": "#E5ECF6",
              "width": 0.5
             },
             "pattern": {
              "fillmode": "overlay",
              "size": 10,
              "solidity": 0.2
             }
            },
            "type": "bar"
           }
          ],
          "barpolar": [
           {
            "marker": {
             "line": {
              "color": "#E5ECF6",
              "width": 0.5
             },
             "pattern": {
              "fillmode": "overlay",
              "size": 10,
              "solidity": 0.2
             }
            },
            "type": "barpolar"
           }
          ],
          "carpet": [
           {
            "aaxis": {
             "endlinecolor": "#2a3f5f",
             "gridcolor": "white",
             "linecolor": "white",
             "minorgridcolor": "white",
             "startlinecolor": "#2a3f5f"
            },
            "baxis": {
             "endlinecolor": "#2a3f5f",
             "gridcolor": "white",
             "linecolor": "white",
             "minorgridcolor": "white",
             "startlinecolor": "#2a3f5f"
            },
            "type": "carpet"
           }
          ],
          "choropleth": [
           {
            "colorbar": {
             "outlinewidth": 0,
             "ticks": ""
            },
            "type": "choropleth"
           }
          ],
          "contour": [
           {
            "colorbar": {
             "outlinewidth": 0,
             "ticks": ""
            },
            "colorscale": [
             [
              0,
              "#0d0887"
             ],
             [
              0.1111111111111111,
              "#46039f"
             ],
             [
              0.2222222222222222,
              "#7201a8"
             ],
             [
              0.3333333333333333,
              "#9c179e"
             ],
             [
              0.4444444444444444,
              "#bd3786"
             ],
             [
              0.5555555555555556,
              "#d8576b"
             ],
             [
              0.6666666666666666,
              "#ed7953"
             ],
             [
              0.7777777777777778,
              "#fb9f3a"
             ],
             [
              0.8888888888888888,
              "#fdca26"
             ],
             [
              1,
              "#f0f921"
             ]
            ],
            "type": "contour"
           }
          ],
          "contourcarpet": [
           {
            "colorbar": {
             "outlinewidth": 0,
             "ticks": ""
            },
            "type": "contourcarpet"
           }
          ],
          "heatmap": [
           {
            "colorbar": {
             "outlinewidth": 0,
             "ticks": ""
            },
            "colorscale": [
             [
              0,
              "#0d0887"
             ],
             [
              0.1111111111111111,
              "#46039f"
             ],
             [
              0.2222222222222222,
              "#7201a8"
             ],
             [
              0.3333333333333333,
              "#9c179e"
             ],
             [
              0.4444444444444444,
              "#bd3786"
             ],
             [
              0.5555555555555556,
              "#d8576b"
             ],
             [
              0.6666666666666666,
              "#ed7953"
             ],
             [
              0.7777777777777778,
              "#fb9f3a"
             ],
             [
              0.8888888888888888,
              "#fdca26"
             ],
             [
              1,
              "#f0f921"
             ]
            ],
            "type": "heatmap"
           }
          ],
          "heatmapgl": [
           {
            "colorbar": {
             "outlinewidth": 0,
             "ticks": ""
            },
            "colorscale": [
             [
              0,
              "#0d0887"
             ],
             [
              0.1111111111111111,
              "#46039f"
             ],
             [
              0.2222222222222222,
              "#7201a8"
             ],
             [
              0.3333333333333333,
              "#9c179e"
             ],
             [
              0.4444444444444444,
              "#bd3786"
             ],
             [
              0.5555555555555556,
              "#d8576b"
             ],
             [
              0.6666666666666666,
              "#ed7953"
             ],
             [
              0.7777777777777778,
              "#fb9f3a"
             ],
             [
              0.8888888888888888,
              "#fdca26"
             ],
             [
              1,
              "#f0f921"
             ]
            ],
            "type": "heatmapgl"
           }
          ],
          "histogram": [
           {
            "marker": {
             "pattern": {
              "fillmode": "overlay",
              "size": 10,
              "solidity": 0.2
             }
            },
            "type": "histogram"
           }
          ],
          "histogram2d": [
           {
            "colorbar": {
             "outlinewidth": 0,
             "ticks": ""
            },
            "colorscale": [
             [
              0,
              "#0d0887"
             ],
             [
              0.1111111111111111,
              "#46039f"
             ],
             [
              0.2222222222222222,
              "#7201a8"
             ],
             [
              0.3333333333333333,
              "#9c179e"
             ],
             [
              0.4444444444444444,
              "#bd3786"
             ],
             [
              0.5555555555555556,
              "#d8576b"
             ],
             [
              0.6666666666666666,
              "#ed7953"
             ],
             [
              0.7777777777777778,
              "#fb9f3a"
             ],
             [
              0.8888888888888888,
              "#fdca26"
             ],
             [
              1,
              "#f0f921"
             ]
            ],
            "type": "histogram2d"
           }
          ],
          "histogram2dcontour": [
           {
            "colorbar": {
             "outlinewidth": 0,
             "ticks": ""
            },
            "colorscale": [
             [
              0,
              "#0d0887"
             ],
             [
              0.1111111111111111,
              "#46039f"
             ],
             [
              0.2222222222222222,
              "#7201a8"
             ],
             [
              0.3333333333333333,
              "#9c179e"
             ],
             [
              0.4444444444444444,
              "#bd3786"
             ],
             [
              0.5555555555555556,
              "#d8576b"
             ],
             [
              0.6666666666666666,
              "#ed7953"
             ],
             [
              0.7777777777777778,
              "#fb9f3a"
             ],
             [
              0.8888888888888888,
              "#fdca26"
             ],
             [
              1,
              "#f0f921"
             ]
            ],
            "type": "histogram2dcontour"
           }
          ],
          "mesh3d": [
           {
            "colorbar": {
             "outlinewidth": 0,
             "ticks": ""
            },
            "type": "mesh3d"
           }
          ],
          "parcoords": [
           {
            "line": {
             "colorbar": {
              "outlinewidth": 0,
              "ticks": ""
             }
            },
            "type": "parcoords"
           }
          ],
          "pie": [
           {
            "automargin": true,
            "type": "pie"
           }
          ],
          "scatter": [
           {
            "marker": {
             "colorbar": {
              "outlinewidth": 0,
              "ticks": ""
             }
            },
            "type": "scatter"
           }
          ],
          "scatter3d": [
           {
            "line": {
             "colorbar": {
              "outlinewidth": 0,
              "ticks": ""
             }
            },
            "marker": {
             "colorbar": {
              "outlinewidth": 0,
              "ticks": ""
             }
            },
            "type": "scatter3d"
           }
          ],
          "scattercarpet": [
           {
            "marker": {
             "colorbar": {
              "outlinewidth": 0,
              "ticks": ""
             }
            },
            "type": "scattercarpet"
           }
          ],
          "scattergeo": [
           {
            "marker": {
             "colorbar": {
              "outlinewidth": 0,
              "ticks": ""
             }
            },
            "type": "scattergeo"
           }
          ],
          "scattergl": [
           {
            "marker": {
             "colorbar": {
              "outlinewidth": 0,
              "ticks": ""
             }
            },
            "type": "scattergl"
           }
          ],
          "scattermapbox": [
           {
            "marker": {
             "colorbar": {
              "outlinewidth": 0,
              "ticks": ""
             }
            },
            "type": "scattermapbox"
           }
          ],
          "scatterpolar": [
           {
            "marker": {
             "colorbar": {
              "outlinewidth": 0,
              "ticks": ""
             }
            },
            "type": "scatterpolar"
           }
          ],
          "scatterpolargl": [
           {
            "marker": {
             "colorbar": {
              "outlinewidth": 0,
              "ticks": ""
             }
            },
            "type": "scatterpolargl"
           }
          ],
          "scatterternary": [
           {
            "marker": {
             "colorbar": {
              "outlinewidth": 0,
              "ticks": ""
             }
            },
            "type": "scatterternary"
           }
          ],
          "surface": [
           {
            "colorbar": {
             "outlinewidth": 0,
             "ticks": ""
            },
            "colorscale": [
             [
              0,
              "#0d0887"
             ],
             [
              0.1111111111111111,
              "#46039f"
             ],
             [
              0.2222222222222222,
              "#7201a8"
             ],
             [
              0.3333333333333333,
              "#9c179e"
             ],
             [
              0.4444444444444444,
              "#bd3786"
             ],
             [
              0.5555555555555556,
              "#d8576b"
             ],
             [
              0.6666666666666666,
              "#ed7953"
             ],
             [
              0.7777777777777778,
              "#fb9f3a"
             ],
             [
              0.8888888888888888,
              "#fdca26"
             ],
             [
              1,
              "#f0f921"
             ]
            ],
            "type": "surface"
           }
          ],
          "table": [
           {
            "cells": {
             "fill": {
              "color": "#EBF0F8"
             },
             "line": {
              "color": "white"
             }
            },
            "header": {
             "fill": {
              "color": "#C8D4E3"
             },
             "line": {
              "color": "white"
             }
            },
            "type": "table"
           }
          ]
         },
         "layout": {
          "annotationdefaults": {
           "arrowcolor": "#2a3f5f",
           "arrowhead": 0,
           "arrowwidth": 1
          },
          "autotypenumbers": "strict",
          "coloraxis": {
           "colorbar": {
            "outlinewidth": 0,
            "ticks": ""
           }
          },
          "colorscale": {
           "diverging": [
            [
             0,
             "#8e0152"
            ],
            [
             0.1,
             "#c51b7d"
            ],
            [
             0.2,
             "#de77ae"
            ],
            [
             0.3,
             "#f1b6da"
            ],
            [
             0.4,
             "#fde0ef"
            ],
            [
             0.5,
             "#f7f7f7"
            ],
            [
             0.6,
             "#e6f5d0"
            ],
            [
             0.7,
             "#b8e186"
            ],
            [
             0.8,
             "#7fbc41"
            ],
            [
             0.9,
             "#4d9221"
            ],
            [
             1,
             "#276419"
            ]
           ],
           "sequential": [
            [
             0,
             "#0d0887"
            ],
            [
             0.1111111111111111,
             "#46039f"
            ],
            [
             0.2222222222222222,
             "#7201a8"
            ],
            [
             0.3333333333333333,
             "#9c179e"
            ],
            [
             0.4444444444444444,
             "#bd3786"
            ],
            [
             0.5555555555555556,
             "#d8576b"
            ],
            [
             0.6666666666666666,
             "#ed7953"
            ],
            [
             0.7777777777777778,
             "#fb9f3a"
            ],
            [
             0.8888888888888888,
             "#fdca26"
            ],
            [
             1,
             "#f0f921"
            ]
           ],
           "sequentialminus": [
            [
             0,
             "#0d0887"
            ],
            [
             0.1111111111111111,
             "#46039f"
            ],
            [
             0.2222222222222222,
             "#7201a8"
            ],
            [
             0.3333333333333333,
             "#9c179e"
            ],
            [
             0.4444444444444444,
             "#bd3786"
            ],
            [
             0.5555555555555556,
             "#d8576b"
            ],
            [
             0.6666666666666666,
             "#ed7953"
            ],
            [
             0.7777777777777778,
             "#fb9f3a"
            ],
            [
             0.8888888888888888,
             "#fdca26"
            ],
            [
             1,
             "#f0f921"
            ]
           ]
          },
          "colorway": [
           "#636efa",
           "#EF553B",
           "#00cc96",
           "#ab63fa",
           "#FFA15A",
           "#19d3f3",
           "#FF6692",
           "#B6E880",
           "#FF97FF",
           "#FECB52"
          ],
          "font": {
           "color": "#2a3f5f"
          },
          "geo": {
           "bgcolor": "white",
           "lakecolor": "white",
           "landcolor": "#E5ECF6",
           "showlakes": true,
           "showland": true,
           "subunitcolor": "white"
          },
          "hoverlabel": {
           "align": "left"
          },
          "hovermode": "closest",
          "mapbox": {
           "style": "light"
          },
          "paper_bgcolor": "white",
          "plot_bgcolor": "#E5ECF6",
          "polar": {
           "angularaxis": {
            "gridcolor": "white",
            "linecolor": "white",
            "ticks": ""
           },
           "bgcolor": "#E5ECF6",
           "radialaxis": {
            "gridcolor": "white",
            "linecolor": "white",
            "ticks": ""
           }
          },
          "scene": {
           "xaxis": {
            "backgroundcolor": "#E5ECF6",
            "gridcolor": "white",
            "gridwidth": 2,
            "linecolor": "white",
            "showbackground": true,
            "ticks": "",
            "zerolinecolor": "white"
           },
           "yaxis": {
            "backgroundcolor": "#E5ECF6",
            "gridcolor": "white",
            "gridwidth": 2,
            "linecolor": "white",
            "showbackground": true,
            "ticks": "",
            "zerolinecolor": "white"
           },
           "zaxis": {
            "backgroundcolor": "#E5ECF6",
            "gridcolor": "white",
            "gridwidth": 2,
            "linecolor": "white",
            "showbackground": true,
            "ticks": "",
            "zerolinecolor": "white"
           }
          },
          "shapedefaults": {
           "line": {
            "color": "#2a3f5f"
           }
          },
          "ternary": {
           "aaxis": {
            "gridcolor": "white",
            "linecolor": "white",
            "ticks": ""
           },
           "baxis": {
            "gridcolor": "white",
            "linecolor": "white",
            "ticks": ""
           },
           "bgcolor": "#E5ECF6",
           "caxis": {
            "gridcolor": "white",
            "linecolor": "white",
            "ticks": ""
           }
          },
          "title": {
           "x": 0.05
          },
          "xaxis": {
           "automargin": true,
           "gridcolor": "white",
           "linecolor": "white",
           "ticks": "",
           "title": {
            "standoff": 15
           },
           "zerolinecolor": "white",
           "zerolinewidth": 2
          },
          "yaxis": {
           "automargin": true,
           "gridcolor": "white",
           "linecolor": "white",
           "ticks": "",
           "title": {
            "standoff": 15
           },
           "zerolinecolor": "white",
           "zerolinewidth": 2
          }
         }
        },
        "title": {
         "text": "Party Plots Booked for 2 years"
        },
        "xaxis": {
         "anchor": "y",
         "autorange": true,
         "domain": [
          0,
          1
         ],
         "dtick": "M2",
         "range": [
          "2020-12-02 05:50:41.3793",
          "2023-02-28 18:09:18.6207"
         ],
         "tick0": "2021-01-31",
         "tickformat": "%b %Y",
         "title": {
          "text": "date"
         },
         "type": "date"
        },
        "yaxis": {
         "anchor": "x",
         "autorange": true,
         "domain": [
          0,
          1
         ],
         "range": [
          -17.760057471264375,
          485.76005747126436
         ],
         "title": {
          "text": "totalCount"
         },
         "type": "linear"
        }
       }
      },
      "image/png": "[encoded data removed]",
      "text/html": [
       "<div>                            <div id=\"b9de091a-7ddb-425c-a698-acf00eb85136\" class=\"plotly-graph-div\" style=\"height:525px; width:100%;\"></div>            <script type=\"text/javascript\">                require([\"plotly\"], function(Plotly) {                    window.PLOTLYENV=window.PLOTLYENV || {};                                    if (document.getElementById(\"b9de091a-7ddb-425c-a698-acf00eb85136\")) {                    Plotly.newPlot(                        \"b9de091a-7ddb-425c-a698-acf00eb85136\",                        [{\"hovertemplate\":\"date=%{x}<br>totalCount=%{y}<extra></extra>\",\"legendgroup\":\"\",\"line\":{\"color\":\"blue\",\"dash\":\"dash\",\"width\":4},\"marker\":{\"symbol\":\"circle\"},\"mode\":\"lines+markers\",\"name\":\"\",\"orientation\":\"v\",\"showlegend\":false,\"x\":[\"2021-01-31T00:00:00\",\"2021-02-28T00:00:00\",\"2021-03-31T00:00:00\",\"2021-04-30T00:00:00\",\"2021-05-31T00:00:00\",\"2021-06-30T00:00:00\",\"2021-07-31T00:00:00\",\"2021-08-31T00:00:00\",\"2021-09-30T00:00:00\",\"2021-10-31T00:00:00\",\"2021-11-30T00:00:00\",\"2021-12-31T00:00:00\",\"2022-01-31T00:00:00\",\"2022-02-28T00:00:00\",\"2022-03-31T00:00:00\",\"2022-04-30T00:00:00\",\"2022-05-31T00:00:00\",\"2022-06-30T00:00:00\",\"2022-07-31T00:00:00\",\"2022-08-31T00:00:00\",\"2022-09-30T00:00:00\",\"2022-10-31T00:00:00\",\"2022-11-30T00:00:00\",\"2022-12-31T00:00:00\"],\"xaxis\":\"x\",\"y\":[182,76,369,77,57,449,91,253,154,101,196,165,103,335,169,69,63,19,40,29,30,23,31,19],\"yaxis\":\"y\",\"type\":\"scatter\"}],                        {\"template\":{\"data\":{\"bar\":[{\"error_x\":{\"color\":\"#2a3f5f\"},\"error_y\":{\"color\":\"#2a3f5f\"},\"marker\":{\"line\":{\"color\":\"#E5ECF6\",\"width\":0.5},\"pattern\":{\"fillmode\":\"overlay\",\"size\":10,\"solidity\":0.2}},\"type\":\"bar\"}],\"barpolar\":[{\"marker\":{\"line\":{\"color\":\"#E5ECF6\",\"width\":0.5},\"pattern\":{\"fillmode\":\"overlay\",\"size\":10,\"solidity\":0.2}},\"type\":\"barpolar\"}],\"carpet\":[{\"aaxis\":{\"endlinecolor\":\"#2a3f5f\",\"gridcolor\":\"white\",\"linecolor\":\"white\",\"minorgridcolor\":\"white\",\"startlinecolor\":\"#2a3f5f\"},\"baxis\":{\"endlinecolor\":\"#2a3f5f\",\"gridcolor\":\"white\",\"linecolor\":\"white\",\"minorgridcolor\":\"white\",\"startlinecolor\":\"#2a3f5f\"},\"type\":\"carpet\"}],\"choropleth\":[{\"colorbar\":{\"outlinewidth\":0,\"ticks\":\"\"},\"type\":\"choropleth\"}],\"contour\":[{\"colorbar\":{\"outlinewidth\":0,\"ticks\":\"\"},\"colorscale\":[[0.0,\"#0d0887\"],[0.1111111111111111,\"#46039f\"],[0.2222222222222222,\"#7201a8\"],[0.3333333333333333,\"#9c179e\"],[0.4444444444444444,\"#bd3786\"],[0.5555555555555556,\"#d8576b\"],[0.6666666666666666,\"#ed7953\"],[0.7777777777777778,\"#fb9f3a\"],[0.8888888888888888,\"#fdca26\"],[1.0,\"#f0f921\"]],\"type\":\"contour\"}],\"contourcarpet\":[{\"colorbar\":{\"outlinewidth\":0,\"ticks\":\"\"},\"type\":\"contourcarpet\"}],\"heatmap\":[{\"colorbar\":{\"outlinewidth\":0,\"ticks\":\"\"},\"colorscale\":[[0.0,\"#0d0887\"],[0.1111111111111111,\"#46039f\"],[0.2222222222222222,\"#7201a8\"],[0.3333333333333333,\"#9c179e\"],[0.4444444444444444,\"#bd3786\"],[0.5555555555555556,\"#d8576b\"],[0.6666666666666666,\"#ed7953\"],[0.7777777777777778,\"#fb9f3a\"],[0.8888888888888888,\"#fdca26\"],[1.0,\"#f0f921\"]],\"type\":\"heatmap\"}],\"heatmapgl\":[{\"colorbar\":{\"outlinewidth\":0,\"ticks\":\"\"},\"colorscale\":[[0.0,\"#0d0887\"],[0.1111111111111111,\"#46039f\"],[0.2222222222222222,\"#7201a8\"],[0.3333333333333333,\"#9c179e\"],[0.4444444444444444,\"#bd3786\"],[0.5555555555555556,\"#d8576b\"],[0.6666666666666666,\"#ed7953\"],[0.7777777777777778,\"#fb9f3a\"],[0.8888888888888888,\"#fdca26\"],[1.0,\"#f0f921\"]],\"type\":\"heatmapgl\"}],\"histogram\":[{\"marker\":{\"pattern\":{\"fillmode\":\"overlay\",\"size\":10,\"solidity\":0.2}},\"type\":\"histogram\"}],\"histogram2d\":[{\"colorbar\":{\"outlinewidth\":0,\"ticks\":\"\"},\"colorscale\":[[0.0,\"#0d0887\"],[0.1111111111111111,\"#46039f\"],[0.2222222222222222,\"#7201a8\"],[0.3333333333333333,\"#9c179e\"],[0.4444444444444444,\"#bd3786\"],[0.5555555555555556,\"#d8576b\"],[0.6666666666666666,\"#ed7953\"],[0.7777777777777778,\"#fb9f3a\"],[0.8888888888888888,\"#fdca26\"],[1.0,\"#f0f921\"]],\"type\":\"histogram2d\"}],\"histogram2dcontour\":[{\"colorbar\":{\"outlinewidth\":0,\"ticks\":\"\"},\"colorscale\":[[0.0,\"#0d0887\"],[0.1111111111111111,\"#46039f\"],[0.2222222222222222,\"#7201a8\"],[0.3333333333333333,\"#9c179e\"],[0.4444444444444444,\"#bd3786\"],[0.5555555555555556,\"#d8576b\"],[0.6666666666666666,\"#ed7953\"],[0.7777777777777778,\"#fb9f3a\"],[0.8888888888888888,\"#fdca26\"],[1.0,\"#f0f921\"]],\"type\":\"histogram2dcontour\"}],\"mesh3d\":[{\"colorbar\":{\"outlinewidth\":0,\"ticks\":\"\"},\"type\":\"mesh3d\"}],\"parcoords\":[{\"line\":{\"colorbar\":{\"outlinewidth\":0,\"ticks\":\"\"}},\"type\":\"parcoords\"}],\"pie\":[{\"automargin\":true,\"type\":\"pie\"}],\"scatter\":[{\"marker\":{\"colorbar\":{\"outlinewidth\":0,\"ticks\":\"\"}},\"type\":\"scatter\"}],\"scatter3d\":[{\"line\":{\"colorbar\":{\"outlinewidth\":0,\"ticks\":\"\"}},\"marker\":{\"colorbar\":{\"outlinewidth\":0,\"ticks\":\"\"}},\"type\":\"scatter3d\"}],\"scattercarpet\":[{\"marker\":{\"colorbar\":{\"outlinewidth\":0,\"ticks\":\"\"}},\"type\":\"scattercarpet\"}],\"scattergeo\":[{\"marker\":{\"colorbar\":{\"outlinewidth\":0,\"ticks\":\"\"}},\"type\":\"scattergeo\"}],\"scattergl\":[{\"marker\":{\"colorbar\":{\"outlinewidth\":0,\"ticks\":\"\"}},\"type\":\"scattergl\"}],\"scattermapbox\":[{\"marker\":{\"colorbar\":{\"outlinewidth\":0,\"ticks\":\"\"}},\"type\":\"scattermapbox\"}],\"scatterpolar\":[{\"marker\":{\"colorbar\":{\"outlinewidth\":0,\"ticks\":\"\"}},\"type\":\"scatterpolar\"}],\"scatterpolargl\":[{\"marker\":{\"colorbar\":{\"outlinewidth\":0,\"ticks\":\"\"}},\"type\":\"scatterpolargl\"}],\"scatterternary\":[{\"marker\":{\"colorbar\":{\"outlinewidth\":0,\"ticks\":\"\"}},\"type\":\"scatterternary\"}],\"surface\":[{\"colorbar\":{\"outlinewidth\":0,\"ticks\":\"\"},\"colorscale\":[[0.0,\"#0d0887\"],[0.1111111111111111,\"#46039f\"],[0.2222222222222222,\"#7201a8\"],[0.3333333333333333,\"#9c179e\"],[0.4444444444444444,\"#bd3786\"],[0.5555555555555556,\"#d8576b\"],[0.6666666666666666,\"#ed7953\"],[0.7777777777777778,\"#fb9f3a\"],[0.8888888888888888,\"#fdca26\"],[1.0,\"#f0f921\"]],\"type\":\"surface\"}],\"table\":[{\"cells\":{\"fill\":{\"color\":\"#EBF0F8\"},\"line\":{\"color\":\"white\"}},\"header\":{\"fill\":{\"color\":\"#C8D4E3\"},\"line\":{\"color\":\"white\"}},\"type\":\"table\"}]},\"layout\":{\"annotationdefaults\":{\"arrowcolor\":\"#2a3f5f\",\"arrowhead\":0,\"arrowwidth\":1},\"autotypenumbers\":\"strict\",\"coloraxis\":{\"colorbar\":{\"outlinewidth\":0,\"ticks\":\"\"}},\"colorscale\":{\"diverging\":[[0,\"#8e0152\"],[0.1,\"#c51b7d\"],[0.2,\"#de77ae\"],[0.3,\"#f1b6da\"],[0.4,\"#fde0ef\"],[0.5,\"#f7f7f7\"],[0.6,\"#e6f5d0\"],[0.7,\"#b8e186\"],[0.8,\"#7fbc41\"],[0.9,\"#4d9221\"],[1,\"#276419\"]],\"sequential\":[[0.0,\"#0d0887\"],[0.1111111111111111,\"#46039f\"],[0.2222222222222222,\"#7201a8\"],[0.3333333333333333,\"#9c179e\"],[0.4444444444444444,\"#bd3786\"],[0.5555555555555556,\"#d8576b\"],[0.6666666666666666,\"#ed7953\"],[0.7777777777777778,\"#fb9f3a\"],[0.8888888888888888,\"#fdca26\"],[1.0,\"#f0f921\"]],\"sequentialminus\":[[0.0,\"#0d0887\"],[0.1111111111111111,\"#46039f\"],[0.2222222222222222,\"#7201a8\"],[0.3333333333333333,\"#9c179e\"],[0.4444444444444444,\"#bd3786\"],[0.5555555555555556,\"#d8576b\"],[0.6666666666666666,\"#ed7953\"],[0.7777777777777778,\"#fb9f3a\"],[0.8888888888888888,\"#fdca26\"],[1.0,\"#f0f921\"]]},\"colorway\":[\"#636efa\",\"#EF553B\",\"#00cc96\",\"#ab63fa\",\"#FFA15A\",\"#19d3f3\",\"#FF6692\",\"#B6E880\",\"#FF97FF\",\"#FECB52\"],\"font\":{\"color\":\"#2a3f5f\"},\"geo\":{\"bgcolor\":\"white\",\"lakecolor\":\"white\",\"landcolor\":\"#E5ECF6\",\"showlakes\":true,\"showland\":true,\"subunitcolor\":\"white\"},\"hoverlabel\":{\"align\":\"left\"},\"hovermode\":\"closest\",\"mapbox\":{\"style\":\"light\"},\"paper_bgcolor\":\"white\",\"plot_bgcolor\":\"#E5ECF6\",\"polar\":{\"angularaxis\":{\"gridcolor\":\"white\",\"linecolor\":\"white\",\"ticks\":\"\"},\"bgcolor\":\"#E5ECF6\",\"radialaxis\":{\"gridcolor\":\"white\",\"linecolor\":\"white\",\"ticks\":\"\"}},\"scene\":{\"xaxis\":{\"backgroundcolor\":\"#E5ECF6\",\"gridcolor\":\"white\",\"gridwidth\":2,\"linecolor\":\"white\",\"showbackground\":true,\"ticks\":\"\",\"zerolinecolor\":\"white\"},\"yaxis\":{\"backgroundcolor\":\"#E5ECF6\",\"gridcolor\":\"white\",\"gridwidth\":2,\"linecolor\":\"white\",\"showbackground\":true,\"ticks\":\"\",\"zerolinecolor\":\"white\"},\"zaxis\":{\"backgroundcolor\":\"#E5ECF6\",\"gridcolor\":\"white\",\"gridwidth\":2,\"linecolor\":\"white\",\"showbackground\":true,\"ticks\":\"\",\"zerolinecolor\":\"white\"}},\"shapedefaults\":{\"line\":{\"color\":\"#2a3f5f\"}},\"ternary\":{\"aaxis\":{\"gridcolor\":\"white\",\"linecolor\":\"white\",\"ticks\":\"\"},\"baxis\":{\"gridcolor\":\"white\",\"linecolor\":\"white\",\"ticks\":\"\"},\"bgcolor\":\"#E5ECF6\",\"caxis\":{\"gridcolor\":\"white\",\"linecolor\":\"white\",\"ticks\":\"\"}},\"title\":{\"x\":0.05},\"xaxis\":{\"automargin\":true,\"gridcolor\":\"white\",\"linecolor\":\"white\",\"ticks\":\"\",\"title\":{\"standoff\":15},\"zerolinecolor\":\"white\",\"zerolinewidth\":2},\"yaxis\":{\"automargin\":true,\"gridcolor\":\"white\",\"linecolor\":\"white\",\"ticks\":\"\",\"title\":{\"standoff\":15},\"zerolinecolor\":\"white\",\"zerolinewidth\":2}}},\"xaxis\":{\"anchor\":\"y\",\"domain\":[0.0,1.0],\"title\":{\"text\":\"date\"},\"tick0\":\"2021-01-31\",\"dtick\":\"M2\",\"tickformat\":\"%b %Y\"},\"yaxis\":{\"anchor\":\"x\",\"domain\":[0.0,1.0],\"title\":{\"text\":\"totalCount\"}},\"legend\":{\"tracegroupgap\":0},\"title\":{\"text\":\"Party Plots Booked for 2 years\"}},                        {\"responsive\": true}                    ).then(function(){\n",
       "                            \n",
       "var gd = document.getElementById('b9de091a-7ddb-425c-a698-acf00eb85136');\n",
       "var x = new MutationObserver(function (mutations, observer) {{\n",
       "        var display = window.getComputedStyle(gd).display;\n",
       "        if (!display || display === 'none') {{\n",
       "            console.log([gd, 'removed!']);\n",
       "            Plotly.purge(gd);\n",
       "            observer.disconnect();\n",
       "        }}\n",
       "}});\n",
       "\n",
       "// Listen for the removal of the full notebook cells\n",
       "var notebookContainer = gd.closest('#notebook-container');\n",
       "if (notebookContainer) {{\n",
       "    x.observe(notebookContainer, {childList: true});\n",
       "}}\n",
       "\n",
       "// Listen for the clearing of the current output cell\n",
       "var outputEl = gd.closest('.output');\n",
       "if (outputEl) {{\n",
       "    x.observe(outputEl, {childList: true});\n",
       "}}\n",
       "\n",
       "                        })                };                });            </script>        </div>"
      ]
     },
     "metadata": {},
     "output_type": "display_data"
    }
   ],
   "source": [
    "fig = px.line(new_df2[12:], x='date', y='totalCount',markers=True,title='Party Plots Booked for 2 years')\n",
    "fig.layout.xaxis.tick0 = '2021-01-31'\n",
    "fig.layout.xaxis.dtick = 'M2'\n",
    "#month-year format\n",
    "fig.layout.xaxis.tickformat='%b %Y'\n",
    "\n",
    "#fig.update_traces(patch={\"line\": {\"color\": \"green\", \"width\": 4}})\n",
    "fig.update_traces(patch={\"line\": {\"color\": \"blue\", \"width\": 4, \"dash\": 'dash'}}) \n",
    "\n",
    "fig.show()"
   ]
  },
  {
   "cell_type": "code",
   "execution_count": 33,
   "id": "d08007a5",
   "metadata": {
    "extensions": {
     "jupyter_dashboards": {
      "version": 1,
      "views": {
       "default_view": {
        "col": 0,
        "height": 2,
        "row": 85,
        "width": 12
       },
       "grid_default": {
        "col": 0,
        "height": 10,
        "hidden": false,
        "locked": false,
        "row": 6,
        "width": 12
       }
      }
     }
    },
    "tags": []
   },
   "outputs": [
    {
     "data": {
      "application/vnd.plotly.v1+json": {
       "config": {
        "plotlyServerURL": "https://plot.ly"
       },
       "data": [
        {
         "alignmentgroup": "True",
         "bingroup": "x",
         "hovertemplate": "amountCollected=%{x}<br>count=%{y}<extra></extra>",
         "legendgroup": "",
         "marker": {
          "color": "#636efa",
          "pattern": {
           "shape": ""
          }
         },
         "name": "",
         "offsetgroup": "",
         "orientation": "v",
         "showlegend": false,
         "type": "histogram",
         "x": [
          213720,
          106080,
          335940,
          97720,
          334440,
          304940,
          276440,
          281070,
          926880,
          1221750,
          1776080,
          1359760,
          876090,
          1016180,
          1333920,
          1087300,
          970120,
          2376030,
          2073400,
          3349510,
          3140340,
          3092460,
          3675320,
          4039340,
          1132800,
          4294820,
          2813410,
          2617880,
          558030,
          336320,
          792840,
          539070,
          689720,
          578600,
          542060,
          352700
         ],
         "xaxis": "x",
         "yaxis": "y"
        }
       ],
       "layout": {
        "autosize": true,
        "barmode": "relative",
        "legend": {
         "tracegroupgap": 0
        },
        "margin": {
         "t": 60
        },
        "template": {
         "data": {
          "bar": [
           {
            "error_x": {
             "color": "#2a3f5f"
            },
            "error_y": {
             "color": "#2a3f5f"
            },
            "marker": {
             "line": {
              "color": "#E5ECF6",
              "width": 0.5
             },
             "pattern": {
              "fillmode": "overlay",
              "size": 10,
              "solidity": 0.2
             }
            },
            "type": "bar"
           }
          ],
          "barpolar": [
           {
            "marker": {
             "line": {
              "color": "#E5ECF6",
              "width": 0.5
             },
             "pattern": {
              "fillmode": "overlay",
              "size": 10,
              "solidity": 0.2
             }
            },
            "type": "barpolar"
           }
          ],
          "carpet": [
           {
            "aaxis": {
             "endlinecolor": "#2a3f5f",
             "gridcolor": "white",
             "linecolor": "white",
             "minorgridcolor": "white",
             "startlinecolor": "#2a3f5f"
            },
            "baxis": {
             "endlinecolor": "#2a3f5f",
             "gridcolor": "white",
             "linecolor": "white",
             "minorgridcolor": "white",
             "startlinecolor": "#2a3f5f"
            },
            "type": "carpet"
           }
          ],
          "choropleth": [
           {
            "colorbar": {
             "outlinewidth": 0,
             "ticks": ""
            },
            "type": "choropleth"
           }
          ],
          "contour": [
           {
            "colorbar": {
             "outlinewidth": 0,
             "ticks": ""
            },
            "colorscale": [
             [
              0,
              "#0d0887"
             ],
             [
              0.1111111111111111,
              "#46039f"
             ],
             [
              0.2222222222222222,
              "#7201a8"
             ],
             [
              0.3333333333333333,
              "#9c179e"
             ],
             [
              0.4444444444444444,
              "#bd3786"
             ],
             [
              0.5555555555555556,
              "#d8576b"
             ],
             [
              0.6666666666666666,
              "#ed7953"
             ],
             [
              0.7777777777777778,
              "#fb9f3a"
             ],
             [
              0.8888888888888888,
              "#fdca26"
             ],
             [
              1,
              "#f0f921"
             ]
            ],
            "type": "contour"
           }
          ],
          "contourcarpet": [
           {
            "colorbar": {
             "outlinewidth": 0,
             "ticks": ""
            },
            "type": "contourcarpet"
           }
          ],
          "heatmap": [
           {
            "colorbar": {
             "outlinewidth": 0,
             "ticks": ""
            },
            "colorscale": [
             [
              0,
              "#0d0887"
             ],
             [
              0.1111111111111111,
              "#46039f"
             ],
             [
              0.2222222222222222,
              "#7201a8"
             ],
             [
              0.3333333333333333,
              "#9c179e"
             ],
             [
              0.4444444444444444,
              "#bd3786"
             ],
             [
              0.5555555555555556,
              "#d8576b"
             ],
             [
              0.6666666666666666,
              "#ed7953"
             ],
             [
              0.7777777777777778,
              "#fb9f3a"
             ],
             [
              0.8888888888888888,
              "#fdca26"
             ],
             [
              1,
              "#f0f921"
             ]
            ],
            "type": "heatmap"
           }
          ],
          "heatmapgl": [
           {
            "colorbar": {
             "outlinewidth": 0,
             "ticks": ""
            },
            "colorscale": [
             [
              0,
              "#0d0887"
             ],
             [
              0.1111111111111111,
              "#46039f"
             ],
             [
              0.2222222222222222,
              "#7201a8"
             ],
             [
              0.3333333333333333,
              "#9c179e"
             ],
             [
              0.4444444444444444,
              "#bd3786"
             ],
             [
              0.5555555555555556,
              "#d8576b"
             ],
             [
              0.6666666666666666,
              "#ed7953"
             ],
             [
              0.7777777777777778,
              "#fb9f3a"
             ],
             [
              0.8888888888888888,
              "#fdca26"
             ],
             [
              1,
              "#f0f921"
             ]
            ],
            "type": "heatmapgl"
           }
          ],
          "histogram": [
           {
            "marker": {
             "pattern": {
              "fillmode": "overlay",
              "size": 10,
              "solidity": 0.2
             }
            },
            "type": "histogram"
           }
          ],
          "histogram2d": [
           {
            "colorbar": {
             "outlinewidth": 0,
             "ticks": ""
            },
            "colorscale": [
             [
              0,
              "#0d0887"
             ],
             [
              0.1111111111111111,
              "#46039f"
             ],
             [
              0.2222222222222222,
              "#7201a8"
             ],
             [
              0.3333333333333333,
              "#9c179e"
             ],
             [
              0.4444444444444444,
              "#bd3786"
             ],
             [
              0.5555555555555556,
              "#d8576b"
             ],
             [
              0.6666666666666666,
              "#ed7953"
             ],
             [
              0.7777777777777778,
              "#fb9f3a"
             ],
             [
              0.8888888888888888,
              "#fdca26"
             ],
             [
              1,
              "#f0f921"
             ]
            ],
            "type": "histogram2d"
           }
          ],
          "histogram2dcontour": [
           {
            "colorbar": {
             "outlinewidth": 0,
             "ticks": ""
            },
            "colorscale": [
             [
              0,
              "#0d0887"
             ],
             [
              0.1111111111111111,
              "#46039f"
             ],
             [
              0.2222222222222222,
              "#7201a8"
             ],
             [
              0.3333333333333333,
              "#9c179e"
             ],
             [
              0.4444444444444444,
              "#bd3786"
             ],
             [
              0.5555555555555556,
              "#d8576b"
             ],
             [
              0.6666666666666666,
              "#ed7953"
             ],
             [
              0.7777777777777778,
              "#fb9f3a"
             ],
             [
              0.8888888888888888,
              "#fdca26"
             ],
             [
              1,
              "#f0f921"
             ]
            ],
            "type": "histogram2dcontour"
           }
          ],
          "mesh3d": [
           {
            "colorbar": {
             "outlinewidth": 0,
             "ticks": ""
            },
            "type": "mesh3d"
           }
          ],
          "parcoords": [
           {
            "line": {
             "colorbar": {
              "outlinewidth": 0,
              "ticks": ""
             }
            },
            "type": "parcoords"
           }
          ],
          "pie": [
           {
            "automargin": true,
            "type": "pie"
           }
          ],
          "scatter": [
           {
            "marker": {
             "colorbar": {
              "outlinewidth": 0,
              "ticks": ""
             }
            },
            "type": "scatter"
           }
          ],
          "scatter3d": [
           {
            "line": {
             "colorbar": {
              "outlinewidth": 0,
              "ticks": ""
             }
            },
            "marker": {
             "colorbar": {
              "outlinewidth": 0,
              "ticks": ""
             }
            },
            "type": "scatter3d"
           }
          ],
          "scattercarpet": [
           {
            "marker": {
             "colorbar": {
              "outlinewidth": 0,
              "ticks": ""
             }
            },
            "type": "scattercarpet"
           }
          ],
          "scattergeo": [
           {
            "marker": {
             "colorbar": {
              "outlinewidth": 0,
              "ticks": ""
             }
            },
            "type": "scattergeo"
           }
          ],
          "scattergl": [
           {
            "marker": {
             "colorbar": {
              "outlinewidth": 0,
              "ticks": ""
             }
            },
            "type": "scattergl"
           }
          ],
          "scattermapbox": [
           {
            "marker": {
             "colorbar": {
              "outlinewidth": 0,
              "ticks": ""
             }
            },
            "type": "scattermapbox"
           }
          ],
          "scatterpolar": [
           {
            "marker": {
             "colorbar": {
              "outlinewidth": 0,
              "ticks": ""
             }
            },
            "type": "scatterpolar"
           }
          ],
          "scatterpolargl": [
           {
            "marker": {
             "colorbar": {
              "outlinewidth": 0,
              "ticks": ""
             }
            },
            "type": "scatterpolargl"
           }
          ],
          "scatterternary": [
           {
            "marker": {
             "colorbar": {
              "outlinewidth": 0,
              "ticks": ""
             }
            },
            "type": "scatterternary"
           }
          ],
          "surface": [
           {
            "colorbar": {
             "outlinewidth": 0,
             "ticks": ""
            },
            "colorscale": [
             [
              0,
              "#0d0887"
             ],
             [
              0.1111111111111111,
              "#46039f"
             ],
             [
              0.2222222222222222,
              "#7201a8"
             ],
             [
              0.3333333333333333,
              "#9c179e"
             ],
             [
              0.4444444444444444,
              "#bd3786"
             ],
             [
              0.5555555555555556,
              "#d8576b"
             ],
             [
              0.6666666666666666,
              "#ed7953"
             ],
             [
              0.7777777777777778,
              "#fb9f3a"
             ],
             [
              0.8888888888888888,
              "#fdca26"
             ],
             [
              1,
              "#f0f921"
             ]
            ],
            "type": "surface"
           }
          ],
          "table": [
           {
            "cells": {
             "fill": {
              "color": "#EBF0F8"
             },
             "line": {
              "color": "white"
             }
            },
            "header": {
             "fill": {
              "color": "#C8D4E3"
             },
             "line": {
              "color": "white"
             }
            },
            "type": "table"
           }
          ]
         },
         "layout": {
          "annotationdefaults": {
           "arrowcolor": "#2a3f5f",
           "arrowhead": 0,
           "arrowwidth": 1
          },
          "autotypenumbers": "strict",
          "coloraxis": {
           "colorbar": {
            "outlinewidth": 0,
            "ticks": ""
           }
          },
          "colorscale": {
           "diverging": [
            [
             0,
             "#8e0152"
            ],
            [
             0.1,
             "#c51b7d"
            ],
            [
             0.2,
             "#de77ae"
            ],
            [
             0.3,
             "#f1b6da"
            ],
            [
             0.4,
             "#fde0ef"
            ],
            [
             0.5,
             "#f7f7f7"
            ],
            [
             0.6,
             "#e6f5d0"
            ],
            [
             0.7,
             "#b8e186"
            ],
            [
             0.8,
             "#7fbc41"
            ],
            [
             0.9,
             "#4d9221"
            ],
            [
             1,
             "#276419"
            ]
           ],
           "sequential": [
            [
             0,
             "#0d0887"
            ],
            [
             0.1111111111111111,
             "#46039f"
            ],
            [
             0.2222222222222222,
             "#7201a8"
            ],
            [
             0.3333333333333333,
             "#9c179e"
            ],
            [
             0.4444444444444444,
             "#bd3786"
            ],
            [
             0.5555555555555556,
             "#d8576b"
            ],
            [
             0.6666666666666666,
             "#ed7953"
            ],
            [
             0.7777777777777778,
             "#fb9f3a"
            ],
            [
             0.8888888888888888,
             "#fdca26"
            ],
            [
             1,
             "#f0f921"
            ]
           ],
           "sequentialminus": [
            [
             0,
             "#0d0887"
            ],
            [
             0.1111111111111111,
             "#46039f"
            ],
            [
             0.2222222222222222,
             "#7201a8"
            ],
            [
             0.3333333333333333,
             "#9c179e"
            ],
            [
             0.4444444444444444,
             "#bd3786"
            ],
            [
             0.5555555555555556,
             "#d8576b"
            ],
            [
             0.6666666666666666,
             "#ed7953"
            ],
            [
             0.7777777777777778,
             "#fb9f3a"
            ],
            [
             0.8888888888888888,
             "#fdca26"
            ],
            [
             1,
             "#f0f921"
            ]
           ]
          },
          "colorway": [
           "#636efa",
           "#EF553B",
           "#00cc96",
           "#ab63fa",
           "#FFA15A",
           "#19d3f3",
           "#FF6692",
           "#B6E880",
           "#FF97FF",
           "#FECB52"
          ],
          "font": {
           "color": "#2a3f5f"
          },
          "geo": {
           "bgcolor": "white",
           "lakecolor": "white",
           "landcolor": "#E5ECF6",
           "showlakes": true,
           "showland": true,
           "subunitcolor": "white"
          },
          "hoverlabel": {
           "align": "left"
          },
          "hovermode": "closest",
          "mapbox": {
           "style": "light"
          },
          "paper_bgcolor": "white",
          "plot_bgcolor": "#E5ECF6",
          "polar": {
           "angularaxis": {
            "gridcolor": "white",
            "linecolor": "white",
            "ticks": ""
           },
           "bgcolor": "#E5ECF6",
           "radialaxis": {
            "gridcolor": "white",
            "linecolor": "white",
            "ticks": ""
           }
          },
          "scene": {
           "xaxis": {
            "backgroundcolor": "#E5ECF6",
            "gridcolor": "white",
            "gridwidth": 2,
            "linecolor": "white",
            "showbackground": true,
            "ticks": "",
            "zerolinecolor": "white"
           },
           "yaxis": {
            "backgroundcolor": "#E5ECF6",
            "gridcolor": "white",
            "gridwidth": 2,
            "linecolor": "white",
            "showbackground": true,
            "ticks": "",
            "zerolinecolor": "white"
           },
           "zaxis": {
            "backgroundcolor": "#E5ECF6",
            "gridcolor": "white",
            "gridwidth": 2,
            "linecolor": "white",
            "showbackground": true,
            "ticks": "",
            "zerolinecolor": "white"
           }
          },
          "shapedefaults": {
           "line": {
            "color": "#2a3f5f"
           }
          },
          "ternary": {
           "aaxis": {
            "gridcolor": "white",
            "linecolor": "white",
            "ticks": ""
           },
           "baxis": {
            "gridcolor": "white",
            "linecolor": "white",
            "ticks": ""
           },
           "bgcolor": "#E5ECF6",
           "caxis": {
            "gridcolor": "white",
            "linecolor": "white",
            "ticks": ""
           }
          },
          "title": {
           "x": 0.05
          },
          "xaxis": {
           "automargin": true,
           "gridcolor": "white",
           "linecolor": "white",
           "ticks": "",
           "title": {
            "standoff": 15
           },
           "zerolinecolor": "white",
           "zerolinewidth": 2
          },
          "yaxis": {
           "automargin": true,
           "gridcolor": "white",
           "linecolor": "white",
           "ticks": "",
           "title": {
            "standoff": 15
           },
           "zerolinecolor": "white",
           "zerolinewidth": 2
          }
         }
        },
        "xaxis": {
         "anchor": "y",
         "autorange": true,
         "domain": [
          0,
          1
         ],
         "range": [
          -0.5,
          4999999.5
         ],
         "showspikes": false,
         "title": {
          "text": "amountCollected"
         },
         "type": "linear"
        },
        "yaxis": {
         "anchor": "x",
         "autorange": true,
         "domain": [
          0,
          1
         ],
         "range": [
          0,
          20
         ],
         "showspikes": false,
         "title": {
          "text": "count"
         }
        }
       }
      },
      "image/png": "[encoded data removed]",
      "text/html": [
       "<div>                            <div id=\"fab06b9e-60d0-4983-a9b2-6fe0b36c6dd1\" class=\"plotly-graph-div\" style=\"height:525px; width:100%;\"></div>            <script type=\"text/javascript\">                require([\"plotly\"], function(Plotly) {                    window.PLOTLYENV=window.PLOTLYENV || {};                                    if (document.getElementById(\"fab06b9e-60d0-4983-a9b2-6fe0b36c6dd1\")) {                    Plotly.newPlot(                        \"fab06b9e-60d0-4983-a9b2-6fe0b36c6dd1\",                        [{\"alignmentgroup\":\"True\",\"bingroup\":\"x\",\"hovertemplate\":\"amountCollected=%{x}<br>count=%{y}<extra></extra>\",\"legendgroup\":\"\",\"marker\":{\"color\":\"#636efa\",\"pattern\":{\"shape\":\"\"}},\"name\":\"\",\"offsetgroup\":\"\",\"orientation\":\"v\",\"showlegend\":false,\"x\":[213720,106080,335940,97720,334440,304940,276440,281070,926880,1221750,1776080,1359760,876090,1016180,1333920,1087300,970120,2376030,2073400,3349510,3140340,3092460,3675320,4039340,1132800,4294820,2813410,2617880,558030,336320,792840,539070,689720,578600,542060,352700],\"xaxis\":\"x\",\"yaxis\":\"y\",\"type\":\"histogram\"}],                        {\"template\":{\"data\":{\"bar\":[{\"error_x\":{\"color\":\"#2a3f5f\"},\"error_y\":{\"color\":\"#2a3f5f\"},\"marker\":{\"line\":{\"color\":\"#E5ECF6\",\"width\":0.5},\"pattern\":{\"fillmode\":\"overlay\",\"size\":10,\"solidity\":0.2}},\"type\":\"bar\"}],\"barpolar\":[{\"marker\":{\"line\":{\"color\":\"#E5ECF6\",\"width\":0.5},\"pattern\":{\"fillmode\":\"overlay\",\"size\":10,\"solidity\":0.2}},\"type\":\"barpolar\"}],\"carpet\":[{\"aaxis\":{\"endlinecolor\":\"#2a3f5f\",\"gridcolor\":\"white\",\"linecolor\":\"white\",\"minorgridcolor\":\"white\",\"startlinecolor\":\"#2a3f5f\"},\"baxis\":{\"endlinecolor\":\"#2a3f5f\",\"gridcolor\":\"white\",\"linecolor\":\"white\",\"minorgridcolor\":\"white\",\"startlinecolor\":\"#2a3f5f\"},\"type\":\"carpet\"}],\"choropleth\":[{\"colorbar\":{\"outlinewidth\":0,\"ticks\":\"\"},\"type\":\"choropleth\"}],\"contour\":[{\"colorbar\":{\"outlinewidth\":0,\"ticks\":\"\"},\"colorscale\":[[0.0,\"#0d0887\"],[0.1111111111111111,\"#46039f\"],[0.2222222222222222,\"#7201a8\"],[0.3333333333333333,\"#9c179e\"],[0.4444444444444444,\"#bd3786\"],[0.5555555555555556,\"#d8576b\"],[0.6666666666666666,\"#ed7953\"],[0.7777777777777778,\"#fb9f3a\"],[0.8888888888888888,\"#fdca26\"],[1.0,\"#f0f921\"]],\"type\":\"contour\"}],\"contourcarpet\":[{\"colorbar\":{\"outlinewidth\":0,\"ticks\":\"\"},\"type\":\"contourcarpet\"}],\"heatmap\":[{\"colorbar\":{\"outlinewidth\":0,\"ticks\":\"\"},\"colorscale\":[[0.0,\"#0d0887\"],[0.1111111111111111,\"#46039f\"],[0.2222222222222222,\"#7201a8\"],[0.3333333333333333,\"#9c179e\"],[0.4444444444444444,\"#bd3786\"],[0.5555555555555556,\"#d8576b\"],[0.6666666666666666,\"#ed7953\"],[0.7777777777777778,\"#fb9f3a\"],[0.8888888888888888,\"#fdca26\"],[1.0,\"#f0f921\"]],\"type\":\"heatmap\"}],\"heatmapgl\":[{\"colorbar\":{\"outlinewidth\":0,\"ticks\":\"\"},\"colorscale\":[[0.0,\"#0d0887\"],[0.1111111111111111,\"#46039f\"],[0.2222222222222222,\"#7201a8\"],[0.3333333333333333,\"#9c179e\"],[0.4444444444444444,\"#bd3786\"],[0.5555555555555556,\"#d8576b\"],[0.6666666666666666,\"#ed7953\"],[0.7777777777777778,\"#fb9f3a\"],[0.8888888888888888,\"#fdca26\"],[1.0,\"#f0f921\"]],\"type\":\"heatmapgl\"}],\"histogram\":[{\"marker\":{\"pattern\":{\"fillmode\":\"overlay\",\"size\":10,\"solidity\":0.2}},\"type\":\"histogram\"}],\"histogram2d\":[{\"colorbar\":{\"outlinewidth\":0,\"ticks\":\"\"},\"colorscale\":[[0.0,\"#0d0887\"],[0.1111111111111111,\"#46039f\"],[0.2222222222222222,\"#7201a8\"],[0.3333333333333333,\"#9c179e\"],[0.4444444444444444,\"#bd3786\"],[0.5555555555555556,\"#d8576b\"],[0.6666666666666666,\"#ed7953\"],[0.7777777777777778,\"#fb9f3a\"],[0.8888888888888888,\"#fdca26\"],[1.0,\"#f0f921\"]],\"type\":\"histogram2d\"}],\"histogram2dcontour\":[{\"colorbar\":{\"outlinewidth\":0,\"ticks\":\"\"},\"colorscale\":[[0.0,\"#0d0887\"],[0.1111111111111111,\"#46039f\"],[0.2222222222222222,\"#7201a8\"],[0.3333333333333333,\"#9c179e\"],[0.4444444444444444,\"#bd3786\"],[0.5555555555555556,\"#d8576b\"],[0.6666666666666666,\"#ed7953\"],[0.7777777777777778,\"#fb9f3a\"],[0.8888888888888888,\"#fdca26\"],[1.0,\"#f0f921\"]],\"type\":\"histogram2dcontour\"}],\"mesh3d\":[{\"colorbar\":{\"outlinewidth\":0,\"ticks\":\"\"},\"type\":\"mesh3d\"}],\"parcoords\":[{\"line\":{\"colorbar\":{\"outlinewidth\":0,\"ticks\":\"\"}},\"type\":\"parcoords\"}],\"pie\":[{\"automargin\":true,\"type\":\"pie\"}],\"scatter\":[{\"marker\":{\"colorbar\":{\"outlinewidth\":0,\"ticks\":\"\"}},\"type\":\"scatter\"}],\"scatter3d\":[{\"line\":{\"colorbar\":{\"outlinewidth\":0,\"ticks\":\"\"}},\"marker\":{\"colorbar\":{\"outlinewidth\":0,\"ticks\":\"\"}},\"type\":\"scatter3d\"}],\"scattercarpet\":[{\"marker\":{\"colorbar\":{\"outlinewidth\":0,\"ticks\":\"\"}},\"type\":\"scattercarpet\"}],\"scattergeo\":[{\"marker\":{\"colorbar\":{\"outlinewidth\":0,\"ticks\":\"\"}},\"type\":\"scattergeo\"}],\"scattergl\":[{\"marker\":{\"colorbar\":{\"outlinewidth\":0,\"ticks\":\"\"}},\"type\":\"scattergl\"}],\"scattermapbox\":[{\"marker\":{\"colorbar\":{\"outlinewidth\":0,\"ticks\":\"\"}},\"type\":\"scattermapbox\"}],\"scatterpolar\":[{\"marker\":{\"colorbar\":{\"outlinewidth\":0,\"ticks\":\"\"}},\"type\":\"scatterpolar\"}],\"scatterpolargl\":[{\"marker\":{\"colorbar\":{\"outlinewidth\":0,\"ticks\":\"\"}},\"type\":\"scatterpolargl\"}],\"scatterternary\":[{\"marker\":{\"colorbar\":{\"outlinewidth\":0,\"ticks\":\"\"}},\"type\":\"scatterternary\"}],\"surface\":[{\"colorbar\":{\"outlinewidth\":0,\"ticks\":\"\"},\"colorscale\":[[0.0,\"#0d0887\"],[0.1111111111111111,\"#46039f\"],[0.2222222222222222,\"#7201a8\"],[0.3333333333333333,\"#9c179e\"],[0.4444444444444444,\"#bd3786\"],[0.5555555555555556,\"#d8576b\"],[0.6666666666666666,\"#ed7953\"],[0.7777777777777778,\"#fb9f3a\"],[0.8888888888888888,\"#fdca26\"],[1.0,\"#f0f921\"]],\"type\":\"surface\"}],\"table\":[{\"cells\":{\"fill\":{\"color\":\"#EBF0F8\"},\"line\":{\"color\":\"white\"}},\"header\":{\"fill\":{\"color\":\"#C8D4E3\"},\"line\":{\"color\":\"white\"}},\"type\":\"table\"}]},\"layout\":{\"annotationdefaults\":{\"arrowcolor\":\"#2a3f5f\",\"arrowhead\":0,\"arrowwidth\":1},\"autotypenumbers\":\"strict\",\"coloraxis\":{\"colorbar\":{\"outlinewidth\":0,\"ticks\":\"\"}},\"colorscale\":{\"diverging\":[[0,\"#8e0152\"],[0.1,\"#c51b7d\"],[0.2,\"#de77ae\"],[0.3,\"#f1b6da\"],[0.4,\"#fde0ef\"],[0.5,\"#f7f7f7\"],[0.6,\"#e6f5d0\"],[0.7,\"#b8e186\"],[0.8,\"#7fbc41\"],[0.9,\"#4d9221\"],[1,\"#276419\"]],\"sequential\":[[0.0,\"#0d0887\"],[0.1111111111111111,\"#46039f\"],[0.2222222222222222,\"#7201a8\"],[0.3333333333333333,\"#9c179e\"],[0.4444444444444444,\"#bd3786\"],[0.5555555555555556,\"#d8576b\"],[0.6666666666666666,\"#ed7953\"],[0.7777777777777778,\"#fb9f3a\"],[0.8888888888888888,\"#fdca26\"],[1.0,\"#f0f921\"]],\"sequentialminus\":[[0.0,\"#0d0887\"],[0.1111111111111111,\"#46039f\"],[0.2222222222222222,\"#7201a8\"],[0.3333333333333333,\"#9c179e\"],[0.4444444444444444,\"#bd3786\"],[0.5555555555555556,\"#d8576b\"],[0.6666666666666666,\"#ed7953\"],[0.7777777777777778,\"#fb9f3a\"],[0.8888888888888888,\"#fdca26\"],[1.0,\"#f0f921\"]]},\"colorway\":[\"#636efa\",\"#EF553B\",\"#00cc96\",\"#ab63fa\",\"#FFA15A\",\"#19d3f3\",\"#FF6692\",\"#B6E880\",\"#FF97FF\",\"#FECB52\"],\"font\":{\"color\":\"#2a3f5f\"},\"geo\":{\"bgcolor\":\"white\",\"lakecolor\":\"white\",\"landcolor\":\"#E5ECF6\",\"showlakes\":true,\"showland\":true,\"subunitcolor\":\"white\"},\"hoverlabel\":{\"align\":\"left\"},\"hovermode\":\"closest\",\"mapbox\":{\"style\":\"light\"},\"paper_bgcolor\":\"white\",\"plot_bgcolor\":\"#E5ECF6\",\"polar\":{\"angularaxis\":{\"gridcolor\":\"white\",\"linecolor\":\"white\",\"ticks\":\"\"},\"bgcolor\":\"#E5ECF6\",\"radialaxis\":{\"gridcolor\":\"white\",\"linecolor\":\"white\",\"ticks\":\"\"}},\"scene\":{\"xaxis\":{\"backgroundcolor\":\"#E5ECF6\",\"gridcolor\":\"white\",\"gridwidth\":2,\"linecolor\":\"white\",\"showbackground\":true,\"ticks\":\"\",\"zerolinecolor\":\"white\"},\"yaxis\":{\"backgroundcolor\":\"#E5ECF6\",\"gridcolor\":\"white\",\"gridwidth\":2,\"linecolor\":\"white\",\"showbackground\":true,\"ticks\":\"\",\"zerolinecolor\":\"white\"},\"zaxis\":{\"backgroundcolor\":\"#E5ECF6\",\"gridcolor\":\"white\",\"gridwidth\":2,\"linecolor\":\"white\",\"showbackground\":true,\"ticks\":\"\",\"zerolinecolor\":\"white\"}},\"shapedefaults\":{\"line\":{\"color\":\"#2a3f5f\"}},\"ternary\":{\"aaxis\":{\"gridcolor\":\"white\",\"linecolor\":\"white\",\"ticks\":\"\"},\"baxis\":{\"gridcolor\":\"white\",\"linecolor\":\"white\",\"ticks\":\"\"},\"bgcolor\":\"#E5ECF6\",\"caxis\":{\"gridcolor\":\"white\",\"linecolor\":\"white\",\"ticks\":\"\"}},\"title\":{\"x\":0.05},\"xaxis\":{\"automargin\":true,\"gridcolor\":\"white\",\"linecolor\":\"white\",\"ticks\":\"\",\"title\":{\"standoff\":15},\"zerolinecolor\":\"white\",\"zerolinewidth\":2},\"yaxis\":{\"automargin\":true,\"gridcolor\":\"white\",\"linecolor\":\"white\",\"ticks\":\"\",\"title\":{\"standoff\":15},\"zerolinecolor\":\"white\",\"zerolinewidth\":2}}},\"xaxis\":{\"anchor\":\"y\",\"domain\":[0.0,1.0],\"title\":{\"text\":\"amountCollected\"}},\"yaxis\":{\"anchor\":\"x\",\"domain\":[0.0,1.0],\"title\":{\"text\":\"count\"}},\"legend\":{\"tracegroupgap\":0},\"margin\":{\"t\":60},\"barmode\":\"relative\"},                        {\"responsive\": true}                    ).then(function(){\n",
       "                            \n",
       "var gd = document.getElementById('fab06b9e-60d0-4983-a9b2-6fe0b36c6dd1');\n",
       "var x = new MutationObserver(function (mutations, observer) {{\n",
       "        var display = window.getComputedStyle(gd).display;\n",
       "        if (!display || display === 'none') {{\n",
       "            console.log([gd, 'removed!']);\n",
       "            Plotly.purge(gd);\n",
       "            observer.disconnect();\n",
       "        }}\n",
       "}});\n",
       "\n",
       "// Listen for the removal of the full notebook cells\n",
       "var notebookContainer = gd.closest('#notebook-container');\n",
       "if (notebookContainer) {{\n",
       "    x.observe(notebookContainer, {childList: true});\n",
       "}}\n",
       "\n",
       "// Listen for the clearing of the current output cell\n",
       "var outputEl = gd.closest('.output');\n",
       "if (outputEl) {{\n",
       "    x.observe(outputEl, {childList: true});\n",
       "}}\n",
       "\n",
       "                        })                };                });            </script>        </div>"
      ]
     },
     "metadata": {},
     "output_type": "display_data"
    }
   ],
   "source": [
    "fig = px.histogram(new_df2[0:], x=\"amountCollected\")\n",
    "fig.show()"
   ]
  },
  {
   "cell_type": "code",
   "execution_count": 34,
   "id": "7d9d9cb0",
   "metadata": {
    "extensions": {
     "jupyter_dashboards": {
      "version": 1,
      "views": {
       "default_view": {
        "col": 0,
        "height": 2,
        "row": 87,
        "width": 12
       },
       "grid_default": {
        "col": null,
        "height": 2,
        "hidden": true,
        "locked": true,
        "row": null,
        "width": 2
       }
      }
     }
    },
    "scrolled": true
   },
   "outputs": [
    {
     "data": {
      "application/vnd.plotly.v1+json": {
       "config": {
        "plotlyServerURL": "https://plot.ly"
       },
       "data": [
        {
         "hovertemplate": "date=%{x}<br>amountCollected=%{y}<extra></extra>",
         "legendgroup": "",
         "line": {
          "color": "#636efa"
         },
         "marker": {
          "symbol": "circle"
         },
         "mode": "lines+markers",
         "name": "",
         "orientation": "v",
         "showlegend": false,
         "stackgroup": "1",
         "type": "scatter",
         "x": [
          "2021-01-31T00:00:00",
          "2021-02-28T00:00:00",
          "2021-03-31T00:00:00",
          "2021-04-30T00:00:00",
          "2021-05-31T00:00:00",
          "2021-06-30T00:00:00",
          "2021-07-31T00:00:00",
          "2021-08-31T00:00:00",
          "2021-09-30T00:00:00",
          "2021-10-31T00:00:00",
          "2021-11-30T00:00:00",
          "2021-12-31T00:00:00"
         ],
         "xaxis": "x",
         "y": [
          876090,
          1016180,
          1333920,
          1087300,
          970120,
          2376030,
          2073400,
          3349510,
          3140340,
          3092460,
          3675320,
          4039340
         ],
         "yaxis": "y"
        }
       ],
       "layout": {
        "height": 720,
        "legend": {
         "tracegroupgap": 0
        },
        "template": {
         "data": {
          "bar": [
           {
            "error_x": {
             "color": "#2a3f5f"
            },
            "error_y": {
             "color": "#2a3f5f"
            },
            "marker": {
             "line": {
              "color": "#E5ECF6",
              "width": 0.5
             },
             "pattern": {
              "fillmode": "overlay",
              "size": 10,
              "solidity": 0.2
             }
            },
            "type": "bar"
           }
          ],
          "barpolar": [
           {
            "marker": {
             "line": {
              "color": "#E5ECF6",
              "width": 0.5
             },
             "pattern": {
              "fillmode": "overlay",
              "size": 10,
              "solidity": 0.2
             }
            },
            "type": "barpolar"
           }
          ],
          "carpet": [
           {
            "aaxis": {
             "endlinecolor": "#2a3f5f",
             "gridcolor": "white",
             "linecolor": "white",
             "minorgridcolor": "white",
             "startlinecolor": "#2a3f5f"
            },
            "baxis": {
             "endlinecolor": "#2a3f5f",
             "gridcolor": "white",
             "linecolor": "white",
             "minorgridcolor": "white",
             "startlinecolor": "#2a3f5f"
            },
            "type": "carpet"
           }
          ],
          "choropleth": [
           {
            "colorbar": {
             "outlinewidth": 0,
             "ticks": ""
            },
            "type": "choropleth"
           }
          ],
          "contour": [
           {
            "colorbar": {
             "outlinewidth": 0,
             "ticks": ""
            },
            "colorscale": [
             [
              0,
              "#0d0887"
             ],
             [
              0.1111111111111111,
              "#46039f"
             ],
             [
              0.2222222222222222,
              "#7201a8"
             ],
             [
              0.3333333333333333,
              "#9c179e"
             ],
             [
              0.4444444444444444,
              "#bd3786"
             ],
             [
              0.5555555555555556,
              "#d8576b"
             ],
             [
              0.6666666666666666,
              "#ed7953"
             ],
             [
              0.7777777777777778,
              "#fb9f3a"
             ],
             [
              0.8888888888888888,
              "#fdca26"
             ],
             [
              1,
              "#f0f921"
             ]
            ],
            "type": "contour"
           }
          ],
          "contourcarpet": [
           {
            "colorbar": {
             "outlinewidth": 0,
             "ticks": ""
            },
            "type": "contourcarpet"
           }
          ],
          "heatmap": [
           {
            "colorbar": {
             "outlinewidth": 0,
             "ticks": ""
            },
            "colorscale": [
             [
              0,
              "#0d0887"
             ],
             [
              0.1111111111111111,
              "#46039f"
             ],
             [
              0.2222222222222222,
              "#7201a8"
             ],
             [
              0.3333333333333333,
              "#9c179e"
             ],
             [
              0.4444444444444444,
              "#bd3786"
             ],
             [
              0.5555555555555556,
              "#d8576b"
             ],
             [
              0.6666666666666666,
              "#ed7953"
             ],
             [
              0.7777777777777778,
              "#fb9f3a"
             ],
             [
              0.8888888888888888,
              "#fdca26"
             ],
             [
              1,
              "#f0f921"
             ]
            ],
            "type": "heatmap"
           }
          ],
          "heatmapgl": [
           {
            "colorbar": {
             "outlinewidth": 0,
             "ticks": ""
            },
            "colorscale": [
             [
              0,
              "#0d0887"
             ],
             [
              0.1111111111111111,
              "#46039f"
             ],
             [
              0.2222222222222222,
              "#7201a8"
             ],
             [
              0.3333333333333333,
              "#9c179e"
             ],
             [
              0.4444444444444444,
              "#bd3786"
             ],
             [
              0.5555555555555556,
              "#d8576b"
             ],
             [
              0.6666666666666666,
              "#ed7953"
             ],
             [
              0.7777777777777778,
              "#fb9f3a"
             ],
             [
              0.8888888888888888,
              "#fdca26"
             ],
             [
              1,
              "#f0f921"
             ]
            ],
            "type": "heatmapgl"
           }
          ],
          "histogram": [
           {
            "marker": {
             "pattern": {
              "fillmode": "overlay",
              "size": 10,
              "solidity": 0.2
             }
            },
            "type": "histogram"
           }
          ],
          "histogram2d": [
           {
            "colorbar": {
             "outlinewidth": 0,
             "ticks": ""
            },
            "colorscale": [
             [
              0,
              "#0d0887"
             ],
             [
              0.1111111111111111,
              "#46039f"
             ],
             [
              0.2222222222222222,
              "#7201a8"
             ],
             [
              0.3333333333333333,
              "#9c179e"
             ],
             [
              0.4444444444444444,
              "#bd3786"
             ],
             [
              0.5555555555555556,
              "#d8576b"
             ],
             [
              0.6666666666666666,
              "#ed7953"
             ],
             [
              0.7777777777777778,
              "#fb9f3a"
             ],
             [
              0.8888888888888888,
              "#fdca26"
             ],
             [
              1,
              "#f0f921"
             ]
            ],
            "type": "histogram2d"
           }
          ],
          "histogram2dcontour": [
           {
            "colorbar": {
             "outlinewidth": 0,
             "ticks": ""
            },
            "colorscale": [
             [
              0,
              "#0d0887"
             ],
             [
              0.1111111111111111,
              "#46039f"
             ],
             [
              0.2222222222222222,
              "#7201a8"
             ],
             [
              0.3333333333333333,
              "#9c179e"
             ],
             [
              0.4444444444444444,
              "#bd3786"
             ],
             [
              0.5555555555555556,
              "#d8576b"
             ],
             [
              0.6666666666666666,
              "#ed7953"
             ],
             [
              0.7777777777777778,
              "#fb9f3a"
             ],
             [
              0.8888888888888888,
              "#fdca26"
             ],
             [
              1,
              "#f0f921"
             ]
            ],
            "type": "histogram2dcontour"
           }
          ],
          "mesh3d": [
           {
            "colorbar": {
             "outlinewidth": 0,
             "ticks": ""
            },
            "type": "mesh3d"
           }
          ],
          "parcoords": [
           {
            "line": {
             "colorbar": {
              "outlinewidth": 0,
              "ticks": ""
             }
            },
            "type": "parcoords"
           }
          ],
          "pie": [
           {
            "automargin": true,
            "type": "pie"
           }
          ],
          "scatter": [
           {
            "marker": {
             "colorbar": {
              "outlinewidth": 0,
              "ticks": ""
             }
            },
            "type": "scatter"
           }
          ],
          "scatter3d": [
           {
            "line": {
             "colorbar": {
              "outlinewidth": 0,
              "ticks": ""
             }
            },
            "marker": {
             "colorbar": {
              "outlinewidth": 0,
              "ticks": ""
             }
            },
            "type": "scatter3d"
           }
          ],
          "scattercarpet": [
           {
            "marker": {
             "colorbar": {
              "outlinewidth": 0,
              "ticks": ""
             }
            },
            "type": "scattercarpet"
           }
          ],
          "scattergeo": [
           {
            "marker": {
             "colorbar": {
              "outlinewidth": 0,
              "ticks": ""
             }
            },
            "type": "scattergeo"
           }
          ],
          "scattergl": [
           {
            "marker": {
             "colorbar": {
              "outlinewidth": 0,
              "ticks": ""
             }
            },
            "type": "scattergl"
           }
          ],
          "scattermapbox": [
           {
            "marker": {
             "colorbar": {
              "outlinewidth": 0,
              "ticks": ""
             }
            },
            "type": "scattermapbox"
           }
          ],
          "scatterpolar": [
           {
            "marker": {
             "colorbar": {
              "outlinewidth": 0,
              "ticks": ""
             }
            },
            "type": "scatterpolar"
           }
          ],
          "scatterpolargl": [
           {
            "marker": {
             "colorbar": {
              "outlinewidth": 0,
              "ticks": ""
             }
            },
            "type": "scatterpolargl"
           }
          ],
          "scatterternary": [
           {
            "marker": {
             "colorbar": {
              "outlinewidth": 0,
              "ticks": ""
             }
            },
            "type": "scatterternary"
           }
          ],
          "surface": [
           {
            "colorbar": {
             "outlinewidth": 0,
             "ticks": ""
            },
            "colorscale": [
             [
              0,
              "#0d0887"
             ],
             [
              0.1111111111111111,
              "#46039f"
             ],
             [
              0.2222222222222222,
              "#7201a8"
             ],
             [
              0.3333333333333333,
              "#9c179e"
             ],
             [
              0.4444444444444444,
              "#bd3786"
             ],
             [
              0.5555555555555556,
              "#d8576b"
             ],
             [
              0.6666666666666666,
              "#ed7953"
             ],
             [
              0.7777777777777778,
              "#fb9f3a"
             ],
             [
              0.8888888888888888,
              "#fdca26"
             ],
             [
              1,
              "#f0f921"
             ]
            ],
            "type": "surface"
           }
          ],
          "table": [
           {
            "cells": {
             "fill": {
              "color": "#EBF0F8"
             },
             "line": {
              "color": "white"
             }
            },
            "header": {
             "fill": {
              "color": "#C8D4E3"
             },
             "line": {
              "color": "white"
             }
            },
            "type": "table"
           }
          ]
         },
         "layout": {
          "annotationdefaults": {
           "arrowcolor": "#2a3f5f",
           "arrowhead": 0,
           "arrowwidth": 1
          },
          "autotypenumbers": "strict",
          "coloraxis": {
           "colorbar": {
            "outlinewidth": 0,
            "ticks": ""
           }
          },
          "colorscale": {
           "diverging": [
            [
             0,
             "#8e0152"
            ],
            [
             0.1,
             "#c51b7d"
            ],
            [
             0.2,
             "#de77ae"
            ],
            [
             0.3,
             "#f1b6da"
            ],
            [
             0.4,
             "#fde0ef"
            ],
            [
             0.5,
             "#f7f7f7"
            ],
            [
             0.6,
             "#e6f5d0"
            ],
            [
             0.7,
             "#b8e186"
            ],
            [
             0.8,
             "#7fbc41"
            ],
            [
             0.9,
             "#4d9221"
            ],
            [
             1,
             "#276419"
            ]
           ],
           "sequential": [
            [
             0,
             "#0d0887"
            ],
            [
             0.1111111111111111,
             "#46039f"
            ],
            [
             0.2222222222222222,
             "#7201a8"
            ],
            [
             0.3333333333333333,
             "#9c179e"
            ],
            [
             0.4444444444444444,
             "#bd3786"
            ],
            [
             0.5555555555555556,
             "#d8576b"
            ],
            [
             0.6666666666666666,
             "#ed7953"
            ],
            [
             0.7777777777777778,
             "#fb9f3a"
            ],
            [
             0.8888888888888888,
             "#fdca26"
            ],
            [
             1,
             "#f0f921"
            ]
           ],
           "sequentialminus": [
            [
             0,
             "#0d0887"
            ],
            [
             0.1111111111111111,
             "#46039f"
            ],
            [
             0.2222222222222222,
             "#7201a8"
            ],
            [
             0.3333333333333333,
             "#9c179e"
            ],
            [
             0.4444444444444444,
             "#bd3786"
            ],
            [
             0.5555555555555556,
             "#d8576b"
            ],
            [
             0.6666666666666666,
             "#ed7953"
            ],
            [
             0.7777777777777778,
             "#fb9f3a"
            ],
            [
             0.8888888888888888,
             "#fdca26"
            ],
            [
             1,
             "#f0f921"
            ]
           ]
          },
          "colorway": [
           "#636efa",
           "#EF553B",
           "#00cc96",
           "#ab63fa",
           "#FFA15A",
           "#19d3f3",
           "#FF6692",
           "#B6E880",
           "#FF97FF",
           "#FECB52"
          ],
          "font": {
           "color": "#2a3f5f"
          },
          "geo": {
           "bgcolor": "white",
           "lakecolor": "white",
           "landcolor": "#E5ECF6",
           "showlakes": true,
           "showland": true,
           "subunitcolor": "white"
          },
          "hoverlabel": {
           "align": "left"
          },
          "hovermode": "closest",
          "mapbox": {
           "style": "light"
          },
          "paper_bgcolor": "white",
          "plot_bgcolor": "#E5ECF6",
          "polar": {
           "angularaxis": {
            "gridcolor": "white",
            "linecolor": "white",
            "ticks": ""
           },
           "bgcolor": "#E5ECF6",
           "radialaxis": {
            "gridcolor": "white",
            "linecolor": "white",
            "ticks": ""
           }
          },
          "scene": {
           "xaxis": {
            "backgroundcolor": "#E5ECF6",
            "gridcolor": "white",
            "gridwidth": 2,
            "linecolor": "white",
            "showbackground": true,
            "ticks": "",
            "zerolinecolor": "white"
           },
           "yaxis": {
            "backgroundcolor": "#E5ECF6",
            "gridcolor": "white",
            "gridwidth": 2,
            "linecolor": "white",
            "showbackground": true,
            "ticks": "",
            "zerolinecolor": "white"
           },
           "zaxis": {
            "backgroundcolor": "#E5ECF6",
            "gridcolor": "white",
            "gridwidth": 2,
            "linecolor": "white",
            "showbackground": true,
            "ticks": "",
            "zerolinecolor": "white"
           }
          },
          "shapedefaults": {
           "line": {
            "color": "#2a3f5f"
           }
          },
          "ternary": {
           "aaxis": {
            "gridcolor": "white",
            "linecolor": "white",
            "ticks": ""
           },
           "baxis": {
            "gridcolor": "white",
            "linecolor": "white",
            "ticks": ""
           },
           "bgcolor": "#E5ECF6",
           "caxis": {
            "gridcolor": "white",
            "linecolor": "white",
            "ticks": ""
           }
          },
          "title": {
           "x": 0.05
          },
          "xaxis": {
           "automargin": true,
           "gridcolor": "white",
           "linecolor": "white",
           "ticks": "",
           "title": {
            "standoff": 15
           },
           "zerolinecolor": "white",
           "zerolinewidth": 2
          },
          "yaxis": {
           "automargin": true,
           "gridcolor": "white",
           "linecolor": "white",
           "ticks": "",
           "title": {
            "standoff": 15
           },
           "zerolinecolor": "white",
           "zerolinewidth": 2
          }
         }
        },
        "title": {
         "text": "Total Amount Collected for the year 2021"
        },
        "width": 1280,
        "xaxis": {
         "anchor": "y",
         "autorange": true,
         "domain": [
          0,
          1
         ],
         "dtick": "M1",
         "range": [
          "2021-01-31",
          "2021-12-31"
         ],
         "tick0": "2021-01-31",
         "tickformat": "%b %Y",
         "title": {
          "text": "date"
         },
         "type": "date"
        },
        "yaxis": {
         "anchor": "x",
         "autorange": true,
         "domain": [
          0,
          1
         ],
         "range": [
          0,
          4283247.128129602
         ],
         "title": {
          "text": "amountCollected"
         },
         "type": "linear"
        }
       }
      },
      "image/png": "[encoded data removed]",
      "text/html": [
       "<div>                            <div id=\"e5dc5d69-e20c-4a9c-a3a3-35ea03004d16\" class=\"plotly-graph-div\" style=\"height:720px; width:1280px;\"></div>            <script type=\"text/javascript\">                require([\"plotly\"], function(Plotly) {                    window.PLOTLYENV=window.PLOTLYENV || {};                                    if (document.getElementById(\"e5dc5d69-e20c-4a9c-a3a3-35ea03004d16\")) {                    Plotly.newPlot(                        \"e5dc5d69-e20c-4a9c-a3a3-35ea03004d16\",                        [{\"hovertemplate\":\"date=%{x}<br>amountCollected=%{y}<extra></extra>\",\"legendgroup\":\"\",\"line\":{\"color\":\"#636efa\"},\"marker\":{\"symbol\":\"circle\"},\"mode\":\"lines+markers\",\"name\":\"\",\"orientation\":\"v\",\"showlegend\":false,\"stackgroup\":\"1\",\"x\":[\"2021-01-31T00:00:00\",\"2021-02-28T00:00:00\",\"2021-03-31T00:00:00\",\"2021-04-30T00:00:00\",\"2021-05-31T00:00:00\",\"2021-06-30T00:00:00\",\"2021-07-31T00:00:00\",\"2021-08-31T00:00:00\",\"2021-09-30T00:00:00\",\"2021-10-31T00:00:00\",\"2021-11-30T00:00:00\",\"2021-12-31T00:00:00\"],\"xaxis\":\"x\",\"y\":[876090,1016180,1333920,1087300,970120,2376030,2073400,3349510,3140340,3092460,3675320,4039340],\"yaxis\":\"y\",\"type\":\"scatter\"}],                        {\"template\":{\"data\":{\"bar\":[{\"error_x\":{\"color\":\"#2a3f5f\"},\"error_y\":{\"color\":\"#2a3f5f\"},\"marker\":{\"line\":{\"color\":\"#E5ECF6\",\"width\":0.5},\"pattern\":{\"fillmode\":\"overlay\",\"size\":10,\"solidity\":0.2}},\"type\":\"bar\"}],\"barpolar\":[{\"marker\":{\"line\":{\"color\":\"#E5ECF6\",\"width\":0.5},\"pattern\":{\"fillmode\":\"overlay\",\"size\":10,\"solidity\":0.2}},\"type\":\"barpolar\"}],\"carpet\":[{\"aaxis\":{\"endlinecolor\":\"#2a3f5f\",\"gridcolor\":\"white\",\"linecolor\":\"white\",\"minorgridcolor\":\"white\",\"startlinecolor\":\"#2a3f5f\"},\"baxis\":{\"endlinecolor\":\"#2a3f5f\",\"gridcolor\":\"white\",\"linecolor\":\"white\",\"minorgridcolor\":\"white\",\"startlinecolor\":\"#2a3f5f\"},\"type\":\"carpet\"}],\"choropleth\":[{\"colorbar\":{\"outlinewidth\":0,\"ticks\":\"\"},\"type\":\"choropleth\"}],\"contour\":[{\"colorbar\":{\"outlinewidth\":0,\"ticks\":\"\"},\"colorscale\":[[0.0,\"#0d0887\"],[0.1111111111111111,\"#46039f\"],[0.2222222222222222,\"#7201a8\"],[0.3333333333333333,\"#9c179e\"],[0.4444444444444444,\"#bd3786\"],[0.5555555555555556,\"#d8576b\"],[0.6666666666666666,\"#ed7953\"],[0.7777777777777778,\"#fb9f3a\"],[0.8888888888888888,\"#fdca26\"],[1.0,\"#f0f921\"]],\"type\":\"contour\"}],\"contourcarpet\":[{\"colorbar\":{\"outlinewidth\":0,\"ticks\":\"\"},\"type\":\"contourcarpet\"}],\"heatmap\":[{\"colorbar\":{\"outlinewidth\":0,\"ticks\":\"\"},\"colorscale\":[[0.0,\"#0d0887\"],[0.1111111111111111,\"#46039f\"],[0.2222222222222222,\"#7201a8\"],[0.3333333333333333,\"#9c179e\"],[0.4444444444444444,\"#bd3786\"],[0.5555555555555556,\"#d8576b\"],[0.6666666666666666,\"#ed7953\"],[0.7777777777777778,\"#fb9f3a\"],[0.8888888888888888,\"#fdca26\"],[1.0,\"#f0f921\"]],\"type\":\"heatmap\"}],\"heatmapgl\":[{\"colorbar\":{\"outlinewidth\":0,\"ticks\":\"\"},\"colorscale\":[[0.0,\"#0d0887\"],[0.1111111111111111,\"#46039f\"],[0.2222222222222222,\"#7201a8\"],[0.3333333333333333,\"#9c179e\"],[0.4444444444444444,\"#bd3786\"],[0.5555555555555556,\"#d8576b\"],[0.6666666666666666,\"#ed7953\"],[0.7777777777777778,\"#fb9f3a\"],[0.8888888888888888,\"#fdca26\"],[1.0,\"#f0f921\"]],\"type\":\"heatmapgl\"}],\"histogram\":[{\"marker\":{\"pattern\":{\"fillmode\":\"overlay\",\"size\":10,\"solidity\":0.2}},\"type\":\"histogram\"}],\"histogram2d\":[{\"colorbar\":{\"outlinewidth\":0,\"ticks\":\"\"},\"colorscale\":[[0.0,\"#0d0887\"],[0.1111111111111111,\"#46039f\"],[0.2222222222222222,\"#7201a8\"],[0.3333333333333333,\"#9c179e\"],[0.4444444444444444,\"#bd3786\"],[0.5555555555555556,\"#d8576b\"],[0.6666666666666666,\"#ed7953\"],[0.7777777777777778,\"#fb9f3a\"],[0.8888888888888888,\"#fdca26\"],[1.0,\"#f0f921\"]],\"type\":\"histogram2d\"}],\"histogram2dcontour\":[{\"colorbar\":{\"outlinewidth\":0,\"ticks\":\"\"},\"colorscale\":[[0.0,\"#0d0887\"],[0.1111111111111111,\"#46039f\"],[0.2222222222222222,\"#7201a8\"],[0.3333333333333333,\"#9c179e\"],[0.4444444444444444,\"#bd3786\"],[0.5555555555555556,\"#d8576b\"],[0.6666666666666666,\"#ed7953\"],[0.7777777777777778,\"#fb9f3a\"],[0.8888888888888888,\"#fdca26\"],[1.0,\"#f0f921\"]],\"type\":\"histogram2dcontour\"}],\"mesh3d\":[{\"colorbar\":{\"outlinewidth\":0,\"ticks\":\"\"},\"type\":\"mesh3d\"}],\"parcoords\":[{\"line\":{\"colorbar\":{\"outlinewidth\":0,\"ticks\":\"\"}},\"type\":\"parcoords\"}],\"pie\":[{\"automargin\":true,\"type\":\"pie\"}],\"scatter\":[{\"marker\":{\"colorbar\":{\"outlinewidth\":0,\"ticks\":\"\"}},\"type\":\"scatter\"}],\"scatter3d\":[{\"line\":{\"colorbar\":{\"outlinewidth\":0,\"ticks\":\"\"}},\"marker\":{\"colorbar\":{\"outlinewidth\":0,\"ticks\":\"\"}},\"type\":\"scatter3d\"}],\"scattercarpet\":[{\"marker\":{\"colorbar\":{\"outlinewidth\":0,\"ticks\":\"\"}},\"type\":\"scattercarpet\"}],\"scattergeo\":[{\"marker\":{\"colorbar\":{\"outlinewidth\":0,\"ticks\":\"\"}},\"type\":\"scattergeo\"}],\"scattergl\":[{\"marker\":{\"colorbar\":{\"outlinewidth\":0,\"ticks\":\"\"}},\"type\":\"scattergl\"}],\"scattermapbox\":[{\"marker\":{\"colorbar\":{\"outlinewidth\":0,\"ticks\":\"\"}},\"type\":\"scattermapbox\"}],\"scatterpolar\":[{\"marker\":{\"colorbar\":{\"outlinewidth\":0,\"ticks\":\"\"}},\"type\":\"scatterpolar\"}],\"scatterpolargl\":[{\"marker\":{\"colorbar\":{\"outlinewidth\":0,\"ticks\":\"\"}},\"type\":\"scatterpolargl\"}],\"scatterternary\":[{\"marker\":{\"colorbar\":{\"outlinewidth\":0,\"ticks\":\"\"}},\"type\":\"scatterternary\"}],\"surface\":[{\"colorbar\":{\"outlinewidth\":0,\"ticks\":\"\"},\"colorscale\":[[0.0,\"#0d0887\"],[0.1111111111111111,\"#46039f\"],[0.2222222222222222,\"#7201a8\"],[0.3333333333333333,\"#9c179e\"],[0.4444444444444444,\"#bd3786\"],[0.5555555555555556,\"#d8576b\"],[0.6666666666666666,\"#ed7953\"],[0.7777777777777778,\"#fb9f3a\"],[0.8888888888888888,\"#fdca26\"],[1.0,\"#f0f921\"]],\"type\":\"surface\"}],\"table\":[{\"cells\":{\"fill\":{\"color\":\"#EBF0F8\"},\"line\":{\"color\":\"white\"}},\"header\":{\"fill\":{\"color\":\"#C8D4E3\"},\"line\":{\"color\":\"white\"}},\"type\":\"table\"}]},\"layout\":{\"annotationdefaults\":{\"arrowcolor\":\"#2a3f5f\",\"arrowhead\":0,\"arrowwidth\":1},\"autotypenumbers\":\"strict\",\"coloraxis\":{\"colorbar\":{\"outlinewidth\":0,\"ticks\":\"\"}},\"colorscale\":{\"diverging\":[[0,\"#8e0152\"],[0.1,\"#c51b7d\"],[0.2,\"#de77ae\"],[0.3,\"#f1b6da\"],[0.4,\"#fde0ef\"],[0.5,\"#f7f7f7\"],[0.6,\"#e6f5d0\"],[0.7,\"#b8e186\"],[0.8,\"#7fbc41\"],[0.9,\"#4d9221\"],[1,\"#276419\"]],\"sequential\":[[0.0,\"#0d0887\"],[0.1111111111111111,\"#46039f\"],[0.2222222222222222,\"#7201a8\"],[0.3333333333333333,\"#9c179e\"],[0.4444444444444444,\"#bd3786\"],[0.5555555555555556,\"#d8576b\"],[0.6666666666666666,\"#ed7953\"],[0.7777777777777778,\"#fb9f3a\"],[0.8888888888888888,\"#fdca26\"],[1.0,\"#f0f921\"]],\"sequentialminus\":[[0.0,\"#0d0887\"],[0.1111111111111111,\"#46039f\"],[0.2222222222222222,\"#7201a8\"],[0.3333333333333333,\"#9c179e\"],[0.4444444444444444,\"#bd3786\"],[0.5555555555555556,\"#d8576b\"],[0.6666666666666666,\"#ed7953\"],[0.7777777777777778,\"#fb9f3a\"],[0.8888888888888888,\"#fdca26\"],[1.0,\"#f0f921\"]]},\"colorway\":[\"#636efa\",\"#EF553B\",\"#00cc96\",\"#ab63fa\",\"#FFA15A\",\"#19d3f3\",\"#FF6692\",\"#B6E880\",\"#FF97FF\",\"#FECB52\"],\"font\":{\"color\":\"#2a3f5f\"},\"geo\":{\"bgcolor\":\"white\",\"lakecolor\":\"white\",\"landcolor\":\"#E5ECF6\",\"showlakes\":true,\"showland\":true,\"subunitcolor\":\"white\"},\"hoverlabel\":{\"align\":\"left\"},\"hovermode\":\"closest\",\"mapbox\":{\"style\":\"light\"},\"paper_bgcolor\":\"white\",\"plot_bgcolor\":\"#E5ECF6\",\"polar\":{\"angularaxis\":{\"gridcolor\":\"white\",\"linecolor\":\"white\",\"ticks\":\"\"},\"bgcolor\":\"#E5ECF6\",\"radialaxis\":{\"gridcolor\":\"white\",\"linecolor\":\"white\",\"ticks\":\"\"}},\"scene\":{\"xaxis\":{\"backgroundcolor\":\"#E5ECF6\",\"gridcolor\":\"white\",\"gridwidth\":2,\"linecolor\":\"white\",\"showbackground\":true,\"ticks\":\"\",\"zerolinecolor\":\"white\"},\"yaxis\":{\"backgroundcolor\":\"#E5ECF6\",\"gridcolor\":\"white\",\"gridwidth\":2,\"linecolor\":\"white\",\"showbackground\":true,\"ticks\":\"\",\"zerolinecolor\":\"white\"},\"zaxis\":{\"backgroundcolor\":\"#E5ECF6\",\"gridcolor\":\"white\",\"gridwidth\":2,\"linecolor\":\"white\",\"showbackground\":true,\"ticks\":\"\",\"zerolinecolor\":\"white\"}},\"shapedefaults\":{\"line\":{\"color\":\"#2a3f5f\"}},\"ternary\":{\"aaxis\":{\"gridcolor\":\"white\",\"linecolor\":\"white\",\"ticks\":\"\"},\"baxis\":{\"gridcolor\":\"white\",\"linecolor\":\"white\",\"ticks\":\"\"},\"bgcolor\":\"#E5ECF6\",\"caxis\":{\"gridcolor\":\"white\",\"linecolor\":\"white\",\"ticks\":\"\"}},\"title\":{\"x\":0.05},\"xaxis\":{\"automargin\":true,\"gridcolor\":\"white\",\"linecolor\":\"white\",\"ticks\":\"\",\"title\":{\"standoff\":15},\"zerolinecolor\":\"white\",\"zerolinewidth\":2},\"yaxis\":{\"automargin\":true,\"gridcolor\":\"white\",\"linecolor\":\"white\",\"ticks\":\"\",\"title\":{\"standoff\":15},\"zerolinecolor\":\"white\",\"zerolinewidth\":2}}},\"xaxis\":{\"anchor\":\"y\",\"domain\":[0.0,1.0],\"title\":{\"text\":\"date\"},\"tick0\":\"2021-01-31\",\"dtick\":\"M1\",\"tickformat\":\"%b %Y\"},\"yaxis\":{\"anchor\":\"x\",\"domain\":[0.0,1.0],\"title\":{\"text\":\"amountCollected\"}},\"legend\":{\"tracegroupgap\":0},\"title\":{\"text\":\"Total Amount Collected for the year 2021\"},\"height\":720,\"width\":1280},                        {\"responsive\": true}                    ).then(function(){\n",
       "                            \n",
       "var gd = document.getElementById('e5dc5d69-e20c-4a9c-a3a3-35ea03004d16');\n",
       "var x = new MutationObserver(function (mutations, observer) {{\n",
       "        var display = window.getComputedStyle(gd).display;\n",
       "        if (!display || display === 'none') {{\n",
       "            console.log([gd, 'removed!']);\n",
       "            Plotly.purge(gd);\n",
       "            observer.disconnect();\n",
       "        }}\n",
       "}});\n",
       "\n",
       "// Listen for the removal of the full notebook cells\n",
       "var notebookContainer = gd.closest('#notebook-container');\n",
       "if (notebookContainer) {{\n",
       "    x.observe(notebookContainer, {childList: true});\n",
       "}}\n",
       "\n",
       "// Listen for the clearing of the current output cell\n",
       "var outputEl = gd.closest('.output');\n",
       "if (outputEl) {{\n",
       "    x.observe(outputEl, {childList: true});\n",
       "}}\n",
       "\n",
       "                        })                };                });            </script>        </div>"
      ]
     },
     "metadata": {},
     "output_type": "display_data"
    }
   ],
   "source": [
    "fig = px.area(new_df2[12:24], x='date', y='amountCollected',title='Total Amount Collected for the year 2021',width=1280,height=720,markers=True)\n",
    "fig.layout.xaxis.tick0 = '2021-01-31'\n",
    "fig.layout.xaxis.dtick = 'M1'\n",
    "#month-year format\n",
    "fig.layout.xaxis.tickformat='%b %Y'\n",
    "#fig.write_image('/home/rohit/iudx/dumps/figure.png', scale=2)\n",
    "\n",
    "\n",
    "\n",
    "fig.show()"
   ]
  },
  {
   "cell_type": "code",
   "execution_count": null,
   "id": "e697cad9",
   "metadata": {
    "extensions": {
     "jupyter_dashboards": {
      "version": 1,
      "views": {
       "default_view": {
        "hidden": true
       },
       "grid_default": {
        "col": null,
        "height": 2,
        "hidden": true,
        "locked": true,
        "row": null,
        "width": 2
       }
      }
     }
    }
   },
   "outputs": [],
   "source": []
  },
  {
   "cell_type": "code",
   "execution_count": null,
   "id": "78a95029",
   "metadata": {
    "extensions": {
     "jupyter_dashboards": {
      "version": 1,
      "views": {
       "default_view": {
        "hidden": true
       },
       "grid_default": {
        "col": null,
        "height": 2,
        "hidden": true,
        "locked": true,
        "row": null,
        "width": 2
       }
      }
     }
    }
   },
   "outputs": [],
   "source": []
  },
  {
   "cell_type": "code",
   "execution_count": null,
   "id": "60520cee",
   "metadata": {
    "extensions": {
     "jupyter_dashboards": {
      "version": 1,
      "views": {
       "default_view": {
        "hidden": true
       },
       "grid_default": {
        "col": null,
        "height": 2,
        "hidden": true,
        "locked": true,
        "row": null,
        "width": 2
       }
      }
     }
    }
   },
   "outputs": [],
   "source": []
  }
 ],
 "metadata": {
  "extensions": {
   "jupyter_dashboards": {
    "activeView": "default_view",
    "version": 1,
    "views": {
     "default_view": {
      "cellMargin": 10,
      "defaultCellHeight": 40,
      "maxColumns": 12,
      "name": "active_view",
      "type": "grid"
     },
     "grid_default": {
      "cellMargin": 2,
      "defaultCellHeight": 40,
      "maxColumns": 12,
      "name": "grid",
      "type": "grid"
     }
    }
   }
  },
  "kernelspec": {
   "display_name": "Python 3 (ipykernel)",
   "language": "python",
   "name": "python3"
  },
  "language_info": {
   "codemirror_mode": {
    "name": "ipython",
    "version": 3
   },
   "file_extension": ".py",
   "mimetype": "text/x-python",
   "name": "python",
   "nbconvert_exporter": "python",
   "pygments_lexer": "ipython3",
   "version": "3.9.12"
  }
 },
 "nbformat": 4,
 "nbformat_minor": 5
}
